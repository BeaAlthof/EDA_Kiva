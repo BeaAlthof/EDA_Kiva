{
 "cells": [
  {
   "cell_type": "markdown",
   "id": "2a731e49",
   "metadata": {},
   "source": [
    "Diese Arbeit mit einem **Datensatz der Kiva Crowd-Investing Plattform** (https://www.kiva.org/) war mein Abschlussprojekt zu meiner Fortbildung Data Analytics mit Python. Benotet wurde er mit sehr gut (100 Prozent)."
   ]
  },
  {
   "cell_type": "markdown",
   "id": "f3fb72b3",
   "metadata": {},
   "source": [
    "### CRISP-DM: Data Understanding"
   ]
  },
  {
   "cell_type": "markdown",
   "id": "1f03239d",
   "metadata": {
    "ExecuteTime": {
     "end_time": "2024-02-15T13:01:03.963161Z",
     "start_time": "2024-02-15T13:01:03.933511Z"
    }
   },
   "source": [
    "- funded_amount ... mit Ablauf der \"Crowding\"zeit erhaltener Betrag/ ausgezahlter Betrag in USD\n",
    "- loan_amount ... Zielbetrag (Betrag dem man für das Projekt erreichen wollte) in USD\n",
    "- activity ... Unterkategory zu dem das Ziel des Crowdprojektes thematisch gehört\n",
    "- sector ... Oberkategory in den das Crowdprojektes Thema fällt\n",
    "- use ... Kurzbeschreibung wofür das Geld verwendet werden soll\n",
    "- country_code ... Ländercode nach ISO Norm\n",
    "- country ... Ländername nach ISO Norm\n",
    "- region ... Region\n",
    "- currency ... Währung in den der funded_amount dann ausgezahlt wurde\n",
    "- term in months ... Dauer über die der Kredit ausgezahlt werden soll\n",
    "- lender_count ...Darlehensgeber (also wieviele Personen Geld für das Projekt gegeben haben)\n",
    "- borrower_genders ... Geschlecht und Anzahl der Darlehensnehmer, also diejenigen die das Crowdprojekt initiiert haben       \n",
    "- repayment interval ... vertraglich vereinbarte Rückzahlungsmodalitäten/-rhythmus"
   ]
  },
  {
   "cell_type": "markdown",
   "id": "49f9dacf",
   "metadata": {},
   "source": [
    "### CRISP-DM: Business Understanding"
   ]
  },
  {
   "cell_type": "markdown",
   "id": "e9f017dd",
   "metadata": {},
   "source": [
    "Kiva ist eine gemeinnützige Online-Plattform, die es Menschen auf der ganzen Welt ermöglicht, Mikrokredite von mindestens 5 US-Dollar an bedürftige Unternehmerinnen und Unternehmer in Entwicklungsländern zu vergeben. Die Plattform wurde im Jahr 2005 gegründet und hat seitdem Millionen von Krediten in Höhe von insgesamt 1,9 Milliarden US-Dollar vergeben. Etwa 2,2 Millionen Kreditgeber weltweit investieren in Projekte von 4,7 Millionen Menschen.\n",
    "\n",
    "Die Idee hinter Kiva ist es, Unternehmern in derzeit etwa 80 Ländern, hauptsächlich Entwicklungsländern dabei zu helfen, ihre Geschäfte auszubauen und somit ihre wirtschaftliche Situation zu verbessern. Dabei geht es nicht darum, Geld zu verschenken, sondern Kleinstkredite zu vergeben, die den Empfängern dabei helfen, ihre Geschäftsaktivitäten zu erweitern und letztendlich ihren Lebensunterhalt zu sichern.\n",
    "\n",
    "Kiva ist ein Crowd-investing-Modell, bei dem einzelne Kreditgeber für ausgewählte Projekte einen Teilkredit bereitstellen können. Auf der Plattform kann man sich Profile der Kreditnehmer ansehen und sich dann entscheiden, welchen Kredit man unterstützen möchte. Die Kredite werden in einer vorgegebenen Zeit gesammelt und auch dann ausgezahlt, wenn der Zielbetrag nicht erreicht wurde. Wenn der Kreditnehmer den Kredit zurückzahlt, kann das Geld ausgezahlt oder wieder in ein anderes Projekt investiert werden.Die Kreditgeber erhalten für die Vergabe einen kleinen Zinssatz (Tilgungssatz von 96,3 Prozent).\n",
    "\n",
    "Die Plattform fundiert nicht als Bank, sondern als Vermittler zwischen Kreditnehmer und Kreditgeber, Entsprechend liegt das Risiko auch nicht bei Kiva, sondern bei den Investoren. Die Plattform erhält neben einem vergünstigtem Steuersatz eine Provision und ist für jedes Projekt. Alle Projekte sind abgeschlossene Projekte, d.h. die Zeit, um für sein Projekt Geld zu sammeln ist abgelaufen.\n",
    "\n",
    "Die Datenbasis ist die Historie der Plattform.\n",
    "\n",
    "Ziel des Projektes ist es, Armut zu bekämpfen, indem Unternehmerinnen und Unternehmern in ärmeren Regionen eine Möglichkeit geboten wird, ihre Geschäftsaktivitäten auszubauen und somit ihren Lebensunterhalt zu sichern.\n",
    "\n",
    "Das Geschäftsproblem, das Kiva zu lösen versucht, ist das Fehlen von Finanzierungsmöglichkeiten für Unternehmerinnen und Unternehmer in Entwicklungsländern. Viele Menschen in ärmeren Regionen haben keine Möglichkeit, traditionelle Bankkredite zu erhalten oder verfügen nicht über die erforderlichen Sicherheiten, um solche Kredite zu erhalten. Kiva nutzt das Crowd-investing-Modell, um Investoren aus aller Welt zusammenzubringen und bedürftigen Unternehmern Kleinstkredite bereitzustellen, die ihnen dabei helfen können, ihre Geschäftsaktivitäten auszubauen und somit ihre finanzielle Situation zu verbessern."
   ]
  },
  {
   "cell_type": "markdown",
   "id": "128fbd3c",
   "metadata": {},
   "source": [
    "### CHISP-DM: Data Preparation"
   ]
  },
  {
   "cell_type": "code",
   "execution_count": 172,
   "id": "ccbe2068",
   "metadata": {
    "ExecuteTime": {
     "end_time": "2024-02-16T09:34:56.290068Z",
     "start_time": "2024-02-16T09:34:54.013085Z"
    }
   },
   "outputs": [],
   "source": [
    "# notwendige Pakete laden\n",
    "\n",
    "import pandas as pd  \n",
    "import numpy as np\n",
    "import plotly.express as px \n",
    "import plotly.graph_objects\n",
    "import matplotlib.pyplot as plt\n",
    "import seaborn as sns\n",
    "\n",
    "import warnings \n",
    "# Filtere FutureWarnings\n",
    "warnings.filterwarnings('ignore', category=FutureWarning)"
   ]
  },
  {
   "cell_type": "code",
   "execution_count": 173,
   "id": "890fbf6e",
   "metadata": {
    "ExecuteTime": {
     "end_time": "2024-02-16T09:34:58.814758Z",
     "start_time": "2024-02-16T09:34:56.291880Z"
    },
    "scrolled": true
   },
   "outputs": [
    {
     "data": {
      "text/html": [
       "<div>\n",
       "<style scoped>\n",
       "    .dataframe tbody tr th:only-of-type {\n",
       "        vertical-align: middle;\n",
       "    }\n",
       "\n",
       "    .dataframe tbody tr th {\n",
       "        vertical-align: top;\n",
       "    }\n",
       "\n",
       "    .dataframe thead th {\n",
       "        text-align: right;\n",
       "    }\n",
       "</style>\n",
       "<table border=\"1\" class=\"dataframe\">\n",
       "  <thead>\n",
       "    <tr style=\"text-align: right;\">\n",
       "      <th></th>\n",
       "      <th>funded_amount</th>\n",
       "      <th>loan_amount</th>\n",
       "      <th>activity</th>\n",
       "      <th>sector</th>\n",
       "      <th>use</th>\n",
       "      <th>country_code</th>\n",
       "      <th>country</th>\n",
       "      <th>region</th>\n",
       "      <th>currency</th>\n",
       "      <th>term_in_months</th>\n",
       "      <th>lender_count</th>\n",
       "      <th>borrower_genders</th>\n",
       "      <th>repayment_interval</th>\n",
       "    </tr>\n",
       "  </thead>\n",
       "  <tbody>\n",
       "    <tr>\n",
       "      <th>0</th>\n",
       "      <td>300.0</td>\n",
       "      <td>300.0</td>\n",
       "      <td>Fruits &amp; Vegetables</td>\n",
       "      <td>Food</td>\n",
       "      <td>To buy seasonal, fresh fruits to sell.</td>\n",
       "      <td>PK</td>\n",
       "      <td>Pakistan</td>\n",
       "      <td>Lahore</td>\n",
       "      <td>PKR</td>\n",
       "      <td>12.0</td>\n",
       "      <td>12</td>\n",
       "      <td>female</td>\n",
       "      <td>irregular</td>\n",
       "    </tr>\n",
       "    <tr>\n",
       "      <th>1</th>\n",
       "      <td>575.0</td>\n",
       "      <td>575.0</td>\n",
       "      <td>Rickshaw</td>\n",
       "      <td>Transportation</td>\n",
       "      <td>to repair and maintain the auto rickshaw used ...</td>\n",
       "      <td>PK</td>\n",
       "      <td>Pakistan</td>\n",
       "      <td>Lahore</td>\n",
       "      <td>PKR</td>\n",
       "      <td>11.0</td>\n",
       "      <td>14</td>\n",
       "      <td>female, female</td>\n",
       "      <td>irregular</td>\n",
       "    </tr>\n",
       "    <tr>\n",
       "      <th>2</th>\n",
       "      <td>150.0</td>\n",
       "      <td>150.0</td>\n",
       "      <td>Transportation</td>\n",
       "      <td>Transportation</td>\n",
       "      <td>To repair their old cycle-van and buy another ...</td>\n",
       "      <td>IN</td>\n",
       "      <td>India</td>\n",
       "      <td>Maynaguri</td>\n",
       "      <td>INR</td>\n",
       "      <td>43.0</td>\n",
       "      <td>6</td>\n",
       "      <td>female</td>\n",
       "      <td>bullet</td>\n",
       "    </tr>\n",
       "    <tr>\n",
       "      <th>3</th>\n",
       "      <td>200.0</td>\n",
       "      <td>200.0</td>\n",
       "      <td>Embroidery</td>\n",
       "      <td>Arts</td>\n",
       "      <td>to purchase an embroidery machine and a variet...</td>\n",
       "      <td>PK</td>\n",
       "      <td>Pakistan</td>\n",
       "      <td>Lahore</td>\n",
       "      <td>PKR</td>\n",
       "      <td>11.0</td>\n",
       "      <td>8</td>\n",
       "      <td>female</td>\n",
       "      <td>irregular</td>\n",
       "    </tr>\n",
       "    <tr>\n",
       "      <th>4</th>\n",
       "      <td>400.0</td>\n",
       "      <td>400.0</td>\n",
       "      <td>Milk Sales</td>\n",
       "      <td>Food</td>\n",
       "      <td>to purchase one buffalo.</td>\n",
       "      <td>PK</td>\n",
       "      <td>Pakistan</td>\n",
       "      <td>Abdul Hakeem</td>\n",
       "      <td>PKR</td>\n",
       "      <td>14.0</td>\n",
       "      <td>16</td>\n",
       "      <td>female</td>\n",
       "      <td>monthly</td>\n",
       "    </tr>\n",
       "    <tr>\n",
       "      <th>...</th>\n",
       "      <td>...</td>\n",
       "      <td>...</td>\n",
       "      <td>...</td>\n",
       "      <td>...</td>\n",
       "      <td>...</td>\n",
       "      <td>...</td>\n",
       "      <td>...</td>\n",
       "      <td>...</td>\n",
       "      <td>...</td>\n",
       "      <td>...</td>\n",
       "      <td>...</td>\n",
       "      <td>...</td>\n",
       "      <td>...</td>\n",
       "    </tr>\n",
       "    <tr>\n",
       "      <th>671200</th>\n",
       "      <td>0.0</td>\n",
       "      <td>25.0</td>\n",
       "      <td>Livestock</td>\n",
       "      <td>Agriculture</td>\n",
       "      <td>[True, u'para compara: cemento, arenya y ladri...</td>\n",
       "      <td>PY</td>\n",
       "      <td>Paraguay</td>\n",
       "      <td>Concepción</td>\n",
       "      <td>USD</td>\n",
       "      <td>13.0</td>\n",
       "      <td>0</td>\n",
       "      <td>female</td>\n",
       "      <td>monthly</td>\n",
       "    </tr>\n",
       "    <tr>\n",
       "      <th>671201</th>\n",
       "      <td>25.0</td>\n",
       "      <td>25.0</td>\n",
       "      <td>Livestock</td>\n",
       "      <td>Agriculture</td>\n",
       "      <td>[True, u'to start a turducken farm.'] - this l...</td>\n",
       "      <td>KE</td>\n",
       "      <td>Kenya</td>\n",
       "      <td>NaN</td>\n",
       "      <td>KES</td>\n",
       "      <td>13.0</td>\n",
       "      <td>1</td>\n",
       "      <td>female</td>\n",
       "      <td>monthly</td>\n",
       "    </tr>\n",
       "    <tr>\n",
       "      <th>671202</th>\n",
       "      <td>0.0</td>\n",
       "      <td>25.0</td>\n",
       "      <td>Games</td>\n",
       "      <td>Entertainment</td>\n",
       "      <td>NaN</td>\n",
       "      <td>KE</td>\n",
       "      <td>Kenya</td>\n",
       "      <td>NaN</td>\n",
       "      <td>KES</td>\n",
       "      <td>13.0</td>\n",
       "      <td>0</td>\n",
       "      <td>NaN</td>\n",
       "      <td>monthly</td>\n",
       "    </tr>\n",
       "    <tr>\n",
       "      <th>671203</th>\n",
       "      <td>0.0</td>\n",
       "      <td>25.0</td>\n",
       "      <td>Livestock</td>\n",
       "      <td>Agriculture</td>\n",
       "      <td>[True, u'to start a turducken farm.'] - this l...</td>\n",
       "      <td>KE</td>\n",
       "      <td>Kenya</td>\n",
       "      <td>NaN</td>\n",
       "      <td>KES</td>\n",
       "      <td>13.0</td>\n",
       "      <td>0</td>\n",
       "      <td>female</td>\n",
       "      <td>monthly</td>\n",
       "    </tr>\n",
       "    <tr>\n",
       "      <th>671204</th>\n",
       "      <td>0.0</td>\n",
       "      <td>25.0</td>\n",
       "      <td>Livestock</td>\n",
       "      <td>Agriculture</td>\n",
       "      <td>[True, u'to start a turducken farm.'] - this l...</td>\n",
       "      <td>KE</td>\n",
       "      <td>Kenya</td>\n",
       "      <td>NaN</td>\n",
       "      <td>KES</td>\n",
       "      <td>13.0</td>\n",
       "      <td>0</td>\n",
       "      <td>female</td>\n",
       "      <td>monthly</td>\n",
       "    </tr>\n",
       "  </tbody>\n",
       "</table>\n",
       "<p>671205 rows × 13 columns</p>\n",
       "</div>"
      ],
      "text/plain": [
       "         funded_amount   loan_amount             activity          sector  \\\n",
       "0                300.0         300.0  Fruits & Vegetables            Food   \n",
       "1                575.0         575.0             Rickshaw  Transportation   \n",
       "2                150.0         150.0       Transportation  Transportation   \n",
       "3                200.0         200.0           Embroidery            Arts   \n",
       "4                400.0         400.0           Milk Sales            Food   \n",
       "...                ...           ...                  ...             ...   \n",
       "671200             0.0          25.0            Livestock     Agriculture   \n",
       "671201            25.0          25.0            Livestock     Agriculture   \n",
       "671202             0.0          25.0                Games   Entertainment   \n",
       "671203             0.0          25.0            Livestock     Agriculture   \n",
       "671204             0.0          25.0            Livestock     Agriculture   \n",
       "\n",
       "                                                      use  country_code  \\\n",
       "0                 To buy seasonal, fresh fruits to sell.             PK   \n",
       "1       to repair and maintain the auto rickshaw used ...            PK   \n",
       "2       To repair their old cycle-van and buy another ...            IN   \n",
       "3       to purchase an embroidery machine and a variet...            PK   \n",
       "4                                to purchase one buffalo.            PK   \n",
       "...                                                   ...           ...   \n",
       "671200  [True, u'para compara: cemento, arenya y ladri...            PY   \n",
       "671201  [True, u'to start a turducken farm.'] - this l...            KE   \n",
       "671202                                                NaN            KE   \n",
       "671203  [True, u'to start a turducken farm.'] - this l...            KE   \n",
       "671204  [True, u'to start a turducken farm.'] - this l...            KE   \n",
       "\n",
       "         country        region  currency   term_in_months   lender_count  \\\n",
       "0       Pakistan        Lahore       PKR             12.0             12   \n",
       "1       Pakistan        Lahore       PKR             11.0             14   \n",
       "2          India     Maynaguri       INR             43.0              6   \n",
       "3       Pakistan        Lahore       PKR             11.0              8   \n",
       "4       Pakistan  Abdul Hakeem       PKR             14.0             16   \n",
       "...          ...           ...       ...              ...            ...   \n",
       "671200  Paraguay    Concepción       USD             13.0              0   \n",
       "671201     Kenya           NaN       KES             13.0              1   \n",
       "671202     Kenya           NaN       KES             13.0              0   \n",
       "671203     Kenya           NaN       KES             13.0              0   \n",
       "671204     Kenya           NaN       KES             13.0              0   \n",
       "\n",
       "        borrower_genders  repayment_interval  \n",
       "0                 female           irregular  \n",
       "1         female, female           irregular  \n",
       "2                 female              bullet  \n",
       "3                 female           irregular  \n",
       "4                 female             monthly  \n",
       "...                  ...                 ...  \n",
       "671200            female             monthly  \n",
       "671201            female             monthly  \n",
       "671202               NaN             monthly  \n",
       "671203            female             monthly  \n",
       "671204            female             monthly  \n",
       "\n",
       "[671205 rows x 13 columns]"
      ]
     },
     "execution_count": 173,
     "metadata": {},
     "output_type": "execute_result"
    }
   ],
   "source": [
    "# Daten einlesen mit dem korrekten Trennzeichen\n",
    "\n",
    "df = pd.read_csv(\"data_abschlussprojekt.csv\", sep=\"#\", index_col=0)\n",
    "df"
   ]
  },
  {
   "cell_type": "markdown",
   "id": "0fce4f38",
   "metadata": {},
   "source": [
    "Daten kennenlernen"
   ]
  },
  {
   "cell_type": "code",
   "execution_count": 174,
   "id": "973317f2",
   "metadata": {
    "ExecuteTime": {
     "end_time": "2024-02-16T09:34:58.826801Z",
     "start_time": "2024-02-16T09:34:58.818756Z"
    }
   },
   "outputs": [
    {
     "data": {
      "text/plain": [
       "Index([' funded_amount', ' loan_amount', ' activity', ' sector', ' use',\n",
       "       ' country_code', ' country', ' region', ' currency', ' term_in_months',\n",
       "       ' lender_count', ' borrower_genders', ' repayment_interval'],\n",
       "      dtype='object')"
      ]
     },
     "execution_count": 174,
     "metadata": {},
     "output_type": "execute_result"
    }
   ],
   "source": [
    "# Spalten anzeigen\n",
    "\n",
    "df.columns"
   ]
  },
  {
   "cell_type": "code",
   "execution_count": 175,
   "id": "265aac47",
   "metadata": {
    "ExecuteTime": {
     "end_time": "2024-02-16T09:34:58.862860Z",
     "start_time": "2024-02-16T09:34:58.838383Z"
    }
   },
   "outputs": [],
   "source": [
    "# Leerzeichen entfernen \n",
    "\n",
    "df.columns=df.columns.str.strip()"
   ]
  },
  {
   "cell_type": "code",
   "execution_count": 176,
   "id": "5924f82a",
   "metadata": {
    "ExecuteTime": {
     "end_time": "2024-02-16T09:34:59.827078Z",
     "start_time": "2024-02-16T09:34:58.869519Z"
    }
   },
   "outputs": [
    {
     "name": "stdout",
     "output_type": "stream",
     "text": [
      "<class 'pandas.core.frame.DataFrame'>\n",
      "Int64Index: 671205 entries, 0 to 671204\n",
      "Data columns (total 13 columns):\n",
      " #   Column              Non-Null Count   Dtype  \n",
      "---  ------              --------------   -----  \n",
      " 0   funded_amount       671205 non-null  float64\n",
      " 1   loan_amount         671205 non-null  float64\n",
      " 2   activity            671205 non-null  object \n",
      " 3   sector              671205 non-null  object \n",
      " 4   use                 666973 non-null  object \n",
      " 5   country_code        671197 non-null  object \n",
      " 6   country             671205 non-null  object \n",
      " 7   region              614405 non-null  object \n",
      " 8   currency            671205 non-null  object \n",
      " 9   term_in_months      671205 non-null  float64\n",
      " 10  lender_count        671205 non-null  int64  \n",
      " 11  borrower_genders    666984 non-null  object \n",
      " 12  repayment_interval  671205 non-null  object \n",
      "dtypes: float64(3), int64(1), object(9)\n",
      "memory usage: 71.7+ MB\n"
     ]
    }
   ],
   "source": [
    "df.info()"
   ]
  },
  {
   "cell_type": "code",
   "execution_count": 177,
   "id": "499222c0",
   "metadata": {
    "ExecuteTime": {
     "end_time": "2024-02-16T09:34:59.961459Z",
     "start_time": "2024-02-16T09:34:59.830076Z"
    }
   },
   "outputs": [
    {
     "data": {
      "text/html": [
       "<div>\n",
       "<style scoped>\n",
       "    .dataframe tbody tr th:only-of-type {\n",
       "        vertical-align: middle;\n",
       "    }\n",
       "\n",
       "    .dataframe tbody tr th {\n",
       "        vertical-align: top;\n",
       "    }\n",
       "\n",
       "    .dataframe thead th {\n",
       "        text-align: right;\n",
       "    }\n",
       "</style>\n",
       "<table border=\"1\" class=\"dataframe\">\n",
       "  <thead>\n",
       "    <tr style=\"text-align: right;\">\n",
       "      <th></th>\n",
       "      <th>funded_amount</th>\n",
       "      <th>loan_amount</th>\n",
       "      <th>term_in_months</th>\n",
       "      <th>lender_count</th>\n",
       "    </tr>\n",
       "  </thead>\n",
       "  <tbody>\n",
       "    <tr>\n",
       "      <th>count</th>\n",
       "      <td>671205.000000</td>\n",
       "      <td>671205.000000</td>\n",
       "      <td>671205.000000</td>\n",
       "      <td>671205.000000</td>\n",
       "    </tr>\n",
       "    <tr>\n",
       "      <th>mean</th>\n",
       "      <td>785.995061</td>\n",
       "      <td>842.397107</td>\n",
       "      <td>13.739022</td>\n",
       "      <td>20.590922</td>\n",
       "    </tr>\n",
       "    <tr>\n",
       "      <th>std</th>\n",
       "      <td>1130.398941</td>\n",
       "      <td>1198.660073</td>\n",
       "      <td>8.598919</td>\n",
       "      <td>28.459551</td>\n",
       "    </tr>\n",
       "    <tr>\n",
       "      <th>min</th>\n",
       "      <td>0.000000</td>\n",
       "      <td>25.000000</td>\n",
       "      <td>1.000000</td>\n",
       "      <td>0.000000</td>\n",
       "    </tr>\n",
       "    <tr>\n",
       "      <th>25%</th>\n",
       "      <td>250.000000</td>\n",
       "      <td>275.000000</td>\n",
       "      <td>8.000000</td>\n",
       "      <td>7.000000</td>\n",
       "    </tr>\n",
       "    <tr>\n",
       "      <th>50%</th>\n",
       "      <td>450.000000</td>\n",
       "      <td>500.000000</td>\n",
       "      <td>13.000000</td>\n",
       "      <td>13.000000</td>\n",
       "    </tr>\n",
       "    <tr>\n",
       "      <th>75%</th>\n",
       "      <td>900.000000</td>\n",
       "      <td>1000.000000</td>\n",
       "      <td>14.000000</td>\n",
       "      <td>24.000000</td>\n",
       "    </tr>\n",
       "    <tr>\n",
       "      <th>max</th>\n",
       "      <td>100000.000000</td>\n",
       "      <td>100000.000000</td>\n",
       "      <td>158.000000</td>\n",
       "      <td>2986.000000</td>\n",
       "    </tr>\n",
       "  </tbody>\n",
       "</table>\n",
       "</div>"
      ],
      "text/plain": [
       "       funded_amount    loan_amount  term_in_months   lender_count\n",
       "count  671205.000000  671205.000000   671205.000000  671205.000000\n",
       "mean      785.995061     842.397107       13.739022      20.590922\n",
       "std      1130.398941    1198.660073        8.598919      28.459551\n",
       "min         0.000000      25.000000        1.000000       0.000000\n",
       "25%       250.000000     275.000000        8.000000       7.000000\n",
       "50%       450.000000     500.000000       13.000000      13.000000\n",
       "75%       900.000000    1000.000000       14.000000      24.000000\n",
       "max    100000.000000  100000.000000      158.000000    2986.000000"
      ]
     },
     "execution_count": 177,
     "metadata": {},
     "output_type": "execute_result"
    }
   ],
   "source": [
    "# kleine statistische Auswertung der numerischen Spalten\n",
    "df.describe()"
   ]
  },
  {
   "cell_type": "code",
   "execution_count": 178,
   "id": "f60ebbbf",
   "metadata": {
    "ExecuteTime": {
     "end_time": "2024-02-16T09:35:01.381162Z",
     "start_time": "2024-02-16T09:34:59.964665Z"
    },
    "scrolled": true
   },
   "outputs": [
    {
     "data": {
      "image/png": "[encoded data removed]",
      "text/plain": [
       "<Figure size 1000x600 with 4 Axes>"
      ]
     },
     "metadata": {},
     "output_type": "display_data"
    }
   ],
   "source": [
    "# Histogramm für die numerischen Spalten\n",
    "\n",
    "df.hist(figsize=(10, 6), bins=50) # figsize ist optional und steuert die Größe des Diagramms\n",
    "plt.suptitle('Histogramm aller numerischen Spalten')\n",
    "plt.tight_layout() # Platzierung der Titel optimieren\n",
    "plt.show()"
   ]
  },
  {
   "cell_type": "code",
   "execution_count": 179,
   "id": "85301429",
   "metadata": {
    "ExecuteTime": {
     "end_time": "2024-02-16T09:35:01.479431Z",
     "start_time": "2024-02-16T09:35:01.384162Z"
    }
   },
   "outputs": [
    {
     "data": {
      "text/html": [
       "<div>\n",
       "<style scoped>\n",
       "    .dataframe tbody tr th:only-of-type {\n",
       "        vertical-align: middle;\n",
       "    }\n",
       "\n",
       "    .dataframe tbody tr th {\n",
       "        vertical-align: top;\n",
       "    }\n",
       "\n",
       "    .dataframe thead th {\n",
       "        text-align: right;\n",
       "    }\n",
       "</style>\n",
       "<table border=\"1\" class=\"dataframe\">\n",
       "  <thead>\n",
       "    <tr style=\"text-align: right;\">\n",
       "      <th></th>\n",
       "      <th>funded_amount</th>\n",
       "      <th>loan_amount</th>\n",
       "      <th>term_in_months</th>\n",
       "      <th>lender_count</th>\n",
       "    </tr>\n",
       "  </thead>\n",
       "  <tbody>\n",
       "    <tr>\n",
       "      <th>funded_amount</th>\n",
       "      <td>1.000000</td>\n",
       "      <td>0.945044</td>\n",
       "      <td>0.149310</td>\n",
       "      <td>0.849168</td>\n",
       "    </tr>\n",
       "    <tr>\n",
       "      <th>loan_amount</th>\n",
       "      <td>0.945044</td>\n",
       "      <td>1.000000</td>\n",
       "      <td>0.184795</td>\n",
       "      <td>0.798697</td>\n",
       "    </tr>\n",
       "    <tr>\n",
       "      <th>term_in_months</th>\n",
       "      <td>0.149310</td>\n",
       "      <td>0.184795</td>\n",
       "      <td>1.000000</td>\n",
       "      <td>0.227283</td>\n",
       "    </tr>\n",
       "    <tr>\n",
       "      <th>lender_count</th>\n",
       "      <td>0.849168</td>\n",
       "      <td>0.798697</td>\n",
       "      <td>0.227283</td>\n",
       "      <td>1.000000</td>\n",
       "    </tr>\n",
       "  </tbody>\n",
       "</table>\n",
       "</div>"
      ],
      "text/plain": [
       "                funded_amount  loan_amount  term_in_months  lender_count\n",
       "funded_amount        1.000000     0.945044        0.149310      0.849168\n",
       "loan_amount          0.945044     1.000000        0.184795      0.798697\n",
       "term_in_months       0.149310     0.184795        1.000000      0.227283\n",
       "lender_count         0.849168     0.798697        0.227283      1.000000"
      ]
     },
     "execution_count": 179,
     "metadata": {},
     "output_type": "execute_result"
    }
   ],
   "source": [
    "# Zusammenhang der metrischen Spalten\n",
    "\n",
    "df.corr()"
   ]
  },
  {
   "cell_type": "code",
   "execution_count": 180,
   "id": "8fb36f6c",
   "metadata": {
    "ExecuteTime": {
     "end_time": "2024-02-16T09:35:02.400969Z",
     "start_time": "2024-02-16T09:35:01.479431Z"
    }
   },
   "outputs": [
    {
     "data": {
      "text/plain": [
       "24372"
      ]
     },
     "execution_count": 180,
     "metadata": {},
     "output_type": "execute_result"
    }
   ],
   "source": [
    "# Summe von Duplikaten\n",
    "\n",
    "df.duplicated().sum()"
   ]
  },
  {
   "cell_type": "code",
   "execution_count": 181,
   "id": "5e658266",
   "metadata": {
    "ExecuteTime": {
     "end_time": "2024-02-16T09:35:03.281222Z",
     "start_time": "2024-02-16T09:35:02.417644Z"
    },
    "scrolled": true
   },
   "outputs": [
    {
     "data": {
      "text/html": [
       "<div>\n",
       "<style scoped>\n",
       "    .dataframe tbody tr th:only-of-type {\n",
       "        vertical-align: middle;\n",
       "    }\n",
       "\n",
       "    .dataframe tbody tr th {\n",
       "        vertical-align: top;\n",
       "    }\n",
       "\n",
       "    .dataframe thead th {\n",
       "        text-align: right;\n",
       "    }\n",
       "</style>\n",
       "<table border=\"1\" class=\"dataframe\">\n",
       "  <thead>\n",
       "    <tr style=\"text-align: right;\">\n",
       "      <th></th>\n",
       "      <th>funded_amount</th>\n",
       "      <th>loan_amount</th>\n",
       "      <th>activity</th>\n",
       "      <th>sector</th>\n",
       "      <th>use</th>\n",
       "      <th>country_code</th>\n",
       "      <th>country</th>\n",
       "      <th>region</th>\n",
       "      <th>currency</th>\n",
       "      <th>term_in_months</th>\n",
       "      <th>lender_count</th>\n",
       "      <th>borrower_genders</th>\n",
       "      <th>repayment_interval</th>\n",
       "    </tr>\n",
       "  </thead>\n",
       "  <tbody>\n",
       "    <tr>\n",
       "      <th>327</th>\n",
       "      <td>275.0</td>\n",
       "      <td>275.0</td>\n",
       "      <td>Farming</td>\n",
       "      <td>Agriculture</td>\n",
       "      <td>to buy fertilizers and other farm supplies.</td>\n",
       "      <td>PH</td>\n",
       "      <td>Philippines</td>\n",
       "      <td>Brookes Point, Palawan</td>\n",
       "      <td>PHP</td>\n",
       "      <td>8.0</td>\n",
       "      <td>8</td>\n",
       "      <td>female</td>\n",
       "      <td>irregular</td>\n",
       "    </tr>\n",
       "    <tr>\n",
       "      <th>392</th>\n",
       "      <td>100.0</td>\n",
       "      <td>100.0</td>\n",
       "      <td>Home Energy</td>\n",
       "      <td>Personal Use</td>\n",
       "      <td>to buy a solar lamp.</td>\n",
       "      <td>SV</td>\n",
       "      <td>El Salvador</td>\n",
       "      <td>NaN</td>\n",
       "      <td>USD</td>\n",
       "      <td>14.0</td>\n",
       "      <td>4</td>\n",
       "      <td>male</td>\n",
       "      <td>monthly</td>\n",
       "    </tr>\n",
       "    <tr>\n",
       "      <th>405</th>\n",
       "      <td>100.0</td>\n",
       "      <td>100.0</td>\n",
       "      <td>Home Energy</td>\n",
       "      <td>Personal Use</td>\n",
       "      <td>to buy a solar-powered lamp.</td>\n",
       "      <td>SV</td>\n",
       "      <td>El Salvador</td>\n",
       "      <td>NaN</td>\n",
       "      <td>USD</td>\n",
       "      <td>14.0</td>\n",
       "      <td>4</td>\n",
       "      <td>male</td>\n",
       "      <td>monthly</td>\n",
       "    </tr>\n",
       "    <tr>\n",
       "      <th>498</th>\n",
       "      <td>100.0</td>\n",
       "      <td>100.0</td>\n",
       "      <td>Home Energy</td>\n",
       "      <td>Personal Use</td>\n",
       "      <td>to buy a solar-powered lamp.</td>\n",
       "      <td>SV</td>\n",
       "      <td>El Salvador</td>\n",
       "      <td>NaN</td>\n",
       "      <td>USD</td>\n",
       "      <td>14.0</td>\n",
       "      <td>4</td>\n",
       "      <td>male</td>\n",
       "      <td>monthly</td>\n",
       "    </tr>\n",
       "    <tr>\n",
       "      <th>606</th>\n",
       "      <td>100.0</td>\n",
       "      <td>100.0</td>\n",
       "      <td>Home Energy</td>\n",
       "      <td>Personal Use</td>\n",
       "      <td>to buy a solar-powered lamp.</td>\n",
       "      <td>SV</td>\n",
       "      <td>El Salvador</td>\n",
       "      <td>NaN</td>\n",
       "      <td>USD</td>\n",
       "      <td>14.0</td>\n",
       "      <td>4</td>\n",
       "      <td>male</td>\n",
       "      <td>monthly</td>\n",
       "    </tr>\n",
       "    <tr>\n",
       "      <th>...</th>\n",
       "      <td>...</td>\n",
       "      <td>...</td>\n",
       "      <td>...</td>\n",
       "      <td>...</td>\n",
       "      <td>...</td>\n",
       "      <td>...</td>\n",
       "      <td>...</td>\n",
       "      <td>...</td>\n",
       "      <td>...</td>\n",
       "      <td>...</td>\n",
       "      <td>...</td>\n",
       "      <td>...</td>\n",
       "      <td>...</td>\n",
       "    </tr>\n",
       "    <tr>\n",
       "      <th>671200</th>\n",
       "      <td>0.0</td>\n",
       "      <td>25.0</td>\n",
       "      <td>Livestock</td>\n",
       "      <td>Agriculture</td>\n",
       "      <td>[True, u'para compara: cemento, arenya y ladri...</td>\n",
       "      <td>PY</td>\n",
       "      <td>Paraguay</td>\n",
       "      <td>Concepción</td>\n",
       "      <td>USD</td>\n",
       "      <td>13.0</td>\n",
       "      <td>0</td>\n",
       "      <td>female</td>\n",
       "      <td>monthly</td>\n",
       "    </tr>\n",
       "    <tr>\n",
       "      <th>671201</th>\n",
       "      <td>25.0</td>\n",
       "      <td>25.0</td>\n",
       "      <td>Livestock</td>\n",
       "      <td>Agriculture</td>\n",
       "      <td>[True, u'to start a turducken farm.'] - this l...</td>\n",
       "      <td>KE</td>\n",
       "      <td>Kenya</td>\n",
       "      <td>NaN</td>\n",
       "      <td>KES</td>\n",
       "      <td>13.0</td>\n",
       "      <td>1</td>\n",
       "      <td>female</td>\n",
       "      <td>monthly</td>\n",
       "    </tr>\n",
       "    <tr>\n",
       "      <th>671202</th>\n",
       "      <td>0.0</td>\n",
       "      <td>25.0</td>\n",
       "      <td>Games</td>\n",
       "      <td>Entertainment</td>\n",
       "      <td>NaN</td>\n",
       "      <td>KE</td>\n",
       "      <td>Kenya</td>\n",
       "      <td>NaN</td>\n",
       "      <td>KES</td>\n",
       "      <td>13.0</td>\n",
       "      <td>0</td>\n",
       "      <td>NaN</td>\n",
       "      <td>monthly</td>\n",
       "    </tr>\n",
       "    <tr>\n",
       "      <th>671203</th>\n",
       "      <td>0.0</td>\n",
       "      <td>25.0</td>\n",
       "      <td>Livestock</td>\n",
       "      <td>Agriculture</td>\n",
       "      <td>[True, u'to start a turducken farm.'] - this l...</td>\n",
       "      <td>KE</td>\n",
       "      <td>Kenya</td>\n",
       "      <td>NaN</td>\n",
       "      <td>KES</td>\n",
       "      <td>13.0</td>\n",
       "      <td>0</td>\n",
       "      <td>female</td>\n",
       "      <td>monthly</td>\n",
       "    </tr>\n",
       "    <tr>\n",
       "      <th>671204</th>\n",
       "      <td>0.0</td>\n",
       "      <td>25.0</td>\n",
       "      <td>Livestock</td>\n",
       "      <td>Agriculture</td>\n",
       "      <td>[True, u'to start a turducken farm.'] - this l...</td>\n",
       "      <td>KE</td>\n",
       "      <td>Kenya</td>\n",
       "      <td>NaN</td>\n",
       "      <td>KES</td>\n",
       "      <td>13.0</td>\n",
       "      <td>0</td>\n",
       "      <td>female</td>\n",
       "      <td>monthly</td>\n",
       "    </tr>\n",
       "  </tbody>\n",
       "</table>\n",
       "<p>34633 rows × 13 columns</p>\n",
       "</div>"
      ],
      "text/plain": [
       "        funded_amount  loan_amount     activity         sector  \\\n",
       "327             275.0        275.0      Farming    Agriculture   \n",
       "392             100.0        100.0  Home Energy   Personal Use   \n",
       "405             100.0        100.0  Home Energy   Personal Use   \n",
       "498             100.0        100.0  Home Energy   Personal Use   \n",
       "606             100.0        100.0  Home Energy   Personal Use   \n",
       "...               ...          ...          ...            ...   \n",
       "671200            0.0         25.0    Livestock    Agriculture   \n",
       "671201           25.0         25.0    Livestock    Agriculture   \n",
       "671202            0.0         25.0        Games  Entertainment   \n",
       "671203            0.0         25.0    Livestock    Agriculture   \n",
       "671204            0.0         25.0    Livestock    Agriculture   \n",
       "\n",
       "                                                      use country_code  \\\n",
       "327           to buy fertilizers and other farm supplies.           PH   \n",
       "392                                  to buy a solar lamp.           SV   \n",
       "405                          to buy a solar-powered lamp.           SV   \n",
       "498                          to buy a solar-powered lamp.           SV   \n",
       "606                          to buy a solar-powered lamp.           SV   \n",
       "...                                                   ...          ...   \n",
       "671200  [True, u'para compara: cemento, arenya y ladri...           PY   \n",
       "671201  [True, u'to start a turducken farm.'] - this l...           KE   \n",
       "671202                                                NaN           KE   \n",
       "671203  [True, u'to start a turducken farm.'] - this l...           KE   \n",
       "671204  [True, u'to start a turducken farm.'] - this l...           KE   \n",
       "\n",
       "            country                  region currency  term_in_months  \\\n",
       "327     Philippines  Brookes Point, Palawan      PHP             8.0   \n",
       "392     El Salvador                     NaN      USD            14.0   \n",
       "405     El Salvador                     NaN      USD            14.0   \n",
       "498     El Salvador                     NaN      USD            14.0   \n",
       "606     El Salvador                     NaN      USD            14.0   \n",
       "...             ...                     ...      ...             ...   \n",
       "671200     Paraguay              Concepción      USD            13.0   \n",
       "671201        Kenya                     NaN      KES            13.0   \n",
       "671202        Kenya                     NaN      KES            13.0   \n",
       "671203        Kenya                     NaN      KES            13.0   \n",
       "671204        Kenya                     NaN      KES            13.0   \n",
       "\n",
       "        lender_count borrower_genders repayment_interval  \n",
       "327                8           female          irregular  \n",
       "392                4             male            monthly  \n",
       "405                4             male            monthly  \n",
       "498                4             male            monthly  \n",
       "606                4             male            monthly  \n",
       "...              ...              ...                ...  \n",
       "671200             0           female            monthly  \n",
       "671201             1           female            monthly  \n",
       "671202             0              NaN            monthly  \n",
       "671203             0           female            monthly  \n",
       "671204             0           female            monthly  \n",
       "\n",
       "[34633 rows x 13 columns]"
      ]
     },
     "execution_count": 181,
     "metadata": {},
     "output_type": "execute_result"
    }
   ],
   "source": [
    "df.loc[df.duplicated(keep=False)==True,:]"
   ]
  },
  {
   "cell_type": "markdown",
   "id": "abab65e7",
   "metadata": {},
   "source": [
    "Da es möglich sein kann, dass die selben Kreditnehmer erneut einen Kredit in der selben Höhe aufnehmen, bleiben die Duplikate erkalten. "
   ]
  },
  {
   "cell_type": "markdown",
   "id": "f237641e",
   "metadata": {},
   "source": [
    "#### Systemseitig Fehlende Werte"
   ]
  },
  {
   "cell_type": "code",
   "execution_count": 182,
   "id": "53b8d5ac",
   "metadata": {
    "ExecuteTime": {
     "end_time": "2024-02-16T09:35:04.214190Z",
     "start_time": "2024-02-16T09:35:03.283814Z"
    }
   },
   "outputs": [
    {
     "data": {
      "text/plain": [
       "funded_amount             0\n",
       "loan_amount               0\n",
       "activity                  0\n",
       "sector                    0\n",
       "use                    4232\n",
       "country_code              8\n",
       "country                   0\n",
       "region                56800\n",
       "currency                  0\n",
       "term_in_months            0\n",
       "lender_count              0\n",
       "borrower_genders       4221\n",
       "repayment_interval        0\n",
       "dtype: int64"
      ]
     },
     "execution_count": 182,
     "metadata": {},
     "output_type": "execute_result"
    }
   ],
   "source": [
    "# kurzer check auf systemseitig fehlende Werte\n",
    "\n",
    "df.isnull().sum()"
   ]
  },
  {
   "cell_type": "code",
   "execution_count": 183,
   "id": "1963dc91",
   "metadata": {
    "ExecuteTime": {
     "end_time": "2024-02-16T09:38:58.257497Z",
     "start_time": "2024-02-16T09:38:57.533536Z"
    }
   },
   "outputs": [
    {
     "data": {
      "text/plain": [
       "funded_amount         0.00\n",
       "loan_amount           0.00\n",
       "activity              0.00\n",
       "sector                0.00\n",
       "use                   0.63\n",
       "country_code          0.00\n",
       "country               0.00\n",
       "region                8.46\n",
       "currency              0.00\n",
       "term_in_months        0.00\n",
       "lender_count          0.00\n",
       "borrower_genders      0.63\n",
       "repayment_interval    0.00\n",
       "dtype: float64"
      ]
     },
     "execution_count": 183,
     "metadata": {},
     "output_type": "execute_result"
    }
   ],
   "source": [
    "# prozentualer Anteil fehlender Werte\n",
    "\n",
    "round(df.isnull().sum()/len(df) * 100,2) "
   ]
  },
  {
   "cell_type": "markdown",
   "id": "1fc0324a",
   "metadata": {},
   "source": [
    "*Spalte use*"
   ]
  },
  {
   "cell_type": "code",
   "execution_count": 184,
   "id": "b77f5830",
   "metadata": {
    "ExecuteTime": {
     "end_time": "2024-02-16T09:35:05.231955Z",
     "start_time": "2024-02-16T09:35:05.069680Z"
    }
   },
   "outputs": [
    {
     "data": {
      "text/plain": [
       "array(['To buy seasonal, fresh fruits to sell. ',\n",
       "       'to repair and maintain the auto rickshaw used in their business.',\n",
       "       'To repair their old cycle-van and buy another one to rent out as a source of income',\n",
       "       ...,\n",
       "       'Pretend the issue with loan got addressed by Kiva Coordinator.',\n",
       "       'Kiva Coordinator replaced loan use. Should see this in viewdiff.',\n",
       "       'Edited loan use in english.'], dtype=object)"
      ]
     },
     "execution_count": 184,
     "metadata": {},
     "output_type": "execute_result"
    }
   ],
   "source": [
    "# fehlende werte in Spalte 'use'\n",
    "\n",
    "df.loc[:,'use'].unique()\n",
    "\n",
    "# zu viele Informationen, um alles zu prüfen. Zudem ziemlich viele systemseitig fehlende Werte"
   ]
  },
  {
   "cell_type": "code",
   "execution_count": 185,
   "id": "4581ef30",
   "metadata": {
    "ExecuteTime": {
     "end_time": "2024-02-16T09:42:24.322971Z",
     "start_time": "2024-02-16T09:42:24.256198Z"
    }
   },
   "outputs": [
    {
     "data": {
      "text/html": [
       "<div>\n",
       "<style scoped>\n",
       "    .dataframe tbody tr th:only-of-type {\n",
       "        vertical-align: middle;\n",
       "    }\n",
       "\n",
       "    .dataframe tbody tr th {\n",
       "        vertical-align: top;\n",
       "    }\n",
       "\n",
       "    .dataframe thead th {\n",
       "        text-align: right;\n",
       "    }\n",
       "</style>\n",
       "<table border=\"1\" class=\"dataframe\">\n",
       "  <thead>\n",
       "    <tr style=\"text-align: right;\">\n",
       "      <th></th>\n",
       "      <th>funded_amount</th>\n",
       "      <th>loan_amount</th>\n",
       "      <th>activity</th>\n",
       "      <th>sector</th>\n",
       "      <th>use</th>\n",
       "      <th>country_code</th>\n",
       "      <th>country</th>\n",
       "      <th>region</th>\n",
       "      <th>currency</th>\n",
       "      <th>term_in_months</th>\n",
       "      <th>lender_count</th>\n",
       "      <th>borrower_genders</th>\n",
       "      <th>repayment_interval</th>\n",
       "    </tr>\n",
       "  </thead>\n",
       "  <tbody>\n",
       "    <tr>\n",
       "      <th>140</th>\n",
       "      <td>2975.0</td>\n",
       "      <td>2975.0</td>\n",
       "      <td>Food Production/Sales</td>\n",
       "      <td>Food</td>\n",
       "      <td>NaN</td>\n",
       "      <td>TZ</td>\n",
       "      <td>Tanzania</td>\n",
       "      <td>NaN</td>\n",
       "      <td>TZS</td>\n",
       "      <td>10.0</td>\n",
       "      <td>110</td>\n",
       "      <td>NaN</td>\n",
       "      <td>monthly</td>\n",
       "    </tr>\n",
       "    <tr>\n",
       "      <th>145</th>\n",
       "      <td>1200.0</td>\n",
       "      <td>1200.0</td>\n",
       "      <td>Personal Expenses</td>\n",
       "      <td>Personal Use</td>\n",
       "      <td>NaN</td>\n",
       "      <td>PE</td>\n",
       "      <td>Peru</td>\n",
       "      <td>NaN</td>\n",
       "      <td>PEN</td>\n",
       "      <td>20.0</td>\n",
       "      <td>44</td>\n",
       "      <td>NaN</td>\n",
       "      <td>monthly</td>\n",
       "    </tr>\n",
       "    <tr>\n",
       "      <th>170</th>\n",
       "      <td>4250.0</td>\n",
       "      <td>4250.0</td>\n",
       "      <td>Catering</td>\n",
       "      <td>Food</td>\n",
       "      <td>NaN</td>\n",
       "      <td>TZ</td>\n",
       "      <td>Tanzania</td>\n",
       "      <td>NaN</td>\n",
       "      <td>TZS</td>\n",
       "      <td>10.0</td>\n",
       "      <td>116</td>\n",
       "      <td>NaN</td>\n",
       "      <td>monthly</td>\n",
       "    </tr>\n",
       "    <tr>\n",
       "      <th>412</th>\n",
       "      <td>2350.0</td>\n",
       "      <td>2350.0</td>\n",
       "      <td>Beauty Salon</td>\n",
       "      <td>Services</td>\n",
       "      <td>NaN</td>\n",
       "      <td>TZ</td>\n",
       "      <td>Tanzania</td>\n",
       "      <td>NaN</td>\n",
       "      <td>TZS</td>\n",
       "      <td>10.0</td>\n",
       "      <td>75</td>\n",
       "      <td>NaN</td>\n",
       "      <td>monthly</td>\n",
       "    </tr>\n",
       "    <tr>\n",
       "      <th>414</th>\n",
       "      <td>725.0</td>\n",
       "      <td>725.0</td>\n",
       "      <td>Agriculture</td>\n",
       "      <td>Agriculture</td>\n",
       "      <td>NaN</td>\n",
       "      <td>SV</td>\n",
       "      <td>El Salvador</td>\n",
       "      <td>NaN</td>\n",
       "      <td>USD</td>\n",
       "      <td>20.0</td>\n",
       "      <td>19</td>\n",
       "      <td>NaN</td>\n",
       "      <td>monthly</td>\n",
       "    </tr>\n",
       "    <tr>\n",
       "      <th>...</th>\n",
       "      <td>...</td>\n",
       "      <td>...</td>\n",
       "      <td>...</td>\n",
       "      <td>...</td>\n",
       "      <td>...</td>\n",
       "      <td>...</td>\n",
       "      <td>...</td>\n",
       "      <td>...</td>\n",
       "      <td>...</td>\n",
       "      <td>...</td>\n",
       "      <td>...</td>\n",
       "      <td>...</td>\n",
       "      <td>...</td>\n",
       "    </tr>\n",
       "    <tr>\n",
       "      <th>671151</th>\n",
       "      <td>0.0</td>\n",
       "      <td>25.0</td>\n",
       "      <td>Livestock</td>\n",
       "      <td>Agriculture</td>\n",
       "      <td>NaN</td>\n",
       "      <td>KE</td>\n",
       "      <td>Kenya</td>\n",
       "      <td>NaN</td>\n",
       "      <td>KES</td>\n",
       "      <td>13.0</td>\n",
       "      <td>0</td>\n",
       "      <td>NaN</td>\n",
       "      <td>monthly</td>\n",
       "    </tr>\n",
       "    <tr>\n",
       "      <th>671174</th>\n",
       "      <td>0.0</td>\n",
       "      <td>25.0</td>\n",
       "      <td>Games</td>\n",
       "      <td>Entertainment</td>\n",
       "      <td>NaN</td>\n",
       "      <td>KE</td>\n",
       "      <td>Kenya</td>\n",
       "      <td>NaN</td>\n",
       "      <td>KES</td>\n",
       "      <td>13.0</td>\n",
       "      <td>0</td>\n",
       "      <td>NaN</td>\n",
       "      <td>monthly</td>\n",
       "    </tr>\n",
       "    <tr>\n",
       "      <th>671178</th>\n",
       "      <td>0.0</td>\n",
       "      <td>25.0</td>\n",
       "      <td>Livestock</td>\n",
       "      <td>Agriculture</td>\n",
       "      <td>NaN</td>\n",
       "      <td>KE</td>\n",
       "      <td>Kenya</td>\n",
       "      <td>NaN</td>\n",
       "      <td>KES</td>\n",
       "      <td>13.0</td>\n",
       "      <td>0</td>\n",
       "      <td>NaN</td>\n",
       "      <td>monthly</td>\n",
       "    </tr>\n",
       "    <tr>\n",
       "      <th>671185</th>\n",
       "      <td>0.0</td>\n",
       "      <td>25.0</td>\n",
       "      <td>Livestock</td>\n",
       "      <td>Agriculture</td>\n",
       "      <td>NaN</td>\n",
       "      <td>KE</td>\n",
       "      <td>Kenya</td>\n",
       "      <td>NaN</td>\n",
       "      <td>KES</td>\n",
       "      <td>13.0</td>\n",
       "      <td>0</td>\n",
       "      <td>NaN</td>\n",
       "      <td>monthly</td>\n",
       "    </tr>\n",
       "    <tr>\n",
       "      <th>671202</th>\n",
       "      <td>0.0</td>\n",
       "      <td>25.0</td>\n",
       "      <td>Games</td>\n",
       "      <td>Entertainment</td>\n",
       "      <td>NaN</td>\n",
       "      <td>KE</td>\n",
       "      <td>Kenya</td>\n",
       "      <td>NaN</td>\n",
       "      <td>KES</td>\n",
       "      <td>13.0</td>\n",
       "      <td>0</td>\n",
       "      <td>NaN</td>\n",
       "      <td>monthly</td>\n",
       "    </tr>\n",
       "  </tbody>\n",
       "</table>\n",
       "<p>4232 rows × 13 columns</p>\n",
       "</div>"
      ],
      "text/plain": [
       "        funded_amount  loan_amount               activity         sector  use  \\\n",
       "140            2975.0       2975.0  Food Production/Sales           Food  NaN   \n",
       "145            1200.0       1200.0      Personal Expenses   Personal Use  NaN   \n",
       "170            4250.0       4250.0               Catering           Food  NaN   \n",
       "412            2350.0       2350.0           Beauty Salon       Services  NaN   \n",
       "414             725.0        725.0            Agriculture    Agriculture  NaN   \n",
       "...               ...          ...                    ...            ...  ...   \n",
       "671151            0.0         25.0              Livestock    Agriculture  NaN   \n",
       "671174            0.0         25.0                  Games  Entertainment  NaN   \n",
       "671178            0.0         25.0              Livestock    Agriculture  NaN   \n",
       "671185            0.0         25.0              Livestock    Agriculture  NaN   \n",
       "671202            0.0         25.0                  Games  Entertainment  NaN   \n",
       "\n",
       "       country_code      country region currency  term_in_months  \\\n",
       "140              TZ     Tanzania    NaN      TZS            10.0   \n",
       "145              PE         Peru    NaN      PEN            20.0   \n",
       "170              TZ     Tanzania    NaN      TZS            10.0   \n",
       "412              TZ     Tanzania    NaN      TZS            10.0   \n",
       "414              SV  El Salvador    NaN      USD            20.0   \n",
       "...             ...          ...    ...      ...             ...   \n",
       "671151           KE        Kenya    NaN      KES            13.0   \n",
       "671174           KE        Kenya    NaN      KES            13.0   \n",
       "671178           KE        Kenya    NaN      KES            13.0   \n",
       "671185           KE        Kenya    NaN      KES            13.0   \n",
       "671202           KE        Kenya    NaN      KES            13.0   \n",
       "\n",
       "        lender_count borrower_genders repayment_interval  \n",
       "140              110              NaN            monthly  \n",
       "145               44              NaN            monthly  \n",
       "170              116              NaN            monthly  \n",
       "412               75              NaN            monthly  \n",
       "414               19              NaN            monthly  \n",
       "...              ...              ...                ...  \n",
       "671151             0              NaN            monthly  \n",
       "671174             0              NaN            monthly  \n",
       "671178             0              NaN            monthly  \n",
       "671185             0              NaN            monthly  \n",
       "671202             0              NaN            monthly  \n",
       "\n",
       "[4232 rows x 13 columns]"
      ]
     },
     "execution_count": 185,
     "metadata": {},
     "output_type": "execute_result"
    }
   ],
   "source": [
    "# Anzeige der fehlenden Werte\n",
    "\n",
    "df.loc[df[\"use\"].isnull()]"
   ]
  },
  {
   "cell_type": "code",
   "execution_count": 186,
   "id": "90ebf964",
   "metadata": {
    "ExecuteTime": {
     "end_time": "2024-02-16T09:42:27.547061Z",
     "start_time": "2024-02-16T09:42:27.480288Z"
    }
   },
   "outputs": [
    {
     "data": {
      "text/html": [
       "<div>\n",
       "<style scoped>\n",
       "    .dataframe tbody tr th:only-of-type {\n",
       "        vertical-align: middle;\n",
       "    }\n",
       "\n",
       "    .dataframe tbody tr th {\n",
       "        vertical-align: top;\n",
       "    }\n",
       "\n",
       "    .dataframe thead th {\n",
       "        text-align: right;\n",
       "    }\n",
       "</style>\n",
       "<table border=\"1\" class=\"dataframe\">\n",
       "  <thead>\n",
       "    <tr style=\"text-align: right;\">\n",
       "      <th></th>\n",
       "      <th>funded_amount</th>\n",
       "      <th>loan_amount</th>\n",
       "      <th>activity</th>\n",
       "      <th>sector</th>\n",
       "      <th>use</th>\n",
       "      <th>country_code</th>\n",
       "      <th>country</th>\n",
       "      <th>region</th>\n",
       "      <th>currency</th>\n",
       "      <th>term_in_months</th>\n",
       "      <th>lender_count</th>\n",
       "      <th>borrower_genders</th>\n",
       "      <th>repayment_interval</th>\n",
       "    </tr>\n",
       "  </thead>\n",
       "  <tbody>\n",
       "    <tr>\n",
       "      <th>36075</th>\n",
       "      <td>0.0</td>\n",
       "      <td>600.0</td>\n",
       "      <td>Personal Medical Expenses</td>\n",
       "      <td>Health</td>\n",
       "      <td>NaN</td>\n",
       "      <td>BO</td>\n",
       "      <td>Bolivia</td>\n",
       "      <td>NaN</td>\n",
       "      <td>USD</td>\n",
       "      <td>20.0</td>\n",
       "      <td>0</td>\n",
       "      <td>NaN</td>\n",
       "      <td>monthly</td>\n",
       "    </tr>\n",
       "    <tr>\n",
       "      <th>40489</th>\n",
       "      <td>0.0</td>\n",
       "      <td>1050.0</td>\n",
       "      <td>Cloth &amp; Dressmaking Supplies</td>\n",
       "      <td>Retail</td>\n",
       "      <td>NaN</td>\n",
       "      <td>KE</td>\n",
       "      <td>Kenya</td>\n",
       "      <td>NaN</td>\n",
       "      <td>KES</td>\n",
       "      <td>14.0</td>\n",
       "      <td>0</td>\n",
       "      <td>NaN</td>\n",
       "      <td>monthly</td>\n",
       "    </tr>\n",
       "    <tr>\n",
       "      <th>53392</th>\n",
       "      <td>0.0</td>\n",
       "      <td>1025.0</td>\n",
       "      <td>Retail</td>\n",
       "      <td>Retail</td>\n",
       "      <td>NaN</td>\n",
       "      <td>NI</td>\n",
       "      <td>Nicaragua</td>\n",
       "      <td>NaN</td>\n",
       "      <td>USD</td>\n",
       "      <td>17.0</td>\n",
       "      <td>0</td>\n",
       "      <td>NaN</td>\n",
       "      <td>monthly</td>\n",
       "    </tr>\n",
       "    <tr>\n",
       "      <th>59399</th>\n",
       "      <td>0.0</td>\n",
       "      <td>325.0</td>\n",
       "      <td>Agriculture</td>\n",
       "      <td>Agriculture</td>\n",
       "      <td>NaN</td>\n",
       "      <td>SV</td>\n",
       "      <td>El Salvador</td>\n",
       "      <td>NaN</td>\n",
       "      <td>USD</td>\n",
       "      <td>13.0</td>\n",
       "      <td>0</td>\n",
       "      <td>NaN</td>\n",
       "      <td>bullet</td>\n",
       "    </tr>\n",
       "    <tr>\n",
       "      <th>61296</th>\n",
       "      <td>0.0</td>\n",
       "      <td>500.0</td>\n",
       "      <td>Farming</td>\n",
       "      <td>Agriculture</td>\n",
       "      <td>NaN</td>\n",
       "      <td>SV</td>\n",
       "      <td>El Salvador</td>\n",
       "      <td>NaN</td>\n",
       "      <td>USD</td>\n",
       "      <td>14.0</td>\n",
       "      <td>0</td>\n",
       "      <td>NaN</td>\n",
       "      <td>irregular</td>\n",
       "    </tr>\n",
       "    <tr>\n",
       "      <th>...</th>\n",
       "      <td>...</td>\n",
       "      <td>...</td>\n",
       "      <td>...</td>\n",
       "      <td>...</td>\n",
       "      <td>...</td>\n",
       "      <td>...</td>\n",
       "      <td>...</td>\n",
       "      <td>...</td>\n",
       "      <td>...</td>\n",
       "      <td>...</td>\n",
       "      <td>...</td>\n",
       "      <td>...</td>\n",
       "      <td>...</td>\n",
       "    </tr>\n",
       "    <tr>\n",
       "      <th>671151</th>\n",
       "      <td>0.0</td>\n",
       "      <td>25.0</td>\n",
       "      <td>Livestock</td>\n",
       "      <td>Agriculture</td>\n",
       "      <td>NaN</td>\n",
       "      <td>KE</td>\n",
       "      <td>Kenya</td>\n",
       "      <td>NaN</td>\n",
       "      <td>KES</td>\n",
       "      <td>13.0</td>\n",
       "      <td>0</td>\n",
       "      <td>NaN</td>\n",
       "      <td>monthly</td>\n",
       "    </tr>\n",
       "    <tr>\n",
       "      <th>671174</th>\n",
       "      <td>0.0</td>\n",
       "      <td>25.0</td>\n",
       "      <td>Games</td>\n",
       "      <td>Entertainment</td>\n",
       "      <td>NaN</td>\n",
       "      <td>KE</td>\n",
       "      <td>Kenya</td>\n",
       "      <td>NaN</td>\n",
       "      <td>KES</td>\n",
       "      <td>13.0</td>\n",
       "      <td>0</td>\n",
       "      <td>NaN</td>\n",
       "      <td>monthly</td>\n",
       "    </tr>\n",
       "    <tr>\n",
       "      <th>671178</th>\n",
       "      <td>0.0</td>\n",
       "      <td>25.0</td>\n",
       "      <td>Livestock</td>\n",
       "      <td>Agriculture</td>\n",
       "      <td>NaN</td>\n",
       "      <td>KE</td>\n",
       "      <td>Kenya</td>\n",
       "      <td>NaN</td>\n",
       "      <td>KES</td>\n",
       "      <td>13.0</td>\n",
       "      <td>0</td>\n",
       "      <td>NaN</td>\n",
       "      <td>monthly</td>\n",
       "    </tr>\n",
       "    <tr>\n",
       "      <th>671185</th>\n",
       "      <td>0.0</td>\n",
       "      <td>25.0</td>\n",
       "      <td>Livestock</td>\n",
       "      <td>Agriculture</td>\n",
       "      <td>NaN</td>\n",
       "      <td>KE</td>\n",
       "      <td>Kenya</td>\n",
       "      <td>NaN</td>\n",
       "      <td>KES</td>\n",
       "      <td>13.0</td>\n",
       "      <td>0</td>\n",
       "      <td>NaN</td>\n",
       "      <td>monthly</td>\n",
       "    </tr>\n",
       "    <tr>\n",
       "      <th>671202</th>\n",
       "      <td>0.0</td>\n",
       "      <td>25.0</td>\n",
       "      <td>Games</td>\n",
       "      <td>Entertainment</td>\n",
       "      <td>NaN</td>\n",
       "      <td>KE</td>\n",
       "      <td>Kenya</td>\n",
       "      <td>NaN</td>\n",
       "      <td>KES</td>\n",
       "      <td>13.0</td>\n",
       "      <td>0</td>\n",
       "      <td>NaN</td>\n",
       "      <td>monthly</td>\n",
       "    </tr>\n",
       "  </tbody>\n",
       "</table>\n",
       "<p>131 rows × 13 columns</p>\n",
       "</div>"
      ],
      "text/plain": [
       "        funded_amount  loan_amount                      activity  \\\n",
       "36075             0.0        600.0     Personal Medical Expenses   \n",
       "40489             0.0       1050.0  Cloth & Dressmaking Supplies   \n",
       "53392             0.0       1025.0                        Retail   \n",
       "59399             0.0        325.0                   Agriculture   \n",
       "61296             0.0        500.0                       Farming   \n",
       "...               ...          ...                           ...   \n",
       "671151            0.0         25.0                     Livestock   \n",
       "671174            0.0         25.0                         Games   \n",
       "671178            0.0         25.0                     Livestock   \n",
       "671185            0.0         25.0                     Livestock   \n",
       "671202            0.0         25.0                         Games   \n",
       "\n",
       "               sector  use country_code      country region currency  \\\n",
       "36075          Health  NaN           BO      Bolivia    NaN      USD   \n",
       "40489          Retail  NaN           KE        Kenya    NaN      KES   \n",
       "53392          Retail  NaN           NI    Nicaragua    NaN      USD   \n",
       "59399     Agriculture  NaN           SV  El Salvador    NaN      USD   \n",
       "61296     Agriculture  NaN           SV  El Salvador    NaN      USD   \n",
       "...               ...  ...          ...          ...    ...      ...   \n",
       "671151    Agriculture  NaN           KE        Kenya    NaN      KES   \n",
       "671174  Entertainment  NaN           KE        Kenya    NaN      KES   \n",
       "671178    Agriculture  NaN           KE        Kenya    NaN      KES   \n",
       "671185    Agriculture  NaN           KE        Kenya    NaN      KES   \n",
       "671202  Entertainment  NaN           KE        Kenya    NaN      KES   \n",
       "\n",
       "        term_in_months  lender_count borrower_genders repayment_interval  \n",
       "36075             20.0             0              NaN            monthly  \n",
       "40489             14.0             0              NaN            monthly  \n",
       "53392             17.0             0              NaN            monthly  \n",
       "59399             13.0             0              NaN             bullet  \n",
       "61296             14.0             0              NaN          irregular  \n",
       "...                ...           ...              ...                ...  \n",
       "671151            13.0             0              NaN            monthly  \n",
       "671174            13.0             0              NaN            monthly  \n",
       "671178            13.0             0              NaN            monthly  \n",
       "671185            13.0             0              NaN            monthly  \n",
       "671202            13.0             0              NaN            monthly  \n",
       "\n",
       "[131 rows x 13 columns]"
      ]
     },
     "execution_count": 186,
     "metadata": {},
     "output_type": "execute_result"
    }
   ],
   "source": [
    "# Prüfung eines möglichen Zusammenhangs/Abhängigkeit zu funded_amount\n",
    "\n",
    "df.loc[(df[\"use\"].isnull()) & (df[\"funded_amount\"]==0)]\n",
    "\n",
    "# kein Hinweis auf eine Abhängigkeit"
   ]
  },
  {
   "cell_type": "code",
   "execution_count": 187,
   "id": "bf598494",
   "metadata": {
    "ExecuteTime": {
     "end_time": "2024-02-16T09:42:30.979526Z",
     "start_time": "2024-02-16T09:42:30.887401Z"
    }
   },
   "outputs": [],
   "source": [
    "# Löschen der Spalte use\n",
    "\n",
    "df.drop(columns=['use'], inplace=True)"
   ]
  },
  {
   "cell_type": "markdown",
   "id": "e4cde65b",
   "metadata": {
    "ExecuteTime": {
     "end_time": "2024-02-15T14:24:44.699557Z",
     "start_time": "2024-02-15T14:24:44.681283Z"
    }
   },
   "source": [
    "*Spalte country_code*"
   ]
  },
  {
   "cell_type": "code",
   "execution_count": 188,
   "id": "55904d90",
   "metadata": {
    "ExecuteTime": {
     "end_time": "2024-02-16T09:42:35.573936Z",
     "start_time": "2024-02-16T09:42:35.526575Z"
    }
   },
   "outputs": [
    {
     "data": {
      "text/plain": [
       "array(['PK', 'IN', 'KE', 'NI', 'SV', 'TZ', 'PH', 'PE', 'SN', 'KH', 'LR',\n",
       "       'VN', 'IQ', 'HN', 'PS', 'MN', 'US', 'ML', 'CO', 'TJ', 'GT', 'EC',\n",
       "       'BO', 'YE', 'GH', 'SL', 'HT', 'CL', 'JO', 'UG', 'BI', 'BF', 'TL',\n",
       "       'ID', 'GE', 'UA', 'XK', 'AL', 'CD', 'CR', 'SO', 'ZW', 'CM', 'TR',\n",
       "       'AZ', 'DO', 'BR', 'MX', 'KG', 'AM', 'PY', 'LB', 'WS', 'IL', 'RW',\n",
       "       'ZM', 'NP', 'CG', 'MZ', 'ZA', 'TG', 'BJ', 'BZ', 'SR', 'TH', 'NG',\n",
       "       'MR', 'VU', 'PA', 'VI', 'VC', 'LA', 'MW', 'MM', 'MD', 'SS', 'SB',\n",
       "       'CN', 'EG', 'GU', 'AF', 'MG', nan, 'PR', 'LS', 'CI', 'BT'],\n",
       "      dtype=object)"
      ]
     },
     "execution_count": 188,
     "metadata": {},
     "output_type": "execute_result"
    }
   ],
   "source": [
    "# fehlende werte in Spalte 'country_code'\n",
    "\n",
    "df.loc[:,'country_code'].unique()"
   ]
  },
  {
   "cell_type": "code",
   "execution_count": 189,
   "id": "15299c7d",
   "metadata": {
    "ExecuteTime": {
     "end_time": "2024-02-16T09:42:38.538057Z",
     "start_time": "2024-02-16T09:42:38.437003Z"
    }
   },
   "outputs": [
    {
     "data": {
      "text/html": [
       "<div>\n",
       "<style scoped>\n",
       "    .dataframe tbody tr th:only-of-type {\n",
       "        vertical-align: middle;\n",
       "    }\n",
       "\n",
       "    .dataframe tbody tr th {\n",
       "        vertical-align: top;\n",
       "    }\n",
       "\n",
       "    .dataframe thead th {\n",
       "        text-align: right;\n",
       "    }\n",
       "</style>\n",
       "<table border=\"1\" class=\"dataframe\">\n",
       "  <thead>\n",
       "    <tr style=\"text-align: right;\">\n",
       "      <th></th>\n",
       "      <th>funded_amount</th>\n",
       "      <th>loan_amount</th>\n",
       "      <th>activity</th>\n",
       "      <th>sector</th>\n",
       "      <th>country_code</th>\n",
       "      <th>country</th>\n",
       "      <th>region</th>\n",
       "      <th>currency</th>\n",
       "      <th>term_in_months</th>\n",
       "      <th>lender_count</th>\n",
       "      <th>borrower_genders</th>\n",
       "      <th>repayment_interval</th>\n",
       "    </tr>\n",
       "  </thead>\n",
       "  <tbody>\n",
       "    <tr>\n",
       "      <th>202537</th>\n",
       "      <td>4150.0</td>\n",
       "      <td>4150.0</td>\n",
       "      <td>Wholesale</td>\n",
       "      <td>Wholesale</td>\n",
       "      <td>NaN</td>\n",
       "      <td>Namibia</td>\n",
       "      <td>EEnhana</td>\n",
       "      <td>NAD</td>\n",
       "      <td>6.0</td>\n",
       "      <td>162</td>\n",
       "      <td>female</td>\n",
       "      <td>bullet</td>\n",
       "    </tr>\n",
       "    <tr>\n",
       "      <th>202823</th>\n",
       "      <td>4150.0</td>\n",
       "      <td>4150.0</td>\n",
       "      <td>Wholesale</td>\n",
       "      <td>Wholesale</td>\n",
       "      <td>NaN</td>\n",
       "      <td>Namibia</td>\n",
       "      <td>Rundu</td>\n",
       "      <td>NAD</td>\n",
       "      <td>6.0</td>\n",
       "      <td>159</td>\n",
       "      <td>male</td>\n",
       "      <td>bullet</td>\n",
       "    </tr>\n",
       "    <tr>\n",
       "      <th>344929</th>\n",
       "      <td>3325.0</td>\n",
       "      <td>3325.0</td>\n",
       "      <td>Wholesale</td>\n",
       "      <td>Wholesale</td>\n",
       "      <td>NaN</td>\n",
       "      <td>Namibia</td>\n",
       "      <td>EEnhana</td>\n",
       "      <td>NAD</td>\n",
       "      <td>7.0</td>\n",
       "      <td>120</td>\n",
       "      <td>female</td>\n",
       "      <td>bullet</td>\n",
       "    </tr>\n",
       "    <tr>\n",
       "      <th>351177</th>\n",
       "      <td>3325.0</td>\n",
       "      <td>3325.0</td>\n",
       "      <td>Wholesale</td>\n",
       "      <td>Wholesale</td>\n",
       "      <td>NaN</td>\n",
       "      <td>Namibia</td>\n",
       "      <td>Rundu</td>\n",
       "      <td>NAD</td>\n",
       "      <td>7.0</td>\n",
       "      <td>126</td>\n",
       "      <td>male</td>\n",
       "      <td>bullet</td>\n",
       "    </tr>\n",
       "    <tr>\n",
       "      <th>420953</th>\n",
       "      <td>3325.0</td>\n",
       "      <td>3325.0</td>\n",
       "      <td>Wholesale</td>\n",
       "      <td>Wholesale</td>\n",
       "      <td>NaN</td>\n",
       "      <td>Namibia</td>\n",
       "      <td>EEnhana</td>\n",
       "      <td>NAD</td>\n",
       "      <td>7.0</td>\n",
       "      <td>118</td>\n",
       "      <td>female</td>\n",
       "      <td>bullet</td>\n",
       "    </tr>\n",
       "    <tr>\n",
       "      <th>421218</th>\n",
       "      <td>4000.0</td>\n",
       "      <td>4000.0</td>\n",
       "      <td>Wholesale</td>\n",
       "      <td>Wholesale</td>\n",
       "      <td>NaN</td>\n",
       "      <td>Namibia</td>\n",
       "      <td>Rundu</td>\n",
       "      <td>NAD</td>\n",
       "      <td>7.0</td>\n",
       "      <td>150</td>\n",
       "      <td>male</td>\n",
       "      <td>bullet</td>\n",
       "    </tr>\n",
       "    <tr>\n",
       "      <th>487207</th>\n",
       "      <td>5100.0</td>\n",
       "      <td>5100.0</td>\n",
       "      <td>Renewable Energy Products</td>\n",
       "      <td>Retail</td>\n",
       "      <td>NaN</td>\n",
       "      <td>Namibia</td>\n",
       "      <td>Katima Mulilo</td>\n",
       "      <td>NAD</td>\n",
       "      <td>7.0</td>\n",
       "      <td>183</td>\n",
       "      <td>male</td>\n",
       "      <td>bullet</td>\n",
       "    </tr>\n",
       "    <tr>\n",
       "      <th>487653</th>\n",
       "      <td>5000.0</td>\n",
       "      <td>5000.0</td>\n",
       "      <td>Wholesale</td>\n",
       "      <td>Wholesale</td>\n",
       "      <td>NaN</td>\n",
       "      <td>Namibia</td>\n",
       "      <td>Oshakati</td>\n",
       "      <td>NAD</td>\n",
       "      <td>7.0</td>\n",
       "      <td>183</td>\n",
       "      <td>female</td>\n",
       "      <td>bullet</td>\n",
       "    </tr>\n",
       "  </tbody>\n",
       "</table>\n",
       "</div>"
      ],
      "text/plain": [
       "        funded_amount  loan_amount                   activity     sector  \\\n",
       "202537         4150.0       4150.0                  Wholesale  Wholesale   \n",
       "202823         4150.0       4150.0                  Wholesale  Wholesale   \n",
       "344929         3325.0       3325.0                  Wholesale  Wholesale   \n",
       "351177         3325.0       3325.0                  Wholesale  Wholesale   \n",
       "420953         3325.0       3325.0                  Wholesale  Wholesale   \n",
       "421218         4000.0       4000.0                  Wholesale  Wholesale   \n",
       "487207         5100.0       5100.0  Renewable Energy Products     Retail   \n",
       "487653         5000.0       5000.0                  Wholesale  Wholesale   \n",
       "\n",
       "       country_code  country         region currency  term_in_months  \\\n",
       "202537          NaN  Namibia        EEnhana      NAD             6.0   \n",
       "202823          NaN  Namibia          Rundu      NAD             6.0   \n",
       "344929          NaN  Namibia        EEnhana      NAD             7.0   \n",
       "351177          NaN  Namibia          Rundu      NAD             7.0   \n",
       "420953          NaN  Namibia        EEnhana      NAD             7.0   \n",
       "421218          NaN  Namibia          Rundu      NAD             7.0   \n",
       "487207          NaN  Namibia  Katima Mulilo      NAD             7.0   \n",
       "487653          NaN  Namibia       Oshakati      NAD             7.0   \n",
       "\n",
       "        lender_count borrower_genders repayment_interval  \n",
       "202537           162           female             bullet  \n",
       "202823           159             male             bullet  \n",
       "344929           120           female             bullet  \n",
       "351177           126             male             bullet  \n",
       "420953           118           female             bullet  \n",
       "421218           150             male             bullet  \n",
       "487207           183             male             bullet  \n",
       "487653           183           female             bullet  "
      ]
     },
     "execution_count": 189,
     "metadata": {},
     "output_type": "execute_result"
    }
   ],
   "source": [
    "# country anzeigen lassen, wo Werte in Spalte country_code fehlen\n",
    "\n",
    "d= df.loc[(df[\"country_code\"].isnull()) & (df[\"country\"])]\n",
    "d"
   ]
  },
  {
   "cell_type": "code",
   "execution_count": 190,
   "id": "3c68a1ec",
   "metadata": {
    "ExecuteTime": {
     "end_time": "2024-02-16T09:42:42.459574Z",
     "start_time": "2024-02-16T09:42:42.367335Z"
    }
   },
   "outputs": [],
   "source": [
    "# Fehlende Werte mit Ländercode für Nambia (NA) auffüllen\n",
    "\n",
    "df['country_code'] = df['country_code'].fillna('NA')"
   ]
  },
  {
   "cell_type": "code",
   "execution_count": 191,
   "id": "77ea2985",
   "metadata": {
    "ExecuteTime": {
     "end_time": "2024-02-16T09:42:44.476649Z",
     "start_time": "2024-02-16T09:42:44.325490Z"
    }
   },
   "outputs": [
    {
     "data": {
      "text/html": [
       "<div>\n",
       "<style scoped>\n",
       "    .dataframe tbody tr th:only-of-type {\n",
       "        vertical-align: middle;\n",
       "    }\n",
       "\n",
       "    .dataframe tbody tr th {\n",
       "        vertical-align: top;\n",
       "    }\n",
       "\n",
       "    .dataframe thead th {\n",
       "        text-align: right;\n",
       "    }\n",
       "</style>\n",
       "<table border=\"1\" class=\"dataframe\">\n",
       "  <thead>\n",
       "    <tr style=\"text-align: right;\">\n",
       "      <th></th>\n",
       "      <th>funded_amount</th>\n",
       "      <th>loan_amount</th>\n",
       "      <th>activity</th>\n",
       "      <th>sector</th>\n",
       "      <th>country_code</th>\n",
       "      <th>country</th>\n",
       "      <th>region</th>\n",
       "      <th>currency</th>\n",
       "      <th>term_in_months</th>\n",
       "      <th>lender_count</th>\n",
       "      <th>borrower_genders</th>\n",
       "      <th>repayment_interval</th>\n",
       "    </tr>\n",
       "  </thead>\n",
       "  <tbody>\n",
       "    <tr>\n",
       "      <th>202537</th>\n",
       "      <td>4150.0</td>\n",
       "      <td>4150.0</td>\n",
       "      <td>Wholesale</td>\n",
       "      <td>Wholesale</td>\n",
       "      <td>NA</td>\n",
       "      <td>Namibia</td>\n",
       "      <td>EEnhana</td>\n",
       "      <td>NAD</td>\n",
       "      <td>6.0</td>\n",
       "      <td>162</td>\n",
       "      <td>female</td>\n",
       "      <td>bullet</td>\n",
       "    </tr>\n",
       "    <tr>\n",
       "      <th>202823</th>\n",
       "      <td>4150.0</td>\n",
       "      <td>4150.0</td>\n",
       "      <td>Wholesale</td>\n",
       "      <td>Wholesale</td>\n",
       "      <td>NA</td>\n",
       "      <td>Namibia</td>\n",
       "      <td>Rundu</td>\n",
       "      <td>NAD</td>\n",
       "      <td>6.0</td>\n",
       "      <td>159</td>\n",
       "      <td>male</td>\n",
       "      <td>bullet</td>\n",
       "    </tr>\n",
       "    <tr>\n",
       "      <th>344929</th>\n",
       "      <td>3325.0</td>\n",
       "      <td>3325.0</td>\n",
       "      <td>Wholesale</td>\n",
       "      <td>Wholesale</td>\n",
       "      <td>NA</td>\n",
       "      <td>Namibia</td>\n",
       "      <td>EEnhana</td>\n",
       "      <td>NAD</td>\n",
       "      <td>7.0</td>\n",
       "      <td>120</td>\n",
       "      <td>female</td>\n",
       "      <td>bullet</td>\n",
       "    </tr>\n",
       "    <tr>\n",
       "      <th>351177</th>\n",
       "      <td>3325.0</td>\n",
       "      <td>3325.0</td>\n",
       "      <td>Wholesale</td>\n",
       "      <td>Wholesale</td>\n",
       "      <td>NA</td>\n",
       "      <td>Namibia</td>\n",
       "      <td>Rundu</td>\n",
       "      <td>NAD</td>\n",
       "      <td>7.0</td>\n",
       "      <td>126</td>\n",
       "      <td>male</td>\n",
       "      <td>bullet</td>\n",
       "    </tr>\n",
       "    <tr>\n",
       "      <th>420953</th>\n",
       "      <td>3325.0</td>\n",
       "      <td>3325.0</td>\n",
       "      <td>Wholesale</td>\n",
       "      <td>Wholesale</td>\n",
       "      <td>NA</td>\n",
       "      <td>Namibia</td>\n",
       "      <td>EEnhana</td>\n",
       "      <td>NAD</td>\n",
       "      <td>7.0</td>\n",
       "      <td>118</td>\n",
       "      <td>female</td>\n",
       "      <td>bullet</td>\n",
       "    </tr>\n",
       "    <tr>\n",
       "      <th>421218</th>\n",
       "      <td>4000.0</td>\n",
       "      <td>4000.0</td>\n",
       "      <td>Wholesale</td>\n",
       "      <td>Wholesale</td>\n",
       "      <td>NA</td>\n",
       "      <td>Namibia</td>\n",
       "      <td>Rundu</td>\n",
       "      <td>NAD</td>\n",
       "      <td>7.0</td>\n",
       "      <td>150</td>\n",
       "      <td>male</td>\n",
       "      <td>bullet</td>\n",
       "    </tr>\n",
       "    <tr>\n",
       "      <th>487207</th>\n",
       "      <td>5100.0</td>\n",
       "      <td>5100.0</td>\n",
       "      <td>Renewable Energy Products</td>\n",
       "      <td>Retail</td>\n",
       "      <td>NA</td>\n",
       "      <td>Namibia</td>\n",
       "      <td>Katima Mulilo</td>\n",
       "      <td>NAD</td>\n",
       "      <td>7.0</td>\n",
       "      <td>183</td>\n",
       "      <td>male</td>\n",
       "      <td>bullet</td>\n",
       "    </tr>\n",
       "    <tr>\n",
       "      <th>487653</th>\n",
       "      <td>5000.0</td>\n",
       "      <td>5000.0</td>\n",
       "      <td>Wholesale</td>\n",
       "      <td>Wholesale</td>\n",
       "      <td>NA</td>\n",
       "      <td>Namibia</td>\n",
       "      <td>Oshakati</td>\n",
       "      <td>NAD</td>\n",
       "      <td>7.0</td>\n",
       "      <td>183</td>\n",
       "      <td>female</td>\n",
       "      <td>bullet</td>\n",
       "    </tr>\n",
       "  </tbody>\n",
       "</table>\n",
       "</div>"
      ],
      "text/plain": [
       "        funded_amount  loan_amount                   activity     sector  \\\n",
       "202537         4150.0       4150.0                  Wholesale  Wholesale   \n",
       "202823         4150.0       4150.0                  Wholesale  Wholesale   \n",
       "344929         3325.0       3325.0                  Wholesale  Wholesale   \n",
       "351177         3325.0       3325.0                  Wholesale  Wholesale   \n",
       "420953         3325.0       3325.0                  Wholesale  Wholesale   \n",
       "421218         4000.0       4000.0                  Wholesale  Wholesale   \n",
       "487207         5100.0       5100.0  Renewable Energy Products     Retail   \n",
       "487653         5000.0       5000.0                  Wholesale  Wholesale   \n",
       "\n",
       "       country_code  country         region currency  term_in_months  \\\n",
       "202537           NA  Namibia        EEnhana      NAD             6.0   \n",
       "202823           NA  Namibia          Rundu      NAD             6.0   \n",
       "344929           NA  Namibia        EEnhana      NAD             7.0   \n",
       "351177           NA  Namibia          Rundu      NAD             7.0   \n",
       "420953           NA  Namibia        EEnhana      NAD             7.0   \n",
       "421218           NA  Namibia          Rundu      NAD             7.0   \n",
       "487207           NA  Namibia  Katima Mulilo      NAD             7.0   \n",
       "487653           NA  Namibia       Oshakati      NAD             7.0   \n",
       "\n",
       "        lender_count borrower_genders repayment_interval  \n",
       "202537           162           female             bullet  \n",
       "202823           159             male             bullet  \n",
       "344929           120           female             bullet  \n",
       "351177           126             male             bullet  \n",
       "420953           118           female             bullet  \n",
       "421218           150             male             bullet  \n",
       "487207           183             male             bullet  \n",
       "487653           183           female             bullet  "
      ]
     },
     "execution_count": 191,
     "metadata": {},
     "output_type": "execute_result"
    }
   ],
   "source": [
    "# Prüfen, ob es geklappt hat \n",
    "\n",
    "df.loc[(df[\"country\"]== 'Namibia')]"
   ]
  },
  {
   "cell_type": "markdown",
   "id": "5a1fa0ad",
   "metadata": {},
   "source": [
    "*Spalte region*"
   ]
  },
  {
   "cell_type": "code",
   "execution_count": 192,
   "id": "720a44af",
   "metadata": {
    "ExecuteTime": {
     "end_time": "2024-02-16T09:42:48.628520Z",
     "start_time": "2024-02-16T09:42:48.554598Z"
    }
   },
   "outputs": [
    {
     "data": {
      "text/plain": [
       "array(['Lahore', 'Maynaguri', 'Abdul Hakeem', ..., 'Gbenikoro Village',\n",
       "       'Morimaraia', 'alejandria'], dtype=object)"
      ]
     },
     "execution_count": 192,
     "metadata": {},
     "output_type": "execute_result"
    }
   ],
   "source": [
    "# fehlende werte in Spalte 'region'\n",
    "\n",
    "df.loc[:,'region'].unique()"
   ]
  },
  {
   "cell_type": "markdown",
   "id": "3b9fc091",
   "metadata": {},
   "source": [
    "In der Spalte region liegen 8,46 Prozent fehlende Werte vor. Nun ist zu überlegen, wie damit umgegangen wird. Eine Möglichkeit wäre es, die fehlenden Werte durch die häufigsten in dem jeweiligen Land (Spalte country) vorkommenden Regionen aufzufüllen. Da dies aber unter Umständen zu einen falschen Rückschlüssen in den inputierten Regionen führen könnte, wird dieser Gedanke nicht weiter verfolgt. Andernfalls bleibt bei den nominalskalierten Daten nur die Löschung. Da in die Daten nichts hinein interpretiert werden soll, was unter Umständen nicht vorhanden ist, wurde die Spalte region gelöscht und es soll für die weitere Analyse die Spalte country verwendet werden, um entsprechende Aussagen zu den Krediten im geographischen Vergleich zu treffen."
   ]
  },
  {
   "cell_type": "code",
   "execution_count": 193,
   "id": "0528254a",
   "metadata": {
    "ExecuteTime": {
     "end_time": "2024-02-16T09:42:50.359477Z",
     "start_time": "2024-02-16T09:42:50.286119Z"
    }
   },
   "outputs": [],
   "source": [
    "# Spalte region löschen\n",
    "\n",
    "df.drop(columns=['region'], inplace=True)"
   ]
  },
  {
   "cell_type": "markdown",
   "id": "90f86a11",
   "metadata": {},
   "source": [
    "*Spalte borrorer_genders*"
   ]
  },
  {
   "cell_type": "code",
   "execution_count": 194,
   "id": "2c5ac8df",
   "metadata": {
    "ExecuteTime": {
     "end_time": "2024-02-16T09:42:54.235918Z",
     "start_time": "2024-02-16T09:42:54.172924Z"
    }
   },
   "outputs": [
    {
     "data": {
      "text/plain": [
       "array(['female', 'female, female', 'female, female, female', ...,\n",
       "       'female, female, male, female, female, female, female, female, female, female, male, male, female, female, male, female, female, female, female, female, female, female',\n",
       "       'male, female, female, female, female, female, female, female, male, male, female, male, female, male, male, male',\n",
       "       'female, female, female, male, female, female, female, male, female, female, female, male, female, male, female, female, female, female, female, female, female, female, female, female, female, female, female, female, male'],\n",
       "      dtype=object)"
      ]
     },
     "execution_count": 194,
     "metadata": {},
     "output_type": "execute_result"
    }
   ],
   "source": [
    "# fehlende Werte in Spalte 'borrower_genders'\n",
    "\n",
    "df.loc[:,'borrower_genders'].unique()"
   ]
  },
  {
   "cell_type": "markdown",
   "id": "ce97d117",
   "metadata": {},
   "source": [
    "Die Spalte borrower_genders enthält eine wichtige Information über die Darlehnsnehmer und gibt dem Unternehmen Informationen über seine Kunden. Auch kann über diese Spalte beispielsweise festgestellt werden, ob ein bestimmtes Geschlecht, hier vermutlich der Mann, (bisher) eher kein Adressat dieser Plattform ist und es könnten Überlegungen getroffen werden, ob dies eine neue \"Marktlücke\" darstellt, welche ausgebaut werden sollte oder ob dieses Angebot eher den Frauen, welche es tendenziell etwas schwieriger haben, zugute kommen soll. In der Spalte borrower_genders liegen 0,6 Prozent fehlende Werte vor. Eine Imputation anhand von Gruppen, welche sectorspezifisch zusammenkommen, wäre denkbar, aber aufgrund der vielen Ausprägungen in borrower_genders, aber auch in sector, nicht zeiteffizient. Es wird im folgenden geprüft, ob es eine Abhängigkeit zwischen Einträgen in borrower_genders zu den Auszahlungen (funded_amount) gibt. Dies scheint, vergleichbar wie bei use, nicht der Fall zu sein. Ein weiteres Vorgehen könnte nun sein, die Zeilen mit den fehlenden Werten komplett rauszunehmen. Da wir mit fehlenden Werten keine sinnvollen Aussagen und Interpretationen tätigen können, macht es auch wenig Sinn, diese in Form von 'unknown' oder ähnlichen weiter zu führen. Zudem wurde festgestellt, dass eine fehlende Eintragung in dieser Spalte keinen wesentlichen Einfluss auf das Geschäftsmodell hat. Entsprechend werden die Zeilen mit den fehlenden Werten in borrower_genders für die weiteren Analysen nicht berücksichtigt. An dieser Stelle ist darauf hinzuweisen, dass, abgesehen von den für die Analyse nicht-berücksichtigten Spalten, nicht mehr mit 100 Prozent der Daten gerechnet wird, sondern weiter mit 99,4 Prozent."
   ]
  },
  {
   "cell_type": "code",
   "execution_count": 195,
   "id": "0b1cc3a8",
   "metadata": {
    "ExecuteTime": {
     "end_time": "2024-02-16T09:42:57.994874Z",
     "start_time": "2024-02-16T09:42:57.938215Z"
    }
   },
   "outputs": [
    {
     "data": {
      "text/plain": [
       "11298"
      ]
     },
     "execution_count": 195,
     "metadata": {},
     "output_type": "execute_result"
    }
   ],
   "source": [
    "# Prüfung, wieviele Konstellationen an Geschlechtszusammensetzugen es gibt \n",
    "\n",
    "df.loc[:,'borrower_genders'].nunique()"
   ]
  },
  {
   "cell_type": "code",
   "execution_count": 196,
   "id": "2672dfaf",
   "metadata": {
    "ExecuteTime": {
     "end_time": "2024-02-16T09:43:10.287185Z",
     "start_time": "2024-02-16T09:43:10.231990Z"
    }
   },
   "outputs": [
    {
     "data": {
      "text/html": [
       "<div>\n",
       "<style scoped>\n",
       "    .dataframe tbody tr th:only-of-type {\n",
       "        vertical-align: middle;\n",
       "    }\n",
       "\n",
       "    .dataframe tbody tr th {\n",
       "        vertical-align: top;\n",
       "    }\n",
       "\n",
       "    .dataframe thead th {\n",
       "        text-align: right;\n",
       "    }\n",
       "</style>\n",
       "<table border=\"1\" class=\"dataframe\">\n",
       "  <thead>\n",
       "    <tr style=\"text-align: right;\">\n",
       "      <th></th>\n",
       "      <th>funded_amount</th>\n",
       "      <th>loan_amount</th>\n",
       "      <th>activity</th>\n",
       "      <th>sector</th>\n",
       "      <th>country_code</th>\n",
       "      <th>country</th>\n",
       "      <th>currency</th>\n",
       "      <th>term_in_months</th>\n",
       "      <th>lender_count</th>\n",
       "      <th>borrower_genders</th>\n",
       "      <th>repayment_interval</th>\n",
       "    </tr>\n",
       "  </thead>\n",
       "  <tbody>\n",
       "    <tr>\n",
       "      <th>36075</th>\n",
       "      <td>0.0</td>\n",
       "      <td>600.0</td>\n",
       "      <td>Personal Medical Expenses</td>\n",
       "      <td>Health</td>\n",
       "      <td>BO</td>\n",
       "      <td>Bolivia</td>\n",
       "      <td>USD</td>\n",
       "      <td>20.0</td>\n",
       "      <td>0</td>\n",
       "      <td>NaN</td>\n",
       "      <td>monthly</td>\n",
       "    </tr>\n",
       "    <tr>\n",
       "      <th>40489</th>\n",
       "      <td>0.0</td>\n",
       "      <td>1050.0</td>\n",
       "      <td>Cloth &amp; Dressmaking Supplies</td>\n",
       "      <td>Retail</td>\n",
       "      <td>KE</td>\n",
       "      <td>Kenya</td>\n",
       "      <td>KES</td>\n",
       "      <td>14.0</td>\n",
       "      <td>0</td>\n",
       "      <td>NaN</td>\n",
       "      <td>monthly</td>\n",
       "    </tr>\n",
       "    <tr>\n",
       "      <th>53392</th>\n",
       "      <td>0.0</td>\n",
       "      <td>1025.0</td>\n",
       "      <td>Retail</td>\n",
       "      <td>Retail</td>\n",
       "      <td>NI</td>\n",
       "      <td>Nicaragua</td>\n",
       "      <td>USD</td>\n",
       "      <td>17.0</td>\n",
       "      <td>0</td>\n",
       "      <td>NaN</td>\n",
       "      <td>monthly</td>\n",
       "    </tr>\n",
       "    <tr>\n",
       "      <th>59399</th>\n",
       "      <td>0.0</td>\n",
       "      <td>325.0</td>\n",
       "      <td>Agriculture</td>\n",
       "      <td>Agriculture</td>\n",
       "      <td>SV</td>\n",
       "      <td>El Salvador</td>\n",
       "      <td>USD</td>\n",
       "      <td>13.0</td>\n",
       "      <td>0</td>\n",
       "      <td>NaN</td>\n",
       "      <td>bullet</td>\n",
       "    </tr>\n",
       "    <tr>\n",
       "      <th>61296</th>\n",
       "      <td>0.0</td>\n",
       "      <td>500.0</td>\n",
       "      <td>Farming</td>\n",
       "      <td>Agriculture</td>\n",
       "      <td>SV</td>\n",
       "      <td>El Salvador</td>\n",
       "      <td>USD</td>\n",
       "      <td>14.0</td>\n",
       "      <td>0</td>\n",
       "      <td>NaN</td>\n",
       "      <td>irregular</td>\n",
       "    </tr>\n",
       "    <tr>\n",
       "      <th>...</th>\n",
       "      <td>...</td>\n",
       "      <td>...</td>\n",
       "      <td>...</td>\n",
       "      <td>...</td>\n",
       "      <td>...</td>\n",
       "      <td>...</td>\n",
       "      <td>...</td>\n",
       "      <td>...</td>\n",
       "      <td>...</td>\n",
       "      <td>...</td>\n",
       "      <td>...</td>\n",
       "    </tr>\n",
       "    <tr>\n",
       "      <th>671151</th>\n",
       "      <td>0.0</td>\n",
       "      <td>25.0</td>\n",
       "      <td>Livestock</td>\n",
       "      <td>Agriculture</td>\n",
       "      <td>KE</td>\n",
       "      <td>Kenya</td>\n",
       "      <td>KES</td>\n",
       "      <td>13.0</td>\n",
       "      <td>0</td>\n",
       "      <td>NaN</td>\n",
       "      <td>monthly</td>\n",
       "    </tr>\n",
       "    <tr>\n",
       "      <th>671174</th>\n",
       "      <td>0.0</td>\n",
       "      <td>25.0</td>\n",
       "      <td>Games</td>\n",
       "      <td>Entertainment</td>\n",
       "      <td>KE</td>\n",
       "      <td>Kenya</td>\n",
       "      <td>KES</td>\n",
       "      <td>13.0</td>\n",
       "      <td>0</td>\n",
       "      <td>NaN</td>\n",
       "      <td>monthly</td>\n",
       "    </tr>\n",
       "    <tr>\n",
       "      <th>671178</th>\n",
       "      <td>0.0</td>\n",
       "      <td>25.0</td>\n",
       "      <td>Livestock</td>\n",
       "      <td>Agriculture</td>\n",
       "      <td>KE</td>\n",
       "      <td>Kenya</td>\n",
       "      <td>KES</td>\n",
       "      <td>13.0</td>\n",
       "      <td>0</td>\n",
       "      <td>NaN</td>\n",
       "      <td>monthly</td>\n",
       "    </tr>\n",
       "    <tr>\n",
       "      <th>671185</th>\n",
       "      <td>0.0</td>\n",
       "      <td>25.0</td>\n",
       "      <td>Livestock</td>\n",
       "      <td>Agriculture</td>\n",
       "      <td>KE</td>\n",
       "      <td>Kenya</td>\n",
       "      <td>KES</td>\n",
       "      <td>13.0</td>\n",
       "      <td>0</td>\n",
       "      <td>NaN</td>\n",
       "      <td>monthly</td>\n",
       "    </tr>\n",
       "    <tr>\n",
       "      <th>671202</th>\n",
       "      <td>0.0</td>\n",
       "      <td>25.0</td>\n",
       "      <td>Games</td>\n",
       "      <td>Entertainment</td>\n",
       "      <td>KE</td>\n",
       "      <td>Kenya</td>\n",
       "      <td>KES</td>\n",
       "      <td>13.0</td>\n",
       "      <td>0</td>\n",
       "      <td>NaN</td>\n",
       "      <td>monthly</td>\n",
       "    </tr>\n",
       "  </tbody>\n",
       "</table>\n",
       "<p>129 rows × 11 columns</p>\n",
       "</div>"
      ],
      "text/plain": [
       "        funded_amount  loan_amount                      activity  \\\n",
       "36075             0.0        600.0     Personal Medical Expenses   \n",
       "40489             0.0       1050.0  Cloth & Dressmaking Supplies   \n",
       "53392             0.0       1025.0                        Retail   \n",
       "59399             0.0        325.0                   Agriculture   \n",
       "61296             0.0        500.0                       Farming   \n",
       "...               ...          ...                           ...   \n",
       "671151            0.0         25.0                     Livestock   \n",
       "671174            0.0         25.0                         Games   \n",
       "671178            0.0         25.0                     Livestock   \n",
       "671185            0.0         25.0                     Livestock   \n",
       "671202            0.0         25.0                         Games   \n",
       "\n",
       "               sector country_code      country currency  term_in_months  \\\n",
       "36075          Health           BO      Bolivia      USD            20.0   \n",
       "40489          Retail           KE        Kenya      KES            14.0   \n",
       "53392          Retail           NI    Nicaragua      USD            17.0   \n",
       "59399     Agriculture           SV  El Salvador      USD            13.0   \n",
       "61296     Agriculture           SV  El Salvador      USD            14.0   \n",
       "...               ...          ...          ...      ...             ...   \n",
       "671151    Agriculture           KE        Kenya      KES            13.0   \n",
       "671174  Entertainment           KE        Kenya      KES            13.0   \n",
       "671178    Agriculture           KE        Kenya      KES            13.0   \n",
       "671185    Agriculture           KE        Kenya      KES            13.0   \n",
       "671202  Entertainment           KE        Kenya      KES            13.0   \n",
       "\n",
       "        lender_count borrower_genders repayment_interval  \n",
       "36075              0              NaN            monthly  \n",
       "40489              0              NaN            monthly  \n",
       "53392              0              NaN            monthly  \n",
       "59399              0              NaN             bullet  \n",
       "61296              0              NaN          irregular  \n",
       "...              ...              ...                ...  \n",
       "671151             0              NaN            monthly  \n",
       "671174             0              NaN            monthly  \n",
       "671178             0              NaN            monthly  \n",
       "671185             0              NaN            monthly  \n",
       "671202             0              NaN            monthly  \n",
       "\n",
       "[129 rows x 11 columns]"
      ]
     },
     "execution_count": 196,
     "metadata": {},
     "output_type": "execute_result"
    }
   ],
   "source": [
    "# Prüfung eines möglichen Zusammenhangs/Abhängigkeit zu funded_amount\n",
    "\n",
    "df.loc[(df[\"borrower_genders\"].isnull()) & (df[\"funded_amount\"]==0)]\n",
    "\n",
    "# kein Hinweis auf eine Abhängigkeit, ähnliches Ergebnis wie bei use.\n",
    "# Ob in borrower_genders oder use Einträge vorliegen, hat offensichtlich keinen wesentlichen Einfluss auf Auszahlungen"
   ]
  },
  {
   "cell_type": "code",
   "execution_count": 197,
   "id": "4f80e1c0",
   "metadata": {
    "ExecuteTime": {
     "end_time": "2024-02-16T09:43:17.082356Z",
     "start_time": "2024-02-16T09:43:16.900321Z"
    }
   },
   "outputs": [],
   "source": [
    "# löschen von Spalten mit fehlenden Werten\n",
    "\n",
    "df = df.dropna(subset=['borrower_genders'])"
   ]
  },
  {
   "cell_type": "code",
   "execution_count": 198,
   "id": "400444b2",
   "metadata": {
    "ExecuteTime": {
     "end_time": "2024-02-16T09:43:58.255029Z",
     "start_time": "2024-02-16T09:43:58.195185Z"
    }
   },
   "outputs": [
    {
     "data": {
      "text/html": [
       "<div>\n",
       "<style scoped>\n",
       "    .dataframe tbody tr th:only-of-type {\n",
       "        vertical-align: middle;\n",
       "    }\n",
       "\n",
       "    .dataframe tbody tr th {\n",
       "        vertical-align: top;\n",
       "    }\n",
       "\n",
       "    .dataframe thead th {\n",
       "        text-align: right;\n",
       "    }\n",
       "</style>\n",
       "<table border=\"1\" class=\"dataframe\">\n",
       "  <thead>\n",
       "    <tr style=\"text-align: right;\">\n",
       "      <th></th>\n",
       "      <th>funded_amount</th>\n",
       "      <th>loan_amount</th>\n",
       "      <th>activity</th>\n",
       "      <th>sector</th>\n",
       "      <th>country_code</th>\n",
       "      <th>country</th>\n",
       "      <th>currency</th>\n",
       "      <th>term_in_months</th>\n",
       "      <th>lender_count</th>\n",
       "      <th>borrower_genders</th>\n",
       "      <th>repayment_interval</th>\n",
       "    </tr>\n",
       "  </thead>\n",
       "  <tbody>\n",
       "  </tbody>\n",
       "</table>\n",
       "</div>"
      ],
      "text/plain": [
       "Empty DataFrame\n",
       "Columns: [funded_amount, loan_amount, activity, sector, country_code, country, currency, term_in_months, lender_count, borrower_genders, repayment_interval]\n",
       "Index: []"
      ]
     },
     "execution_count": 198,
     "metadata": {},
     "output_type": "execute_result"
    }
   ],
   "source": [
    "# prüfen, ob es geklappt hat\n",
    "\n",
    "df.loc[df[\"borrower_genders\"].isnull()]"
   ]
  },
  {
   "cell_type": "code",
   "execution_count": 199,
   "id": "87cbb7f4",
   "metadata": {
    "ExecuteTime": {
     "end_time": "2024-02-16T09:47:12.745635Z",
     "start_time": "2024-02-16T09:47:12.738634Z"
    }
   },
   "outputs": [],
   "source": [
    "# Funktion, die Geschlechterzusammensetzungen je Projekt in Listen schreibt, um anschließend in neue Spalte im dataframe zu geben\n",
    "\n",
    "def sex(borrower_genders):\n",
    "    gender_list = borrower_genders.split(\",\")\n",
    "    gender_list = list(set(gender_list))\n",
    "    gender_list = [borrower_genders.strip() for borrower_genders in gender_list]\n",
    "    if len(gender_list)==2:\n",
    "        if 'female' in gender_list and 'male' in gender_list:\n",
    "            return 'mixed_group'\n",
    "        elif 'female' in gender_list:\n",
    "            return 'female_group'\n",
    "        elif 'male' in gender_list:\n",
    "            return 'male_group'\n",
    "    elif gender_list[0]=='female':\n",
    "        return 'female_single'\n",
    "    elif gender_list[0]=='male':\n",
    "        return 'male_single'"
   ]
  },
  {
   "cell_type": "code",
   "execution_count": 200,
   "id": "243b666e",
   "metadata": {
    "ExecuteTime": {
     "end_time": "2024-02-16T09:50:13.541745Z",
     "start_time": "2024-02-16T09:50:12.811511Z"
    }
   },
   "outputs": [],
   "source": [
    "# Befüllen der neuen Spalte gender\n",
    "\n",
    "df = df.copy()\n",
    "\n",
    "df['gender'] = df['borrower_genders'].apply(sex)"
   ]
  },
  {
   "cell_type": "code",
   "execution_count": 201,
   "id": "1ba71d0a",
   "metadata": {
    "ExecuteTime": {
     "end_time": "2024-02-16T09:50:15.165414Z",
     "start_time": "2024-02-16T09:50:15.105584Z"
    }
   },
   "outputs": [
    {
     "data": {
      "text/plain": [
       "array(['female_single', 'female_group', 'male_single', 'male_group',\n",
       "       'mixed_group'], dtype=object)"
      ]
     },
     "execution_count": 201,
     "metadata": {},
     "output_type": "execute_result"
    }
   ],
   "source": [
    "# Anzeige der Werte in der neuen Spalte gender\n",
    "\n",
    "df['gender'].unique()"
   ]
  },
  {
   "cell_type": "markdown",
   "id": "b5843d8c",
   "metadata": {},
   "source": [
    "Um Kapazitäten zu sparen, werden hier alle weiteren Spalten (nachträglich) gelöcht, welche für die Analyse nicht herangezogen werden."
   ]
  },
  {
   "cell_type": "code",
   "execution_count": 202,
   "id": "bb187710",
   "metadata": {
    "ExecuteTime": {
     "end_time": "2024-02-16T09:50:29.834797Z",
     "start_time": "2024-02-16T09:50:29.769116Z"
    }
   },
   "outputs": [],
   "source": [
    "# Löschen der Spalten, die nicht benötigt werden\n",
    "\n",
    "df.drop(columns=['activity', 'currency', 'term_in_months', 'repayment_interval'], inplace=True)"
   ]
  },
  {
   "cell_type": "code",
   "execution_count": 203,
   "id": "3fc00317",
   "metadata": {
    "ExecuteTime": {
     "end_time": "2024-02-16T09:50:33.696339Z",
     "start_time": "2024-02-16T09:50:33.677661Z"
    }
   },
   "outputs": [
    {
     "data": {
      "text/html": [
       "<div>\n",
       "<style scoped>\n",
       "    .dataframe tbody tr th:only-of-type {\n",
       "        vertical-align: middle;\n",
       "    }\n",
       "\n",
       "    .dataframe tbody tr th {\n",
       "        vertical-align: top;\n",
       "    }\n",
       "\n",
       "    .dataframe thead th {\n",
       "        text-align: right;\n",
       "    }\n",
       "</style>\n",
       "<table border=\"1\" class=\"dataframe\">\n",
       "  <thead>\n",
       "    <tr style=\"text-align: right;\">\n",
       "      <th></th>\n",
       "      <th>funded_amount</th>\n",
       "      <th>loan_amount</th>\n",
       "      <th>sector</th>\n",
       "      <th>country_code</th>\n",
       "      <th>country</th>\n",
       "      <th>lender_count</th>\n",
       "      <th>borrower_genders</th>\n",
       "      <th>gender</th>\n",
       "    </tr>\n",
       "  </thead>\n",
       "  <tbody>\n",
       "    <tr>\n",
       "      <th>0</th>\n",
       "      <td>300.0</td>\n",
       "      <td>300.0</td>\n",
       "      <td>Food</td>\n",
       "      <td>PK</td>\n",
       "      <td>Pakistan</td>\n",
       "      <td>12</td>\n",
       "      <td>female</td>\n",
       "      <td>female_single</td>\n",
       "    </tr>\n",
       "    <tr>\n",
       "      <th>1</th>\n",
       "      <td>575.0</td>\n",
       "      <td>575.0</td>\n",
       "      <td>Transportation</td>\n",
       "      <td>PK</td>\n",
       "      <td>Pakistan</td>\n",
       "      <td>14</td>\n",
       "      <td>female, female</td>\n",
       "      <td>female_group</td>\n",
       "    </tr>\n",
       "    <tr>\n",
       "      <th>2</th>\n",
       "      <td>150.0</td>\n",
       "      <td>150.0</td>\n",
       "      <td>Transportation</td>\n",
       "      <td>IN</td>\n",
       "      <td>India</td>\n",
       "      <td>6</td>\n",
       "      <td>female</td>\n",
       "      <td>female_single</td>\n",
       "    </tr>\n",
       "    <tr>\n",
       "      <th>3</th>\n",
       "      <td>200.0</td>\n",
       "      <td>200.0</td>\n",
       "      <td>Arts</td>\n",
       "      <td>PK</td>\n",
       "      <td>Pakistan</td>\n",
       "      <td>8</td>\n",
       "      <td>female</td>\n",
       "      <td>female_single</td>\n",
       "    </tr>\n",
       "    <tr>\n",
       "      <th>4</th>\n",
       "      <td>400.0</td>\n",
       "      <td>400.0</td>\n",
       "      <td>Food</td>\n",
       "      <td>PK</td>\n",
       "      <td>Pakistan</td>\n",
       "      <td>16</td>\n",
       "      <td>female</td>\n",
       "      <td>female_single</td>\n",
       "    </tr>\n",
       "    <tr>\n",
       "      <th>...</th>\n",
       "      <td>...</td>\n",
       "      <td>...</td>\n",
       "      <td>...</td>\n",
       "      <td>...</td>\n",
       "      <td>...</td>\n",
       "      <td>...</td>\n",
       "      <td>...</td>\n",
       "      <td>...</td>\n",
       "    </tr>\n",
       "    <tr>\n",
       "      <th>671199</th>\n",
       "      <td>0.0</td>\n",
       "      <td>25.0</td>\n",
       "      <td>Agriculture</td>\n",
       "      <td>PY</td>\n",
       "      <td>Paraguay</td>\n",
       "      <td>0</td>\n",
       "      <td>female</td>\n",
       "      <td>female_single</td>\n",
       "    </tr>\n",
       "    <tr>\n",
       "      <th>671200</th>\n",
       "      <td>0.0</td>\n",
       "      <td>25.0</td>\n",
       "      <td>Agriculture</td>\n",
       "      <td>PY</td>\n",
       "      <td>Paraguay</td>\n",
       "      <td>0</td>\n",
       "      <td>female</td>\n",
       "      <td>female_single</td>\n",
       "    </tr>\n",
       "    <tr>\n",
       "      <th>671201</th>\n",
       "      <td>25.0</td>\n",
       "      <td>25.0</td>\n",
       "      <td>Agriculture</td>\n",
       "      <td>KE</td>\n",
       "      <td>Kenya</td>\n",
       "      <td>1</td>\n",
       "      <td>female</td>\n",
       "      <td>female_single</td>\n",
       "    </tr>\n",
       "    <tr>\n",
       "      <th>671203</th>\n",
       "      <td>0.0</td>\n",
       "      <td>25.0</td>\n",
       "      <td>Agriculture</td>\n",
       "      <td>KE</td>\n",
       "      <td>Kenya</td>\n",
       "      <td>0</td>\n",
       "      <td>female</td>\n",
       "      <td>female_single</td>\n",
       "    </tr>\n",
       "    <tr>\n",
       "      <th>671204</th>\n",
       "      <td>0.0</td>\n",
       "      <td>25.0</td>\n",
       "      <td>Agriculture</td>\n",
       "      <td>KE</td>\n",
       "      <td>Kenya</td>\n",
       "      <td>0</td>\n",
       "      <td>female</td>\n",
       "      <td>female_single</td>\n",
       "    </tr>\n",
       "  </tbody>\n",
       "</table>\n",
       "<p>666984 rows × 8 columns</p>\n",
       "</div>"
      ],
      "text/plain": [
       "        funded_amount  loan_amount          sector country_code   country  \\\n",
       "0               300.0        300.0            Food           PK  Pakistan   \n",
       "1               575.0        575.0  Transportation           PK  Pakistan   \n",
       "2               150.0        150.0  Transportation           IN     India   \n",
       "3               200.0        200.0            Arts           PK  Pakistan   \n",
       "4               400.0        400.0            Food           PK  Pakistan   \n",
       "...               ...          ...             ...          ...       ...   \n",
       "671199            0.0         25.0     Agriculture           PY  Paraguay   \n",
       "671200            0.0         25.0     Agriculture           PY  Paraguay   \n",
       "671201           25.0         25.0     Agriculture           KE     Kenya   \n",
       "671203            0.0         25.0     Agriculture           KE     Kenya   \n",
       "671204            0.0         25.0     Agriculture           KE     Kenya   \n",
       "\n",
       "        lender_count borrower_genders         gender  \n",
       "0                 12           female  female_single  \n",
       "1                 14   female, female   female_group  \n",
       "2                  6           female  female_single  \n",
       "3                  8           female  female_single  \n",
       "4                 16           female  female_single  \n",
       "...              ...              ...            ...  \n",
       "671199             0           female  female_single  \n",
       "671200             0           female  female_single  \n",
       "671201             1           female  female_single  \n",
       "671203             0           female  female_single  \n",
       "671204             0           female  female_single  \n",
       "\n",
       "[666984 rows x 8 columns]"
      ]
     },
     "execution_count": 203,
     "metadata": {},
     "output_type": "execute_result"
    }
   ],
   "source": [
    "df"
   ]
  },
  {
   "cell_type": "markdown",
   "id": "675bc69b",
   "metadata": {},
   "source": [
    "#### Ausreißer und Extremwrte"
   ]
  },
  {
   "cell_type": "markdown",
   "id": "17356334",
   "metadata": {},
   "source": [
    "Ausreißer / Extremwerte\n",
    "\n",
    "Ziel der Analyse ist es herauszufinden, in welchen technischen Eigenschaften unser Unternehmen unseren Wettbewerbern voraus ist oder hinterher hinkt. Somit stellen Ausreißer keine Ausreißer im statistischen Sinne dar, sondern sind als Extremwerte einzustufen und somit beizubehalten.\n",
    "\n",
    "In vorliegenden Datensatz fällt auf, dass es bei funded_amount und loan_amount zu hohen max-Werten kommt. Diese wurden auf fehlende Werte hin überprüft,- es handlet sich um tatsächlich vorkommende Werte. Offensichtlich gab es also einige höhere Mikrokredite. Die hohen Werte korrelieren sowohl untereinander als auch mit der Skala lender_count, sodass diese Werte in einem realistischen Verhältnis und Zusammenhang steigen,- wenn der Auszahlungsbetrag höher ist, dann auch der beantragte Geldbetrag und die Anzahl der Leihenden.\n",
    "\n",
    "Weiter fällt, wie oben bereits erwähnt, auf, das bei funded_amount und lender_count min-Werte von 0 vorliegen. Offensichtlich gibt es Projekte, für die keine Investoren gefunden wurde und für die keine Auszahlung zustande kam. Dies Daten sollten weiter betrachtet weren."
   ]
  },
  {
   "cell_type": "code",
   "execution_count": 204,
   "id": "becf3e20",
   "metadata": {
    "ExecuteTime": {
     "end_time": "2024-02-16T09:55:07.773139Z",
     "start_time": "2024-02-16T09:55:07.664902Z"
    }
   },
   "outputs": [
    {
     "data": {
      "text/html": [
       "<div>\n",
       "<style scoped>\n",
       "    .dataframe tbody tr th:only-of-type {\n",
       "        vertical-align: middle;\n",
       "    }\n",
       "\n",
       "    .dataframe tbody tr th {\n",
       "        vertical-align: top;\n",
       "    }\n",
       "\n",
       "    .dataframe thead th {\n",
       "        text-align: right;\n",
       "    }\n",
       "</style>\n",
       "<table border=\"1\" class=\"dataframe\">\n",
       "  <thead>\n",
       "    <tr style=\"text-align: right;\">\n",
       "      <th></th>\n",
       "      <th>funded_amount</th>\n",
       "      <th>loan_amount</th>\n",
       "      <th>lender_count</th>\n",
       "    </tr>\n",
       "  </thead>\n",
       "  <tbody>\n",
       "    <tr>\n",
       "      <th>count</th>\n",
       "      <td>666984.000000</td>\n",
       "      <td>666984.000000</td>\n",
       "      <td>666984.000000</td>\n",
       "    </tr>\n",
       "    <tr>\n",
       "      <th>mean</th>\n",
       "      <td>785.127844</td>\n",
       "      <td>840.300742</td>\n",
       "      <td>20.550875</td>\n",
       "    </tr>\n",
       "    <tr>\n",
       "      <th>std</th>\n",
       "      <td>1127.999928</td>\n",
       "      <td>1187.909500</td>\n",
       "      <td>28.366197</td>\n",
       "    </tr>\n",
       "    <tr>\n",
       "      <th>min</th>\n",
       "      <td>0.000000</td>\n",
       "      <td>25.000000</td>\n",
       "      <td>0.000000</td>\n",
       "    </tr>\n",
       "    <tr>\n",
       "      <th>25%</th>\n",
       "      <td>250.000000</td>\n",
       "      <td>275.000000</td>\n",
       "      <td>7.000000</td>\n",
       "    </tr>\n",
       "    <tr>\n",
       "      <th>50%</th>\n",
       "      <td>450.000000</td>\n",
       "      <td>500.000000</td>\n",
       "      <td>13.000000</td>\n",
       "    </tr>\n",
       "    <tr>\n",
       "      <th>75%</th>\n",
       "      <td>900.000000</td>\n",
       "      <td>1000.000000</td>\n",
       "      <td>24.000000</td>\n",
       "    </tr>\n",
       "    <tr>\n",
       "      <th>max</th>\n",
       "      <td>100000.000000</td>\n",
       "      <td>100000.000000</td>\n",
       "      <td>2986.000000</td>\n",
       "    </tr>\n",
       "  </tbody>\n",
       "</table>\n",
       "</div>"
      ],
      "text/plain": [
       "       funded_amount    loan_amount   lender_count\n",
       "count  666984.000000  666984.000000  666984.000000\n",
       "mean      785.127844     840.300742      20.550875\n",
       "std      1127.999928    1187.909500      28.366197\n",
       "min         0.000000      25.000000       0.000000\n",
       "25%       250.000000     275.000000       7.000000\n",
       "50%       450.000000     500.000000      13.000000\n",
       "75%       900.000000    1000.000000      24.000000\n",
       "max    100000.000000  100000.000000    2986.000000"
      ]
     },
     "execution_count": 204,
     "metadata": {},
     "output_type": "execute_result"
    }
   ],
   "source": [
    "df.describe()"
   ]
  },
  {
   "cell_type": "code",
   "execution_count": 205,
   "id": "d6158099",
   "metadata": {
    "ExecuteTime": {
     "end_time": "2024-02-16T09:55:19.115846Z",
     "start_time": "2024-02-16T09:55:19.049911Z"
    }
   },
   "outputs": [
    {
     "data": {
      "text/html": [
       "<div>\n",
       "<style scoped>\n",
       "    .dataframe tbody tr th:only-of-type {\n",
       "        vertical-align: middle;\n",
       "    }\n",
       "\n",
       "    .dataframe tbody tr th {\n",
       "        vertical-align: top;\n",
       "    }\n",
       "\n",
       "    .dataframe thead th {\n",
       "        text-align: right;\n",
       "    }\n",
       "</style>\n",
       "<table border=\"1\" class=\"dataframe\">\n",
       "  <thead>\n",
       "    <tr style=\"text-align: right;\">\n",
       "      <th></th>\n",
       "      <th>funded_amount</th>\n",
       "      <th>loan_amount</th>\n",
       "      <th>lender_count</th>\n",
       "    </tr>\n",
       "  </thead>\n",
       "  <tbody>\n",
       "    <tr>\n",
       "      <th>funded_amount</th>\n",
       "      <td>1.000000</td>\n",
       "      <td>0.951877</td>\n",
       "      <td>0.848174</td>\n",
       "    </tr>\n",
       "    <tr>\n",
       "      <th>loan_amount</th>\n",
       "      <td>0.951877</td>\n",
       "      <td>1.000000</td>\n",
       "      <td>0.803402</td>\n",
       "    </tr>\n",
       "    <tr>\n",
       "      <th>lender_count</th>\n",
       "      <td>0.848174</td>\n",
       "      <td>0.803402</td>\n",
       "      <td>1.000000</td>\n",
       "    </tr>\n",
       "  </tbody>\n",
       "</table>\n",
       "</div>"
      ],
      "text/plain": [
       "               funded_amount  loan_amount  lender_count\n",
       "funded_amount       1.000000     0.951877      0.848174\n",
       "loan_amount         0.951877     1.000000      0.803402\n",
       "lender_count        0.848174     0.803402      1.000000"
      ]
     },
     "execution_count": 205,
     "metadata": {},
     "output_type": "execute_result"
    }
   ],
   "source": [
    "df.corr()"
   ]
  },
  {
   "cell_type": "markdown",
   "id": "8f038dff",
   "metadata": {},
   "source": [
    "**Informationsextraktion**"
   ]
  },
  {
   "cell_type": "markdown",
   "id": "e15e33f9",
   "metadata": {},
   "source": [
    "KPI's\n",
    "Kennzahlen dienen der Dimensionsreduktion und sind beispielsweise aus Korrelationen ersichtlich.\n",
    "\n",
    "Hier sind einige mögliche recherchierte Kennzahlen, die für die Bewertung der Leistung und des Erfolgs von Kiva verwendet werden könnten:\n",
    "\n",
    "Gesamtanzahl der vergebenen Kredite: Diese Kennzahl gibt Auskunft über die Anzahl der Kredite, die von Kiva an Unternehmer in Entwicklungsländern vergeben wurden.\n",
    "\n",
    "Gesamtbetrag der vergebenen Kredite: Diese Kennzahl zeigt den Gesamtbetrag der finanzierten Kredite an und gibt einen Überblick über das Ausmaß der finanziellen Unterstützung, die Kiva bereitgestellt hat.\n",
    "\n",
    "Rückzahlungsrate: Die Rückzahlungsrate gibt an, wie viele Kreditnehmer ihre Kredite gemäß den vereinbarten Bedingungen zurückgezahlt haben. Eine hohe Rückzahlungsrate zeigt die Fähigkeit der Kreditnehmer, ihre finanziellen Verpflichtungen zu erfüllen.\n",
    "\n",
    "Durchschnittliche Kreditgröße: Diese Kennzahl gibt an, wie viel Geld im Durchschnitt pro Kredit vergeben wurde. Sie kann helfen, die Größenordnung der Kredite zu verstehen und den finanziellen Einfluss auf die Kreditnehmer zu beurteilen.\n",
    "\n",
    "Anzahl der unterstützten Unternehmer: Diese Kennzahl zeigt die Anzahl der Unternehmer, die durch Kiva-Kredite Unterstützung erhalten haben. Sie gibt einen Einblick in die Reichweite und den Umfang der Unterstützung.\n",
    "\n",
    "Geografische Verteilung: Die geografische Verteilung gibt an, in welchen Ländern oder Regionen die Kredite von Kiva vergeben wurden. Sie kann aufzeigen, wo Kiva einen Einfluss hat und wo die Nachfrage nach Unterstützung am höchsten ist.\n",
    "\n",
    "Soziale Auswirkungen: Diese Kennzahl kann qualitativ gemessen werden und bezieht sich auf die positiven Auswirkungen, die Kiva-Kredite auf das Leben der Kreditnehmer haben. Dies könnte beispielsweise die Schaffung von Arbeitsplätzen, die Verbesserung des Bildungsniveaus oder die Stärkung von Gemeinschaften umfassen.\n",
    "\n",
    "Es ist wichtig zu beachten, dass die tatsächlichen Kennzahlen von Kiva von Jahr zu Jahr variieren können und dass Kiva selbst regelmäßig über die Leistung und die erzielten Auswirkungen berichtet.\n",
    "\n",
    "Kiva selber berichtet auf seiner Plattform über eine hohe Rückzahlungsquote von 96 Prozent, welche weiterhin als wichtige Kennnzahl dient, da so die Investoren eine relativ hohe Sicherheit haben, neben der Tatsache, etwas Gutes zu tun, ihr Geld nicht zu verlieren (es ist schließlich keine Crowd-funding, sondern eine Crowd-investing Plattform).\n",
    "\n",
    "Da aber Eingangs in der Datenbereinigung Auffälligkeiten bei den min- (und max-) Werten bei funded_amount und auch lender_count auffielen, soll die weitere Analyse sich auf diesen Berech konnzentrieren und eine entsprechende Kennzahl für die Analyse entwickelt werden.\n",
    "\n",
    "Für diese Auswertung wurde in Bezug auf enge Zusammenhänge und Korrelationen zwischen den Spalten überlegt, welche Kennzahlen für das Unternehmen noch wichtig sein könnten. Der Zusammenhang zwischen funded_amount und lender_count besteht insofern, dass an größeren Krediten auch mehr Investoren beteiligt sind. Kredite, die nicht ausgezahlt wurden zeichnen sich dadurch aus, dass schlichtweg keine Investoren gefunden wurden. Da es für das Unternehmen erstrebenswert ist, dass alle Projekte einen Investor finden, soll sich die weitere Auswertung in Folge darauf konzentrieren, wo diese nicht - Auszahlungen entstehen beziehungsweise wo, auch wenn Investoren gefunden wurden, nicht der volle Betrag erzielt wurde, sondern nur ein Teilbetrag ausgezahlt wurde. Da eingangs bereits aufgefallen ist, dass es eine hohe Korrelation zwischen funded_amount und loan_amount gibt, wurden diese weiter betrachtet. funded_amount, also der tastsächliche Auszahlungsbetrag sollte idealerweise deckungsgleich mit loan_amount, also dem beantragten Betrag sein. Setzt man diese beiden Spalten ins Verhältnis, indem man funded_amount durch loan_amount dividiert, sollte idealerweise 1 das Ergebnis sein, wenn die volle beantragte Kreditsumme erreicht und ausgezahlt wurde. Unterschreitet diese Kennzahl jedoch die 1, wurde nur ein Teilkredit oder gar kar kein Kredit ausgezahlt. Erstrebenswert sind entsprechend möglichst hohe dieser Kennzahlen, die im folgenden entwickelt wird. Unterschreitungen hingegen deuten auf Handlungspotenzial seitens der Plattform hin."
   ]
  },
  {
   "cell_type": "markdown",
   "id": "ec7634a8",
   "metadata": {
    "ExecuteTime": {
     "end_time": "2024-02-16T10:01:40.515232Z",
     "start_time": "2024-02-16T10:01:36.972566Z"
    }
   },
   "source": [
    "#Darstellung der Korrelation zwischen funded_amount und loan_amount mittels Scatterplot\n",
    "\n",
    "scatter = px.scatter(data_frame=df,\n",
    "                          x=\"funded_amount\",\n",
    "                          y=\"loan_amount\",\n",
    "                          title=\"Auzahlungsbetrag und Höhe des beantragten Kredits in Dollar \",\n",
    "                          labels={\"funded_amount\":\"Auszahlung\", \"loan_amount\":\"Beantragung\"},\n",
    "                         )\n",
    "\n",
    "scatter.show()"
   ]
  },
  {
   "cell_type": "code",
   "execution_count": 206,
   "id": "b382b710",
   "metadata": {
    "ExecuteTime": {
     "end_time": "2024-02-16T10:02:07.918171Z",
     "start_time": "2024-02-16T10:02:07.879091Z"
    }
   },
   "outputs": [
    {
     "data": {
      "text/html": [
       "<div>\n",
       "<style scoped>\n",
       "    .dataframe tbody tr th:only-of-type {\n",
       "        vertical-align: middle;\n",
       "    }\n",
       "\n",
       "    .dataframe tbody tr th {\n",
       "        vertical-align: top;\n",
       "    }\n",
       "\n",
       "    .dataframe thead th {\n",
       "        text-align: right;\n",
       "    }\n",
       "</style>\n",
       "<table border=\"1\" class=\"dataframe\">\n",
       "  <thead>\n",
       "    <tr style=\"text-align: right;\">\n",
       "      <th></th>\n",
       "      <th>funded_amount</th>\n",
       "      <th>loan_amount</th>\n",
       "      <th>sector</th>\n",
       "      <th>country_code</th>\n",
       "      <th>country</th>\n",
       "      <th>lender_count</th>\n",
       "      <th>borrower_genders</th>\n",
       "      <th>gender</th>\n",
       "      <th>KPI_funded_loan</th>\n",
       "    </tr>\n",
       "  </thead>\n",
       "  <tbody>\n",
       "    <tr>\n",
       "      <th>0</th>\n",
       "      <td>300.0</td>\n",
       "      <td>300.0</td>\n",
       "      <td>Food</td>\n",
       "      <td>PK</td>\n",
       "      <td>Pakistan</td>\n",
       "      <td>12</td>\n",
       "      <td>female</td>\n",
       "      <td>female_single</td>\n",
       "      <td>1.0</td>\n",
       "    </tr>\n",
       "    <tr>\n",
       "      <th>1</th>\n",
       "      <td>575.0</td>\n",
       "      <td>575.0</td>\n",
       "      <td>Transportation</td>\n",
       "      <td>PK</td>\n",
       "      <td>Pakistan</td>\n",
       "      <td>14</td>\n",
       "      <td>female, female</td>\n",
       "      <td>female_group</td>\n",
       "      <td>1.0</td>\n",
       "    </tr>\n",
       "    <tr>\n",
       "      <th>2</th>\n",
       "      <td>150.0</td>\n",
       "      <td>150.0</td>\n",
       "      <td>Transportation</td>\n",
       "      <td>IN</td>\n",
       "      <td>India</td>\n",
       "      <td>6</td>\n",
       "      <td>female</td>\n",
       "      <td>female_single</td>\n",
       "      <td>1.0</td>\n",
       "    </tr>\n",
       "    <tr>\n",
       "      <th>3</th>\n",
       "      <td>200.0</td>\n",
       "      <td>200.0</td>\n",
       "      <td>Arts</td>\n",
       "      <td>PK</td>\n",
       "      <td>Pakistan</td>\n",
       "      <td>8</td>\n",
       "      <td>female</td>\n",
       "      <td>female_single</td>\n",
       "      <td>1.0</td>\n",
       "    </tr>\n",
       "    <tr>\n",
       "      <th>4</th>\n",
       "      <td>400.0</td>\n",
       "      <td>400.0</td>\n",
       "      <td>Food</td>\n",
       "      <td>PK</td>\n",
       "      <td>Pakistan</td>\n",
       "      <td>16</td>\n",
       "      <td>female</td>\n",
       "      <td>female_single</td>\n",
       "      <td>1.0</td>\n",
       "    </tr>\n",
       "  </tbody>\n",
       "</table>\n",
       "</div>"
      ],
      "text/plain": [
       "   funded_amount  loan_amount          sector country_code   country  \\\n",
       "0          300.0        300.0            Food           PK  Pakistan   \n",
       "1          575.0        575.0  Transportation           PK  Pakistan   \n",
       "2          150.0        150.0  Transportation           IN     India   \n",
       "3          200.0        200.0            Arts           PK  Pakistan   \n",
       "4          400.0        400.0            Food           PK  Pakistan   \n",
       "\n",
       "   lender_count borrower_genders         gender  KPI_funded_loan  \n",
       "0            12           female  female_single              1.0  \n",
       "1            14   female, female   female_group              1.0  \n",
       "2             6           female  female_single              1.0  \n",
       "3             8           female  female_single              1.0  \n",
       "4            16           female  female_single              1.0  "
      ]
     },
     "execution_count": 206,
     "metadata": {},
     "output_type": "execute_result"
    }
   ],
   "source": [
    "# Berechnung der KPI funded_amount / loan_amount\n",
    "\n",
    "df.loc[:,'KPI_funded_loan'] = round((df['funded_amount']/df['loan_amount']))\n",
    "df.head() \n",
    "\n",
    "# neue Spalte KPI_funded_loan im Datensatz"
   ]
  },
  {
   "cell_type": "markdown",
   "id": "2a912472",
   "metadata": {},
   "source": [
    "Für eventuelle weitere Berechnungen wie beispielsweise Machine Learning Algorithmen wird der aufbereitete Datensatz neu abgespeichert. "
   ]
  },
  {
   "cell_type": "code",
   "execution_count": 207,
   "id": "b059e70a",
   "metadata": {
    "ExecuteTime": {
     "end_time": "2024-02-16T10:53:00.354518Z",
     "start_time": "2024-02-16T10:52:56.890109Z"
    }
   },
   "outputs": [],
   "source": [
    "# Abspeichern als CSV\n",
    "df.to_csv('df_after_preprocessing.csv',sep=',')\n",
    "\n",
    "# Abspeichern als Pickle\n",
    "df.to_pickle('df_after_preprocessing.pkl')"
   ]
  },
  {
   "cell_type": "markdown",
   "id": "e645bcb8",
   "metadata": {},
   "source": [
    "### CRISP-DM: EDA"
   ]
  },
  {
   "cell_type": "markdown",
   "id": "62b7ef7d",
   "metadata": {},
   "source": [
    "Zie der Analyse ist es, wichtige Informationen für das Unternehmen zu generieren, die einen Mehrwert schaffen. Dafür ist es wichtig, die Unternehmensziele als Grundlage zu verwenden: Das Unternehmen möchte keinen Profit machen, sondern Chancengleichheit für benachteiligte Menschen schaffen. Weiter würde das Unternehmen gerne expandieren, um diese Möglichkeit zu vergrößern.\n",
    "\n",
    "\n",
    "Die Datenselektion und Aggregation sind ein wichtiger Teil in der Datenanalyse. Die Datenselektion ermöglicht es, spezifische Daten aus dem DataFrame auszuwählen, basierend auf bestimmten Kriterien oder Bedingungen. So kann gezielt auf relevante Daten zugegriffen werden, um sie zu analysieren oder zu bearbeiten. Die Datenaggregation erlaubt es, Daten zusammenzufassen oder zu gruppieren, um nützliche Informationen zu extrahieren. Durch Aggregation können Trends und Muster in den Daten identifiziert werden, was bei der Entscheidungsfindung und Analyse von Daten hilfreich ist. Die Datenselektion und Aggregation erfolgt im nächsten Kapitel direkt vor der Auswahl der dazugehörigen Plots und soll hier nicht isoliert von den Plots dargestellt werden."
   ]
  },
  {
   "cell_type": "markdown",
   "id": "9ddf6305",
   "metadata": {},
   "source": [
    "#### Datenselektion, Aggregation und Plots"
   ]
  },
  {
   "cell_type": "markdown",
   "id": "5d303608",
   "metadata": {},
   "source": [
    "**Betrachtung nach Ländern**"
   ]
  },
  {
   "cell_type": "code",
   "execution_count": 208,
   "id": "49a8bd2e",
   "metadata": {
    "ExecuteTime": {
     "end_time": "2024-02-16T10:09:39.858002Z",
     "start_time": "2024-02-16T10:09:39.712666Z"
    }
   },
   "outputs": [
    {
     "data": {
      "text/html": [
       "<div>\n",
       "<style scoped>\n",
       "    .dataframe tbody tr th:only-of-type {\n",
       "        vertical-align: middle;\n",
       "    }\n",
       "\n",
       "    .dataframe tbody tr th {\n",
       "        vertical-align: top;\n",
       "    }\n",
       "\n",
       "    .dataframe thead th {\n",
       "        text-align: right;\n",
       "    }\n",
       "</style>\n",
       "<table border=\"1\" class=\"dataframe\">\n",
       "  <thead>\n",
       "    <tr style=\"text-align: right;\">\n",
       "      <th></th>\n",
       "      <th>country</th>\n",
       "      <th>country_code</th>\n",
       "      <th>funded_amount</th>\n",
       "    </tr>\n",
       "  </thead>\n",
       "  <tbody>\n",
       "    <tr>\n",
       "      <th>59</th>\n",
       "      <td>Philippines</td>\n",
       "      <td>PH</td>\n",
       "      <td>54438075.0</td>\n",
       "    </tr>\n",
       "    <tr>\n",
       "      <th>34</th>\n",
       "      <td>Kenya</td>\n",
       "      <td>KE</td>\n",
       "      <td>31970715.0</td>\n",
       "    </tr>\n",
       "    <tr>\n",
       "      <th>58</th>\n",
       "      <td>Peru</td>\n",
       "      <td>PE</td>\n",
       "      <td>30302100.0</td>\n",
       "    </tr>\n",
       "    <tr>\n",
       "      <th>57</th>\n",
       "      <td>Paraguay</td>\n",
       "      <td>PY</td>\n",
       "      <td>29297650.0</td>\n",
       "    </tr>\n",
       "    <tr>\n",
       "      <th>22</th>\n",
       "      <td>El Salvador</td>\n",
       "      <td>SV</td>\n",
       "      <td>23060625.0</td>\n",
       "    </tr>\n",
       "    <tr>\n",
       "      <th>...</th>\n",
       "      <td>...</td>\n",
       "      <td>...</td>\n",
       "      <td>...</td>\n",
       "    </tr>\n",
       "    <tr>\n",
       "      <th>0</th>\n",
       "      <td>Afghanistan</td>\n",
       "      <td>AF</td>\n",
       "      <td>14000.0</td>\n",
       "    </tr>\n",
       "    <tr>\n",
       "      <th>6</th>\n",
       "      <td>Bhutan</td>\n",
       "      <td>BT</td>\n",
       "      <td>10000.0</td>\n",
       "    </tr>\n",
       "    <tr>\n",
       "      <th>81</th>\n",
       "      <td>Vanuatu</td>\n",
       "      <td>VU</td>\n",
       "      <td>9250.0</td>\n",
       "    </tr>\n",
       "    <tr>\n",
       "      <th>25</th>\n",
       "      <td>Guam</td>\n",
       "      <td>GU</td>\n",
       "      <td>395.0</td>\n",
       "    </tr>\n",
       "    <tr>\n",
       "      <th>83</th>\n",
       "      <td>Virgin Islands</td>\n",
       "      <td>VI</td>\n",
       "      <td>0.0</td>\n",
       "    </tr>\n",
       "  </tbody>\n",
       "</table>\n",
       "<p>87 rows × 3 columns</p>\n",
       "</div>"
      ],
      "text/plain": [
       "           country country_code  funded_amount\n",
       "59     Philippines           PH     54438075.0\n",
       "34           Kenya           KE     31970715.0\n",
       "58            Peru           PE     30302100.0\n",
       "57        Paraguay           PY     29297650.0\n",
       "22     El Salvador           SV     23060625.0\n",
       "..             ...          ...            ...\n",
       "0      Afghanistan           AF        14000.0\n",
       "6           Bhutan           BT        10000.0\n",
       "81         Vanuatu           VU         9250.0\n",
       "25            Guam           GU          395.0\n",
       "83  Virgin Islands           VI            0.0\n",
       "\n",
       "[87 rows x 3 columns]"
      ]
     },
     "execution_count": 208,
     "metadata": {},
     "output_type": "execute_result"
    }
   ],
   "source": [
    "# Gruppierung Staaten und Summen der Auszahlung\n",
    "\n",
    "df_country = df.groupby(['country', 'country_code'], as_index = False).agg(func={\"funded_amount\":\"sum\"})\n",
    "\n",
    "df_country.sort_values(by=['funded_amount'], ascending=False, inplace=True)\n",
    "\n",
    "\n",
    "df_country"
   ]
  },
  {
   "cell_type": "markdown",
   "id": "b8d88a9f",
   "metadata": {},
   "source": [
    "Zunächst wird für den Überblick eine Karte mit den Ländern geplottet welche darstellt, welche Kreditbeträge in Summe erzielt werden. Auffallend ist hier, dass insbesondere die Phillipinen hohe Summen erzielen. Hier ist auch der Hauptsitz des Unternehmens. Mittlere Summen werden in den USA erziehlt, mittel- bis mittelhohe Summen in Kenya und im westlichen Teil Südafrikas, die übrigen Länder befinden sich im niederigeren Bereich."
   ]
  },
  {
   "cell_type": "code",
   "execution_count": 209,
   "id": "a4a0db1b",
   "metadata": {
    "ExecuteTime": {
     "end_time": "2024-02-16T10:11:21.224834Z",
     "start_time": "2024-02-16T10:11:21.080844Z"
    }
   },
   "outputs": [
    {
     "data": {
      "application/vnd.plotly.v1+json": {
       "config": {
        "plotlyServerURL": "https://plot.ly"
       },
       "data": [
        {
         "coloraxis": "coloraxis",
         "geo": "geo",
         "hovertemplate": "<b>%{hovertext}</b><br><br>country=%{location}<br>Auszahlungen (Dollar)=%{z}<extra></extra>",
         "hovertext": [
          "Philippines",
          "Kenya",
          "Peru",
          "Paraguay",
          "El Salvador",
          "United States",
          "Cambodia",
          "Bolivia",
          "Rwanda",
          "Ecuador",
          "Uganda",
          "Tajikistan",
          "Vietnam",
          "Pakistan",
          "Palestine",
          "Colombia",
          "Lebanon",
          "Armenia",
          "The Democratic Republic of the Congo",
          "Guatemala",
          "Nicaragua",
          "Mexico",
          "Mali",
          "Senegal",
          "Kyrgyzstan",
          "India",
          "Tanzania",
          "Honduras",
          "Samoa",
          "Ghana",
          "Indonesia",
          "Jordan",
          "Sierra Leone",
          "Georgia",
          "Zimbabwe",
          "Myanmar (Burma)",
          "Burkina Faso",
          "Azerbaijan",
          "Iraq",
          "Haiti",
          "Albania",
          "Burundi",
          "Timor-Leste",
          "Costa Rica",
          "Dominican Republic",
          "Mozambique",
          "Nigeria",
          "Yemen",
          "Kosovo",
          "Malawi",
          "Mongolia",
          "Ukraine",
          "Togo",
          "Madagascar",
          "Lao People's Democratic Republic",
          "Liberia",
          "Zambia",
          "Egypt",
          "Cameroon",
          "Congo",
          "Turkey",
          "Israel",
          "Moldova",
          "Brazil",
          "South Africa",
          "Suriname",
          "Benin",
          "Solomon Islands",
          "Thailand",
          "China",
          "Lesotho",
          "Nepal",
          "Puerto Rico",
          "Panama",
          "Somalia",
          "Belize",
          "South Sudan",
          "Chile",
          "Cote D'Ivoire",
          "Saint Vincent and the Grenadines",
          "Namibia",
          "Mauritania",
          "Afghanistan",
          "Bhutan",
          "Vanuatu",
          "Guam",
          "Virgin Islands"
         ],
         "locationmode": "country names",
         "locations": [
          "Philippines",
          "Kenya",
          "Peru",
          "Paraguay",
          "El Salvador",
          "United States",
          "Cambodia",
          "Bolivia",
          "Rwanda",
          "Ecuador",
          "Uganda",
          "Tajikistan",
          "Vietnam",
          "Pakistan",
          "Palestine",
          "Colombia",
          "Lebanon",
          "Armenia",
          "The Democratic Republic of the Congo",
          "Guatemala",
          "Nicaragua",
          "Mexico",
          "Mali",
          "Senegal",
          "Kyrgyzstan",
          "India",
          "Tanzania",
          "Honduras",
          "Samoa",
          "Ghana",
          "Indonesia",
          "Jordan",
          "Sierra Leone",
          "Georgia",
          "Zimbabwe",
          "Myanmar (Burma)",
          "Burkina Faso",
          "Azerbaijan",
          "Iraq",
          "Haiti",
          "Albania",
          "Burundi",
          "Timor-Leste",
          "Costa Rica",
          "Dominican Republic",
          "Mozambique",
          "Nigeria",
          "Yemen",
          "Kosovo",
          "Malawi",
          "Mongolia",
          "Ukraine",
          "Togo",
          "Madagascar",
          "Lao People's Democratic Republic",
          "Liberia",
          "Zambia",
          "Egypt",
          "Cameroon",
          "Congo",
          "Turkey",
          "Israel",
          "Moldova",
          "Brazil",
          "South Africa",
          "Suriname",
          "Benin",
          "Solomon Islands",
          "Thailand",
          "China",
          "Lesotho",
          "Nepal",
          "Puerto Rico",
          "Panama",
          "Somalia",
          "Belize",
          "South Sudan",
          "Chile",
          "Cote D'Ivoire",
          "Saint Vincent and the Grenadines",
          "Namibia",
          "Mauritania",
          "Afghanistan",
          "Bhutan",
          "Vanuatu",
          "Guam",
          "Virgin Islands"
         ],
         "name": "",
         "type": "choropleth",
         "z": [
          54438075,
          31970715,
          30302100,
          29297650,
          23060625,
          22676550,
          18785725,
          18210725,
          15476450,
          14568600,
          14039000,
          13736925,
          13660925,
          12465425,
          12017025,
          11969425,
          11539125,
          11186225,
          11016925,
          10857175,
          9793500,
          9228700,
          8337275,
          6807575,
          6728200,
          6373500,
          6248600,
          5631350,
          5613400,
          4713075,
          4539025,
          4401100,
          3864400,
          3368800,
          3327675,
          3011950,
          2908850,
          2653225,
          2605500,
          2581225,
          2469575,
          2372400,
          2316900,
          2010275,
          2007900,
          1908400,
          1904875,
          1771950,
          1753675,
          1590425,
          1582350,
          1561350,
          1476250,
          1223125,
          1160425,
          1141350,
          1119250,
          1084925,
          874350,
          786250,
          721475,
          691050,
          680825,
          610850,
          572250,
          530475,
          516825,
          493875,
          423350,
          372525,
          359525,
          307625,
          298075,
          265175,
          225875,
          111975,
          104675,
          72725,
          50000,
          49225,
          32375,
          15000,
          14000,
          10000,
          9250,
          395,
          0
         ]
        }
       ],
       "layout": {
        "coloraxis": {
         "colorbar": {
          "title": {
           "text": "Auszahlungen (Dollar)"
          }
         },
         "colorscale": [
          [
           0,
           "#0d0887"
          ],
          [
           0.1111111111111111,
           "#46039f"
          ],
          [
           0.2222222222222222,
           "#7201a8"
          ],
          [
           0.3333333333333333,
           "#9c179e"
          ],
          [
           0.4444444444444444,
           "#bd3786"
          ],
          [
           0.5555555555555556,
           "#d8576b"
          ],
          [
           0.6666666666666666,
           "#ed7953"
          ],
          [
           0.7777777777777778,
           "#fb9f3a"
          ],
          [
           0.8888888888888888,
           "#fdca26"
          ],
          [
           1,
           "#f0f921"
          ]
         ]
        },
        "geo": {
         "center": {},
         "domain": {
          "x": [
           0,
           1
          ],
          "y": [
           0,
           1
          ]
         }
        },
        "legend": {
         "tracegroupgap": 0
        },
        "template": {
         "data": {
          "bar": [
           {
            "error_x": {
             "color": "#2a3f5f"
            },
            "error_y": {
             "color": "#2a3f5f"
            },
            "marker": {
             "line": {
              "color": "#E5ECF6",
              "width": 0.5
             },
             "pattern": {
              "fillmode": "overlay",
              "size": 10,
              "solidity": 0.2
             }
            },
            "type": "bar"
           }
          ],
          "barpolar": [
           {
            "marker": {
             "line": {
              "color": "#E5ECF6",
              "width": 0.5
             },
             "pattern": {
              "fillmode": "overlay",
              "size": 10,
              "solidity": 0.2
             }
            },
            "type": "barpolar"
           }
          ],
          "carpet": [
           {
            "aaxis": {
             "endlinecolor": "#2a3f5f",
             "gridcolor": "white",
             "linecolor": "white",
             "minorgridcolor": "white",
             "startlinecolor": "#2a3f5f"
            },
            "baxis": {
             "endlinecolor": "#2a3f5f",
             "gridcolor": "white",
             "linecolor": "white",
             "minorgridcolor": "white",
             "startlinecolor": "#2a3f5f"
            },
            "type": "carpet"
           }
          ],
          "choropleth": [
           {
            "colorbar": {
             "outlinewidth": 0,
             "ticks": ""
            },
            "type": "choropleth"
           }
          ],
          "contour": [
           {
            "colorbar": {
             "outlinewidth": 0,
             "ticks": ""
            },
            "colorscale": [
             [
              0,
              "#0d0887"
             ],
             [
              0.1111111111111111,
              "#46039f"
             ],
             [
              0.2222222222222222,
              "#7201a8"
             ],
             [
              0.3333333333333333,
              "#9c179e"
             ],
             [
              0.4444444444444444,
              "#bd3786"
             ],
             [
              0.5555555555555556,
              "#d8576b"
             ],
             [
              0.6666666666666666,
              "#ed7953"
             ],
             [
              0.7777777777777778,
              "#fb9f3a"
             ],
             [
              0.8888888888888888,
              "#fdca26"
             ],
             [
              1,
              "#f0f921"
             ]
            ],
            "type": "contour"
           }
          ],
          "contourcarpet": [
           {
            "colorbar": {
             "outlinewidth": 0,
             "ticks": ""
            },
            "type": "contourcarpet"
           }
          ],
          "heatmap": [
           {
            "colorbar": {
             "outlinewidth": 0,
             "ticks": ""
            },
            "colorscale": [
             [
              0,
              "#0d0887"
             ],
             [
              0.1111111111111111,
              "#46039f"
             ],
             [
              0.2222222222222222,
              "#7201a8"
             ],
             [
              0.3333333333333333,
              "#9c179e"
             ],
             [
              0.4444444444444444,
              "#bd3786"
             ],
             [
              0.5555555555555556,
              "#d8576b"
             ],
             [
              0.6666666666666666,
              "#ed7953"
             ],
             [
              0.7777777777777778,
              "#fb9f3a"
             ],
             [
              0.8888888888888888,
              "#fdca26"
             ],
             [
              1,
              "#f0f921"
             ]
            ],
            "type": "heatmap"
           }
          ],
          "heatmapgl": [
           {
            "colorbar": {
             "outlinewidth": 0,
             "ticks": ""
            },
            "colorscale": [
             [
              0,
              "#0d0887"
             ],
             [
              0.1111111111111111,
              "#46039f"
             ],
             [
              0.2222222222222222,
              "#7201a8"
             ],
             [
              0.3333333333333333,
              "#9c179e"
             ],
             [
              0.4444444444444444,
              "#bd3786"
             ],
             [
              0.5555555555555556,
              "#d8576b"
             ],
             [
              0.6666666666666666,
              "#ed7953"
             ],
             [
              0.7777777777777778,
              "#fb9f3a"
             ],
             [
              0.8888888888888888,
              "#fdca26"
             ],
             [
              1,
              "#f0f921"
             ]
            ],
            "type": "heatmapgl"
           }
          ],
          "histogram": [
           {
            "marker": {
             "pattern": {
              "fillmode": "overlay",
              "size": 10,
              "solidity": 0.2
             }
            },
            "type": "histogram"
           }
          ],
          "histogram2d": [
           {
            "colorbar": {
             "outlinewidth": 0,
             "ticks": ""
            },
            "colorscale": [
             [
              0,
              "#0d0887"
             ],
             [
              0.1111111111111111,
              "#46039f"
             ],
             [
              0.2222222222222222,
              "#7201a8"
             ],
             [
              0.3333333333333333,
              "#9c179e"
             ],
             [
              0.4444444444444444,
              "#bd3786"
             ],
             [
              0.5555555555555556,
              "#d8576b"
             ],
             [
              0.6666666666666666,
              "#ed7953"
             ],
             [
              0.7777777777777778,
              "#fb9f3a"
             ],
             [
              0.8888888888888888,
              "#fdca26"
             ],
             [
              1,
              "#f0f921"
             ]
            ],
            "type": "histogram2d"
           }
          ],
          "histogram2dcontour": [
           {
            "colorbar": {
             "outlinewidth": 0,
             "ticks": ""
            },
            "colorscale": [
             [
              0,
              "#0d0887"
             ],
             [
              0.1111111111111111,
              "#46039f"
             ],
             [
              0.2222222222222222,
              "#7201a8"
             ],
             [
              0.3333333333333333,
              "#9c179e"
             ],
             [
              0.4444444444444444,
              "#bd3786"
             ],
             [
              0.5555555555555556,
              "#d8576b"
             ],
             [
              0.6666666666666666,
              "#ed7953"
             ],
             [
              0.7777777777777778,
              "#fb9f3a"
             ],
             [
              0.8888888888888888,
              "#fdca26"
             ],
             [
              1,
              "#f0f921"
             ]
            ],
            "type": "histogram2dcontour"
           }
          ],
          "mesh3d": [
           {
            "colorbar": {
             "outlinewidth": 0,
             "ticks": ""
            },
            "type": "mesh3d"
           }
          ],
          "parcoords": [
           {
            "line": {
             "colorbar": {
              "outlinewidth": 0,
              "ticks": ""
             }
            },
            "type": "parcoords"
           }
          ],
          "pie": [
           {
            "automargin": true,
            "type": "pie"
           }
          ],
          "scatter": [
           {
            "fillpattern": {
             "fillmode": "overlay",
             "size": 10,
             "solidity": 0.2
            },
            "type": "scatter"
           }
          ],
          "scatter3d": [
           {
            "line": {
             "colorbar": {
              "outlinewidth": 0,
              "ticks": ""
             }
            },
            "marker": {
             "colorbar": {
              "outlinewidth": 0,
              "ticks": ""
             }
            },
            "type": "scatter3d"
           }
          ],
          "scattercarpet": [
           {
            "marker": {
             "colorbar": {
              "outlinewidth": 0,
              "ticks": ""
             }
            },
            "type": "scattercarpet"
           }
          ],
          "scattergeo": [
           {
            "marker": {
             "colorbar": {
              "outlinewidth": 0,
              "ticks": ""
             }
            },
            "type": "scattergeo"
           }
          ],
          "scattergl": [
           {
            "marker": {
             "colorbar": {
              "outlinewidth": 0,
              "ticks": ""
             }
            },
            "type": "scattergl"
           }
          ],
          "scattermapbox": [
           {
            "marker": {
             "colorbar": {
              "outlinewidth": 0,
              "ticks": ""
             }
            },
            "type": "scattermapbox"
           }
          ],
          "scatterpolar": [
           {
            "marker": {
             "colorbar": {
              "outlinewidth": 0,
              "ticks": ""
             }
            },
            "type": "scatterpolar"
           }
          ],
          "scatterpolargl": [
           {
            "marker": {
             "colorbar": {
              "outlinewidth": 0,
              "ticks": ""
             }
            },
            "type": "scatterpolargl"
           }
          ],
          "scatterternary": [
           {
            "marker": {
             "colorbar": {
              "outlinewidth": 0,
              "ticks": ""
             }
            },
            "type": "scatterternary"
           }
          ],
          "surface": [
           {
            "colorbar": {
             "outlinewidth": 0,
             "ticks": ""
            },
            "colorscale": [
             [
              0,
              "#0d0887"
             ],
             [
              0.1111111111111111,
              "#46039f"
             ],
             [
              0.2222222222222222,
              "#7201a8"
             ],
             [
              0.3333333333333333,
              "#9c179e"
             ],
             [
              0.4444444444444444,
              "#bd3786"
             ],
             [
              0.5555555555555556,
              "#d8576b"
             ],
             [
              0.6666666666666666,
              "#ed7953"
             ],
             [
              0.7777777777777778,
              "#fb9f3a"
             ],
             [
              0.8888888888888888,
              "#fdca26"
             ],
             [
              1,
              "#f0f921"
             ]
            ],
            "type": "surface"
           }
          ],
          "table": [
           {
            "cells": {
             "fill": {
              "color": "#EBF0F8"
             },
             "line": {
              "color": "white"
             }
            },
            "header": {
             "fill": {
              "color": "#C8D4E3"
             },
             "line": {
              "color": "white"
             }
            },
            "type": "table"
           }
          ]
         },
         "layout": {
          "annotationdefaults": {
           "arrowcolor": "#2a3f5f",
           "arrowhead": 0,
           "arrowwidth": 1
          },
          "autotypenumbers": "strict",
          "coloraxis": {
           "colorbar": {
            "outlinewidth": 0,
            "ticks": ""
           }
          },
          "colorscale": {
           "diverging": [
            [
             0,
             "#8e0152"
            ],
            [
             0.1,
             "#c51b7d"
            ],
            [
             0.2,
             "#de77ae"
            ],
            [
             0.3,
             "#f1b6da"
            ],
            [
             0.4,
             "#fde0ef"
            ],
            [
             0.5,
             "#f7f7f7"
            ],
            [
             0.6,
             "#e6f5d0"
            ],
            [
             0.7,
             "#b8e186"
            ],
            [
             0.8,
             "#7fbc41"
            ],
            [
             0.9,
             "#4d9221"
            ],
            [
             1,
             "#276419"
            ]
           ],
           "sequential": [
            [
             0,
             "#0d0887"
            ],
            [
             0.1111111111111111,
             "#46039f"
            ],
            [
             0.2222222222222222,
             "#7201a8"
            ],
            [
             0.3333333333333333,
             "#9c179e"
            ],
            [
             0.4444444444444444,
             "#bd3786"
            ],
            [
             0.5555555555555556,
             "#d8576b"
            ],
            [
             0.6666666666666666,
             "#ed7953"
            ],
            [
             0.7777777777777778,
             "#fb9f3a"
            ],
            [
             0.8888888888888888,
             "#fdca26"
            ],
            [
             1,
             "#f0f921"
            ]
           ],
           "sequentialminus": [
            [
             0,
             "#0d0887"
            ],
            [
             0.1111111111111111,
             "#46039f"
            ],
            [
             0.2222222222222222,
             "#7201a8"
            ],
            [
             0.3333333333333333,
             "#9c179e"
            ],
            [
             0.4444444444444444,
             "#bd3786"
            ],
            [
             0.5555555555555556,
             "#d8576b"
            ],
            [
             0.6666666666666666,
             "#ed7953"
            ],
            [
             0.7777777777777778,
             "#fb9f3a"
            ],
            [
             0.8888888888888888,
             "#fdca26"
            ],
            [
             1,
             "#f0f921"
            ]
           ]
          },
          "colorway": [
           "#636efa",
           "#EF553B",
           "#00cc96",
           "#ab63fa",
           "#FFA15A",
           "#19d3f3",
           "#FF6692",
           "#B6E880",
           "#FF97FF",
           "#FECB52"
          ],
          "font": {
           "color": "#2a3f5f"
          },
          "geo": {
           "bgcolor": "white",
           "lakecolor": "white",
           "landcolor": "#E5ECF6",
           "showlakes": true,
           "showland": true,
           "subunitcolor": "white"
          },
          "hoverlabel": {
           "align": "left"
          },
          "hovermode": "closest",
          "mapbox": {
           "style": "light"
          },
          "paper_bgcolor": "white",
          "plot_bgcolor": "#E5ECF6",
          "polar": {
           "angularaxis": {
            "gridcolor": "white",
            "linecolor": "white",
            "ticks": ""
           },
           "bgcolor": "#E5ECF6",
           "radialaxis": {
            "gridcolor": "white",
            "linecolor": "white",
            "ticks": ""
           }
          },
          "scene": {
           "xaxis": {
            "backgroundcolor": "#E5ECF6",
            "gridcolor": "white",
            "gridwidth": 2,
            "linecolor": "white",
            "showbackground": true,
            "ticks": "",
            "zerolinecolor": "white"
           },
           "yaxis": {
            "backgroundcolor": "#E5ECF6",
            "gridcolor": "white",
            "gridwidth": 2,
            "linecolor": "white",
            "showbackground": true,
            "ticks": "",
            "zerolinecolor": "white"
           },
           "zaxis": {
            "backgroundcolor": "#E5ECF6",
            "gridcolor": "white",
            "gridwidth": 2,
            "linecolor": "white",
            "showbackground": true,
            "ticks": "",
            "zerolinecolor": "white"
           }
          },
          "shapedefaults": {
           "line": {
            "color": "#2a3f5f"
           }
          },
          "ternary": {
           "aaxis": {
            "gridcolor": "white",
            "linecolor": "white",
            "ticks": ""
           },
           "baxis": {
            "gridcolor": "white",
            "linecolor": "white",
            "ticks": ""
           },
           "bgcolor": "#E5ECF6",
           "caxis": {
            "gridcolor": "white",
            "linecolor": "white",
            "ticks": ""
           }
          },
          "title": {
           "x": 0.05
          },
          "xaxis": {
           "automargin": true,
           "gridcolor": "white",
           "linecolor": "white",
           "ticks": "",
           "title": {
            "standoff": 15
           },
           "zerolinecolor": "white",
           "zerolinewidth": 2
          },
          "yaxis": {
           "automargin": true,
           "gridcolor": "white",
           "linecolor": "white",
           "ticks": "",
           "title": {
            "standoff": 15
           },
           "zerolinecolor": "white",
           "zerolinewidth": 2
          }
         }
        },
        "title": {
         "text": "Kredithöhe in Dollar aufsummiert nach Ländern"
        }
       }
      }
     },
     "metadata": {},
     "output_type": "display_data"
    }
   ],
   "source": [
    "# Geographische Verteilung der Kreditnehmer mit Summe der ausgezahlten Kredite\n",
    "\n",
    "fig = px.choropleth(df_country,\n",
    "                    locations='country',\n",
    "                    locationmode='country names', \n",
    "                    color='funded_amount',\n",
    "                    labels={ 'funded_amount': 'Auszahlungen (Dollar)'},\n",
    "                    hover_name='country',\n",
    "                    title='Kredithöhe in Dollar aufsummiert nach Ländern',\n",
    "                    color_continuous_scale='Plasma')\n",
    "\n",
    "fig.show()"
   ]
  },
  {
   "cell_type": "markdown",
   "id": "e7cf1b05",
   "metadata": {},
   "source": [
    "Der hohe Wert in den Phillipinen entsteht über die Masse an Krediten. Hier ist der Hauptsitz und um den Hauptsitz herum sind die meisten Kredite entstanden."
   ]
  },
  {
   "cell_type": "code",
   "execution_count": 210,
   "id": "fc04d713",
   "metadata": {
    "ExecuteTime": {
     "end_time": "2024-02-16T10:13:41.838859Z",
     "start_time": "2024-02-16T10:13:41.700749Z"
    }
   },
   "outputs": [
    {
     "data": {
      "text/html": [
       "<div>\n",
       "<style scoped>\n",
       "    .dataframe tbody tr th:only-of-type {\n",
       "        vertical-align: middle;\n",
       "    }\n",
       "\n",
       "    .dataframe tbody tr th {\n",
       "        vertical-align: top;\n",
       "    }\n",
       "\n",
       "    .dataframe thead th {\n",
       "        text-align: right;\n",
       "    }\n",
       "</style>\n",
       "<table border=\"1\" class=\"dataframe\">\n",
       "  <thead>\n",
       "    <tr style=\"text-align: right;\">\n",
       "      <th></th>\n",
       "      <th>country</th>\n",
       "      <th>country_code</th>\n",
       "      <th>funded_amount</th>\n",
       "    </tr>\n",
       "  </thead>\n",
       "  <tbody>\n",
       "    <tr>\n",
       "      <th>59</th>\n",
       "      <td>Philippines</td>\n",
       "      <td>PH</td>\n",
       "      <td>160361</td>\n",
       "    </tr>\n",
       "    <tr>\n",
       "      <th>34</th>\n",
       "      <td>Kenya</td>\n",
       "      <td>KE</td>\n",
       "      <td>75113</td>\n",
       "    </tr>\n",
       "    <tr>\n",
       "      <th>22</th>\n",
       "      <td>El Salvador</td>\n",
       "      <td>SV</td>\n",
       "      <td>39321</td>\n",
       "    </tr>\n",
       "    <tr>\n",
       "      <th>11</th>\n",
       "      <td>Cambodia</td>\n",
       "      <td>KH</td>\n",
       "      <td>34811</td>\n",
       "    </tr>\n",
       "    <tr>\n",
       "      <th>54</th>\n",
       "      <td>Pakistan</td>\n",
       "      <td>PK</td>\n",
       "      <td>26853</td>\n",
       "    </tr>\n",
       "    <tr>\n",
       "      <th>...</th>\n",
       "      <td>...</td>\n",
       "      <td>...</td>\n",
       "      <td>...</td>\n",
       "    </tr>\n",
       "    <tr>\n",
       "      <th>0</th>\n",
       "      <td>Afghanistan</td>\n",
       "      <td>AF</td>\n",
       "      <td>2</td>\n",
       "    </tr>\n",
       "    <tr>\n",
       "      <th>6</th>\n",
       "      <td>Bhutan</td>\n",
       "      <td>BT</td>\n",
       "      <td>1</td>\n",
       "    </tr>\n",
       "    <tr>\n",
       "      <th>18</th>\n",
       "      <td>Cote D'Ivoire</td>\n",
       "      <td>CI</td>\n",
       "      <td>1</td>\n",
       "    </tr>\n",
       "    <tr>\n",
       "      <th>25</th>\n",
       "      <td>Guam</td>\n",
       "      <td>GU</td>\n",
       "      <td>1</td>\n",
       "    </tr>\n",
       "    <tr>\n",
       "      <th>44</th>\n",
       "      <td>Mauritania</td>\n",
       "      <td>MR</td>\n",
       "      <td>1</td>\n",
       "    </tr>\n",
       "  </tbody>\n",
       "</table>\n",
       "<p>87 rows × 3 columns</p>\n",
       "</div>"
      ],
      "text/plain": [
       "          country country_code  funded_amount\n",
       "59    Philippines           PH         160361\n",
       "34          Kenya           KE          75113\n",
       "22    El Salvador           SV          39321\n",
       "11       Cambodia           KH          34811\n",
       "54       Pakistan           PK          26853\n",
       "..            ...          ...            ...\n",
       "0     Afghanistan           AF              2\n",
       "6          Bhutan           BT              1\n",
       "18  Cote D'Ivoire           CI              1\n",
       "25           Guam           GU              1\n",
       "44     Mauritania           MR              1\n",
       "\n",
       "[87 rows x 3 columns]"
      ]
     },
     "execution_count": 210,
     "metadata": {},
     "output_type": "execute_result"
    }
   ],
   "source": [
    "# Anzahl der Kredite je Staat\n",
    "\n",
    "df_country_c = df.groupby(['country', 'country_code'], as_index = False).agg(func={\"funded_amount\":\"count\"})\n",
    "\n",
    "df_country_c.sort_values(by=['funded_amount'], ascending=False, inplace=True)\n",
    "\n",
    "\n",
    "df_country_c\n",
    "\n",
    "# Hoher Wert bei Phillipinen über sehr hohen Count begründet"
   ]
  },
  {
   "cell_type": "markdown",
   "id": "e6b5af4b",
   "metadata": {},
   "source": [
    "Als nächstes sollen die Kredithöhen im Durchschnitt betrachtet werden."
   ]
  },
  {
   "cell_type": "code",
   "execution_count": 211,
   "id": "4e183f31",
   "metadata": {
    "ExecuteTime": {
     "end_time": "2024-02-16T10:14:26.242082Z",
     "start_time": "2024-02-16T10:14:26.108506Z"
    }
   },
   "outputs": [
    {
     "data": {
      "text/html": [
       "<div>\n",
       "<style scoped>\n",
       "    .dataframe tbody tr th:only-of-type {\n",
       "        vertical-align: middle;\n",
       "    }\n",
       "\n",
       "    .dataframe tbody tr th {\n",
       "        vertical-align: top;\n",
       "    }\n",
       "\n",
       "    .dataframe thead th {\n",
       "        text-align: right;\n",
       "    }\n",
       "</style>\n",
       "<table border=\"1\" class=\"dataframe\">\n",
       "  <thead>\n",
       "    <tr style=\"text-align: right;\">\n",
       "      <th></th>\n",
       "      <th>country</th>\n",
       "      <th>country_code</th>\n",
       "      <th>funded_amount</th>\n",
       "    </tr>\n",
       "  </thead>\n",
       "  <tbody>\n",
       "    <tr>\n",
       "      <th>18</th>\n",
       "      <td>Cote D'Ivoire</td>\n",
       "      <td>CI</td>\n",
       "      <td>50000.000000</td>\n",
       "    </tr>\n",
       "    <tr>\n",
       "      <th>44</th>\n",
       "      <td>Mauritania</td>\n",
       "      <td>MR</td>\n",
       "      <td>15000.000000</td>\n",
       "    </tr>\n",
       "    <tr>\n",
       "      <th>6</th>\n",
       "      <td>Bhutan</td>\n",
       "      <td>BT</td>\n",
       "      <td>10000.000000</td>\n",
       "    </tr>\n",
       "    <tr>\n",
       "      <th>13</th>\n",
       "      <td>Chile</td>\n",
       "      <td>CL</td>\n",
       "      <td>8080.555556</td>\n",
       "    </tr>\n",
       "    <tr>\n",
       "      <th>0</th>\n",
       "      <td>Afghanistan</td>\n",
       "      <td>AF</td>\n",
       "      <td>7000.000000</td>\n",
       "    </tr>\n",
       "    <tr>\n",
       "      <th>...</th>\n",
       "      <td>...</td>\n",
       "      <td>...</td>\n",
       "      <td>...</td>\n",
       "    </tr>\n",
       "    <tr>\n",
       "      <th>41</th>\n",
       "      <td>Madagascar</td>\n",
       "      <td>MG</td>\n",
       "      <td>320.357517</td>\n",
       "    </tr>\n",
       "    <tr>\n",
       "      <th>40</th>\n",
       "      <td>Liberia</td>\n",
       "      <td>LR</td>\n",
       "      <td>317.041667</td>\n",
       "    </tr>\n",
       "    <tr>\n",
       "      <th>76</th>\n",
       "      <td>Togo</td>\n",
       "      <td>TG</td>\n",
       "      <td>257.096830</td>\n",
       "    </tr>\n",
       "    <tr>\n",
       "      <th>53</th>\n",
       "      <td>Nigeria</td>\n",
       "      <td>NG</td>\n",
       "      <td>188.042942</td>\n",
       "    </tr>\n",
       "    <tr>\n",
       "      <th>83</th>\n",
       "      <td>Virgin Islands</td>\n",
       "      <td>VI</td>\n",
       "      <td>0.000000</td>\n",
       "    </tr>\n",
       "  </tbody>\n",
       "</table>\n",
       "<p>87 rows × 3 columns</p>\n",
       "</div>"
      ],
      "text/plain": [
       "           country country_code  funded_amount\n",
       "18   Cote D'Ivoire           CI   50000.000000\n",
       "44      Mauritania           MR   15000.000000\n",
       "6           Bhutan           BT   10000.000000\n",
       "13           Chile           CL    8080.555556\n",
       "0      Afghanistan           AF    7000.000000\n",
       "..             ...          ...            ...\n",
       "41      Madagascar           MG     320.357517\n",
       "40         Liberia           LR     317.041667\n",
       "76            Togo           TG     257.096830\n",
       "53         Nigeria           NG     188.042942\n",
       "83  Virgin Islands           VI       0.000000\n",
       "\n",
       "[87 rows x 3 columns]"
      ]
     },
     "execution_count": 211,
     "metadata": {},
     "output_type": "execute_result"
    }
   ],
   "source": [
    "# Gruppierung Staaten und Mittelwert \n",
    "\n",
    "df_country_m = df.groupby(['country', 'country_code'], as_index = False).agg(func={\"funded_amount\":\"mean\"})\n",
    "\n",
    "df_country_m.sort_values(by=['funded_amount'], ascending=False, inplace=True)\n",
    "\n",
    "\n",
    "df_country_m"
   ]
  },
  {
   "cell_type": "code",
   "execution_count": 212,
   "id": "6f13a59e",
   "metadata": {
    "ExecuteTime": {
     "end_time": "2024-02-16T10:14:38.965167Z",
     "start_time": "2024-02-16T10:14:38.889311Z"
    }
   },
   "outputs": [
    {
     "data": {
      "application/vnd.plotly.v1+json": {
       "config": {
        "plotlyServerURL": "https://plot.ly"
       },
       "data": [
        {
         "coloraxis": "coloraxis",
         "geo": "geo",
         "hovertemplate": "<b>%{hovertext}</b><br><br>country=%{location}<br>Auszahlungen (Dollar)=%{z}<extra></extra>",
         "hovertext": [
          "Cote D'Ivoire",
          "Mauritania",
          "Bhutan",
          "Chile",
          "Afghanistan",
          "Congo",
          "Puerto Rico",
          "Dominican Republic",
          "Namibia",
          "United States",
          "Israel",
          "The Democratic Republic of the Congo",
          "Saint Vincent and the Grenadines",
          "Somalia",
          "Burundi",
          "China",
          "Iraq",
          "Brazil",
          "Paraguay",
          "Suriname",
          "Thailand",
          "Vanuatu",
          "Rwanda",
          "Senegal",
          "Bolivia",
          "Moldova",
          "Mongolia",
          "Mexico",
          "Ukraine",
          "Myanmar (Burma)",
          "South Africa",
          "Guatemala",
          "Zambia",
          "Palestine",
          "Georgia",
          "Azerbaijan",
          "Panama",
          "Peru",
          "Lebanon",
          "Costa Rica",
          "Armenia",
          "Albania",
          "Vietnam",
          "Mali",
          "Kosovo",
          "Malawi",
          "Tanzania",
          "Burkina Faso",
          "Kyrgyzstan",
          "Ghana",
          "Ecuador",
          "Jordan",
          "Benin",
          "Belize",
          "Solomon Islands",
          "Honduras",
          "Timor-Leste",
          "Lesotho",
          "South Sudan",
          "Nicaragua",
          "Zimbabwe",
          "Lao People's Democratic Republic",
          "Yemen",
          "Samoa",
          "Indonesia",
          "Sierra Leone",
          "Haiti",
          "Tajikistan",
          "Uganda",
          "Egypt",
          "El Salvador",
          "India",
          "Colombia",
          "Mozambique",
          "Cambodia",
          "Pakistan",
          "Nepal",
          "Kenya",
          "Turkey",
          "Guam",
          "Cameroon",
          "Philippines",
          "Madagascar",
          "Liberia",
          "Togo",
          "Nigeria",
          "Virgin Islands"
         ],
         "locationmode": "country names",
         "locations": [
          "Cote D'Ivoire",
          "Mauritania",
          "Bhutan",
          "Chile",
          "Afghanistan",
          "Congo",
          "Puerto Rico",
          "Dominican Republic",
          "Namibia",
          "United States",
          "Israel",
          "The Democratic Republic of the Congo",
          "Saint Vincent and the Grenadines",
          "Somalia",
          "Burundi",
          "China",
          "Iraq",
          "Brazil",
          "Paraguay",
          "Suriname",
          "Thailand",
          "Vanuatu",
          "Rwanda",
          "Senegal",
          "Bolivia",
          "Moldova",
          "Mongolia",
          "Mexico",
          "Ukraine",
          "Myanmar (Burma)",
          "South Africa",
          "Guatemala",
          "Zambia",
          "Palestine",
          "Georgia",
          "Azerbaijan",
          "Panama",
          "Peru",
          "Lebanon",
          "Costa Rica",
          "Armenia",
          "Albania",
          "Vietnam",
          "Mali",
          "Kosovo",
          "Malawi",
          "Tanzania",
          "Burkina Faso",
          "Kyrgyzstan",
          "Ghana",
          "Ecuador",
          "Jordan",
          "Benin",
          "Belize",
          "Solomon Islands",
          "Honduras",
          "Timor-Leste",
          "Lesotho",
          "South Sudan",
          "Nicaragua",
          "Zimbabwe",
          "Lao People's Democratic Republic",
          "Yemen",
          "Samoa",
          "Indonesia",
          "Sierra Leone",
          "Haiti",
          "Tajikistan",
          "Uganda",
          "Egypt",
          "El Salvador",
          "India",
          "Colombia",
          "Mozambique",
          "Cambodia",
          "Pakistan",
          "Nepal",
          "Kenya",
          "Turkey",
          "Guam",
          "Cameroon",
          "Philippines",
          "Madagascar",
          "Liberia",
          "Togo",
          "Nigeria",
          "Virgin Islands"
         ],
         "name": "",
         "type": "choropleth",
         "z": [
          50000,
          15000,
          10000,
          8080.555555555556,
          7000,
          6142.578125,
          4448.880597014925,
          4200.627615062762,
          4046.875,
          3822.105174448003,
          3796.978021978022,
          3588.574918566775,
          3076.5625,
          3011.6666666666665,
          2875.6363636363635,
          2800.93984962406,
          2634.479271991911,
          2513.786008230453,
          2474.2547082172114,
          2422.2602739726026,
          2351.9444444444443,
          2312.5,
          2302.7004909983634,
          2089.495089011664,
          2085.5159184608337,
          1967.7023121387283,
          1648.28125,
          1632.2426600636718,
          1621.3395638629283,
          1615.8530042918455,
          1517.9045092838196,
          1500.8536079623998,
          1492.3333333333333,
          1474.1198478900883,
          1399.0033222591362,
          1392.7690288713911,
          1388.3507853403141,
          1366.2518598674421,
          1314.85015952598,
          1299.4667097608274,
          1296.502665739453,
          1288.2498695878978,
          1260.1166866525227,
          1256.1812565918337,
          1254.4170243204578,
          1232.8875968992247,
          1227.1406127258444,
          1185.3504482477588,
          1165.4598995323056,
          1097.3399301513389,
          1080.1957440498259,
          1062.8109152378652,
          1039.8893360160966,
          910.3658536585366,
          891.471119133574,
          868.0977339293972,
          865.8071748878924,
          851.9549763033175,
          844.1532258064516,
          838.7718396711202,
          836.5196078431372,
          780.9051144010767,
          767.7426343154247,
          761.4487249050461,
          731.7467354505884,
          729.6827794561933,
          720.4088752442087,
          703.8080233630495,
          688.523786169691,
          661.9432580841977,
          586.4709697108416,
          569.3675183133822,
          564.1165519841644,
          550.2883506343713,
          539.6491051679067,
          464.2097717201058,
          429.044630404463,
          425.63491006882964,
          424.1475602586714,
          395,
          392.6133812303547,
          339.4720349710965,
          320.3575170246202,
          317.0416666666667,
          257.09683037269247,
          188.04294175715697,
          0
         ]
        }
       ],
       "layout": {
        "coloraxis": {
         "colorbar": {
          "title": {
           "text": "Auszahlungen (Dollar)"
          }
         },
         "colorscale": [
          [
           0,
           "#0d0887"
          ],
          [
           0.1111111111111111,
           "#46039f"
          ],
          [
           0.2222222222222222,
           "#7201a8"
          ],
          [
           0.3333333333333333,
           "#9c179e"
          ],
          [
           0.4444444444444444,
           "#bd3786"
          ],
          [
           0.5555555555555556,
           "#d8576b"
          ],
          [
           0.6666666666666666,
           "#ed7953"
          ],
          [
           0.7777777777777778,
           "#fb9f3a"
          ],
          [
           0.8888888888888888,
           "#fdca26"
          ],
          [
           1,
           "#f0f921"
          ]
         ]
        },
        "geo": {
         "center": {},
         "domain": {
          "x": [
           0,
           1
          ],
          "y": [
           0,
           1
          ]
         }
        },
        "legend": {
         "tracegroupgap": 0
        },
        "template": {
         "data": {
          "bar": [
           {
            "error_x": {
             "color": "#2a3f5f"
            },
            "error_y": {
             "color": "#2a3f5f"
            },
            "marker": {
             "line": {
              "color": "#E5ECF6",
              "width": 0.5
             },
             "pattern": {
              "fillmode": "overlay",
              "size": 10,
              "solidity": 0.2
             }
            },
            "type": "bar"
           }
          ],
          "barpolar": [
           {
            "marker": {
             "line": {
              "color": "#E5ECF6",
              "width": 0.5
             },
             "pattern": {
              "fillmode": "overlay",
              "size": 10,
              "solidity": 0.2
             }
            },
            "type": "barpolar"
           }
          ],
          "carpet": [
           {
            "aaxis": {
             "endlinecolor": "#2a3f5f",
             "gridcolor": "white",
             "linecolor": "white",
             "minorgridcolor": "white",
             "startlinecolor": "#2a3f5f"
            },
            "baxis": {
             "endlinecolor": "#2a3f5f",
             "gridcolor": "white",
             "linecolor": "white",
             "minorgridcolor": "white",
             "startlinecolor": "#2a3f5f"
            },
            "type": "carpet"
           }
          ],
          "choropleth": [
           {
            "colorbar": {
             "outlinewidth": 0,
             "ticks": ""
            },
            "type": "choropleth"
           }
          ],
          "contour": [
           {
            "colorbar": {
             "outlinewidth": 0,
             "ticks": ""
            },
            "colorscale": [
             [
              0,
              "#0d0887"
             ],
             [
              0.1111111111111111,
              "#46039f"
             ],
             [
              0.2222222222222222,
              "#7201a8"
             ],
             [
              0.3333333333333333,
              "#9c179e"
             ],
             [
              0.4444444444444444,
              "#bd3786"
             ],
             [
              0.5555555555555556,
              "#d8576b"
             ],
             [
              0.6666666666666666,
              "#ed7953"
             ],
             [
              0.7777777777777778,
              "#fb9f3a"
             ],
             [
              0.8888888888888888,
              "#fdca26"
             ],
             [
              1,
              "#f0f921"
             ]
            ],
            "type": "contour"
           }
          ],
          "contourcarpet": [
           {
            "colorbar": {
             "outlinewidth": 0,
             "ticks": ""
            },
            "type": "contourcarpet"
           }
          ],
          "heatmap": [
           {
            "colorbar": {
             "outlinewidth": 0,
             "ticks": ""
            },
            "colorscale": [
             [
              0,
              "#0d0887"
             ],
             [
              0.1111111111111111,
              "#46039f"
             ],
             [
              0.2222222222222222,
              "#7201a8"
             ],
             [
              0.3333333333333333,
              "#9c179e"
             ],
             [
              0.4444444444444444,
              "#bd3786"
             ],
             [
              0.5555555555555556,
              "#d8576b"
             ],
             [
              0.6666666666666666,
              "#ed7953"
             ],
             [
              0.7777777777777778,
              "#fb9f3a"
             ],
             [
              0.8888888888888888,
              "#fdca26"
             ],
             [
              1,
              "#f0f921"
             ]
            ],
            "type": "heatmap"
           }
          ],
          "heatmapgl": [
           {
            "colorbar": {
             "outlinewidth": 0,
             "ticks": ""
            },
            "colorscale": [
             [
              0,
              "#0d0887"
             ],
             [
              0.1111111111111111,
              "#46039f"
             ],
             [
              0.2222222222222222,
              "#7201a8"
             ],
             [
              0.3333333333333333,
              "#9c179e"
             ],
             [
              0.4444444444444444,
              "#bd3786"
             ],
             [
              0.5555555555555556,
              "#d8576b"
             ],
             [
              0.6666666666666666,
              "#ed7953"
             ],
             [
              0.7777777777777778,
              "#fb9f3a"
             ],
             [
              0.8888888888888888,
              "#fdca26"
             ],
             [
              1,
              "#f0f921"
             ]
            ],
            "type": "heatmapgl"
           }
          ],
          "histogram": [
           {
            "marker": {
             "pattern": {
              "fillmode": "overlay",
              "size": 10,
              "solidity": 0.2
             }
            },
            "type": "histogram"
           }
          ],
          "histogram2d": [
           {
            "colorbar": {
             "outlinewidth": 0,
             "ticks": ""
            },
            "colorscale": [
             [
              0,
              "#0d0887"
             ],
             [
              0.1111111111111111,
              "#46039f"
             ],
             [
              0.2222222222222222,
              "#7201a8"
             ],
             [
              0.3333333333333333,
              "#9c179e"
             ],
             [
              0.4444444444444444,
              "#bd3786"
             ],
             [
              0.5555555555555556,
              "#d8576b"
             ],
             [
              0.6666666666666666,
              "#ed7953"
             ],
             [
              0.7777777777777778,
              "#fb9f3a"
             ],
             [
              0.8888888888888888,
              "#fdca26"
             ],
             [
              1,
              "#f0f921"
             ]
            ],
            "type": "histogram2d"
           }
          ],
          "histogram2dcontour": [
           {
            "colorbar": {
             "outlinewidth": 0,
             "ticks": ""
            },
            "colorscale": [
             [
              0,
              "#0d0887"
             ],
             [
              0.1111111111111111,
              "#46039f"
             ],
             [
              0.2222222222222222,
              "#7201a8"
             ],
             [
              0.3333333333333333,
              "#9c179e"
             ],
             [
              0.4444444444444444,
              "#bd3786"
             ],
             [
              0.5555555555555556,
              "#d8576b"
             ],
             [
              0.6666666666666666,
              "#ed7953"
             ],
             [
              0.7777777777777778,
              "#fb9f3a"
             ],
             [
              0.8888888888888888,
              "#fdca26"
             ],
             [
              1,
              "#f0f921"
             ]
            ],
            "type": "histogram2dcontour"
           }
          ],
          "mesh3d": [
           {
            "colorbar": {
             "outlinewidth": 0,
             "ticks": ""
            },
            "type": "mesh3d"
           }
          ],
          "parcoords": [
           {
            "line": {
             "colorbar": {
              "outlinewidth": 0,
              "ticks": ""
             }
            },
            "type": "parcoords"
           }
          ],
          "pie": [
           {
            "automargin": true,
            "type": "pie"
           }
          ],
          "scatter": [
           {
            "fillpattern": {
             "fillmode": "overlay",
             "size": 10,
             "solidity": 0.2
            },
            "type": "scatter"
           }
          ],
          "scatter3d": [
           {
            "line": {
             "colorbar": {
              "outlinewidth": 0,
              "ticks": ""
             }
            },
            "marker": {
             "colorbar": {
              "outlinewidth": 0,
              "ticks": ""
             }
            },
            "type": "scatter3d"
           }
          ],
          "scattercarpet": [
           {
            "marker": {
             "colorbar": {
              "outlinewidth": 0,
              "ticks": ""
             }
            },
            "type": "scattercarpet"
           }
          ],
          "scattergeo": [
           {
            "marker": {
             "colorbar": {
              "outlinewidth": 0,
              "ticks": ""
             }
            },
            "type": "scattergeo"
           }
          ],
          "scattergl": [
           {
            "marker": {
             "colorbar": {
              "outlinewidth": 0,
              "ticks": ""
             }
            },
            "type": "scattergl"
           }
          ],
          "scattermapbox": [
           {
            "marker": {
             "colorbar": {
              "outlinewidth": 0,
              "ticks": ""
             }
            },
            "type": "scattermapbox"
           }
          ],
          "scatterpolar": [
           {
            "marker": {
             "colorbar": {
              "outlinewidth": 0,
              "ticks": ""
             }
            },
            "type": "scatterpolar"
           }
          ],
          "scatterpolargl": [
           {
            "marker": {
             "colorbar": {
              "outlinewidth": 0,
              "ticks": ""
             }
            },
            "type": "scatterpolargl"
           }
          ],
          "scatterternary": [
           {
            "marker": {
             "colorbar": {
              "outlinewidth": 0,
              "ticks": ""
             }
            },
            "type": "scatterternary"
           }
          ],
          "surface": [
           {
            "colorbar": {
             "outlinewidth": 0,
             "ticks": ""
            },
            "colorscale": [
             [
              0,
              "#0d0887"
             ],
             [
              0.1111111111111111,
              "#46039f"
             ],
             [
              0.2222222222222222,
              "#7201a8"
             ],
             [
              0.3333333333333333,
              "#9c179e"
             ],
             [
              0.4444444444444444,
              "#bd3786"
             ],
             [
              0.5555555555555556,
              "#d8576b"
             ],
             [
              0.6666666666666666,
              "#ed7953"
             ],
             [
              0.7777777777777778,
              "#fb9f3a"
             ],
             [
              0.8888888888888888,
              "#fdca26"
             ],
             [
              1,
              "#f0f921"
             ]
            ],
            "type": "surface"
           }
          ],
          "table": [
           {
            "cells": {
             "fill": {
              "color": "#EBF0F8"
             },
             "line": {
              "color": "white"
             }
            },
            "header": {
             "fill": {
              "color": "#C8D4E3"
             },
             "line": {
              "color": "white"
             }
            },
            "type": "table"
           }
          ]
         },
         "layout": {
          "annotationdefaults": {
           "arrowcolor": "#2a3f5f",
           "arrowhead": 0,
           "arrowwidth": 1
          },
          "autotypenumbers": "strict",
          "coloraxis": {
           "colorbar": {
            "outlinewidth": 0,
            "ticks": ""
           }
          },
          "colorscale": {
           "diverging": [
            [
             0,
             "#8e0152"
            ],
            [
             0.1,
             "#c51b7d"
            ],
            [
             0.2,
             "#de77ae"
            ],
            [
             0.3,
             "#f1b6da"
            ],
            [
             0.4,
             "#fde0ef"
            ],
            [
             0.5,
             "#f7f7f7"
            ],
            [
             0.6,
             "#e6f5d0"
            ],
            [
             0.7,
             "#b8e186"
            ],
            [
             0.8,
             "#7fbc41"
            ],
            [
             0.9,
             "#4d9221"
            ],
            [
             1,
             "#276419"
            ]
           ],
           "sequential": [
            [
             0,
             "#0d0887"
            ],
            [
             0.1111111111111111,
             "#46039f"
            ],
            [
             0.2222222222222222,
             "#7201a8"
            ],
            [
             0.3333333333333333,
             "#9c179e"
            ],
            [
             0.4444444444444444,
             "#bd3786"
            ],
            [
             0.5555555555555556,
             "#d8576b"
            ],
            [
             0.6666666666666666,
             "#ed7953"
            ],
            [
             0.7777777777777778,
             "#fb9f3a"
            ],
            [
             0.8888888888888888,
             "#fdca26"
            ],
            [
             1,
             "#f0f921"
            ]
           ],
           "sequentialminus": [
            [
             0,
             "#0d0887"
            ],
            [
             0.1111111111111111,
             "#46039f"
            ],
            [
             0.2222222222222222,
             "#7201a8"
            ],
            [
             0.3333333333333333,
             "#9c179e"
            ],
            [
             0.4444444444444444,
             "#bd3786"
            ],
            [
             0.5555555555555556,
             "#d8576b"
            ],
            [
             0.6666666666666666,
             "#ed7953"
            ],
            [
             0.7777777777777778,
             "#fb9f3a"
            ],
            [
             0.8888888888888888,
             "#fdca26"
            ],
            [
             1,
             "#f0f921"
            ]
           ]
          },
          "colorway": [
           "#636efa",
           "#EF553B",
           "#00cc96",
           "#ab63fa",
           "#FFA15A",
           "#19d3f3",
           "#FF6692",
           "#B6E880",
           "#FF97FF",
           "#FECB52"
          ],
          "font": {
           "color": "#2a3f5f"
          },
          "geo": {
           "bgcolor": "white",
           "lakecolor": "white",
           "landcolor": "#E5ECF6",
           "showlakes": true,
           "showland": true,
           "subunitcolor": "white"
          },
          "hoverlabel": {
           "align": "left"
          },
          "hovermode": "closest",
          "mapbox": {
           "style": "light"
          },
          "paper_bgcolor": "white",
          "plot_bgcolor": "#E5ECF6",
          "polar": {
           "angularaxis": {
            "gridcolor": "white",
            "linecolor": "white",
            "ticks": ""
           },
           "bgcolor": "#E5ECF6",
           "radialaxis": {
            "gridcolor": "white",
            "linecolor": "white",
            "ticks": ""
           }
          },
          "scene": {
           "xaxis": {
            "backgroundcolor": "#E5ECF6",
            "gridcolor": "white",
            "gridwidth": 2,
            "linecolor": "white",
            "showbackground": true,
            "ticks": "",
            "zerolinecolor": "white"
           },
           "yaxis": {
            "backgroundcolor": "#E5ECF6",
            "gridcolor": "white",
            "gridwidth": 2,
            "linecolor": "white",
            "showbackground": true,
            "ticks": "",
            "zerolinecolor": "white"
           },
           "zaxis": {
            "backgroundcolor": "#E5ECF6",
            "gridcolor": "white",
            "gridwidth": 2,
            "linecolor": "white",
            "showbackground": true,
            "ticks": "",
            "zerolinecolor": "white"
           }
          },
          "shapedefaults": {
           "line": {
            "color": "#2a3f5f"
           }
          },
          "ternary": {
           "aaxis": {
            "gridcolor": "white",
            "linecolor": "white",
            "ticks": ""
           },
           "baxis": {
            "gridcolor": "white",
            "linecolor": "white",
            "ticks": ""
           },
           "bgcolor": "#E5ECF6",
           "caxis": {
            "gridcolor": "white",
            "linecolor": "white",
            "ticks": ""
           }
          },
          "title": {
           "x": 0.05
          },
          "xaxis": {
           "automargin": true,
           "gridcolor": "white",
           "linecolor": "white",
           "ticks": "",
           "title": {
            "standoff": 15
           },
           "zerolinecolor": "white",
           "zerolinewidth": 2
          },
          "yaxis": {
           "automargin": true,
           "gridcolor": "white",
           "linecolor": "white",
           "ticks": "",
           "title": {
            "standoff": 15
           },
           "zerolinecolor": "white",
           "zerolinewidth": 2
          }
         }
        },
        "title": {
         "text": "Kredithöhe in Dollar (Auszahlung) im Mittel nach Ländern"
        }
       }
      }
     },
     "metadata": {},
     "output_type": "display_data"
    }
   ],
   "source": [
    "fig = px.choropleth(df_country_m,\n",
    "                    locations='country',\n",
    "                    locationmode='country names',  \n",
    "                    color='funded_amount',\n",
    "                    hover_name='country',\n",
    "                    labels={ 'funded_amount': 'Auszahlungen (Dollar)'},\n",
    "                    title='Kredithöhe in Dollar (Auszahlung) im Mittel nach Ländern',\n",
    "                    color_continuous_scale='Plasma')\n",
    "\n",
    "fig.show()"
   ]
  },
  {
   "cell_type": "markdown",
   "id": "fea5cd0f",
   "metadata": {},
   "source": [
    "Bei der Betrachtung der Mittelwerte hingegen ergibt sich ein anderes Bild. Hier sind die Werte über alle Länder hinweg eher niedrig, lediglich Cote D'lvoire (Elfenbeinküste in Afrika) fällt mit hohen Werten auf.\n",
    "\n",
    "Bei genauerer Betrachtung des hohen Wertes in Cote D'lvoire fällt auf, dass es sich um einen einzelnen Kredit handelt, der sehr hoch ist. Entsprechend wurde der Mittelwert auch nur uber diesen einzigen Wert ausgegeben, der folglicgh nicht als repräsentativ betrachtet werden kann."
   ]
  },
  {
   "cell_type": "code",
   "execution_count": 213,
   "id": "08f1e17d",
   "metadata": {
    "ExecuteTime": {
     "end_time": "2024-02-16T10:16:33.246279Z",
     "start_time": "2024-02-16T10:16:33.112210Z"
    }
   },
   "outputs": [
    {
     "data": {
      "text/html": [
       "<div>\n",
       "<style scoped>\n",
       "    .dataframe tbody tr th:only-of-type {\n",
       "        vertical-align: middle;\n",
       "    }\n",
       "\n",
       "    .dataframe tbody tr th {\n",
       "        vertical-align: top;\n",
       "    }\n",
       "\n",
       "    .dataframe thead th {\n",
       "        text-align: right;\n",
       "    }\n",
       "</style>\n",
       "<table border=\"1\" class=\"dataframe\">\n",
       "  <thead>\n",
       "    <tr style=\"text-align: right;\">\n",
       "      <th></th>\n",
       "      <th>country</th>\n",
       "      <th>country_code</th>\n",
       "      <th>funded_amount</th>\n",
       "    </tr>\n",
       "  </thead>\n",
       "  <tbody>\n",
       "    <tr>\n",
       "      <th>44</th>\n",
       "      <td>Mauritania</td>\n",
       "      <td>MR</td>\n",
       "      <td>1</td>\n",
       "    </tr>\n",
       "    <tr>\n",
       "      <th>6</th>\n",
       "      <td>Bhutan</td>\n",
       "      <td>BT</td>\n",
       "      <td>1</td>\n",
       "    </tr>\n",
       "    <tr>\n",
       "      <th>25</th>\n",
       "      <td>Guam</td>\n",
       "      <td>GU</td>\n",
       "      <td>1</td>\n",
       "    </tr>\n",
       "    <tr>\n",
       "      <th>18</th>\n",
       "      <td>Cote D'Ivoire</td>\n",
       "      <td>CI</td>\n",
       "      <td>1</td>\n",
       "    </tr>\n",
       "    <tr>\n",
       "      <th>0</th>\n",
       "      <td>Afghanistan</td>\n",
       "      <td>AF</td>\n",
       "      <td>2</td>\n",
       "    </tr>\n",
       "    <tr>\n",
       "      <th>...</th>\n",
       "      <td>...</td>\n",
       "      <td>...</td>\n",
       "      <td>...</td>\n",
       "    </tr>\n",
       "    <tr>\n",
       "      <th>54</th>\n",
       "      <td>Pakistan</td>\n",
       "      <td>PK</td>\n",
       "      <td>26853</td>\n",
       "    </tr>\n",
       "    <tr>\n",
       "      <th>11</th>\n",
       "      <td>Cambodia</td>\n",
       "      <td>KH</td>\n",
       "      <td>34811</td>\n",
       "    </tr>\n",
       "    <tr>\n",
       "      <th>22</th>\n",
       "      <td>El Salvador</td>\n",
       "      <td>SV</td>\n",
       "      <td>39321</td>\n",
       "    </tr>\n",
       "    <tr>\n",
       "      <th>34</th>\n",
       "      <td>Kenya</td>\n",
       "      <td>KE</td>\n",
       "      <td>75113</td>\n",
       "    </tr>\n",
       "    <tr>\n",
       "      <th>59</th>\n",
       "      <td>Philippines</td>\n",
       "      <td>PH</td>\n",
       "      <td>160361</td>\n",
       "    </tr>\n",
       "  </tbody>\n",
       "</table>\n",
       "<p>87 rows × 3 columns</p>\n",
       "</div>"
      ],
      "text/plain": [
       "          country country_code  funded_amount\n",
       "44     Mauritania           MR              1\n",
       "6          Bhutan           BT              1\n",
       "25           Guam           GU              1\n",
       "18  Cote D'Ivoire           CI              1\n",
       "0     Afghanistan           AF              2\n",
       "..            ...          ...            ...\n",
       "54       Pakistan           PK          26853\n",
       "11       Cambodia           KH          34811\n",
       "22    El Salvador           SV          39321\n",
       "34          Kenya           KE          75113\n",
       "59    Philippines           PH         160361\n",
       "\n",
       "[87 rows x 3 columns]"
      ]
     },
     "execution_count": 213,
     "metadata": {},
     "output_type": "execute_result"
    }
   ],
   "source": [
    "# Anzahl der Kredite je Staat\n",
    "\n",
    "df_country_c = df.groupby(['country', 'country_code'], as_index = False).agg(func={\"funded_amount\":\"count\"})\n",
    "\n",
    "df_country_c.sort_values(by=['funded_amount'], ascending=True, inplace=True)\n",
    "\n",
    "\n",
    "df_country_c\n",
    "\n",
    "# nur ein Weert bei Cote D'lvoire"
   ]
  },
  {
   "cell_type": "markdown",
   "id": "5403d829",
   "metadata": {},
   "source": [
    "Nun soll die neu ermittelte Kennzahl (KPI) angeschaut werden:"
   ]
  },
  {
   "cell_type": "code",
   "execution_count": 214,
   "id": "67771b28",
   "metadata": {
    "ExecuteTime": {
     "end_time": "2024-02-16T10:17:16.115020Z",
     "start_time": "2024-02-16T10:17:15.976497Z"
    }
   },
   "outputs": [
    {
     "data": {
      "text/html": [
       "<div>\n",
       "<style scoped>\n",
       "    .dataframe tbody tr th:only-of-type {\n",
       "        vertical-align: middle;\n",
       "    }\n",
       "\n",
       "    .dataframe tbody tr th {\n",
       "        vertical-align: top;\n",
       "    }\n",
       "\n",
       "    .dataframe thead th {\n",
       "        text-align: right;\n",
       "    }\n",
       "</style>\n",
       "<table border=\"1\" class=\"dataframe\">\n",
       "  <thead>\n",
       "    <tr style=\"text-align: right;\">\n",
       "      <th></th>\n",
       "      <th>country</th>\n",
       "      <th>country_code</th>\n",
       "      <th>KPI_funded_loan</th>\n",
       "    </tr>\n",
       "  </thead>\n",
       "  <tbody>\n",
       "    <tr>\n",
       "      <th>0</th>\n",
       "      <td>Afghanistan</td>\n",
       "      <td>AF</td>\n",
       "      <td>1.000000</td>\n",
       "    </tr>\n",
       "    <tr>\n",
       "      <th>67</th>\n",
       "      <td>Somalia</td>\n",
       "      <td>SO</td>\n",
       "      <td>1.000000</td>\n",
       "    </tr>\n",
       "    <tr>\n",
       "      <th>39</th>\n",
       "      <td>Lesotho</td>\n",
       "      <td>LS</td>\n",
       "      <td>1.000000</td>\n",
       "    </tr>\n",
       "    <tr>\n",
       "      <th>44</th>\n",
       "      <td>Mauritania</td>\n",
       "      <td>MR</td>\n",
       "      <td>1.000000</td>\n",
       "    </tr>\n",
       "    <tr>\n",
       "      <th>50</th>\n",
       "      <td>Namibia</td>\n",
       "      <td>NA</td>\n",
       "      <td>1.000000</td>\n",
       "    </tr>\n",
       "    <tr>\n",
       "      <th>...</th>\n",
       "      <td>...</td>\n",
       "      <td>...</td>\n",
       "      <td>...</td>\n",
       "    </tr>\n",
       "    <tr>\n",
       "      <th>2</th>\n",
       "      <td>Armenia</td>\n",
       "      <td>AM</td>\n",
       "      <td>0.878999</td>\n",
       "    </tr>\n",
       "    <tr>\n",
       "      <th>60</th>\n",
       "      <td>Puerto Rico</td>\n",
       "      <td>PR</td>\n",
       "      <td>0.791045</td>\n",
       "    </tr>\n",
       "    <tr>\n",
       "      <th>80</th>\n",
       "      <td>United States</td>\n",
       "      <td>US</td>\n",
       "      <td>0.691387</td>\n",
       "    </tr>\n",
       "    <tr>\n",
       "      <th>83</th>\n",
       "      <td>Virgin Islands</td>\n",
       "      <td>VI</td>\n",
       "      <td>0.000000</td>\n",
       "    </tr>\n",
       "    <tr>\n",
       "      <th>25</th>\n",
       "      <td>Guam</td>\n",
       "      <td>GU</td>\n",
       "      <td>0.000000</td>\n",
       "    </tr>\n",
       "  </tbody>\n",
       "</table>\n",
       "<p>87 rows × 3 columns</p>\n",
       "</div>"
      ],
      "text/plain": [
       "           country country_code  KPI_funded_loan\n",
       "0      Afghanistan           AF         1.000000\n",
       "67         Somalia           SO         1.000000\n",
       "39         Lesotho           LS         1.000000\n",
       "44      Mauritania           MR         1.000000\n",
       "50         Namibia           NA         1.000000\n",
       "..             ...          ...              ...\n",
       "2          Armenia           AM         0.878999\n",
       "60     Puerto Rico           PR         0.791045\n",
       "80   United States           US         0.691387\n",
       "83  Virgin Islands           VI         0.000000\n",
       "25            Guam           GU         0.000000\n",
       "\n",
       "[87 rows x 3 columns]"
      ]
     },
     "execution_count": 214,
     "metadata": {},
     "output_type": "execute_result"
    }
   ],
   "source": [
    "# Gruppierung der Länder, Kennzal \n",
    "\n",
    "df_country_KPI = df.groupby(['country', 'country_code'], as_index = False).agg(func={\"KPI_funded_loan\":\"mean\"})\n",
    "\n",
    "df_country_KPI.sort_values(by=['KPI_funded_loan'], ascending=False, inplace=True)\n",
    "\n",
    "\n",
    "df_country_KPI"
   ]
  },
  {
   "cell_type": "code",
   "execution_count": 215,
   "id": "aec38e8b",
   "metadata": {
    "ExecuteTime": {
     "end_time": "2024-02-16T10:17:31.014146Z",
     "start_time": "2024-02-16T10:17:30.903687Z"
    }
   },
   "outputs": [
    {
     "data": {
      "application/vnd.plotly.v1+json": {
       "config": {
        "plotlyServerURL": "https://plot.ly"
       },
       "data": [
        {
         "coloraxis": "coloraxis",
         "geo": "geo",
         "hovertemplate": "<b>%{hovertext}</b><br><br>country=%{location}<br>KPI-Wert=%{z}<extra></extra>",
         "hovertext": [
          "Afghanistan",
          "Somalia",
          "Lesotho",
          "Mauritania",
          "Namibia",
          "Nepal",
          "Panama",
          "Cote D'Ivoire",
          "Saint Vincent and the Grenadines",
          "China",
          "Chile",
          "Congo",
          "South Africa",
          "Bhutan",
          "Vanuatu",
          "Belize",
          "South Sudan",
          "Benin",
          "Brazil",
          "Israel",
          "Turkey",
          "Lao People's Democratic Republic",
          "Iraq",
          "Thailand",
          "Mongolia",
          "Madagascar",
          "Philippines",
          "Suriname",
          "Peru",
          "Paraguay",
          "Haiti",
          "Ghana",
          "India",
          "Zimbabwe",
          "Burkina Faso",
          "Dominican Republic",
          "Malawi",
          "The Democratic Republic of the Congo",
          "Togo",
          "Egypt",
          "Ecuador",
          "Liberia",
          "Yemen",
          "Tanzania",
          "Ukraine",
          "Moldova",
          "Burundi",
          "Cambodia",
          "Kyrgyzstan",
          "Mexico",
          "Guatemala",
          "Zambia",
          "Honduras",
          "Solomon Islands",
          "Mali",
          "Jordan",
          "Lebanon",
          "Sierra Leone",
          "Costa Rica",
          "Timor-Leste",
          "Senegal",
          "Rwanda",
          "Nicaragua",
          "Kenya",
          "Pakistan",
          "Georgia",
          "Vietnam",
          "Uganda",
          "Cameroon",
          "Indonesia",
          "Albania",
          "Azerbaijan",
          "Samoa",
          "Tajikistan",
          "Mozambique",
          "Kosovo",
          "Bolivia",
          "Palestine",
          "Nigeria",
          "El Salvador",
          "Colombia",
          "Myanmar (Burma)",
          "Armenia",
          "Puerto Rico",
          "United States",
          "Virgin Islands",
          "Guam"
         ],
         "locationmode": "country names",
         "locations": [
          "Afghanistan",
          "Somalia",
          "Lesotho",
          "Mauritania",
          "Namibia",
          "Nepal",
          "Panama",
          "Cote D'Ivoire",
          "Saint Vincent and the Grenadines",
          "China",
          "Chile",
          "Congo",
          "South Africa",
          "Bhutan",
          "Vanuatu",
          "Belize",
          "South Sudan",
          "Benin",
          "Brazil",
          "Israel",
          "Turkey",
          "Lao People's Democratic Republic",
          "Iraq",
          "Thailand",
          "Mongolia",
          "Madagascar",
          "Philippines",
          "Suriname",
          "Peru",
          "Paraguay",
          "Haiti",
          "Ghana",
          "India",
          "Zimbabwe",
          "Burkina Faso",
          "Dominican Republic",
          "Malawi",
          "The Democratic Republic of the Congo",
          "Togo",
          "Egypt",
          "Ecuador",
          "Liberia",
          "Yemen",
          "Tanzania",
          "Ukraine",
          "Moldova",
          "Burundi",
          "Cambodia",
          "Kyrgyzstan",
          "Mexico",
          "Guatemala",
          "Zambia",
          "Honduras",
          "Solomon Islands",
          "Mali",
          "Jordan",
          "Lebanon",
          "Sierra Leone",
          "Costa Rica",
          "Timor-Leste",
          "Senegal",
          "Rwanda",
          "Nicaragua",
          "Kenya",
          "Pakistan",
          "Georgia",
          "Vietnam",
          "Uganda",
          "Cameroon",
          "Indonesia",
          "Albania",
          "Azerbaijan",
          "Samoa",
          "Tajikistan",
          "Mozambique",
          "Kosovo",
          "Bolivia",
          "Palestine",
          "Nigeria",
          "El Salvador",
          "Colombia",
          "Myanmar (Burma)",
          "Armenia",
          "Puerto Rico",
          "United States",
          "Virgin Islands",
          "Guam"
         ],
         "name": "",
         "type": "choropleth",
         "z": [
          1,
          1,
          1,
          1,
          1,
          1,
          1,
          1,
          1,
          1,
          1,
          1,
          1,
          1,
          1,
          1,
          1,
          1,
          1,
          1,
          0.9994121105232217,
          0.9979811574697174,
          0.9969666329625885,
          0.9944444444444445,
          0.9916666666666667,
          0.9913567312729178,
          0.9911449791408136,
          0.9908675799086758,
          0.9894494792371162,
          0.9884300312473608,
          0.9879988836170807,
          0.9876600698486613,
          0.986421297123459,
          0.9859225741578683,
          0.9837000814995925,
          0.9832635983263598,
          0.982170542635659,
          0.9804560260586319,
          0.9791013584117032,
          0.9780353874313605,
          0.9774597760806703,
          0.9766666666666667,
          0.9766031195840554,
          0.9758444619010213,
          0.9740394600207685,
          0.9739884393063584,
          0.9733333333333334,
          0.9724799632300135,
          0.9714186731335528,
          0.9711708524938097,
          0.9711086535803152,
          0.968,
          0.9662401726529983,
          0.9657039711191335,
          0.9654964592436341,
          0.9645013281815986,
          0.9638787602552416,
          0.9637462235649547,
          0.962508080155139,
          0.9618834080717489,
          0.9616329036218539,
          0.9599761940187472,
          0.9581192189105858,
          0.9565188449402899,
          0.9552377760399211,
          0.9530730897009967,
          0.9506503090120838,
          0.9494359980382541,
          0.9492590929501572,
          0.9487344833145253,
          0.9483568075117371,
          0.9464566929133859,
          0.9434346174715138,
          0.9421559586023158,
          0.9411764705882353,
          0.9377682403433476,
          0.9367842418689877,
          0.9302011776251227,
          0.9221125370187562,
          0.9074794638996974,
          0.8991893675181449,
          0.8937768240343348,
          0.8789986091794159,
          0.7910447761194029,
          0.6913871565818305,
          0,
          0
         ]
        }
       ],
       "layout": {
        "coloraxis": {
         "colorbar": {
          "title": {
           "text": "KPI-Wert"
          }
         },
         "colorscale": [
          [
           0,
           "#0d0887"
          ],
          [
           0.1111111111111111,
           "#46039f"
          ],
          [
           0.2222222222222222,
           "#7201a8"
          ],
          [
           0.3333333333333333,
           "#9c179e"
          ],
          [
           0.4444444444444444,
           "#bd3786"
          ],
          [
           0.5555555555555556,
           "#d8576b"
          ],
          [
           0.6666666666666666,
           "#ed7953"
          ],
          [
           0.7777777777777778,
           "#fb9f3a"
          ],
          [
           0.8888888888888888,
           "#fdca26"
          ],
          [
           1,
           "#f0f921"
          ]
         ]
        },
        "geo": {
         "center": {},
         "domain": {
          "x": [
           0,
           1
          ],
          "y": [
           0,
           1
          ]
         }
        },
        "legend": {
         "tracegroupgap": 0
        },
        "template": {
         "data": {
          "bar": [
           {
            "error_x": {
             "color": "#2a3f5f"
            },
            "error_y": {
             "color": "#2a3f5f"
            },
            "marker": {
             "line": {
              "color": "#E5ECF6",
              "width": 0.5
             },
             "pattern": {
              "fillmode": "overlay",
              "size": 10,
              "solidity": 0.2
             }
            },
            "type": "bar"
           }
          ],
          "barpolar": [
           {
            "marker": {
             "line": {
              "color": "#E5ECF6",
              "width": 0.5
             },
             "pattern": {
              "fillmode": "overlay",
              "size": 10,
              "solidity": 0.2
             }
            },
            "type": "barpolar"
           }
          ],
          "carpet": [
           {
            "aaxis": {
             "endlinecolor": "#2a3f5f",
             "gridcolor": "white",
             "linecolor": "white",
             "minorgridcolor": "white",
             "startlinecolor": "#2a3f5f"
            },
            "baxis": {
             "endlinecolor": "#2a3f5f",
             "gridcolor": "white",
             "linecolor": "white",
             "minorgridcolor": "white",
             "startlinecolor": "#2a3f5f"
            },
            "type": "carpet"
           }
          ],
          "choropleth": [
           {
            "colorbar": {
             "outlinewidth": 0,
             "ticks": ""
            },
            "type": "choropleth"
           }
          ],
          "contour": [
           {
            "colorbar": {
             "outlinewidth": 0,
             "ticks": ""
            },
            "colorscale": [
             [
              0,
              "#0d0887"
             ],
             [
              0.1111111111111111,
              "#46039f"
             ],
             [
              0.2222222222222222,
              "#7201a8"
             ],
             [
              0.3333333333333333,
              "#9c179e"
             ],
             [
              0.4444444444444444,
              "#bd3786"
             ],
             [
              0.5555555555555556,
              "#d8576b"
             ],
             [
              0.6666666666666666,
              "#ed7953"
             ],
             [
              0.7777777777777778,
              "#fb9f3a"
             ],
             [
              0.8888888888888888,
              "#fdca26"
             ],
             [
              1,
              "#f0f921"
             ]
            ],
            "type": "contour"
           }
          ],
          "contourcarpet": [
           {
            "colorbar": {
             "outlinewidth": 0,
             "ticks": ""
            },
            "type": "contourcarpet"
           }
          ],
          "heatmap": [
           {
            "colorbar": {
             "outlinewidth": 0,
             "ticks": ""
            },
            "colorscale": [
             [
              0,
              "#0d0887"
             ],
             [
              0.1111111111111111,
              "#46039f"
             ],
             [
              0.2222222222222222,
              "#7201a8"
             ],
             [
              0.3333333333333333,
              "#9c179e"
             ],
             [
              0.4444444444444444,
              "#bd3786"
             ],
             [
              0.5555555555555556,
              "#d8576b"
             ],
             [
              0.6666666666666666,
              "#ed7953"
             ],
             [
              0.7777777777777778,
              "#fb9f3a"
             ],
             [
              0.8888888888888888,
              "#fdca26"
             ],
             [
              1,
              "#f0f921"
             ]
            ],
            "type": "heatmap"
           }
          ],
          "heatmapgl": [
           {
            "colorbar": {
             "outlinewidth": 0,
             "ticks": ""
            },
            "colorscale": [
             [
              0,
              "#0d0887"
             ],
             [
              0.1111111111111111,
              "#46039f"
             ],
             [
              0.2222222222222222,
              "#7201a8"
             ],
             [
              0.3333333333333333,
              "#9c179e"
             ],
             [
              0.4444444444444444,
              "#bd3786"
             ],
             [
              0.5555555555555556,
              "#d8576b"
             ],
             [
              0.6666666666666666,
              "#ed7953"
             ],
             [
              0.7777777777777778,
              "#fb9f3a"
             ],
             [
              0.8888888888888888,
              "#fdca26"
             ],
             [
              1,
              "#f0f921"
             ]
            ],
            "type": "heatmapgl"
           }
          ],
          "histogram": [
           {
            "marker": {
             "pattern": {
              "fillmode": "overlay",
              "size": 10,
              "solidity": 0.2
             }
            },
            "type": "histogram"
           }
          ],
          "histogram2d": [
           {
            "colorbar": {
             "outlinewidth": 0,
             "ticks": ""
            },
            "colorscale": [
             [
              0,
              "#0d0887"
             ],
             [
              0.1111111111111111,
              "#46039f"
             ],
             [
              0.2222222222222222,
              "#7201a8"
             ],
             [
              0.3333333333333333,
              "#9c179e"
             ],
             [
              0.4444444444444444,
              "#bd3786"
             ],
             [
              0.5555555555555556,
              "#d8576b"
             ],
             [
              0.6666666666666666,
              "#ed7953"
             ],
             [
              0.7777777777777778,
              "#fb9f3a"
             ],
             [
              0.8888888888888888,
              "#fdca26"
             ],
             [
              1,
              "#f0f921"
             ]
            ],
            "type": "histogram2d"
           }
          ],
          "histogram2dcontour": [
           {
            "colorbar": {
             "outlinewidth": 0,
             "ticks": ""
            },
            "colorscale": [
             [
              0,
              "#0d0887"
             ],
             [
              0.1111111111111111,
              "#46039f"
             ],
             [
              0.2222222222222222,
              "#7201a8"
             ],
             [
              0.3333333333333333,
              "#9c179e"
             ],
             [
              0.4444444444444444,
              "#bd3786"
             ],
             [
              0.5555555555555556,
              "#d8576b"
             ],
             [
              0.6666666666666666,
              "#ed7953"
             ],
             [
              0.7777777777777778,
              "#fb9f3a"
             ],
             [
              0.8888888888888888,
              "#fdca26"
             ],
             [
              1,
              "#f0f921"
             ]
            ],
            "type": "histogram2dcontour"
           }
          ],
          "mesh3d": [
           {
            "colorbar": {
             "outlinewidth": 0,
             "ticks": ""
            },
            "type": "mesh3d"
           }
          ],
          "parcoords": [
           {
            "line": {
             "colorbar": {
              "outlinewidth": 0,
              "ticks": ""
             }
            },
            "type": "parcoords"
           }
          ],
          "pie": [
           {
            "automargin": true,
            "type": "pie"
           }
          ],
          "scatter": [
           {
            "fillpattern": {
             "fillmode": "overlay",
             "size": 10,
             "solidity": 0.2
            },
            "type": "scatter"
           }
          ],
          "scatter3d": [
           {
            "line": {
             "colorbar": {
              "outlinewidth": 0,
              "ticks": ""
             }
            },
            "marker": {
             "colorbar": {
              "outlinewidth": 0,
              "ticks": ""
             }
            },
            "type": "scatter3d"
           }
          ],
          "scattercarpet": [
           {
            "marker": {
             "colorbar": {
              "outlinewidth": 0,
              "ticks": ""
             }
            },
            "type": "scattercarpet"
           }
          ],
          "scattergeo": [
           {
            "marker": {
             "colorbar": {
              "outlinewidth": 0,
              "ticks": ""
             }
            },
            "type": "scattergeo"
           }
          ],
          "scattergl": [
           {
            "marker": {
             "colorbar": {
              "outlinewidth": 0,
              "ticks": ""
             }
            },
            "type": "scattergl"
           }
          ],
          "scattermapbox": [
           {
            "marker": {
             "colorbar": {
              "outlinewidth": 0,
              "ticks": ""
             }
            },
            "type": "scattermapbox"
           }
          ],
          "scatterpolar": [
           {
            "marker": {
             "colorbar": {
              "outlinewidth": 0,
              "ticks": ""
             }
            },
            "type": "scatterpolar"
           }
          ],
          "scatterpolargl": [
           {
            "marker": {
             "colorbar": {
              "outlinewidth": 0,
              "ticks": ""
             }
            },
            "type": "scatterpolargl"
           }
          ],
          "scatterternary": [
           {
            "marker": {
             "colorbar": {
              "outlinewidth": 0,
              "ticks": ""
             }
            },
            "type": "scatterternary"
           }
          ],
          "surface": [
           {
            "colorbar": {
             "outlinewidth": 0,
             "ticks": ""
            },
            "colorscale": [
             [
              0,
              "#0d0887"
             ],
             [
              0.1111111111111111,
              "#46039f"
             ],
             [
              0.2222222222222222,
              "#7201a8"
             ],
             [
              0.3333333333333333,
              "#9c179e"
             ],
             [
              0.4444444444444444,
              "#bd3786"
             ],
             [
              0.5555555555555556,
              "#d8576b"
             ],
             [
              0.6666666666666666,
              "#ed7953"
             ],
             [
              0.7777777777777778,
              "#fb9f3a"
             ],
             [
              0.8888888888888888,
              "#fdca26"
             ],
             [
              1,
              "#f0f921"
             ]
            ],
            "type": "surface"
           }
          ],
          "table": [
           {
            "cells": {
             "fill": {
              "color": "#EBF0F8"
             },
             "line": {
              "color": "white"
             }
            },
            "header": {
             "fill": {
              "color": "#C8D4E3"
             },
             "line": {
              "color": "white"
             }
            },
            "type": "table"
           }
          ]
         },
         "layout": {
          "annotationdefaults": {
           "arrowcolor": "#2a3f5f",
           "arrowhead": 0,
           "arrowwidth": 1
          },
          "autotypenumbers": "strict",
          "coloraxis": {
           "colorbar": {
            "outlinewidth": 0,
            "ticks": ""
           }
          },
          "colorscale": {
           "diverging": [
            [
             0,
             "#8e0152"
            ],
            [
             0.1,
             "#c51b7d"
            ],
            [
             0.2,
             "#de77ae"
            ],
            [
             0.3,
             "#f1b6da"
            ],
            [
             0.4,
             "#fde0ef"
            ],
            [
             0.5,
             "#f7f7f7"
            ],
            [
             0.6,
             "#e6f5d0"
            ],
            [
             0.7,
             "#b8e186"
            ],
            [
             0.8,
             "#7fbc41"
            ],
            [
             0.9,
             "#4d9221"
            ],
            [
             1,
             "#276419"
            ]
           ],
           "sequential": [
            [
             0,
             "#0d0887"
            ],
            [
             0.1111111111111111,
             "#46039f"
            ],
            [
             0.2222222222222222,
             "#7201a8"
            ],
            [
             0.3333333333333333,
             "#9c179e"
            ],
            [
             0.4444444444444444,
             "#bd3786"
            ],
            [
             0.5555555555555556,
             "#d8576b"
            ],
            [
             0.6666666666666666,
             "#ed7953"
            ],
            [
             0.7777777777777778,
             "#fb9f3a"
            ],
            [
             0.8888888888888888,
             "#fdca26"
            ],
            [
             1,
             "#f0f921"
            ]
           ],
           "sequentialminus": [
            [
             0,
             "#0d0887"
            ],
            [
             0.1111111111111111,
             "#46039f"
            ],
            [
             0.2222222222222222,
             "#7201a8"
            ],
            [
             0.3333333333333333,
             "#9c179e"
            ],
            [
             0.4444444444444444,
             "#bd3786"
            ],
            [
             0.5555555555555556,
             "#d8576b"
            ],
            [
             0.6666666666666666,
             "#ed7953"
            ],
            [
             0.7777777777777778,
             "#fb9f3a"
            ],
            [
             0.8888888888888888,
             "#fdca26"
            ],
            [
             1,
             "#f0f921"
            ]
           ]
          },
          "colorway": [
           "#636efa",
           "#EF553B",
           "#00cc96",
           "#ab63fa",
           "#FFA15A",
           "#19d3f3",
           "#FF6692",
           "#B6E880",
           "#FF97FF",
           "#FECB52"
          ],
          "font": {
           "color": "#2a3f5f"
          },
          "geo": {
           "bgcolor": "white",
           "lakecolor": "white",
           "landcolor": "#E5ECF6",
           "showlakes": true,
           "showland": true,
           "subunitcolor": "white"
          },
          "hoverlabel": {
           "align": "left"
          },
          "hovermode": "closest",
          "mapbox": {
           "style": "light"
          },
          "paper_bgcolor": "white",
          "plot_bgcolor": "#E5ECF6",
          "polar": {
           "angularaxis": {
            "gridcolor": "white",
            "linecolor": "white",
            "ticks": ""
           },
           "bgcolor": "#E5ECF6",
           "radialaxis": {
            "gridcolor": "white",
            "linecolor": "white",
            "ticks": ""
           }
          },
          "scene": {
           "xaxis": {
            "backgroundcolor": "#E5ECF6",
            "gridcolor": "white",
            "gridwidth": 2,
            "linecolor": "white",
            "showbackground": true,
            "ticks": "",
            "zerolinecolor": "white"
           },
           "yaxis": {
            "backgroundcolor": "#E5ECF6",
            "gridcolor": "white",
            "gridwidth": 2,
            "linecolor": "white",
            "showbackground": true,
            "ticks": "",
            "zerolinecolor": "white"
           },
           "zaxis": {
            "backgroundcolor": "#E5ECF6",
            "gridcolor": "white",
            "gridwidth": 2,
            "linecolor": "white",
            "showbackground": true,
            "ticks": "",
            "zerolinecolor": "white"
           }
          },
          "shapedefaults": {
           "line": {
            "color": "#2a3f5f"
           }
          },
          "ternary": {
           "aaxis": {
            "gridcolor": "white",
            "linecolor": "white",
            "ticks": ""
           },
           "baxis": {
            "gridcolor": "white",
            "linecolor": "white",
            "ticks": ""
           },
           "bgcolor": "#E5ECF6",
           "caxis": {
            "gridcolor": "white",
            "linecolor": "white",
            "ticks": ""
           }
          },
          "title": {
           "x": 0.05
          },
          "xaxis": {
           "automargin": true,
           "gridcolor": "white",
           "linecolor": "white",
           "ticks": "",
           "title": {
            "standoff": 15
           },
           "zerolinecolor": "white",
           "zerolinewidth": 2
          },
          "yaxis": {
           "automargin": true,
           "gridcolor": "white",
           "linecolor": "white",
           "ticks": "",
           "title": {
            "standoff": 15
           },
           "zerolinecolor": "white",
           "zerolinewidth": 2
          }
         }
        },
        "title": {
         "text": "**KPI (funded_amoubt/loan_amount) nach Ländern**"
        }
       }
      }
     },
     "metadata": {},
     "output_type": "display_data"
    }
   ],
   "source": [
    "# Plot mit Kennzahl \n",
    "\n",
    "fig = px.choropleth(df_country_KPI,\n",
    "                    locations='country',\n",
    "                    locationmode='country names',  \n",
    "                    color='KPI_funded_loan',\n",
    "                    hover_name='country',\n",
    "                    labels={ 'KPI_funded_loan': 'KPI-Wert'},\n",
    "                    title='**KPI (funded_amoubt/loan_amount) nach Ländern**',\n",
    "                    color_continuous_scale='Plasma')\n",
    "\n",
    "fig.show()"
   ]
  },
  {
   "cell_type": "markdown",
   "id": "fbf3429d",
   "metadata": {},
   "source": [
    "Der Plot zeigt, dass die gewünschten Auszahlungen auffallend in den USA nicht in voller Höhe zustande kommen."
   ]
  },
  {
   "cell_type": "markdown",
   "id": "f1821740",
   "metadata": {},
   "source": [
    "**Wie verteilt sich die KPI in Betug auf die unterschiedlichen Sektoren?**"
   ]
  },
  {
   "cell_type": "code",
   "execution_count": 216,
   "id": "ac00e0b8",
   "metadata": {
    "ExecuteTime": {
     "end_time": "2024-02-16T10:18:49.441020Z",
     "start_time": "2024-02-16T10:18:49.355423Z"
    }
   },
   "outputs": [
    {
     "data": {
      "text/html": [
       "<div>\n",
       "<style scoped>\n",
       "    .dataframe tbody tr th:only-of-type {\n",
       "        vertical-align: middle;\n",
       "    }\n",
       "\n",
       "    .dataframe tbody tr th {\n",
       "        vertical-align: top;\n",
       "    }\n",
       "\n",
       "    .dataframe thead th {\n",
       "        text-align: right;\n",
       "    }\n",
       "</style>\n",
       "<table border=\"1\" class=\"dataframe\">\n",
       "  <thead>\n",
       "    <tr style=\"text-align: right;\">\n",
       "      <th></th>\n",
       "      <th>sector</th>\n",
       "      <th>KPI_funded_loan</th>\n",
       "    </tr>\n",
       "  </thead>\n",
       "  <tbody>\n",
       "    <tr>\n",
       "      <th>9</th>\n",
       "      <td>Manufacturing</td>\n",
       "      <td>0.994966</td>\n",
       "    </tr>\n",
       "    <tr>\n",
       "      <th>14</th>\n",
       "      <td>Wholesale</td>\n",
       "      <td>0.987220</td>\n",
       "    </tr>\n",
       "    <tr>\n",
       "      <th>1</th>\n",
       "      <td>Arts</td>\n",
       "      <td>0.986076</td>\n",
       "    </tr>\n",
       "    <tr>\n",
       "      <th>4</th>\n",
       "      <td>Education</td>\n",
       "      <td>0.985634</td>\n",
       "    </tr>\n",
       "    <tr>\n",
       "      <th>10</th>\n",
       "      <td>Personal Use</td>\n",
       "      <td>0.978978</td>\n",
       "    </tr>\n",
       "    <tr>\n",
       "      <th>3</th>\n",
       "      <td>Construction</td>\n",
       "      <td>0.971263</td>\n",
       "    </tr>\n",
       "    <tr>\n",
       "      <th>6</th>\n",
       "      <td>Food</td>\n",
       "      <td>0.968309</td>\n",
       "    </tr>\n",
       "    <tr>\n",
       "      <th>7</th>\n",
       "      <td>Health</td>\n",
       "      <td>0.958570</td>\n",
       "    </tr>\n",
       "    <tr>\n",
       "      <th>0</th>\n",
       "      <td>Agriculture</td>\n",
       "      <td>0.957679</td>\n",
       "    </tr>\n",
       "    <tr>\n",
       "      <th>11</th>\n",
       "      <td>Retail</td>\n",
       "      <td>0.956253</td>\n",
       "    </tr>\n",
       "    <tr>\n",
       "      <th>2</th>\n",
       "      <td>Clothing</td>\n",
       "      <td>0.953294</td>\n",
       "    </tr>\n",
       "    <tr>\n",
       "      <th>12</th>\n",
       "      <td>Services</td>\n",
       "      <td>0.948030</td>\n",
       "    </tr>\n",
       "    <tr>\n",
       "      <th>13</th>\n",
       "      <td>Transportation</td>\n",
       "      <td>0.940343</td>\n",
       "    </tr>\n",
       "    <tr>\n",
       "      <th>8</th>\n",
       "      <td>Housing</td>\n",
       "      <td>0.940306</td>\n",
       "    </tr>\n",
       "    <tr>\n",
       "      <th>5</th>\n",
       "      <td>Entertainment</td>\n",
       "      <td>0.882927</td>\n",
       "    </tr>\n",
       "  </tbody>\n",
       "</table>\n",
       "</div>"
      ],
      "text/plain": [
       "            sector  KPI_funded_loan\n",
       "9    Manufacturing         0.994966\n",
       "14       Wholesale         0.987220\n",
       "1             Arts         0.986076\n",
       "4        Education         0.985634\n",
       "10    Personal Use         0.978978\n",
       "3     Construction         0.971263\n",
       "6             Food         0.968309\n",
       "7           Health         0.958570\n",
       "0      Agriculture         0.957679\n",
       "11          Retail         0.956253\n",
       "2         Clothing         0.953294\n",
       "12        Services         0.948030\n",
       "13  Transportation         0.940343\n",
       "8          Housing         0.940306\n",
       "5    Entertainment         0.882927"
      ]
     },
     "execution_count": 216,
     "metadata": {},
     "output_type": "execute_result"
    }
   ],
   "source": [
    "df_sector = df.groupby(['sector'], as_index = False).agg(func={\"KPI_funded_loan\":\"mean\"})\n",
    "\n",
    "df_sector.sort_values(by=['KPI_funded_loan'], ascending=False, inplace=True)\n",
    "\n",
    "df_sector"
   ]
  },
  {
   "cell_type": "code",
   "execution_count": 217,
   "id": "d688db9a",
   "metadata": {
    "ExecuteTime": {
     "end_time": "2024-02-16T10:19:01.371042Z",
     "start_time": "2024-02-16T10:19:01.166439Z"
    }
   },
   "outputs": [
    {
     "data": {
      "application/vnd.plotly.v1+json": {
       "config": {
        "plotlyServerURL": "https://plot.ly"
       },
       "data": [
        {
         "alignmentgroup": "True",
         "hovertemplate": "Branche=%{y}<br>Auszahlungen=%{x}<extra></extra>",
         "legendgroup": "Manufacturing",
         "marker": {
          "color": "#636efa",
          "pattern": {
           "shape": ""
          }
         },
         "name": "Manufacturing",
         "offsetgroup": "Manufacturing",
         "orientation": "h",
         "showlegend": true,
         "textposition": "auto",
         "type": "bar",
         "x": [
          0.9949658980188373
         ],
         "xaxis": "x",
         "y": [
          "Manufacturing"
         ],
         "yaxis": "y"
        },
        {
         "alignmentgroup": "True",
         "hovertemplate": "Branche=%{y}<br>Auszahlungen=%{x}<extra></extra>",
         "legendgroup": "Wholesale",
         "marker": {
          "color": "#EF553B",
          "pattern": {
           "shape": ""
          }
         },
         "name": "Wholesale",
         "offsetgroup": "Wholesale",
         "orientation": "h",
         "showlegend": true,
         "textposition": "auto",
         "type": "bar",
         "x": [
          0.987220447284345
         ],
         "xaxis": "x",
         "y": [
          "Wholesale"
         ],
         "yaxis": "y"
        },
        {
         "alignmentgroup": "True",
         "hovertemplate": "Branche=%{y}<br>Auszahlungen=%{x}<extra></extra>",
         "legendgroup": "Arts",
         "marker": {
          "color": "#00cc96",
          "pattern": {
           "shape": ""
          }
         },
         "name": "Arts",
         "offsetgroup": "Arts",
         "orientation": "h",
         "showlegend": true,
         "textposition": "auto",
         "type": "bar",
         "x": [
          0.9860763715190929
         ],
         "xaxis": "x",
         "y": [
          "Arts"
         ],
         "yaxis": "y"
        },
        {
         "alignmentgroup": "True",
         "hovertemplate": "Branche=%{y}<br>Auszahlungen=%{x}<extra></extra>",
         "legendgroup": "Education",
         "marker": {
          "color": "#ab63fa",
          "pattern": {
           "shape": ""
          }
         },
         "name": "Education",
         "offsetgroup": "Education",
         "orientation": "h",
         "showlegend": true,
         "textposition": "auto",
         "type": "bar",
         "x": [
          0.9856341408048772
         ],
         "xaxis": "x",
         "y": [
          "Education"
         ],
         "yaxis": "y"
        },
        {
         "alignmentgroup": "True",
         "hovertemplate": "Branche=%{y}<br>Auszahlungen=%{x}<extra></extra>",
         "legendgroup": "Personal Use",
         "marker": {
          "color": "#FFA15A",
          "pattern": {
           "shape": ""
          }
         },
         "name": "Personal Use",
         "offsetgroup": "Personal Use",
         "orientation": "h",
         "showlegend": true,
         "textposition": "auto",
         "type": "bar",
         "x": [
          0.9789775705575634
         ],
         "xaxis": "x",
         "y": [
          "Personal Use"
         ],
         "yaxis": "y"
        },
        {
         "alignmentgroup": "True",
         "hovertemplate": "Branche=%{y}<br>Auszahlungen=%{x}<extra></extra>",
         "legendgroup": "Construction",
         "marker": {
          "color": "#19d3f3",
          "pattern": {
           "shape": ""
          }
         },
         "name": "Construction",
         "offsetgroup": "Construction",
         "orientation": "h",
         "showlegend": true,
         "textposition": "auto",
         "type": "bar",
         "x": [
          0.9712625121084921
         ],
         "xaxis": "x",
         "y": [
          "Construction"
         ],
         "yaxis": "y"
        },
        {
         "alignmentgroup": "True",
         "hovertemplate": "Branche=%{y}<br>Auszahlungen=%{x}<extra></extra>",
         "legendgroup": "Food",
         "marker": {
          "color": "#FF6692",
          "pattern": {
           "shape": ""
          }
         },
         "name": "Food",
         "offsetgroup": "Food",
         "orientation": "h",
         "showlegend": true,
         "textposition": "auto",
         "type": "bar",
         "x": [
          0.9683091588151662
         ],
         "xaxis": "x",
         "y": [
          "Food"
         ],
         "yaxis": "y"
        },
        {
         "alignmentgroup": "True",
         "hovertemplate": "Branche=%{y}<br>Auszahlungen=%{x}<extra></extra>",
         "legendgroup": "Health",
         "marker": {
          "color": "#B6E880",
          "pattern": {
           "shape": ""
          }
         },
         "name": "Health",
         "offsetgroup": "Health",
         "orientation": "h",
         "showlegend": true,
         "textposition": "auto",
         "type": "bar",
         "x": [
          0.9585695595290014
         ],
         "xaxis": "x",
         "y": [
          "Health"
         ],
         "yaxis": "y"
        },
        {
         "alignmentgroup": "True",
         "hovertemplate": "Branche=%{y}<br>Auszahlungen=%{x}<extra></extra>",
         "legendgroup": "Agriculture",
         "marker": {
          "color": "#FF97FF",
          "pattern": {
           "shape": ""
          }
         },
         "name": "Agriculture",
         "offsetgroup": "Agriculture",
         "orientation": "h",
         "showlegend": true,
         "textposition": "auto",
         "type": "bar",
         "x": [
          0.9576786591081552
         ],
         "xaxis": "x",
         "y": [
          "Agriculture"
         ],
         "yaxis": "y"
        },
        {
         "alignmentgroup": "True",
         "hovertemplate": "Branche=%{y}<br>Auszahlungen=%{x}<extra></extra>",
         "legendgroup": "Retail",
         "marker": {
          "color": "#FECB52",
          "pattern": {
           "shape": ""
          }
         },
         "name": "Retail",
         "offsetgroup": "Retail",
         "orientation": "h",
         "showlegend": true,
         "textposition": "auto",
         "type": "bar",
         "x": [
          0.9562533331178591
         ],
         "xaxis": "x",
         "y": [
          "Retail"
         ],
         "yaxis": "y"
        },
        {
         "alignmentgroup": "True",
         "hovertemplate": "Branche=%{y}<br>Auszahlungen=%{x}<extra></extra>",
         "legendgroup": "Clothing",
         "marker": {
          "color": "#636efa",
          "pattern": {
           "shape": ""
          }
         },
         "name": "Clothing",
         "offsetgroup": "Clothing",
         "orientation": "h",
         "showlegend": true,
         "textposition": "auto",
         "type": "bar",
         "x": [
          0.9532943349753694
         ],
         "xaxis": "x",
         "y": [
          "Clothing"
         ],
         "yaxis": "y"
        },
        {
         "alignmentgroup": "True",
         "hovertemplate": "Branche=%{y}<br>Auszahlungen=%{x}<extra></extra>",
         "legendgroup": "Services",
         "marker": {
          "color": "#EF553B",
          "pattern": {
           "shape": ""
          }
         },
         "name": "Services",
         "offsetgroup": "Services",
         "orientation": "h",
         "showlegend": true,
         "textposition": "auto",
         "type": "bar",
         "x": [
          0.9480301572742119
         ],
         "xaxis": "x",
         "y": [
          "Services"
         ],
         "yaxis": "y"
        },
        {
         "alignmentgroup": "True",
         "hovertemplate": "Branche=%{y}<br>Auszahlungen=%{x}<extra></extra>",
         "legendgroup": "Transportation",
         "marker": {
          "color": "#00cc96",
          "pattern": {
           "shape": ""
          }
         },
         "name": "Transportation",
         "offsetgroup": "Transportation",
         "orientation": "h",
         "showlegend": true,
         "textposition": "auto",
         "type": "bar",
         "x": [
          0.940342931090262
         ],
         "xaxis": "x",
         "y": [
          "Transportation"
         ],
         "yaxis": "y"
        },
        {
         "alignmentgroup": "True",
         "hovertemplate": "Branche=%{y}<br>Auszahlungen=%{x}<extra></extra>",
         "legendgroup": "Housing",
         "marker": {
          "color": "#ab63fa",
          "pattern": {
           "shape": ""
          }
         },
         "name": "Housing",
         "offsetgroup": "Housing",
         "orientation": "h",
         "showlegend": true,
         "textposition": "auto",
         "type": "bar",
         "x": [
          0.9403056209228203
         ],
         "xaxis": "x",
         "y": [
          "Housing"
         ],
         "yaxis": "y"
        },
        {
         "alignmentgroup": "True",
         "hovertemplate": "Branche=%{y}<br>Auszahlungen=%{x}<extra></extra>",
         "legendgroup": "Entertainment",
         "marker": {
          "color": "#FFA15A",
          "pattern": {
           "shape": ""
          }
         },
         "name": "Entertainment",
         "offsetgroup": "Entertainment",
         "orientation": "h",
         "showlegend": true,
         "textposition": "auto",
         "type": "bar",
         "x": [
          0.8829268292682927
         ],
         "xaxis": "x",
         "y": [
          "Entertainment"
         ],
         "yaxis": "y"
        }
       ],
       "layout": {
        "barmode": "relative",
        "legend": {
         "title": {
          "text": "Branche"
         },
         "tracegroupgap": 0
        },
        "template": {
         "data": {
          "bar": [
           {
            "error_x": {
             "color": "#2a3f5f"
            },
            "error_y": {
             "color": "#2a3f5f"
            },
            "marker": {
             "line": {
              "color": "#E5ECF6",
              "width": 0.5
             },
             "pattern": {
              "fillmode": "overlay",
              "size": 10,
              "solidity": 0.2
             }
            },
            "type": "bar"
           }
          ],
          "barpolar": [
           {
            "marker": {
             "line": {
              "color": "#E5ECF6",
              "width": 0.5
             },
             "pattern": {
              "fillmode": "overlay",
              "size": 10,
              "solidity": 0.2
             }
            },
            "type": "barpolar"
           }
          ],
          "carpet": [
           {
            "aaxis": {
             "endlinecolor": "#2a3f5f",
             "gridcolor": "white",
             "linecolor": "white",
             "minorgridcolor": "white",
             "startlinecolor": "#2a3f5f"
            },
            "baxis": {
             "endlinecolor": "#2a3f5f",
             "gridcolor": "white",
             "linecolor": "white",
             "minorgridcolor": "white",
             "startlinecolor": "#2a3f5f"
            },
            "type": "carpet"
           }
          ],
          "choropleth": [
           {
            "colorbar": {
             "outlinewidth": 0,
             "ticks": ""
            },
            "type": "choropleth"
           }
          ],
          "contour": [
           {
            "colorbar": {
             "outlinewidth": 0,
             "ticks": ""
            },
            "colorscale": [
             [
              0,
              "#0d0887"
             ],
             [
              0.1111111111111111,
              "#46039f"
             ],
             [
              0.2222222222222222,
              "#7201a8"
             ],
             [
              0.3333333333333333,
              "#9c179e"
             ],
             [
              0.4444444444444444,
              "#bd3786"
             ],
             [
              0.5555555555555556,
              "#d8576b"
             ],
             [
              0.6666666666666666,
              "#ed7953"
             ],
             [
              0.7777777777777778,
              "#fb9f3a"
             ],
             [
              0.8888888888888888,
              "#fdca26"
             ],
             [
              1,
              "#f0f921"
             ]
            ],
            "type": "contour"
           }
          ],
          "contourcarpet": [
           {
            "colorbar": {
             "outlinewidth": 0,
             "ticks": ""
            },
            "type": "contourcarpet"
           }
          ],
          "heatmap": [
           {
            "colorbar": {
             "outlinewidth": 0,
             "ticks": ""
            },
            "colorscale": [
             [
              0,
              "#0d0887"
             ],
             [
              0.1111111111111111,
              "#46039f"
             ],
             [
              0.2222222222222222,
              "#7201a8"
             ],
             [
              0.3333333333333333,
              "#9c179e"
             ],
             [
              0.4444444444444444,
              "#bd3786"
             ],
             [
              0.5555555555555556,
              "#d8576b"
             ],
             [
              0.6666666666666666,
              "#ed7953"
             ],
             [
              0.7777777777777778,
              "#fb9f3a"
             ],
             [
              0.8888888888888888,
              "#fdca26"
             ],
             [
              1,
              "#f0f921"
             ]
            ],
            "type": "heatmap"
           }
          ],
          "heatmapgl": [
           {
            "colorbar": {
             "outlinewidth": 0,
             "ticks": ""
            },
            "colorscale": [
             [
              0,
              "#0d0887"
             ],
             [
              0.1111111111111111,
              "#46039f"
             ],
             [
              0.2222222222222222,
              "#7201a8"
             ],
             [
              0.3333333333333333,
              "#9c179e"
             ],
             [
              0.4444444444444444,
              "#bd3786"
             ],
             [
              0.5555555555555556,
              "#d8576b"
             ],
             [
              0.6666666666666666,
              "#ed7953"
             ],
             [
              0.7777777777777778,
              "#fb9f3a"
             ],
             [
              0.8888888888888888,
              "#fdca26"
             ],
             [
              1,
              "#f0f921"
             ]
            ],
            "type": "heatmapgl"
           }
          ],
          "histogram": [
           {
            "marker": {
             "pattern": {
              "fillmode": "overlay",
              "size": 10,
              "solidity": 0.2
             }
            },
            "type": "histogram"
           }
          ],
          "histogram2d": [
           {
            "colorbar": {
             "outlinewidth": 0,
             "ticks": ""
            },
            "colorscale": [
             [
              0,
              "#0d0887"
             ],
             [
              0.1111111111111111,
              "#46039f"
             ],
             [
              0.2222222222222222,
              "#7201a8"
             ],
             [
              0.3333333333333333,
              "#9c179e"
             ],
             [
              0.4444444444444444,
              "#bd3786"
             ],
             [
              0.5555555555555556,
              "#d8576b"
             ],
             [
              0.6666666666666666,
              "#ed7953"
             ],
             [
              0.7777777777777778,
              "#fb9f3a"
             ],
             [
              0.8888888888888888,
              "#fdca26"
             ],
             [
              1,
              "#f0f921"
             ]
            ],
            "type": "histogram2d"
           }
          ],
          "histogram2dcontour": [
           {
            "colorbar": {
             "outlinewidth": 0,
             "ticks": ""
            },
            "colorscale": [
             [
              0,
              "#0d0887"
             ],
             [
              0.1111111111111111,
              "#46039f"
             ],
             [
              0.2222222222222222,
              "#7201a8"
             ],
             [
              0.3333333333333333,
              "#9c179e"
             ],
             [
              0.4444444444444444,
              "#bd3786"
             ],
             [
              0.5555555555555556,
              "#d8576b"
             ],
             [
              0.6666666666666666,
              "#ed7953"
             ],
             [
              0.7777777777777778,
              "#fb9f3a"
             ],
             [
              0.8888888888888888,
              "#fdca26"
             ],
             [
              1,
              "#f0f921"
             ]
            ],
            "type": "histogram2dcontour"
           }
          ],
          "mesh3d": [
           {
            "colorbar": {
             "outlinewidth": 0,
             "ticks": ""
            },
            "type": "mesh3d"
           }
          ],
          "parcoords": [
           {
            "line": {
             "colorbar": {
              "outlinewidth": 0,
              "ticks": ""
             }
            },
            "type": "parcoords"
           }
          ],
          "pie": [
           {
            "automargin": true,
            "type": "pie"
           }
          ],
          "scatter": [
           {
            "fillpattern": {
             "fillmode": "overlay",
             "size": 10,
             "solidity": 0.2
            },
            "type": "scatter"
           }
          ],
          "scatter3d": [
           {
            "line": {
             "colorbar": {
              "outlinewidth": 0,
              "ticks": ""
             }
            },
            "marker": {
             "colorbar": {
              "outlinewidth": 0,
              "ticks": ""
             }
            },
            "type": "scatter3d"
           }
          ],
          "scattercarpet": [
           {
            "marker": {
             "colorbar": {
              "outlinewidth": 0,
              "ticks": ""
             }
            },
            "type": "scattercarpet"
           }
          ],
          "scattergeo": [
           {
            "marker": {
             "colorbar": {
              "outlinewidth": 0,
              "ticks": ""
             }
            },
            "type": "scattergeo"
           }
          ],
          "scattergl": [
           {
            "marker": {
             "colorbar": {
              "outlinewidth": 0,
              "ticks": ""
             }
            },
            "type": "scattergl"
           }
          ],
          "scattermapbox": [
           {
            "marker": {
             "colorbar": {
              "outlinewidth": 0,
              "ticks": ""
             }
            },
            "type": "scattermapbox"
           }
          ],
          "scatterpolar": [
           {
            "marker": {
             "colorbar": {
              "outlinewidth": 0,
              "ticks": ""
             }
            },
            "type": "scatterpolar"
           }
          ],
          "scatterpolargl": [
           {
            "marker": {
             "colorbar": {
              "outlinewidth": 0,
              "ticks": ""
             }
            },
            "type": "scatterpolargl"
           }
          ],
          "scatterternary": [
           {
            "marker": {
             "colorbar": {
              "outlinewidth": 0,
              "ticks": ""
             }
            },
            "type": "scatterternary"
           }
          ],
          "surface": [
           {
            "colorbar": {
             "outlinewidth": 0,
             "ticks": ""
            },
            "colorscale": [
             [
              0,
              "#0d0887"
             ],
             [
              0.1111111111111111,
              "#46039f"
             ],
             [
              0.2222222222222222,
              "#7201a8"
             ],
             [
              0.3333333333333333,
              "#9c179e"
             ],
             [
              0.4444444444444444,
              "#bd3786"
             ],
             [
              0.5555555555555556,
              "#d8576b"
             ],
             [
              0.6666666666666666,
              "#ed7953"
             ],
             [
              0.7777777777777778,
              "#fb9f3a"
             ],
             [
              0.8888888888888888,
              "#fdca26"
             ],
             [
              1,
              "#f0f921"
             ]
            ],
            "type": "surface"
           }
          ],
          "table": [
           {
            "cells": {
             "fill": {
              "color": "#EBF0F8"
             },
             "line": {
              "color": "white"
             }
            },
            "header": {
             "fill": {
              "color": "#C8D4E3"
             },
             "line": {
              "color": "white"
             }
            },
            "type": "table"
           }
          ]
         },
         "layout": {
          "annotationdefaults": {
           "arrowcolor": "#2a3f5f",
           "arrowhead": 0,
           "arrowwidth": 1
          },
          "autotypenumbers": "strict",
          "coloraxis": {
           "colorbar": {
            "outlinewidth": 0,
            "ticks": ""
           }
          },
          "colorscale": {
           "diverging": [
            [
             0,
             "#8e0152"
            ],
            [
             0.1,
             "#c51b7d"
            ],
            [
             0.2,
             "#de77ae"
            ],
            [
             0.3,
             "#f1b6da"
            ],
            [
             0.4,
             "#fde0ef"
            ],
            [
             0.5,
             "#f7f7f7"
            ],
            [
             0.6,
             "#e6f5d0"
            ],
            [
             0.7,
             "#b8e186"
            ],
            [
             0.8,
             "#7fbc41"
            ],
            [
             0.9,
             "#4d9221"
            ],
            [
             1,
             "#276419"
            ]
           ],
           "sequential": [
            [
             0,
             "#0d0887"
            ],
            [
             0.1111111111111111,
             "#46039f"
            ],
            [
             0.2222222222222222,
             "#7201a8"
            ],
            [
             0.3333333333333333,
             "#9c179e"
            ],
            [
             0.4444444444444444,
             "#bd3786"
            ],
            [
             0.5555555555555556,
             "#d8576b"
            ],
            [
             0.6666666666666666,
             "#ed7953"
            ],
            [
             0.7777777777777778,
             "#fb9f3a"
            ],
            [
             0.8888888888888888,
             "#fdca26"
            ],
            [
             1,
             "#f0f921"
            ]
           ],
           "sequentialminus": [
            [
             0,
             "#0d0887"
            ],
            [
             0.1111111111111111,
             "#46039f"
            ],
            [
             0.2222222222222222,
             "#7201a8"
            ],
            [
             0.3333333333333333,
             "#9c179e"
            ],
            [
             0.4444444444444444,
             "#bd3786"
            ],
            [
             0.5555555555555556,
             "#d8576b"
            ],
            [
             0.6666666666666666,
             "#ed7953"
            ],
            [
             0.7777777777777778,
             "#fb9f3a"
            ],
            [
             0.8888888888888888,
             "#fdca26"
            ],
            [
             1,
             "#f0f921"
            ]
           ]
          },
          "colorway": [
           "#636efa",
           "#EF553B",
           "#00cc96",
           "#ab63fa",
           "#FFA15A",
           "#19d3f3",
           "#FF6692",
           "#B6E880",
           "#FF97FF",
           "#FECB52"
          ],
          "font": {
           "color": "#2a3f5f"
          },
          "geo": {
           "bgcolor": "white",
           "lakecolor": "white",
           "landcolor": "#E5ECF6",
           "showlakes": true,
           "showland": true,
           "subunitcolor": "white"
          },
          "hoverlabel": {
           "align": "left"
          },
          "hovermode": "closest",
          "mapbox": {
           "style": "light"
          },
          "paper_bgcolor": "white",
          "plot_bgcolor": "#E5ECF6",
          "polar": {
           "angularaxis": {
            "gridcolor": "white",
            "linecolor": "white",
            "ticks": ""
           },
           "bgcolor": "#E5ECF6",
           "radialaxis": {
            "gridcolor": "white",
            "linecolor": "white",
            "ticks": ""
           }
          },
          "scene": {
           "xaxis": {
            "backgroundcolor": "#E5ECF6",
            "gridcolor": "white",
            "gridwidth": 2,
            "linecolor": "white",
            "showbackground": true,
            "ticks": "",
            "zerolinecolor": "white"
           },
           "yaxis": {
            "backgroundcolor": "#E5ECF6",
            "gridcolor": "white",
            "gridwidth": 2,
            "linecolor": "white",
            "showbackground": true,
            "ticks": "",
            "zerolinecolor": "white"
           },
           "zaxis": {
            "backgroundcolor": "#E5ECF6",
            "gridcolor": "white",
            "gridwidth": 2,
            "linecolor": "white",
            "showbackground": true,
            "ticks": "",
            "zerolinecolor": "white"
           }
          },
          "shapedefaults": {
           "line": {
            "color": "#2a3f5f"
           }
          },
          "ternary": {
           "aaxis": {
            "gridcolor": "white",
            "linecolor": "white",
            "ticks": ""
           },
           "baxis": {
            "gridcolor": "white",
            "linecolor": "white",
            "ticks": ""
           },
           "bgcolor": "#E5ECF6",
           "caxis": {
            "gridcolor": "white",
            "linecolor": "white",
            "ticks": ""
           }
          },
          "title": {
           "x": 0.05
          },
          "xaxis": {
           "automargin": true,
           "gridcolor": "white",
           "linecolor": "white",
           "ticks": "",
           "title": {
            "standoff": 15
           },
           "zerolinecolor": "white",
           "zerolinewidth": 2
          },
          "yaxis": {
           "automargin": true,
           "gridcolor": "white",
           "linecolor": "white",
           "ticks": "",
           "title": {
            "standoff": 15
           },
           "zerolinecolor": "white",
           "zerolinewidth": 2
          }
         }
        },
        "title": {
         "text": "Verhältnis Projekte zu Auszahlungen (=KPI) je Branche"
        },
        "xaxis": {
         "anchor": "y",
         "domain": [
          0,
          1
         ],
         "title": {
          "text": "Auszahlungen"
         }
        },
        "yaxis": {
         "anchor": "x",
         "categoryarray": [
          "Entertainment",
          "Housing",
          "Transportation",
          "Services",
          "Clothing",
          "Retail",
          "Agriculture",
          "Health",
          "Food",
          "Construction",
          "Personal Use",
          "Education",
          "Arts",
          "Wholesale",
          "Manufacturing"
         ],
         "categoryorder": "array",
         "domain": [
          0,
          1
         ],
         "title": {
          "text": "Branche"
         }
        }
       }
      }
     },
     "metadata": {},
     "output_type": "display_data"
    }
   ],
   "source": [
    "fig = px.bar(data_frame=df_sector,\n",
    "     x='KPI_funded_loan',\n",
    "     y=\"sector\",\n",
    "    color='sector',\n",
    "    orientation='h',\n",
    "    labels={\n",
    "        'KPI_funded_loan': 'Auszahlungen',\n",
    "        'sector': 'Branche'\n",
    "    },\n",
    "    title='Verhältnis Projekte zu Auszahlungen (=KPI) je Branche'\n",
    ")\n",
    "\n",
    "\n",
    "fig.show()"
   ]
  },
  {
   "cell_type": "markdown",
   "id": "1ec61148",
   "metadata": {},
   "source": [
    "**Wie verteilt sich die KPI auf das Geschlecht?**"
   ]
  },
  {
   "cell_type": "code",
   "execution_count": 218,
   "id": "5462d5ed",
   "metadata": {
    "ExecuteTime": {
     "end_time": "2024-02-16T10:19:49.994790Z",
     "start_time": "2024-02-16T10:19:49.904630Z"
    }
   },
   "outputs": [
    {
     "data": {
      "text/html": [
       "<div>\n",
       "<style scoped>\n",
       "    .dataframe tbody tr th:only-of-type {\n",
       "        vertical-align: middle;\n",
       "    }\n",
       "\n",
       "    .dataframe tbody tr th {\n",
       "        vertical-align: top;\n",
       "    }\n",
       "\n",
       "    .dataframe thead th {\n",
       "        text-align: right;\n",
       "    }\n",
       "</style>\n",
       "<table border=\"1\" class=\"dataframe\">\n",
       "  <thead>\n",
       "    <tr style=\"text-align: right;\">\n",
       "      <th></th>\n",
       "      <th>gender</th>\n",
       "      <th>KPI_funded_loan</th>\n",
       "    </tr>\n",
       "  </thead>\n",
       "  <tbody>\n",
       "    <tr>\n",
       "      <th>0</th>\n",
       "      <td>female_group</td>\n",
       "      <td>0.976274</td>\n",
       "    </tr>\n",
       "    <tr>\n",
       "      <th>1</th>\n",
       "      <td>female_single</td>\n",
       "      <td>0.972644</td>\n",
       "    </tr>\n",
       "    <tr>\n",
       "      <th>4</th>\n",
       "      <td>mixed_group</td>\n",
       "      <td>0.970943</td>\n",
       "    </tr>\n",
       "    <tr>\n",
       "      <th>2</th>\n",
       "      <td>male_group</td>\n",
       "      <td>0.917650</td>\n",
       "    </tr>\n",
       "    <tr>\n",
       "      <th>3</th>\n",
       "      <td>male_single</td>\n",
       "      <td>0.917260</td>\n",
       "    </tr>\n",
       "  </tbody>\n",
       "</table>\n",
       "</div>"
      ],
      "text/plain": [
       "          gender  KPI_funded_loan\n",
       "0   female_group         0.976274\n",
       "1  female_single         0.972644\n",
       "4    mixed_group         0.970943\n",
       "2     male_group         0.917650\n",
       "3    male_single         0.917260"
      ]
     },
     "execution_count": 218,
     "metadata": {},
     "output_type": "execute_result"
    }
   ],
   "source": [
    "df_gender = df.groupby(['gender'], as_index = False).agg(func={\"KPI_funded_loan\":\"mean\"})\n",
    "\n",
    "df_gender.sort_values(by=['KPI_funded_loan'], ascending=False, inplace=True)\n",
    "\n",
    "df_gender"
   ]
  },
  {
   "cell_type": "code",
   "execution_count": 219,
   "id": "7d23cc9e",
   "metadata": {
    "ExecuteTime": {
     "end_time": "2024-02-16T10:20:03.700801Z",
     "start_time": "2024-02-16T10:20:03.494486Z"
    }
   },
   "outputs": [
    {
     "data": {
      "application/vnd.plotly.v1+json": {
       "config": {
        "plotlyServerURL": "https://plot.ly"
       },
       "data": [
        {
         "alignmentgroup": "True",
         "hovertemplate": "Geschlecht=%{y}<br>KPI=%{x}<extra></extra>",
         "legendgroup": "female_group",
         "marker": {
          "color": "#1F77B4",
          "pattern": {
           "shape": ""
          }
         },
         "name": "female_group",
         "offsetgroup": "female_group",
         "orientation": "h",
         "showlegend": true,
         "textposition": "auto",
         "type": "bar",
         "x": [
          0.9762743792526674
         ],
         "xaxis": "x",
         "y": [
          "female_group"
         ],
         "yaxis": "y"
        },
        {
         "alignmentgroup": "True",
         "hovertemplate": "Geschlecht=%{y}<br>KPI=%{x}<extra></extra>",
         "legendgroup": "female_single",
         "marker": {
          "color": "#FF7F0E",
          "pattern": {
           "shape": ""
          }
         },
         "name": "female_single",
         "offsetgroup": "female_single",
         "orientation": "h",
         "showlegend": true,
         "textposition": "auto",
         "type": "bar",
         "x": [
          0.9726441822514006
         ],
         "xaxis": "x",
         "y": [
          "female_single"
         ],
         "yaxis": "y"
        },
        {
         "alignmentgroup": "True",
         "hovertemplate": "Geschlecht=%{y}<br>KPI=%{x}<extra></extra>",
         "legendgroup": "mixed_group",
         "marker": {
          "color": "#2CA02C",
          "pattern": {
           "shape": ""
          }
         },
         "name": "mixed_group",
         "offsetgroup": "mixed_group",
         "orientation": "h",
         "showlegend": true,
         "textposition": "auto",
         "type": "bar",
         "x": [
          0.9709431565576373
         ],
         "xaxis": "x",
         "y": [
          "mixed_group"
         ],
         "yaxis": "y"
        },
        {
         "alignmentgroup": "True",
         "hovertemplate": "Geschlecht=%{y}<br>KPI=%{x}<extra></extra>",
         "legendgroup": "male_group",
         "marker": {
          "color": "#D62728",
          "pattern": {
           "shape": ""
          }
         },
         "name": "male_group",
         "offsetgroup": "male_group",
         "orientation": "h",
         "showlegend": true,
         "textposition": "auto",
         "type": "bar",
         "x": [
          0.9176501442433779
         ],
         "xaxis": "x",
         "y": [
          "male_group"
         ],
         "yaxis": "y"
        },
        {
         "alignmentgroup": "True",
         "hovertemplate": "Geschlecht=%{y}<br>KPI=%{x}<extra></extra>",
         "legendgroup": "male_single",
         "marker": {
          "color": "#9467BD",
          "pattern": {
           "shape": ""
          }
         },
         "name": "male_single",
         "offsetgroup": "male_single",
         "orientation": "h",
         "showlegend": true,
         "textposition": "auto",
         "type": "bar",
         "x": [
          0.9172604547656321
         ],
         "xaxis": "x",
         "y": [
          "male_single"
         ],
         "yaxis": "y"
        }
       ],
       "layout": {
        "barmode": "relative",
        "legend": {
         "title": {
          "text": "Geschlecht"
         },
         "tracegroupgap": 0
        },
        "template": {
         "data": {
          "bar": [
           {
            "error_x": {
             "color": "rgb(36,36,36)"
            },
            "error_y": {
             "color": "rgb(36,36,36)"
            },
            "marker": {
             "line": {
              "color": "white",
              "width": 0.5
             },
             "pattern": {
              "fillmode": "overlay",
              "size": 10,
              "solidity": 0.2
             }
            },
            "type": "bar"
           }
          ],
          "barpolar": [
           {
            "marker": {
             "line": {
              "color": "white",
              "width": 0.5
             },
             "pattern": {
              "fillmode": "overlay",
              "size": 10,
              "solidity": 0.2
             }
            },
            "type": "barpolar"
           }
          ],
          "carpet": [
           {
            "aaxis": {
             "endlinecolor": "rgb(36,36,36)",
             "gridcolor": "white",
             "linecolor": "white",
             "minorgridcolor": "white",
             "startlinecolor": "rgb(36,36,36)"
            },
            "baxis": {
             "endlinecolor": "rgb(36,36,36)",
             "gridcolor": "white",
             "linecolor": "white",
             "minorgridcolor": "white",
             "startlinecolor": "rgb(36,36,36)"
            },
            "type": "carpet"
           }
          ],
          "choropleth": [
           {
            "colorbar": {
             "outlinewidth": 1,
             "tickcolor": "rgb(36,36,36)",
             "ticks": "outside"
            },
            "type": "choropleth"
           }
          ],
          "contour": [
           {
            "colorbar": {
             "outlinewidth": 1,
             "tickcolor": "rgb(36,36,36)",
             "ticks": "outside"
            },
            "colorscale": [
             [
              0,
              "#440154"
             ],
             [
              0.1111111111111111,
              "#482878"
             ],
             [
              0.2222222222222222,
              "#3e4989"
             ],
             [
              0.3333333333333333,
              "#31688e"
             ],
             [
              0.4444444444444444,
              "#26828e"
             ],
             [
              0.5555555555555556,
              "#1f9e89"
             ],
             [
              0.6666666666666666,
              "#35b779"
             ],
             [
              0.7777777777777778,
              "#6ece58"
             ],
             [
              0.8888888888888888,
              "#b5de2b"
             ],
             [
              1,
              "#fde725"
             ]
            ],
            "type": "contour"
           }
          ],
          "contourcarpet": [
           {
            "colorbar": {
             "outlinewidth": 1,
             "tickcolor": "rgb(36,36,36)",
             "ticks": "outside"
            },
            "type": "contourcarpet"
           }
          ],
          "heatmap": [
           {
            "colorbar": {
             "outlinewidth": 1,
             "tickcolor": "rgb(36,36,36)",
             "ticks": "outside"
            },
            "colorscale": [
             [
              0,
              "#440154"
             ],
             [
              0.1111111111111111,
              "#482878"
             ],
             [
              0.2222222222222222,
              "#3e4989"
             ],
             [
              0.3333333333333333,
              "#31688e"
             ],
             [
              0.4444444444444444,
              "#26828e"
             ],
             [
              0.5555555555555556,
              "#1f9e89"
             ],
             [
              0.6666666666666666,
              "#35b779"
             ],
             [
              0.7777777777777778,
              "#6ece58"
             ],
             [
              0.8888888888888888,
              "#b5de2b"
             ],
             [
              1,
              "#fde725"
             ]
            ],
            "type": "heatmap"
           }
          ],
          "heatmapgl": [
           {
            "colorbar": {
             "outlinewidth": 1,
             "tickcolor": "rgb(36,36,36)",
             "ticks": "outside"
            },
            "colorscale": [
             [
              0,
              "#440154"
             ],
             [
              0.1111111111111111,
              "#482878"
             ],
             [
              0.2222222222222222,
              "#3e4989"
             ],
             [
              0.3333333333333333,
              "#31688e"
             ],
             [
              0.4444444444444444,
              "#26828e"
             ],
             [
              0.5555555555555556,
              "#1f9e89"
             ],
             [
              0.6666666666666666,
              "#35b779"
             ],
             [
              0.7777777777777778,
              "#6ece58"
             ],
             [
              0.8888888888888888,
              "#b5de2b"
             ],
             [
              1,
              "#fde725"
             ]
            ],
            "type": "heatmapgl"
           }
          ],
          "histogram": [
           {
            "marker": {
             "line": {
              "color": "white",
              "width": 0.6
             }
            },
            "type": "histogram"
           }
          ],
          "histogram2d": [
           {
            "colorbar": {
             "outlinewidth": 1,
             "tickcolor": "rgb(36,36,36)",
             "ticks": "outside"
            },
            "colorscale": [
             [
              0,
              "#440154"
             ],
             [
              0.1111111111111111,
              "#482878"
             ],
             [
              0.2222222222222222,
              "#3e4989"
             ],
             [
              0.3333333333333333,
              "#31688e"
             ],
             [
              0.4444444444444444,
              "#26828e"
             ],
             [
              0.5555555555555556,
              "#1f9e89"
             ],
             [
              0.6666666666666666,
              "#35b779"
             ],
             [
              0.7777777777777778,
              "#6ece58"
             ],
             [
              0.8888888888888888,
              "#b5de2b"
             ],
             [
              1,
              "#fde725"
             ]
            ],
            "type": "histogram2d"
           }
          ],
          "histogram2dcontour": [
           {
            "colorbar": {
             "outlinewidth": 1,
             "tickcolor": "rgb(36,36,36)",
             "ticks": "outside"
            },
            "colorscale": [
             [
              0,
              "#440154"
             ],
             [
              0.1111111111111111,
              "#482878"
             ],
             [
              0.2222222222222222,
              "#3e4989"
             ],
             [
              0.3333333333333333,
              "#31688e"
             ],
             [
              0.4444444444444444,
              "#26828e"
             ],
             [
              0.5555555555555556,
              "#1f9e89"
             ],
             [
              0.6666666666666666,
              "#35b779"
             ],
             [
              0.7777777777777778,
              "#6ece58"
             ],
             [
              0.8888888888888888,
              "#b5de2b"
             ],
             [
              1,
              "#fde725"
             ]
            ],
            "type": "histogram2dcontour"
           }
          ],
          "mesh3d": [
           {
            "colorbar": {
             "outlinewidth": 1,
             "tickcolor": "rgb(36,36,36)",
             "ticks": "outside"
            },
            "type": "mesh3d"
           }
          ],
          "parcoords": [
           {
            "line": {
             "colorbar": {
              "outlinewidth": 1,
              "tickcolor": "rgb(36,36,36)",
              "ticks": "outside"
             }
            },
            "type": "parcoords"
           }
          ],
          "pie": [
           {
            "automargin": true,
            "type": "pie"
           }
          ],
          "scatter": [
           {
            "fillpattern": {
             "fillmode": "overlay",
             "size": 10,
             "solidity": 0.2
            },
            "type": "scatter"
           }
          ],
          "scatter3d": [
           {
            "line": {
             "colorbar": {
              "outlinewidth": 1,
              "tickcolor": "rgb(36,36,36)",
              "ticks": "outside"
             }
            },
            "marker": {
             "colorbar": {
              "outlinewidth": 1,
              "tickcolor": "rgb(36,36,36)",
              "ticks": "outside"
             }
            },
            "type": "scatter3d"
           }
          ],
          "scattercarpet": [
           {
            "marker": {
             "colorbar": {
              "outlinewidth": 1,
              "tickcolor": "rgb(36,36,36)",
              "ticks": "outside"
             }
            },
            "type": "scattercarpet"
           }
          ],
          "scattergeo": [
           {
            "marker": {
             "colorbar": {
              "outlinewidth": 1,
              "tickcolor": "rgb(36,36,36)",
              "ticks": "outside"
             }
            },
            "type": "scattergeo"
           }
          ],
          "scattergl": [
           {
            "marker": {
             "colorbar": {
              "outlinewidth": 1,
              "tickcolor": "rgb(36,36,36)",
              "ticks": "outside"
             }
            },
            "type": "scattergl"
           }
          ],
          "scattermapbox": [
           {
            "marker": {
             "colorbar": {
              "outlinewidth": 1,
              "tickcolor": "rgb(36,36,36)",
              "ticks": "outside"
             }
            },
            "type": "scattermapbox"
           }
          ],
          "scatterpolar": [
           {
            "marker": {
             "colorbar": {
              "outlinewidth": 1,
              "tickcolor": "rgb(36,36,36)",
              "ticks": "outside"
             }
            },
            "type": "scatterpolar"
           }
          ],
          "scatterpolargl": [
           {
            "marker": {
             "colorbar": {
              "outlinewidth": 1,
              "tickcolor": "rgb(36,36,36)",
              "ticks": "outside"
             }
            },
            "type": "scatterpolargl"
           }
          ],
          "scatterternary": [
           {
            "marker": {
             "colorbar": {
              "outlinewidth": 1,
              "tickcolor": "rgb(36,36,36)",
              "ticks": "outside"
             }
            },
            "type": "scatterternary"
           }
          ],
          "surface": [
           {
            "colorbar": {
             "outlinewidth": 1,
             "tickcolor": "rgb(36,36,36)",
             "ticks": "outside"
            },
            "colorscale": [
             [
              0,
              "#440154"
             ],
             [
              0.1111111111111111,
              "#482878"
             ],
             [
              0.2222222222222222,
              "#3e4989"
             ],
             [
              0.3333333333333333,
              "#31688e"
             ],
             [
              0.4444444444444444,
              "#26828e"
             ],
             [
              0.5555555555555556,
              "#1f9e89"
             ],
             [
              0.6666666666666666,
              "#35b779"
             ],
             [
              0.7777777777777778,
              "#6ece58"
             ],
             [
              0.8888888888888888,
              "#b5de2b"
             ],
             [
              1,
              "#fde725"
             ]
            ],
            "type": "surface"
           }
          ],
          "table": [
           {
            "cells": {
             "fill": {
              "color": "rgb(237,237,237)"
             },
             "line": {
              "color": "white"
             }
            },
            "header": {
             "fill": {
              "color": "rgb(217,217,217)"
             },
             "line": {
              "color": "white"
             }
            },
            "type": "table"
           }
          ]
         },
         "layout": {
          "annotationdefaults": {
           "arrowhead": 0,
           "arrowwidth": 1
          },
          "autotypenumbers": "strict",
          "coloraxis": {
           "colorbar": {
            "outlinewidth": 1,
            "tickcolor": "rgb(36,36,36)",
            "ticks": "outside"
           }
          },
          "colorscale": {
           "diverging": [
            [
             0,
             "rgb(103,0,31)"
            ],
            [
             0.1,
             "rgb(178,24,43)"
            ],
            [
             0.2,
             "rgb(214,96,77)"
            ],
            [
             0.3,
             "rgb(244,165,130)"
            ],
            [
             0.4,
             "rgb(253,219,199)"
            ],
            [
             0.5,
             "rgb(247,247,247)"
            ],
            [
             0.6,
             "rgb(209,229,240)"
            ],
            [
             0.7,
             "rgb(146,197,222)"
            ],
            [
             0.8,
             "rgb(67,147,195)"
            ],
            [
             0.9,
             "rgb(33,102,172)"
            ],
            [
             1,
             "rgb(5,48,97)"
            ]
           ],
           "sequential": [
            [
             0,
             "#440154"
            ],
            [
             0.1111111111111111,
             "#482878"
            ],
            [
             0.2222222222222222,
             "#3e4989"
            ],
            [
             0.3333333333333333,
             "#31688e"
            ],
            [
             0.4444444444444444,
             "#26828e"
            ],
            [
             0.5555555555555556,
             "#1f9e89"
            ],
            [
             0.6666666666666666,
             "#35b779"
            ],
            [
             0.7777777777777778,
             "#6ece58"
            ],
            [
             0.8888888888888888,
             "#b5de2b"
            ],
            [
             1,
             "#fde725"
            ]
           ],
           "sequentialminus": [
            [
             0,
             "#440154"
            ],
            [
             0.1111111111111111,
             "#482878"
            ],
            [
             0.2222222222222222,
             "#3e4989"
            ],
            [
             0.3333333333333333,
             "#31688e"
            ],
            [
             0.4444444444444444,
             "#26828e"
            ],
            [
             0.5555555555555556,
             "#1f9e89"
            ],
            [
             0.6666666666666666,
             "#35b779"
            ],
            [
             0.7777777777777778,
             "#6ece58"
            ],
            [
             0.8888888888888888,
             "#b5de2b"
            ],
            [
             1,
             "#fde725"
            ]
           ]
          },
          "colorway": [
           "#1F77B4",
           "#FF7F0E",
           "#2CA02C",
           "#D62728",
           "#9467BD",
           "#8C564B",
           "#E377C2",
           "#7F7F7F",
           "#BCBD22",
           "#17BECF"
          ],
          "font": {
           "color": "rgb(36,36,36)"
          },
          "geo": {
           "bgcolor": "white",
           "lakecolor": "white",
           "landcolor": "white",
           "showlakes": true,
           "showland": true,
           "subunitcolor": "white"
          },
          "hoverlabel": {
           "align": "left"
          },
          "hovermode": "closest",
          "mapbox": {
           "style": "light"
          },
          "paper_bgcolor": "white",
          "plot_bgcolor": "white",
          "polar": {
           "angularaxis": {
            "gridcolor": "rgb(232,232,232)",
            "linecolor": "rgb(36,36,36)",
            "showgrid": false,
            "showline": true,
            "ticks": "outside"
           },
           "bgcolor": "white",
           "radialaxis": {
            "gridcolor": "rgb(232,232,232)",
            "linecolor": "rgb(36,36,36)",
            "showgrid": false,
            "showline": true,
            "ticks": "outside"
           }
          },
          "scene": {
           "xaxis": {
            "backgroundcolor": "white",
            "gridcolor": "rgb(232,232,232)",
            "gridwidth": 2,
            "linecolor": "rgb(36,36,36)",
            "showbackground": true,
            "showgrid": false,
            "showline": true,
            "ticks": "outside",
            "zeroline": false,
            "zerolinecolor": "rgb(36,36,36)"
           },
           "yaxis": {
            "backgroundcolor": "white",
            "gridcolor": "rgb(232,232,232)",
            "gridwidth": 2,
            "linecolor": "rgb(36,36,36)",
            "showbackground": true,
            "showgrid": false,
            "showline": true,
            "ticks": "outside",
            "zeroline": false,
            "zerolinecolor": "rgb(36,36,36)"
           },
           "zaxis": {
            "backgroundcolor": "white",
            "gridcolor": "rgb(232,232,232)",
            "gridwidth": 2,
            "linecolor": "rgb(36,36,36)",
            "showbackground": true,
            "showgrid": false,
            "showline": true,
            "ticks": "outside",
            "zeroline": false,
            "zerolinecolor": "rgb(36,36,36)"
           }
          },
          "shapedefaults": {
           "fillcolor": "black",
           "line": {
            "width": 0
           },
           "opacity": 0.3
          },
          "ternary": {
           "aaxis": {
            "gridcolor": "rgb(232,232,232)",
            "linecolor": "rgb(36,36,36)",
            "showgrid": false,
            "showline": true,
            "ticks": "outside"
           },
           "baxis": {
            "gridcolor": "rgb(232,232,232)",
            "linecolor": "rgb(36,36,36)",
            "showgrid": false,
            "showline": true,
            "ticks": "outside"
           },
           "bgcolor": "white",
           "caxis": {
            "gridcolor": "rgb(232,232,232)",
            "linecolor": "rgb(36,36,36)",
            "showgrid": false,
            "showline": true,
            "ticks": "outside"
           }
          },
          "title": {
           "x": 0.05
          },
          "xaxis": {
           "automargin": true,
           "gridcolor": "rgb(232,232,232)",
           "linecolor": "rgb(36,36,36)",
           "showgrid": false,
           "showline": true,
           "ticks": "outside",
           "title": {
            "standoff": 15
           },
           "zeroline": false,
           "zerolinecolor": "rgb(36,36,36)"
          },
          "yaxis": {
           "automargin": true,
           "gridcolor": "rgb(232,232,232)",
           "linecolor": "rgb(36,36,36)",
           "showgrid": false,
           "showline": true,
           "ticks": "outside",
           "title": {
            "standoff": 15
           },
           "zeroline": false,
           "zerolinecolor": "rgb(36,36,36)"
          }
         }
        },
        "title": {
         "text": "Verhältnis Projekte zu Auszahlungen (KPI) nach Geschlecht"
        },
        "xaxis": {
         "anchor": "y",
         "domain": [
          0,
          1
         ],
         "title": {
          "text": "KPI"
         }
        },
        "yaxis": {
         "anchor": "x",
         "categoryarray": [
          "male_single",
          "male_group",
          "mixed_group",
          "female_single",
          "female_group"
         ],
         "categoryorder": "array",
         "domain": [
          0,
          1
         ],
         "title": {
          "text": "Geschlecht"
         }
        }
       }
      }
     },
     "metadata": {},
     "output_type": "display_data"
    }
   ],
   "source": [
    "bar = px.bar(data_frame=df_gender, \n",
    "                    x='KPI_funded_loan',\n",
    "                    y=\"gender\",\n",
    "                    color='gender',\n",
    "                    labels={\"KPI_funded_loan\":\"KPI\", \"gender\":\"Geschlecht\"},\n",
    "                    title=\"Verhältnis Projekte zu Auszahlungen (KPI) nach Geschlecht\",\n",
    "                    template=\"simple_white\"\n",
    "                                     \n",
    "                   )\n",
    "\n",
    "bar.show()"
   ]
  },
  {
   "cell_type": "markdown",
   "id": "a714ccb4",
   "metadata": {},
   "source": [
    "Männer und Männergruppen erreichen offensichtlich nicht immer den gewünschten Auszahlungsbetrag, während das bei Frauen, Frauengruppen aber auch gemischten Gruppen nicht der Fall ist."
   ]
  },
  {
   "cell_type": "markdown",
   "id": "c81c4a56",
   "metadata": {
    "ExecuteTime": {
     "end_time": "2024-02-16T10:20:46.057594Z",
     "start_time": "2024-02-16T10:20:46.045178Z"
    }
   },
   "source": [
    "**Wie sieht allgemein die Verteilung aus zwischen den Geschlechtern und den Sektoren?**"
   ]
  },
  {
   "cell_type": "markdown",
   "id": "25f1f87c",
   "metadata": {},
   "source": [
    "Zunächst erfolgt für den Überblick ein Plot der Rohdaten, um ein Gefühl für die Häufigkeiten zu entwickeln. Die Geschlechter female_single, male_single und female_group nehmen mit ihren Projekten (in Dollar) je etwa ein drittel aller Projekte ein, der Anteil an Männergruppen (male_group) und gemischten Gruppen (mixed_group) ist hingegen verschwindend gering. Die Sektoren Agriculture, Food und Retail nehmen den größten Platz ein. An der Farbgebung ist zu erkennen, dass es sich im einzelnen eher um kleinere Auszahlungen handelt."
   ]
  },
  {
   "cell_type": "code",
   "execution_count": 220,
   "id": "f89f51db",
   "metadata": {
    "ExecuteTime": {
     "end_time": "2024-02-16T10:22:03.748556Z",
     "start_time": "2024-02-16T10:21:57.169702Z"
    }
   },
   "outputs": [
    {
     "data": {
      "application/vnd.plotly.v1+json": {
       "config": {
        "plotlyServerURL": "https://plot.ly"
       },
       "data": [
        {
         "branchvalues": "total",
         "customdata": [
          [
           2246.7933107792237
          ],
          [
           1828.727357575684
          ],
          [
           3037.4493790279485
          ],
          [
           2361.6300412852534
          ],
          [
           1710.4031525179405
          ],
          [
           3419.2314935813665
          ],
          [
           2563.8195198008984
          ],
          [
           2536.526639344262
          ],
          [
           3870.030865385849
          ],
          [
           3490.336846066993
          ],
          [
           3505.8555933031353
          ],
          [
           2265.490179714679
          ],
          [
           3023.754824480794
          ],
          [
           3376.5777145372217
          ],
          [
           3537.698055217
          ],
          [
           3187.777517014785
          ],
          [
           2641.8773447269696
          ],
          [
           3588.696648179407
          ],
          [
           2288.244662925464
          ],
          [
           4137.663301662707
          ],
          [
           2698.5962981335647
          ],
          [
           1973.6008312246177
          ],
          [
           3030.9498317528296
          ],
          [
           2157.405184039999
          ],
          [
           2668.7475422729062
          ],
          [
           3253.310810810811
          ],
          [
           2934.4562932469125
          ],
          [
           600
          ],
          [
           2117.6552007899936
          ],
          [
           4513.364779874214
          ],
          [
           3167.9400660035917
          ],
          [
           2108.6604536263635
          ],
          [
           2392.4166376782787
          ],
          [
           2630.503890247559
          ],
          [
           2842.9116889620145
          ],
          [
           3656.232475010167
          ],
          [
           2330.92904974413
          ],
          [
           2433.1293302540416
          ],
          [
           3478.2724190196413
          ],
          [
           2943.362704030045
          ],
          [
           1755.3020479988886
          ],
          [
           994.4306258044071
          ],
          [
           1921.3854021385403
          ],
          [
           1296.2766969258246
          ],
          [
           1259.9295127183573
          ],
          [
           2644.417931898585
          ],
          [
           1667.589726801976
          ],
          [
           2799.77130476649
          ],
          [
           3359.304392104396
          ],
          [
           2697.358121330724
          ],
          [
           763.6167661615389
          ],
          [
           1478.4035005711141
          ],
          [
           1412.7117837426233
          ],
          [
           1068.060116284222
          ],
          [
           474.0274974084784
          ],
          [
           3461.8683184006827
          ],
          [
           1969.192005719415
          ],
          [
           2561.1320033144243
          ],
          [
           2822.827306666491
          ],
          [
           3247.8794691341936
          ],
          [
           3549.6022635965014
          ],
          [
           2343.8789823010998
          ],
          [
           4074.360386828253
          ],
          [
           2596.2514200359897
          ],
          [
           2829.956409428479
          ],
          [
           2122.0164695945946
          ],
          [
           1354.324753648161
          ],
          [
           2367.723214285714
          ],
          [
           1885.4270485350128
          ],
          [
           1935.5829744948658
          ],
          [
           2872.480422199523
          ],
          [
           2881.369278510473
          ],
          [
           2360.2083333333335
          ],
          [
           12797.140060383055
          ],
          [
           2550
          ],
          [
           3015.4237770845525
          ],
          [
           1979.0138221049579
          ],
          [
           2894.356943811334
          ],
          [
           2465.651608740408
          ],
          [
           2492.89474454447
          ]
         ],
         "domain": {
          "x": [
           0,
           1
          ],
          "y": [
           0,
           1
          ]
         },
         "hovertemplate": "labels=%{label}<br>loan_amount=%{value}<br>parent=%{parent}<br>id=%{id}<br>Auszahlungshöhe (Dollar)=%{color}<extra></extra>",
         "ids": [
          "female_group/Agriculture",
          "female_single/Agriculture",
          "male_group/Agriculture",
          "male_single/Agriculture",
          "mixed_group/Agriculture",
          "female_group/Arts",
          "female_single/Arts",
          "male_group/Arts",
          "male_single/Arts",
          "mixed_group/Arts",
          "female_group/Clothing",
          "female_single/Clothing",
          "male_group/Clothing",
          "male_single/Clothing",
          "mixed_group/Clothing",
          "female_group/Construction",
          "female_single/Construction",
          "male_group/Construction",
          "male_single/Construction",
          "mixed_group/Construction",
          "female_group/Education",
          "female_single/Education",
          "male_group/Education",
          "male_single/Education",
          "mixed_group/Education",
          "female_group/Entertainment",
          "female_single/Entertainment",
          "male_group/Entertainment",
          "male_single/Entertainment",
          "mixed_group/Entertainment",
          "female_group/Food",
          "female_single/Food",
          "male_group/Food",
          "male_single/Food",
          "mixed_group/Food",
          "female_group/Health",
          "female_single/Health",
          "male_group/Health",
          "male_single/Health",
          "mixed_group/Health",
          "female_group/Housing",
          "female_single/Housing",
          "male_group/Housing",
          "male_single/Housing",
          "mixed_group/Housing",
          "female_group/Manufacturing",
          "female_single/Manufacturing",
          "male_group/Manufacturing",
          "male_single/Manufacturing",
          "mixed_group/Manufacturing",
          "female_group/Personal Use",
          "female_single/Personal Use",
          "male_group/Personal Use",
          "male_single/Personal Use",
          "mixed_group/Personal Use",
          "female_group/Retail",
          "female_single/Retail",
          "male_group/Retail",
          "male_single/Retail",
          "mixed_group/Retail",
          "female_group/Services",
          "female_single/Services",
          "male_group/Services",
          "male_single/Services",
          "mixed_group/Services",
          "female_group/Transportation",
          "female_single/Transportation",
          "male_group/Transportation",
          "male_single/Transportation",
          "mixed_group/Transportation",
          "female_group/Wholesale",
          "female_single/Wholesale",
          "male_group/Wholesale",
          "male_single/Wholesale",
          "mixed_group/Wholesale",
          "female_group",
          "female_single",
          "male_group",
          "male_single",
          "mixed_group"
         ],
         "labels": [
          "Agriculture",
          "Agriculture",
          "Agriculture",
          "Agriculture",
          "Agriculture",
          "Arts",
          "Arts",
          "Arts",
          "Arts",
          "Arts",
          "Clothing",
          "Clothing",
          "Clothing",
          "Clothing",
          "Clothing",
          "Construction",
          "Construction",
          "Construction",
          "Construction",
          "Construction",
          "Education",
          "Education",
          "Education",
          "Education",
          "Education",
          "Entertainment",
          "Entertainment",
          "Entertainment",
          "Entertainment",
          "Entertainment",
          "Food",
          "Food",
          "Food",
          "Food",
          "Food",
          "Health",
          "Health",
          "Health",
          "Health",
          "Health",
          "Housing",
          "Housing",
          "Housing",
          "Housing",
          "Housing",
          "Manufacturing",
          "Manufacturing",
          "Manufacturing",
          "Manufacturing",
          "Manufacturing",
          "Personal Use",
          "Personal Use",
          "Personal Use",
          "Personal Use",
          "Personal Use",
          "Retail",
          "Retail",
          "Retail",
          "Retail",
          "Retail",
          "Services",
          "Services",
          "Services",
          "Services",
          "Services",
          "Transportation",
          "Transportation",
          "Transportation",
          "Transportation",
          "Transportation",
          "Wholesale",
          "Wholesale",
          "Wholesale",
          "Wholesale",
          "Wholesale",
          "female_group",
          "female_single",
          "male_group",
          "male_single",
          "mixed_group"
         ],
         "marker": {
          "coloraxis": "coloraxis",
          "colors": [
           2246.7933107792237,
           1828.727357575684,
           3037.4493790279485,
           2361.6300412852534,
           1710.4031525179405,
           3419.2314935813665,
           2563.8195198008984,
           2536.526639344262,
           3870.030865385849,
           3490.336846066993,
           3505.8555933031353,
           2265.490179714679,
           3023.754824480794,
           3376.5777145372217,
           3537.698055217,
           3187.777517014785,
           2641.8773447269696,
           3588.696648179407,
           2288.244662925464,
           4137.663301662707,
           2698.5962981335647,
           1973.6008312246177,
           3030.9498317528296,
           2157.405184039999,
           2668.7475422729062,
           3253.310810810811,
           2934.4562932469125,
           600,
           2117.6552007899936,
           4513.364779874214,
           3167.9400660035917,
           2108.6604536263635,
           2392.4166376782787,
           2630.503890247559,
           2842.9116889620145,
           3656.232475010167,
           2330.92904974413,
           2433.1293302540416,
           3478.2724190196413,
           2943.362704030045,
           1755.3020479988886,
           994.4306258044071,
           1921.3854021385403,
           1296.2766969258246,
           1259.9295127183573,
           2644.417931898585,
           1667.589726801976,
           2799.77130476649,
           3359.304392104396,
           2697.358121330724,
           763.6167661615389,
           1478.4035005711141,
           1412.7117837426233,
           1068.060116284222,
           474.0274974084784,
           3461.8683184006827,
           1969.192005719415,
           2561.1320033144243,
           2822.827306666491,
           3247.8794691341936,
           3549.6022635965014,
           2343.8789823010998,
           4074.360386828253,
           2596.2514200359897,
           2829.956409428479,
           2122.0164695945946,
           1354.324753648161,
           2367.723214285714,
           1885.4270485350128,
           1935.5829744948658,
           2872.480422199523,
           2881.369278510473,
           2360.2083333333335,
           12797.140060383055,
           2550,
           3015.4237770845525,
           1979.0138221049579,
           2894.356943811334,
           2465.651608740408,
           2492.89474454447
          ]
         },
         "name": "",
         "parents": [
          "female_group",
          "female_single",
          "male_group",
          "male_single",
          "mixed_group",
          "female_group",
          "female_single",
          "male_group",
          "male_single",
          "mixed_group",
          "female_group",
          "female_single",
          "male_group",
          "male_single",
          "mixed_group",
          "female_group",
          "female_single",
          "male_group",
          "male_single",
          "mixed_group",
          "female_group",
          "female_single",
          "male_group",
          "male_single",
          "mixed_group",
          "female_group",
          "female_single",
          "male_group",
          "male_single",
          "mixed_group",
          "female_group",
          "female_single",
          "male_group",
          "male_single",
          "mixed_group",
          "female_group",
          "female_single",
          "male_group",
          "male_single",
          "mixed_group",
          "female_group",
          "female_single",
          "male_group",
          "male_single",
          "mixed_group",
          "female_group",
          "female_single",
          "male_group",
          "male_single",
          "mixed_group",
          "female_group",
          "female_single",
          "male_group",
          "male_single",
          "mixed_group",
          "female_group",
          "female_single",
          "male_group",
          "male_single",
          "mixed_group",
          "female_group",
          "female_single",
          "male_group",
          "male_single",
          "mixed_group",
          "female_group",
          "female_single",
          "male_group",
          "male_single",
          "mixed_group",
          "female_group",
          "female_single",
          "male_group",
          "male_single",
          "mixed_group",
          "",
          "",
          "",
          "",
          ""
         ],
         "type": "sunburst",
         "values": [
          21230425,
          74089350,
          3883025,
          41310150,
          1595550,
          3252250,
          6750325,
          24400,
          1947975,
          132850,
          11259000,
          20969350,
          136025,
          4146425,
          471775,
          532625,
          2399000,
          103675,
          3412450,
          84200,
          1612700,
          16854650,
          81725,
          12160400,
          63575,
          27750,
          570850,
          600,
          759500,
          7950,
          30710450,
          69312550,
          503075,
          18594575,
          1397900,
          1167975,
          5193075,
          54125,
          3199850,
          173075,
          2159425,
          14121425,
          53775,
          7097025,
          81575,
          678400,
          2100125,
          51925,
          2503925,
          51100,
          2449875,
          6631775,
          262650,
          5078075,
          458225,
          20508750,
          60076075,
          392225,
          15194275,
          1150950,
          7622825,
          25760075,
          204225,
          13489975,
          232275,
          296000,
          4642750,
          56000,
          5874625,
          75475,
          73425,
          322250,
          6000,
          529950,
          2550,
          103581875,
          309793625,
          5813450,
          135299175,
          5979025
         ]
        }
       ],
       "layout": {
        "coloraxis": {
         "colorbar": {
          "title": {
           "text": "Auszahlungshöhe (Dollar)"
          }
         },
         "colorscale": [
          [
           0,
           "#0d0887"
          ],
          [
           0.1111111111111111,
           "#46039f"
          ],
          [
           0.2222222222222222,
           "#7201a8"
          ],
          [
           0.3333333333333333,
           "#9c179e"
          ],
          [
           0.4444444444444444,
           "#bd3786"
          ],
          [
           0.5555555555555556,
           "#d8576b"
          ],
          [
           0.6666666666666666,
           "#ed7953"
          ],
          [
           0.7777777777777778,
           "#fb9f3a"
          ],
          [
           0.8888888888888888,
           "#fdca26"
          ],
          [
           1,
           "#f0f921"
          ]
         ]
        },
        "legend": {
         "tracegroupgap": 0
        },
        "template": {
         "data": {
          "bar": [
           {
            "error_x": {
             "color": "#2a3f5f"
            },
            "error_y": {
             "color": "#2a3f5f"
            },
            "marker": {
             "line": {
              "color": "#E5ECF6",
              "width": 0.5
             },
             "pattern": {
              "fillmode": "overlay",
              "size": 10,
              "solidity": 0.2
             }
            },
            "type": "bar"
           }
          ],
          "barpolar": [
           {
            "marker": {
             "line": {
              "color": "#E5ECF6",
              "width": 0.5
             },
             "pattern": {
              "fillmode": "overlay",
              "size": 10,
              "solidity": 0.2
             }
            },
            "type": "barpolar"
           }
          ],
          "carpet": [
           {
            "aaxis": {
             "endlinecolor": "#2a3f5f",
             "gridcolor": "white",
             "linecolor": "white",
             "minorgridcolor": "white",
             "startlinecolor": "#2a3f5f"
            },
            "baxis": {
             "endlinecolor": "#2a3f5f",
             "gridcolor": "white",
             "linecolor": "white",
             "minorgridcolor": "white",
             "startlinecolor": "#2a3f5f"
            },
            "type": "carpet"
           }
          ],
          "choropleth": [
           {
            "colorbar": {
             "outlinewidth": 0,
             "ticks": ""
            },
            "type": "choropleth"
           }
          ],
          "contour": [
           {
            "colorbar": {
             "outlinewidth": 0,
             "ticks": ""
            },
            "colorscale": [
             [
              0,
              "#0d0887"
             ],
             [
              0.1111111111111111,
              "#46039f"
             ],
             [
              0.2222222222222222,
              "#7201a8"
             ],
             [
              0.3333333333333333,
              "#9c179e"
             ],
             [
              0.4444444444444444,
              "#bd3786"
             ],
             [
              0.5555555555555556,
              "#d8576b"
             ],
             [
              0.6666666666666666,
              "#ed7953"
             ],
             [
              0.7777777777777778,
              "#fb9f3a"
             ],
             [
              0.8888888888888888,
              "#fdca26"
             ],
             [
              1,
              "#f0f921"
             ]
            ],
            "type": "contour"
           }
          ],
          "contourcarpet": [
           {
            "colorbar": {
             "outlinewidth": 0,
             "ticks": ""
            },
            "type": "contourcarpet"
           }
          ],
          "heatmap": [
           {
            "colorbar": {
             "outlinewidth": 0,
             "ticks": ""
            },
            "colorscale": [
             [
              0,
              "#0d0887"
             ],
             [
              0.1111111111111111,
              "#46039f"
             ],
             [
              0.2222222222222222,
              "#7201a8"
             ],
             [
              0.3333333333333333,
              "#9c179e"
             ],
             [
              0.4444444444444444,
              "#bd3786"
             ],
             [
              0.5555555555555556,
              "#d8576b"
             ],
             [
              0.6666666666666666,
              "#ed7953"
             ],
             [
              0.7777777777777778,
              "#fb9f3a"
             ],
             [
              0.8888888888888888,
              "#fdca26"
             ],
             [
              1,
              "#f0f921"
             ]
            ],
            "type": "heatmap"
           }
          ],
          "heatmapgl": [
           {
            "colorbar": {
             "outlinewidth": 0,
             "ticks": ""
            },
            "colorscale": [
             [
              0,
              "#0d0887"
             ],
             [
              0.1111111111111111,
              "#46039f"
             ],
             [
              0.2222222222222222,
              "#7201a8"
             ],
             [
              0.3333333333333333,
              "#9c179e"
             ],
             [
              0.4444444444444444,
              "#bd3786"
             ],
             [
              0.5555555555555556,
              "#d8576b"
             ],
             [
              0.6666666666666666,
              "#ed7953"
             ],
             [
              0.7777777777777778,
              "#fb9f3a"
             ],
             [
              0.8888888888888888,
              "#fdca26"
             ],
             [
              1,
              "#f0f921"
             ]
            ],
            "type": "heatmapgl"
           }
          ],
          "histogram": [
           {
            "marker": {
             "pattern": {
              "fillmode": "overlay",
              "size": 10,
              "solidity": 0.2
             }
            },
            "type": "histogram"
           }
          ],
          "histogram2d": [
           {
            "colorbar": {
             "outlinewidth": 0,
             "ticks": ""
            },
            "colorscale": [
             [
              0,
              "#0d0887"
             ],
             [
              0.1111111111111111,
              "#46039f"
             ],
             [
              0.2222222222222222,
              "#7201a8"
             ],
             [
              0.3333333333333333,
              "#9c179e"
             ],
             [
              0.4444444444444444,
              "#bd3786"
             ],
             [
              0.5555555555555556,
              "#d8576b"
             ],
             [
              0.6666666666666666,
              "#ed7953"
             ],
             [
              0.7777777777777778,
              "#fb9f3a"
             ],
             [
              0.8888888888888888,
              "#fdca26"
             ],
             [
              1,
              "#f0f921"
             ]
            ],
            "type": "histogram2d"
           }
          ],
          "histogram2dcontour": [
           {
            "colorbar": {
             "outlinewidth": 0,
             "ticks": ""
            },
            "colorscale": [
             [
              0,
              "#0d0887"
             ],
             [
              0.1111111111111111,
              "#46039f"
             ],
             [
              0.2222222222222222,
              "#7201a8"
             ],
             [
              0.3333333333333333,
              "#9c179e"
             ],
             [
              0.4444444444444444,
              "#bd3786"
             ],
             [
              0.5555555555555556,
              "#d8576b"
             ],
             [
              0.6666666666666666,
              "#ed7953"
             ],
             [
              0.7777777777777778,
              "#fb9f3a"
             ],
             [
              0.8888888888888888,
              "#fdca26"
             ],
             [
              1,
              "#f0f921"
             ]
            ],
            "type": "histogram2dcontour"
           }
          ],
          "mesh3d": [
           {
            "colorbar": {
             "outlinewidth": 0,
             "ticks": ""
            },
            "type": "mesh3d"
           }
          ],
          "parcoords": [
           {
            "line": {
             "colorbar": {
              "outlinewidth": 0,
              "ticks": ""
             }
            },
            "type": "parcoords"
           }
          ],
          "pie": [
           {
            "automargin": true,
            "type": "pie"
           }
          ],
          "scatter": [
           {
            "fillpattern": {
             "fillmode": "overlay",
             "size": 10,
             "solidity": 0.2
            },
            "type": "scatter"
           }
          ],
          "scatter3d": [
           {
            "line": {
             "colorbar": {
              "outlinewidth": 0,
              "ticks": ""
             }
            },
            "marker": {
             "colorbar": {
              "outlinewidth": 0,
              "ticks": ""
             }
            },
            "type": "scatter3d"
           }
          ],
          "scattercarpet": [
           {
            "marker": {
             "colorbar": {
              "outlinewidth": 0,
              "ticks": ""
             }
            },
            "type": "scattercarpet"
           }
          ],
          "scattergeo": [
           {
            "marker": {
             "colorbar": {
              "outlinewidth": 0,
              "ticks": ""
             }
            },
            "type": "scattergeo"
           }
          ],
          "scattergl": [
           {
            "marker": {
             "colorbar": {
              "outlinewidth": 0,
              "ticks": ""
             }
            },
            "type": "scattergl"
           }
          ],
          "scattermapbox": [
           {
            "marker": {
             "colorbar": {
              "outlinewidth": 0,
              "ticks": ""
             }
            },
            "type": "scattermapbox"
           }
          ],
          "scatterpolar": [
           {
            "marker": {
             "colorbar": {
              "outlinewidth": 0,
              "ticks": ""
             }
            },
            "type": "scatterpolar"
           }
          ],
          "scatterpolargl": [
           {
            "marker": {
             "colorbar": {
              "outlinewidth": 0,
              "ticks": ""
             }
            },
            "type": "scatterpolargl"
           }
          ],
          "scatterternary": [
           {
            "marker": {
             "colorbar": {
              "outlinewidth": 0,
              "ticks": ""
             }
            },
            "type": "scatterternary"
           }
          ],
          "surface": [
           {
            "colorbar": {
             "outlinewidth": 0,
             "ticks": ""
            },
            "colorscale": [
             [
              0,
              "#0d0887"
             ],
             [
              0.1111111111111111,
              "#46039f"
             ],
             [
              0.2222222222222222,
              "#7201a8"
             ],
             [
              0.3333333333333333,
              "#9c179e"
             ],
             [
              0.4444444444444444,
              "#bd3786"
             ],
             [
              0.5555555555555556,
              "#d8576b"
             ],
             [
              0.6666666666666666,
              "#ed7953"
             ],
             [
              0.7777777777777778,
              "#fb9f3a"
             ],
             [
              0.8888888888888888,
              "#fdca26"
             ],
             [
              1,
              "#f0f921"
             ]
            ],
            "type": "surface"
           }
          ],
          "table": [
           {
            "cells": {
             "fill": {
              "color": "#EBF0F8"
             },
             "line": {
              "color": "white"
             }
            },
            "header": {
             "fill": {
              "color": "#C8D4E3"
             },
             "line": {
              "color": "white"
             }
            },
            "type": "table"
           }
          ]
         },
         "layout": {
          "annotationdefaults": {
           "arrowcolor": "#2a3f5f",
           "arrowhead": 0,
           "arrowwidth": 1
          },
          "autotypenumbers": "strict",
          "coloraxis": {
           "colorbar": {
            "outlinewidth": 0,
            "ticks": ""
           }
          },
          "colorscale": {
           "diverging": [
            [
             0,
             "#8e0152"
            ],
            [
             0.1,
             "#c51b7d"
            ],
            [
             0.2,
             "#de77ae"
            ],
            [
             0.3,
             "#f1b6da"
            ],
            [
             0.4,
             "#fde0ef"
            ],
            [
             0.5,
             "#f7f7f7"
            ],
            [
             0.6,
             "#e6f5d0"
            ],
            [
             0.7,
             "#b8e186"
            ],
            [
             0.8,
             "#7fbc41"
            ],
            [
             0.9,
             "#4d9221"
            ],
            [
             1,
             "#276419"
            ]
           ],
           "sequential": [
            [
             0,
             "#0d0887"
            ],
            [
             0.1111111111111111,
             "#46039f"
            ],
            [
             0.2222222222222222,
             "#7201a8"
            ],
            [
             0.3333333333333333,
             "#9c179e"
            ],
            [
             0.4444444444444444,
             "#bd3786"
            ],
            [
             0.5555555555555556,
             "#d8576b"
            ],
            [
             0.6666666666666666,
             "#ed7953"
            ],
            [
             0.7777777777777778,
             "#fb9f3a"
            ],
            [
             0.8888888888888888,
             "#fdca26"
            ],
            [
             1,
             "#f0f921"
            ]
           ],
           "sequentialminus": [
            [
             0,
             "#0d0887"
            ],
            [
             0.1111111111111111,
             "#46039f"
            ],
            [
             0.2222222222222222,
             "#7201a8"
            ],
            [
             0.3333333333333333,
             "#9c179e"
            ],
            [
             0.4444444444444444,
             "#bd3786"
            ],
            [
             0.5555555555555556,
             "#d8576b"
            ],
            [
             0.6666666666666666,
             "#ed7953"
            ],
            [
             0.7777777777777778,
             "#fb9f3a"
            ],
            [
             0.8888888888888888,
             "#fdca26"
            ],
            [
             1,
             "#f0f921"
            ]
           ]
          },
          "colorway": [
           "#636efa",
           "#EF553B",
           "#00cc96",
           "#ab63fa",
           "#FFA15A",
           "#19d3f3",
           "#FF6692",
           "#B6E880",
           "#FF97FF",
           "#FECB52"
          ],
          "font": {
           "color": "#2a3f5f"
          },
          "geo": {
           "bgcolor": "white",
           "lakecolor": "white",
           "landcolor": "#E5ECF6",
           "showlakes": true,
           "showland": true,
           "subunitcolor": "white"
          },
          "hoverlabel": {
           "align": "left"
          },
          "hovermode": "closest",
          "mapbox": {
           "style": "light"
          },
          "paper_bgcolor": "white",
          "plot_bgcolor": "#E5ECF6",
          "polar": {
           "angularaxis": {
            "gridcolor": "white",
            "linecolor": "white",
            "ticks": ""
           },
           "bgcolor": "#E5ECF6",
           "radialaxis": {
            "gridcolor": "white",
            "linecolor": "white",
            "ticks": ""
           }
          },
          "scene": {
           "xaxis": {
            "backgroundcolor": "#E5ECF6",
            "gridcolor": "white",
            "gridwidth": 2,
            "linecolor": "white",
            "showbackground": true,
            "ticks": "",
            "zerolinecolor": "white"
           },
           "yaxis": {
            "backgroundcolor": "#E5ECF6",
            "gridcolor": "white",
            "gridwidth": 2,
            "linecolor": "white",
            "showbackground": true,
            "ticks": "",
            "zerolinecolor": "white"
           },
           "zaxis": {
            "backgroundcolor": "#E5ECF6",
            "gridcolor": "white",
            "gridwidth": 2,
            "linecolor": "white",
            "showbackground": true,
            "ticks": "",
            "zerolinecolor": "white"
           }
          },
          "shapedefaults": {
           "line": {
            "color": "#2a3f5f"
           }
          },
          "ternary": {
           "aaxis": {
            "gridcolor": "white",
            "linecolor": "white",
            "ticks": ""
           },
           "baxis": {
            "gridcolor": "white",
            "linecolor": "white",
            "ticks": ""
           },
           "bgcolor": "#E5ECF6",
           "caxis": {
            "gridcolor": "white",
            "linecolor": "white",
            "ticks": ""
           }
          },
          "title": {
           "x": 0.05
          },
          "xaxis": {
           "automargin": true,
           "gridcolor": "white",
           "linecolor": "white",
           "ticks": "",
           "title": {
            "standoff": 15
           },
           "zerolinecolor": "white",
           "zerolinewidth": 2
          },
          "yaxis": {
           "automargin": true,
           "gridcolor": "white",
           "linecolor": "white",
           "ticks": "",
           "title": {
            "standoff": 15
           },
           "zerolinecolor": "white",
           "zerolinewidth": 2
          }
         }
        },
        "title": {
         "text": "Verteilung Geschlechter und Sektoren"
        }
       }
      }
     },
     "metadata": {},
     "output_type": "display_data"
    }
   ],
   "source": [
    "# Anzeige der Verteilung des Geschlechts und der Sektoren in Hinblick auf die Projekte\n",
    "\n",
    "fig = px.sunburst(df, path=['gender', 'sector'],values='loan_amount',\n",
    "                                                title= 'Verteilung Geschlechter und Sektoren', \n",
    "                                                labels= {'funded_amount': 'Auszahlungshöhe (Dollar)'},\n",
    "                                                color='funded_amount') \n",
    "fig.show()"
   ]
  },
  {
   "cell_type": "markdown",
   "id": "713c2921",
   "metadata": {},
   "source": [
    "Betrachtet man hingegen die aggregierten Werte (Mittelwerte) , so ergibt sich ein vollkommen anderes Bild. Bezogen auf die vorgestellten Projekte nehmen alle Gschlechtergruppen durchschnittlich etwa ein fünftel ein. Offensichtlich erreichen die Projekte der Männergruppen und der gemischten Gruppen durchschnittlich deutlich höhere Geldbeträge, sodass sie in diesem Plot mit den Singls und Frauengruppen etwa gleich auf sind. Die Verteilung auf die verschiedenen Branchen ist deutlich ausgeglichener. Das Bild zeigt aber auch deutliche Unterschiede zum vorherigen Plot in den Höhen der ausgezahlten Krediten: Während hier die Singles, insbesondere die Frauen, durchschnittlich eher geringe Kredite ausgezahlt bekommen, sind bei allen Gruppen die Auszahlungen deutlich höher. Diser Zusammenhang scheint auch plausibel, da sich in Gruppen die Verantwortung auf mehrere Personen verteilt und entsprechend größere Projekte mit größeren Summen gestemmt werden können."
   ]
  },
  {
   "cell_type": "code",
   "execution_count": 221,
   "id": "e62ef212",
   "metadata": {
    "ExecuteTime": {
     "end_time": "2024-02-16T10:24:03.586894Z",
     "start_time": "2024-02-16T10:24:03.435634Z"
    }
   },
   "outputs": [
    {
     "data": {
      "text/html": [
       "<div>\n",
       "<style scoped>\n",
       "    .dataframe tbody tr th:only-of-type {\n",
       "        vertical-align: middle;\n",
       "    }\n",
       "\n",
       "    .dataframe tbody tr th {\n",
       "        vertical-align: top;\n",
       "    }\n",
       "\n",
       "    .dataframe thead th {\n",
       "        text-align: right;\n",
       "    }\n",
       "</style>\n",
       "<table border=\"1\" class=\"dataframe\">\n",
       "  <thead>\n",
       "    <tr style=\"text-align: right;\">\n",
       "      <th></th>\n",
       "      <th>gender</th>\n",
       "      <th>sector</th>\n",
       "      <th>funded_amount</th>\n",
       "      <th>loan_amount</th>\n",
       "    </tr>\n",
       "  </thead>\n",
       "  <tbody>\n",
       "    <tr>\n",
       "      <th>65</th>\n",
       "      <td>mixed_group</td>\n",
       "      <td>Entertainment</td>\n",
       "      <td>2650.000000</td>\n",
       "      <td>2650.000000</td>\n",
       "    </tr>\n",
       "    <tr>\n",
       "      <th>74</th>\n",
       "      <td>mixed_group</td>\n",
       "      <td>Wholesale</td>\n",
       "      <td>2550.000000</td>\n",
       "      <td>2550.000000</td>\n",
       "    </tr>\n",
       "    <tr>\n",
       "      <th>12</th>\n",
       "      <td>female_group</td>\n",
       "      <td>Services</td>\n",
       "      <td>2469.978632</td>\n",
       "      <td>2505.859632</td>\n",
       "    </tr>\n",
       "    <tr>\n",
       "      <th>33</th>\n",
       "      <td>male_group</td>\n",
       "      <td>Construction</td>\n",
       "      <td>2468.055556</td>\n",
       "      <td>2879.861111</td>\n",
       "    </tr>\n",
       "    <tr>\n",
       "      <th>7</th>\n",
       "      <td>female_group</td>\n",
       "      <td>Health</td>\n",
       "      <td>2460.126582</td>\n",
       "      <td>2464.082278</td>\n",
       "    </tr>\n",
       "    <tr>\n",
       "      <th>...</th>\n",
       "      <td>...</td>\n",
       "      <td>...</td>\n",
       "      <td>...</td>\n",
       "      <td>...</td>\n",
       "    </tr>\n",
       "    <tr>\n",
       "      <th>55</th>\n",
       "      <td>male_single</td>\n",
       "      <td>Personal Use</td>\n",
       "      <td>488.737818</td>\n",
       "      <td>532.125642</td>\n",
       "    </tr>\n",
       "    <tr>\n",
       "      <th>25</th>\n",
       "      <td>female_single</td>\n",
       "      <td>Personal Use</td>\n",
       "      <td>473.951114</td>\n",
       "      <td>494.207840</td>\n",
       "    </tr>\n",
       "    <tr>\n",
       "      <th>40</th>\n",
       "      <td>male_group</td>\n",
       "      <td>Personal Use</td>\n",
       "      <td>323.518519</td>\n",
       "      <td>324.259259</td>\n",
       "    </tr>\n",
       "    <tr>\n",
       "      <th>10</th>\n",
       "      <td>female_group</td>\n",
       "      <td>Personal Use</td>\n",
       "      <td>241.430302</td>\n",
       "      <td>247.287272</td>\n",
       "    </tr>\n",
       "    <tr>\n",
       "      <th>70</th>\n",
       "      <td>mixed_group</td>\n",
       "      <td>Personal Use</td>\n",
       "      <td>175.077882</td>\n",
       "      <td>178.436526</td>\n",
       "    </tr>\n",
       "  </tbody>\n",
       "</table>\n",
       "<p>75 rows × 4 columns</p>\n",
       "</div>"
      ],
      "text/plain": [
       "           gender         sector  funded_amount  loan_amount\n",
       "65    mixed_group  Entertainment    2650.000000  2650.000000\n",
       "74    mixed_group      Wholesale    2550.000000  2550.000000\n",
       "12   female_group       Services    2469.978632  2505.859632\n",
       "33     male_group   Construction    2468.055556  2879.861111\n",
       "7    female_group         Health    2460.126582  2464.082278\n",
       "..            ...            ...            ...          ...\n",
       "55    male_single   Personal Use     488.737818   532.125642\n",
       "25  female_single   Personal Use     473.951114   494.207840\n",
       "40     male_group   Personal Use     323.518519   324.259259\n",
       "10   female_group   Personal Use     241.430302   247.287272\n",
       "70    mixed_group   Personal Use     175.077882   178.436526\n",
       "\n",
       "[75 rows x 4 columns]"
      ]
     },
     "execution_count": 221,
     "metadata": {},
     "output_type": "execute_result"
    }
   ],
   "source": [
    "df_gender_sector = df.groupby(['gender', 'sector'], as_index = False).agg(func={\"funded_amount\":\"mean\", \n",
    "                                                                      'loan_amount': 'mean'})\n",
    "\n",
    "df_gender_sector.sort_values(by=['funded_amount'], ascending=False, inplace=True)\n",
    "\n",
    "df_gender_sector"
   ]
  },
  {
   "cell_type": "code",
   "execution_count": 222,
   "id": "650587f7",
   "metadata": {
    "ExecuteTime": {
     "end_time": "2024-02-16T10:24:20.581962Z",
     "start_time": "2024-02-16T10:24:20.416605Z"
    }
   },
   "outputs": [
    {
     "data": {
      "application/vnd.plotly.v1+json": {
       "config": {
        "plotlyServerURL": "https://plot.ly"
       },
       "data": [
        {
         "branchvalues": "total",
         "customdata": [
          [
           1370.2119016992756
          ],
          [
           646.7795636675266
          ],
          [
           1536.4392478302796
          ],
          [
           727.4307036247335
          ],
          [
           946.1807765754297
          ],
          [
           2134.8514851485147
          ],
          [
           719.4607037158829
          ],
          [
           1876.923076923077
          ],
          [
           1380.082223962412
          ],
          [
           2012.878787878788
          ],
          [
           2197.5614631221265
          ],
          [
           805.4106559748687
          ],
          [
           1731.6176470588234
          ],
          [
           1165.515
          ],
          [
           2043.402777777778
          ],
          [
           1867.7046263345196
          ],
          [
           872.4044227886056
          ],
          [
           2468.0555555555557
          ],
          [
           995.2256944444445
          ],
          [
           1962.8048780487804
          ],
          [
           2077.4484536082473
          ],
          [
           918.8861672262894
          ],
          [
           2403.676470588235
          ],
          [
           965.26084383191
          ],
          [
           1926.5151515151515
          ],
          [
           2132.6923076923076
          ],
          [
           1136.0918114143922
          ],
          [
           600
          ],
          [
           1266.3125
          ],
          [
           2650
          ],
          [
           2041.8355855855852
          ],
          [
           636.2721007467701
          ],
          [
           1621.4673913043478
          ],
          [
           1026.7816309771965
          ],
          [
           1593.5643564356435
          ],
          [
           2460.1265822784812
          ],
          [
           891.2088904951211
          ],
          [
           1933.0357142857142
          ],
          [
           920.687952600395
          ],
          [
           1740.0510204081634
          ],
          [
           1053.774889380531
          ],
          [
           568.3504843918191
          ],
          [
           1307.3170731707316
          ],
          [
           716.7669798977043
          ],
          [
           764.7222222222222
          ],
          [
           1668.1650246305417
          ],
          [
           621.9856028794242
          ],
          [
           1883.6538461538462
          ],
          [
           1035.749047820567
          ],
          [
           1762.0689655172416
          ],
          [
           241.43030180680327
          ],
          [
           473.95111409195914
          ],
          [
           323.51851851851853
          ],
          [
           488.7378182961333
          ],
          [
           175.0778816199377
          ],
          [
           2295.272842639594
          ],
          [
           566.2145023018727
          ],
          [
           1534.825327510917
          ],
          [
           844.6880825565912
          ],
          [
           1851.6114982578397
          ],
          [
           2469.9786324786323
          ],
          [
           755.7730485062641
          ],
          [
           1482.0895522388057
          ],
          [
           1071.6544620191369
          ],
          [
           1475.4966887417215
          ],
          [
           1232.9295154185022
          ],
          [
           533.7266739846323
          ],
          [
           1287.5
          ],
          [
           721.749279538905
          ],
          [
           1423.469387755102
          ],
          [
           2039.5833333333333
          ],
          [
           993.75
          ],
          [
           2000
          ],
          [
           1895.8333333333333
          ],
          [
           2550
          ],
          [
           2002.915543616362
          ],
          [
           793.6314467308345
          ],
          [
           1795.585976795964
          ],
          [
           1113.4483326369782
          ],
          [
           1881.4198105572113
          ]
         ],
         "domain": {
          "x": [
           0,
           1
          ],
          "y": [
           0,
           1
          ]
         },
         "hovertemplate": "labels=%{label}<br>loan_amount=%{value}<br>parent=%{parent}<br>id=%{id}<br>Auszahlungshöhe (Dollar)=%{color}<extra></extra>",
         "ids": [
          "female_group/Agriculture",
          "female_single/Agriculture",
          "male_group/Agriculture",
          "male_single/Agriculture",
          "mixed_group/Agriculture",
          "female_group/Arts",
          "female_single/Arts",
          "male_group/Arts",
          "male_single/Arts",
          "mixed_group/Arts",
          "female_group/Clothing",
          "female_single/Clothing",
          "male_group/Clothing",
          "male_single/Clothing",
          "mixed_group/Clothing",
          "female_group/Construction",
          "female_single/Construction",
          "male_group/Construction",
          "male_single/Construction",
          "mixed_group/Construction",
          "female_group/Education",
          "female_single/Education",
          "male_group/Education",
          "male_single/Education",
          "mixed_group/Education",
          "female_group/Entertainment",
          "female_single/Entertainment",
          "male_group/Entertainment",
          "male_single/Entertainment",
          "mixed_group/Entertainment",
          "female_group/Food",
          "female_single/Food",
          "male_group/Food",
          "male_single/Food",
          "mixed_group/Food",
          "female_group/Health",
          "female_single/Health",
          "male_group/Health",
          "male_single/Health",
          "mixed_group/Health",
          "female_group/Housing",
          "female_single/Housing",
          "male_group/Housing",
          "male_single/Housing",
          "mixed_group/Housing",
          "female_group/Manufacturing",
          "female_single/Manufacturing",
          "male_group/Manufacturing",
          "male_single/Manufacturing",
          "mixed_group/Manufacturing",
          "female_group/Personal Use",
          "female_single/Personal Use",
          "male_group/Personal Use",
          "male_single/Personal Use",
          "mixed_group/Personal Use",
          "female_group/Retail",
          "female_single/Retail",
          "male_group/Retail",
          "male_single/Retail",
          "mixed_group/Retail",
          "female_group/Services",
          "female_single/Services",
          "male_group/Services",
          "male_single/Services",
          "mixed_group/Services",
          "female_group/Transportation",
          "female_single/Transportation",
          "male_group/Transportation",
          "male_single/Transportation",
          "mixed_group/Transportation",
          "female_group/Wholesale",
          "female_single/Wholesale",
          "male_group/Wholesale",
          "male_single/Wholesale",
          "mixed_group/Wholesale",
          "female_group",
          "female_single",
          "male_group",
          "male_single",
          "mixed_group"
         ],
         "labels": [
          "Agriculture",
          "Agriculture",
          "Agriculture",
          "Agriculture",
          "Agriculture",
          "Arts",
          "Arts",
          "Arts",
          "Arts",
          "Arts",
          "Clothing",
          "Clothing",
          "Clothing",
          "Clothing",
          "Clothing",
          "Construction",
          "Construction",
          "Construction",
          "Construction",
          "Construction",
          "Education",
          "Education",
          "Education",
          "Education",
          "Education",
          "Entertainment",
          "Entertainment",
          "Entertainment",
          "Entertainment",
          "Entertainment",
          "Food",
          "Food",
          "Food",
          "Food",
          "Food",
          "Health",
          "Health",
          "Health",
          "Health",
          "Health",
          "Housing",
          "Housing",
          "Housing",
          "Housing",
          "Housing",
          "Manufacturing",
          "Manufacturing",
          "Manufacturing",
          "Manufacturing",
          "Manufacturing",
          "Personal Use",
          "Personal Use",
          "Personal Use",
          "Personal Use",
          "Personal Use",
          "Retail",
          "Retail",
          "Retail",
          "Retail",
          "Retail",
          "Services",
          "Services",
          "Services",
          "Services",
          "Services",
          "Transportation",
          "Transportation",
          "Transportation",
          "Transportation",
          "Transportation",
          "Wholesale",
          "Wholesale",
          "Wholesale",
          "Wholesale",
          "Wholesale",
          "female_group",
          "female_single",
          "male_group",
          "male_single",
          "mixed_group"
         ],
         "marker": {
          "coloraxis": "coloraxis",
          "colors": [
           1370.2119016992756,
           646.7795636675266,
           1536.4392478302796,
           727.4307036247335,
           946.1807765754297,
           2134.8514851485147,
           719.4607037158829,
           1876.923076923077,
           1380.082223962412,
           2012.878787878788,
           2197.5614631221265,
           805.4106559748687,
           1731.6176470588234,
           1165.515,
           2043.402777777778,
           1867.7046263345196,
           872.4044227886056,
           2468.0555555555557,
           995.2256944444445,
           1962.8048780487804,
           2077.4484536082473,
           918.8861672262894,
           2403.676470588235,
           965.26084383191,
           1926.5151515151515,
           2132.6923076923076,
           1136.0918114143922,
           600,
           1266.3125,
           2650,
           2041.8355855855852,
           636.2721007467701,
           1621.4673913043478,
           1026.7816309771965,
           1593.5643564356435,
           2460.1265822784812,
           891.2088904951211,
           1933.0357142857142,
           920.687952600395,
           1740.0510204081634,
           1053.774889380531,
           568.3504843918191,
           1307.3170731707316,
           716.7669798977043,
           764.7222222222222,
           1668.1650246305417,
           621.9856028794242,
           1883.6538461538462,
           1035.749047820567,
           1762.0689655172416,
           241.43030180680327,
           473.95111409195914,
           323.51851851851853,
           488.7378182961333,
           175.0778816199377,
           2295.272842639594,
           566.2145023018727,
           1534.825327510917,
           844.6880825565912,
           1851.6114982578397,
           2469.9786324786323,
           755.7730485062641,
           1482.0895522388057,
           1071.6544620191369,
           1475.4966887417215,
           1232.9295154185022,
           533.7266739846323,
           1287.5,
           721.749279538905,
           1423.469387755102,
           2039.5833333333333,
           993.75,
           2000,
           1895.8333333333333,
           2550,
           2002.915543616362,
           793.6314467308345,
           1795.585976795964,
           1113.4483326369782,
           1881.4198105572113
          ]
         },
         "name": "",
         "parents": [
          "female_group",
          "female_single",
          "male_group",
          "male_single",
          "mixed_group",
          "female_group",
          "female_single",
          "male_group",
          "male_single",
          "mixed_group",
          "female_group",
          "female_single",
          "male_group",
          "male_single",
          "mixed_group",
          "female_group",
          "female_single",
          "male_group",
          "male_single",
          "mixed_group",
          "female_group",
          "female_single",
          "male_group",
          "male_single",
          "mixed_group",
          "female_group",
          "female_single",
          "male_group",
          "male_single",
          "mixed_group",
          "female_group",
          "female_single",
          "male_group",
          "male_single",
          "mixed_group",
          "female_group",
          "female_single",
          "male_group",
          "male_single",
          "mixed_group",
          "female_group",
          "female_single",
          "male_group",
          "male_single",
          "mixed_group",
          "female_group",
          "female_single",
          "male_group",
          "male_single",
          "mixed_group",
          "female_group",
          "female_single",
          "male_group",
          "male_single",
          "mixed_group",
          "female_group",
          "female_single",
          "male_group",
          "male_single",
          "mixed_group",
          "female_group",
          "female_single",
          "male_group",
          "male_single",
          "mixed_group",
          "female_group",
          "female_single",
          "male_group",
          "male_single",
          "mixed_group",
          "female_group",
          "female_single",
          "male_group",
          "male_single",
          "mixed_group",
          "",
          "",
          "",
          "",
          ""
         ],
         "type": "sunburst",
         "values": [
          1437.3045156049016,
          675.4615405654271,
          1872.2396335583414,
          808.0857181980008,
          1015.626989178867,
          2146.6996699669967,
          739.9238189192151,
          1876.923076923077,
          1525.4306969459672,
          2012.878787878788,
          2250.449730161903,
          866.7527797296739,
          2000.3676470588234,
          1382.1416666666667,
          2184.1435185185187,
          1895.4626334519573,
          899.1754122938531,
          2879.8611111111113,
          1077.1622474747476,
          2053.6585365853657,
          2078.221649484536,
          927.7618759288821,
          2403.676470588235,
          1028.1897353513148,
          1926.5151515151515,
          2134.6153846153848,
          1416.501240694789,
          600,
          1898.75,
          2650,
          2095.9903084903085,
          665.3025474650132,
          1822.7355072463768,
          1174.567304655423,
          1730.0742574257426,
          2464.0822784810125,
          938.3944705457174,
          1933.0357142857142,
          1053.275181040158,
          1766.0714285714287,
          1194.3722345132744,
          608.02691065662,
          1311.5853658536585,
          844.1804448673724,
          906.3888888888889,
          1670.935960591133,
          629.9115176964607,
          1997.1153846153845,
          1059.6381718154887,
          1762.0689655172414,
          247.28727162612293,
          494.20783963037485,
          324.25925925925924,
          532.1256418317091,
          178.43652647975077,
          2366.0302261190586,
          605.1968428581503,
          1712.7729257641922,
          1011.602862849534,
          2005.1393728222997,
          2505.8596318211703,
          827.5,
          1524.0671641791046,
          1317.1231204842804,
          1538.2450331125829,
          1303.964757709251,
          566.2580802536895,
          1400,
          846.4877521613832,
          1540.3061224489795,
          2039.5833333333333,
          1019.7784810126582,
          2000,
          1962.7777777777778,
          2550,
          27830.859585970346,
          11880.153358250524,
          25658.639260443277,
          17521.538322119824,
          25819.553578943607
         ]
        }
       ],
       "layout": {
        "coloraxis": {
         "colorbar": {
          "title": {
           "text": "Auszahlungshöhe (Dollar)"
          }
         },
         "colorscale": [
          [
           0,
           "#0d0887"
          ],
          [
           0.1111111111111111,
           "#46039f"
          ],
          [
           0.2222222222222222,
           "#7201a8"
          ],
          [
           0.3333333333333333,
           "#9c179e"
          ],
          [
           0.4444444444444444,
           "#bd3786"
          ],
          [
           0.5555555555555556,
           "#d8576b"
          ],
          [
           0.6666666666666666,
           "#ed7953"
          ],
          [
           0.7777777777777778,
           "#fb9f3a"
          ],
          [
           0.8888888888888888,
           "#fdca26"
          ],
          [
           1,
           "#f0f921"
          ]
         ]
        },
        "legend": {
         "tracegroupgap": 0
        },
        "template": {
         "data": {
          "bar": [
           {
            "error_x": {
             "color": "#2a3f5f"
            },
            "error_y": {
             "color": "#2a3f5f"
            },
            "marker": {
             "line": {
              "color": "#E5ECF6",
              "width": 0.5
             },
             "pattern": {
              "fillmode": "overlay",
              "size": 10,
              "solidity": 0.2
             }
            },
            "type": "bar"
           }
          ],
          "barpolar": [
           {
            "marker": {
             "line": {
              "color": "#E5ECF6",
              "width": 0.5
             },
             "pattern": {
              "fillmode": "overlay",
              "size": 10,
              "solidity": 0.2
             }
            },
            "type": "barpolar"
           }
          ],
          "carpet": [
           {
            "aaxis": {
             "endlinecolor": "#2a3f5f",
             "gridcolor": "white",
             "linecolor": "white",
             "minorgridcolor": "white",
             "startlinecolor": "#2a3f5f"
            },
            "baxis": {
             "endlinecolor": "#2a3f5f",
             "gridcolor": "white",
             "linecolor": "white",
             "minorgridcolor": "white",
             "startlinecolor": "#2a3f5f"
            },
            "type": "carpet"
           }
          ],
          "choropleth": [
           {
            "colorbar": {
             "outlinewidth": 0,
             "ticks": ""
            },
            "type": "choropleth"
           }
          ],
          "contour": [
           {
            "colorbar": {
             "outlinewidth": 0,
             "ticks": ""
            },
            "colorscale": [
             [
              0,
              "#0d0887"
             ],
             [
              0.1111111111111111,
              "#46039f"
             ],
             [
              0.2222222222222222,
              "#7201a8"
             ],
             [
              0.3333333333333333,
              "#9c179e"
             ],
             [
              0.4444444444444444,
              "#bd3786"
             ],
             [
              0.5555555555555556,
              "#d8576b"
             ],
             [
              0.6666666666666666,
              "#ed7953"
             ],
             [
              0.7777777777777778,
              "#fb9f3a"
             ],
             [
              0.8888888888888888,
              "#fdca26"
             ],
             [
              1,
              "#f0f921"
             ]
            ],
            "type": "contour"
           }
          ],
          "contourcarpet": [
           {
            "colorbar": {
             "outlinewidth": 0,
             "ticks": ""
            },
            "type": "contourcarpet"
           }
          ],
          "heatmap": [
           {
            "colorbar": {
             "outlinewidth": 0,
             "ticks": ""
            },
            "colorscale": [
             [
              0,
              "#0d0887"
             ],
             [
              0.1111111111111111,
              "#46039f"
             ],
             [
              0.2222222222222222,
              "#7201a8"
             ],
             [
              0.3333333333333333,
              "#9c179e"
             ],
             [
              0.4444444444444444,
              "#bd3786"
             ],
             [
              0.5555555555555556,
              "#d8576b"
             ],
             [
              0.6666666666666666,
              "#ed7953"
             ],
             [
              0.7777777777777778,
              "#fb9f3a"
             ],
             [
              0.8888888888888888,
              "#fdca26"
             ],
             [
              1,
              "#f0f921"
             ]
            ],
            "type": "heatmap"
           }
          ],
          "heatmapgl": [
           {
            "colorbar": {
             "outlinewidth": 0,
             "ticks": ""
            },
            "colorscale": [
             [
              0,
              "#0d0887"
             ],
             [
              0.1111111111111111,
              "#46039f"
             ],
             [
              0.2222222222222222,
              "#7201a8"
             ],
             [
              0.3333333333333333,
              "#9c179e"
             ],
             [
              0.4444444444444444,
              "#bd3786"
             ],
             [
              0.5555555555555556,
              "#d8576b"
             ],
             [
              0.6666666666666666,
              "#ed7953"
             ],
             [
              0.7777777777777778,
              "#fb9f3a"
             ],
             [
              0.8888888888888888,
              "#fdca26"
             ],
             [
              1,
              "#f0f921"
             ]
            ],
            "type": "heatmapgl"
           }
          ],
          "histogram": [
           {
            "marker": {
             "pattern": {
              "fillmode": "overlay",
              "size": 10,
              "solidity": 0.2
             }
            },
            "type": "histogram"
           }
          ],
          "histogram2d": [
           {
            "colorbar": {
             "outlinewidth": 0,
             "ticks": ""
            },
            "colorscale": [
             [
              0,
              "#0d0887"
             ],
             [
              0.1111111111111111,
              "#46039f"
             ],
             [
              0.2222222222222222,
              "#7201a8"
             ],
             [
              0.3333333333333333,
              "#9c179e"
             ],
             [
              0.4444444444444444,
              "#bd3786"
             ],
             [
              0.5555555555555556,
              "#d8576b"
             ],
             [
              0.6666666666666666,
              "#ed7953"
             ],
             [
              0.7777777777777778,
              "#fb9f3a"
             ],
             [
              0.8888888888888888,
              "#fdca26"
             ],
             [
              1,
              "#f0f921"
             ]
            ],
            "type": "histogram2d"
           }
          ],
          "histogram2dcontour": [
           {
            "colorbar": {
             "outlinewidth": 0,
             "ticks": ""
            },
            "colorscale": [
             [
              0,
              "#0d0887"
             ],
             [
              0.1111111111111111,
              "#46039f"
             ],
             [
              0.2222222222222222,
              "#7201a8"
             ],
             [
              0.3333333333333333,
              "#9c179e"
             ],
             [
              0.4444444444444444,
              "#bd3786"
             ],
             [
              0.5555555555555556,
              "#d8576b"
             ],
             [
              0.6666666666666666,
              "#ed7953"
             ],
             [
              0.7777777777777778,
              "#fb9f3a"
             ],
             [
              0.8888888888888888,
              "#fdca26"
             ],
             [
              1,
              "#f0f921"
             ]
            ],
            "type": "histogram2dcontour"
           }
          ],
          "mesh3d": [
           {
            "colorbar": {
             "outlinewidth": 0,
             "ticks": ""
            },
            "type": "mesh3d"
           }
          ],
          "parcoords": [
           {
            "line": {
             "colorbar": {
              "outlinewidth": 0,
              "ticks": ""
             }
            },
            "type": "parcoords"
           }
          ],
          "pie": [
           {
            "automargin": true,
            "type": "pie"
           }
          ],
          "scatter": [
           {
            "fillpattern": {
             "fillmode": "overlay",
             "size": 10,
             "solidity": 0.2
            },
            "type": "scatter"
           }
          ],
          "scatter3d": [
           {
            "line": {
             "colorbar": {
              "outlinewidth": 0,
              "ticks": ""
             }
            },
            "marker": {
             "colorbar": {
              "outlinewidth": 0,
              "ticks": ""
             }
            },
            "type": "scatter3d"
           }
          ],
          "scattercarpet": [
           {
            "marker": {
             "colorbar": {
              "outlinewidth": 0,
              "ticks": ""
             }
            },
            "type": "scattercarpet"
           }
          ],
          "scattergeo": [
           {
            "marker": {
             "colorbar": {
              "outlinewidth": 0,
              "ticks": ""
             }
            },
            "type": "scattergeo"
           }
          ],
          "scattergl": [
           {
            "marker": {
             "colorbar": {
              "outlinewidth": 0,
              "ticks": ""
             }
            },
            "type": "scattergl"
           }
          ],
          "scattermapbox": [
           {
            "marker": {
             "colorbar": {
              "outlinewidth": 0,
              "ticks": ""
             }
            },
            "type": "scattermapbox"
           }
          ],
          "scatterpolar": [
           {
            "marker": {
             "colorbar": {
              "outlinewidth": 0,
              "ticks": ""
             }
            },
            "type": "scatterpolar"
           }
          ],
          "scatterpolargl": [
           {
            "marker": {
             "colorbar": {
              "outlinewidth": 0,
              "ticks": ""
             }
            },
            "type": "scatterpolargl"
           }
          ],
          "scatterternary": [
           {
            "marker": {
             "colorbar": {
              "outlinewidth": 0,
              "ticks": ""
             }
            },
            "type": "scatterternary"
           }
          ],
          "surface": [
           {
            "colorbar": {
             "outlinewidth": 0,
             "ticks": ""
            },
            "colorscale": [
             [
              0,
              "#0d0887"
             ],
             [
              0.1111111111111111,
              "#46039f"
             ],
             [
              0.2222222222222222,
              "#7201a8"
             ],
             [
              0.3333333333333333,
              "#9c179e"
             ],
             [
              0.4444444444444444,
              "#bd3786"
             ],
             [
              0.5555555555555556,
              "#d8576b"
             ],
             [
              0.6666666666666666,
              "#ed7953"
             ],
             [
              0.7777777777777778,
              "#fb9f3a"
             ],
             [
              0.8888888888888888,
              "#fdca26"
             ],
             [
              1,
              "#f0f921"
             ]
            ],
            "type": "surface"
           }
          ],
          "table": [
           {
            "cells": {
             "fill": {
              "color": "#EBF0F8"
             },
             "line": {
              "color": "white"
             }
            },
            "header": {
             "fill": {
              "color": "#C8D4E3"
             },
             "line": {
              "color": "white"
             }
            },
            "type": "table"
           }
          ]
         },
         "layout": {
          "annotationdefaults": {
           "arrowcolor": "#2a3f5f",
           "arrowhead": 0,
           "arrowwidth": 1
          },
          "autotypenumbers": "strict",
          "coloraxis": {
           "colorbar": {
            "outlinewidth": 0,
            "ticks": ""
           }
          },
          "colorscale": {
           "diverging": [
            [
             0,
             "#8e0152"
            ],
            [
             0.1,
             "#c51b7d"
            ],
            [
             0.2,
             "#de77ae"
            ],
            [
             0.3,
             "#f1b6da"
            ],
            [
             0.4,
             "#fde0ef"
            ],
            [
             0.5,
             "#f7f7f7"
            ],
            [
             0.6,
             "#e6f5d0"
            ],
            [
             0.7,
             "#b8e186"
            ],
            [
             0.8,
             "#7fbc41"
            ],
            [
             0.9,
             "#4d9221"
            ],
            [
             1,
             "#276419"
            ]
           ],
           "sequential": [
            [
             0,
             "#0d0887"
            ],
            [
             0.1111111111111111,
             "#46039f"
            ],
            [
             0.2222222222222222,
             "#7201a8"
            ],
            [
             0.3333333333333333,
             "#9c179e"
            ],
            [
             0.4444444444444444,
             "#bd3786"
            ],
            [
             0.5555555555555556,
             "#d8576b"
            ],
            [
             0.6666666666666666,
             "#ed7953"
            ],
            [
             0.7777777777777778,
             "#fb9f3a"
            ],
            [
             0.8888888888888888,
             "#fdca26"
            ],
            [
             1,
             "#f0f921"
            ]
           ],
           "sequentialminus": [
            [
             0,
             "#0d0887"
            ],
            [
             0.1111111111111111,
             "#46039f"
            ],
            [
             0.2222222222222222,
             "#7201a8"
            ],
            [
             0.3333333333333333,
             "#9c179e"
            ],
            [
             0.4444444444444444,
             "#bd3786"
            ],
            [
             0.5555555555555556,
             "#d8576b"
            ],
            [
             0.6666666666666666,
             "#ed7953"
            ],
            [
             0.7777777777777778,
             "#fb9f3a"
            ],
            [
             0.8888888888888888,
             "#fdca26"
            ],
            [
             1,
             "#f0f921"
            ]
           ]
          },
          "colorway": [
           "#636efa",
           "#EF553B",
           "#00cc96",
           "#ab63fa",
           "#FFA15A",
           "#19d3f3",
           "#FF6692",
           "#B6E880",
           "#FF97FF",
           "#FECB52"
          ],
          "font": {
           "color": "#2a3f5f"
          },
          "geo": {
           "bgcolor": "white",
           "lakecolor": "white",
           "landcolor": "#E5ECF6",
           "showlakes": true,
           "showland": true,
           "subunitcolor": "white"
          },
          "hoverlabel": {
           "align": "left"
          },
          "hovermode": "closest",
          "mapbox": {
           "style": "light"
          },
          "paper_bgcolor": "white",
          "plot_bgcolor": "#E5ECF6",
          "polar": {
           "angularaxis": {
            "gridcolor": "white",
            "linecolor": "white",
            "ticks": ""
           },
           "bgcolor": "#E5ECF6",
           "radialaxis": {
            "gridcolor": "white",
            "linecolor": "white",
            "ticks": ""
           }
          },
          "scene": {
           "xaxis": {
            "backgroundcolor": "#E5ECF6",
            "gridcolor": "white",
            "gridwidth": 2,
            "linecolor": "white",
            "showbackground": true,
            "ticks": "",
            "zerolinecolor": "white"
           },
           "yaxis": {
            "backgroundcolor": "#E5ECF6",
            "gridcolor": "white",
            "gridwidth": 2,
            "linecolor": "white",
            "showbackground": true,
            "ticks": "",
            "zerolinecolor": "white"
           },
           "zaxis": {
            "backgroundcolor": "#E5ECF6",
            "gridcolor": "white",
            "gridwidth": 2,
            "linecolor": "white",
            "showbackground": true,
            "ticks": "",
            "zerolinecolor": "white"
           }
          },
          "shapedefaults": {
           "line": {
            "color": "#2a3f5f"
           }
          },
          "ternary": {
           "aaxis": {
            "gridcolor": "white",
            "linecolor": "white",
            "ticks": ""
           },
           "baxis": {
            "gridcolor": "white",
            "linecolor": "white",
            "ticks": ""
           },
           "bgcolor": "#E5ECF6",
           "caxis": {
            "gridcolor": "white",
            "linecolor": "white",
            "ticks": ""
           }
          },
          "title": {
           "x": 0.05
          },
          "xaxis": {
           "automargin": true,
           "gridcolor": "white",
           "linecolor": "white",
           "ticks": "",
           "title": {
            "standoff": 15
           },
           "zerolinecolor": "white",
           "zerolinewidth": 2
          },
          "yaxis": {
           "automargin": true,
           "gridcolor": "white",
           "linecolor": "white",
           "ticks": "",
           "title": {
            "standoff": 15
           },
           "zerolinecolor": "white",
           "zerolinewidth": 2
          }
         }
        },
        "title": {
         "text": "**Verteilung Geschlechter und Sektoren**"
        }
       }
      }
     },
     "metadata": {},
     "output_type": "display_data"
    }
   ],
   "source": [
    "# Anzeige aller Projekte in den USA von Männern oder Männergruppen\n",
    "fig = px.sunburst(df_gender_sector, path=['gender', 'sector'], values='loan_amount',\n",
    "                  color='funded_amount', title= '**Verteilung Geschlechter und Sektoren**',\n",
    "                 labels= {'funded_amount': 'Auszahlungshöhe (Dollar)'})  \n",
    "fig.show()"
   ]
  },
  {
   "cell_type": "markdown",
   "id": "6c19fe60",
   "metadata": {},
   "source": [
    "Fazit:\n",
    "\n",
    "Die reine Menge (Rohdaten) an Projekten ist bei Singles und Frauengruppen deutlich höher als bei Männergruppen und gemischten Gruppen, jedoch scheint es sich bei erstgenannten generell um kleinere Summenbeträge zu handeln. Das wird ersichtlich, wenn man den zweiten Plot mit den Mittelwerten betrachtet. Männergruppen und gemischte Gruppen nehmen von der Kredithöhe für ihre Projekte durchschnittlich deutlich höhere Beträge ein als es ihr Anschein in den Rohdaten vermuten lässt,- auch die Männer-Singles zeichnen sich durch teurere Projekte aus.\n",
    "\n",
    "Nun ist es wichtig zu wissen, was die Buisness-Ziele des Unternehmens sind: Das Unternehmen ist nicht auf Profit aus, sondern kämpft für Gleichberechtigung und möchte Menschen, hauptsächlich in Entwicklungsländern, unterstützen, ihre Lebenssituation zu verbessern, um mehr Chancengleichheit in der Welt zu erzielen. Es wird also weniger darum gehen, möglichst hohe Geldbeträge in den Projekten zu erzielen sondern vielmehr darum, möglichst vielen Menschen zu helfen. Sicherlich ist in größeren und teureren Projekten, an denen mehr Menschen beteiligt sind, gleichzeitig auch mehr Menschen geholfen, sodasss größere Projekte auch ein indirektes Ziel des Unternehmens sein können. Auffällig in den Daten war bezüglich der KPI jedoch, dass es bei einigen Projekten, insbesondere von Männern und Männergruppen, nicht immer oder nur anteilig zu Auszahlungen gekommen ist. Dies könnte, wie eben festgestellt, damit zu tun haben, dass Männer und Männergruppen oder Gruppen, indenen Männer mit beteiligt sind, durchschnittlich mehr Geld innerhalb ihrer Projekte beantragen. Zusatzlich viel zu Beginn auf, dass diese nicht vollständig finanzierten Projekte vor allem in den USA auftreten. Im Folgenden soll daher der Fokus auf Projekten von Männern in den USA liegen, um die Situaton genauer zu betrachten.\n",
    "\n",
    "Folgender Plot soll zunächst noch einmal die Größe (in Dollar) aller beantragten Projekte illustrieren. Offensichtlich beantragen insbesondere Männer in den USA die höchsten Summen. Da Die USA kein Entwicklungsland ist, sind allerdings dort die Lebenshaltungskosten höher, sodass dies in Relation dazu zu sehen ist."
   ]
  },
  {
   "cell_type": "code",
   "execution_count": 223,
   "id": "1309905f",
   "metadata": {
    "ExecuteTime": {
     "end_time": "2024-02-16T10:28:04.955770Z",
     "start_time": "2024-02-16T10:28:04.913651Z"
    }
   },
   "outputs": [
    {
     "data": {
      "text/html": [
       "<div>\n",
       "<style scoped>\n",
       "    .dataframe tbody tr th:only-of-type {\n",
       "        vertical-align: middle;\n",
       "    }\n",
       "\n",
       "    .dataframe tbody tr th {\n",
       "        vertical-align: top;\n",
       "    }\n",
       "\n",
       "    .dataframe thead th {\n",
       "        text-align: right;\n",
       "    }\n",
       "</style>\n",
       "<table border=\"1\" class=\"dataframe\">\n",
       "  <thead>\n",
       "    <tr style=\"text-align: right;\">\n",
       "      <th></th>\n",
       "      <th>funded_amount</th>\n",
       "      <th>loan_amount</th>\n",
       "      <th>sector</th>\n",
       "      <th>country_code</th>\n",
       "      <th>country</th>\n",
       "      <th>lender_count</th>\n",
       "      <th>borrower_genders</th>\n",
       "      <th>gender</th>\n",
       "      <th>KPI_funded_loan</th>\n",
       "    </tr>\n",
       "  </thead>\n",
       "  <tbody>\n",
       "    <tr>\n",
       "      <th>4814</th>\n",
       "      <td>0.0</td>\n",
       "      <td>5000.0</td>\n",
       "      <td>Food</td>\n",
       "      <td>US</td>\n",
       "      <td>United States</td>\n",
       "      <td>0</td>\n",
       "      <td>female</td>\n",
       "      <td>female_single</td>\n",
       "      <td>0.0</td>\n",
       "    </tr>\n",
       "    <tr>\n",
       "      <th>6784</th>\n",
       "      <td>0.0</td>\n",
       "      <td>10000.0</td>\n",
       "      <td>Retail</td>\n",
       "      <td>US</td>\n",
       "      <td>United States</td>\n",
       "      <td>0</td>\n",
       "      <td>male</td>\n",
       "      <td>male_single</td>\n",
       "      <td>0.0</td>\n",
       "    </tr>\n",
       "    <tr>\n",
       "      <th>10735</th>\n",
       "      <td>0.0</td>\n",
       "      <td>5000.0</td>\n",
       "      <td>Services</td>\n",
       "      <td>US</td>\n",
       "      <td>United States</td>\n",
       "      <td>0</td>\n",
       "      <td>male</td>\n",
       "      <td>male_single</td>\n",
       "      <td>0.0</td>\n",
       "    </tr>\n",
       "    <tr>\n",
       "      <th>12037</th>\n",
       "      <td>0.0</td>\n",
       "      <td>5000.0</td>\n",
       "      <td>Food</td>\n",
       "      <td>US</td>\n",
       "      <td>United States</td>\n",
       "      <td>0</td>\n",
       "      <td>male</td>\n",
       "      <td>male_single</td>\n",
       "      <td>0.0</td>\n",
       "    </tr>\n",
       "    <tr>\n",
       "      <th>13542</th>\n",
       "      <td>0.0</td>\n",
       "      <td>1500.0</td>\n",
       "      <td>Arts</td>\n",
       "      <td>US</td>\n",
       "      <td>United States</td>\n",
       "      <td>0</td>\n",
       "      <td>male</td>\n",
       "      <td>male_single</td>\n",
       "      <td>0.0</td>\n",
       "    </tr>\n",
       "    <tr>\n",
       "      <th>...</th>\n",
       "      <td>...</td>\n",
       "      <td>...</td>\n",
       "      <td>...</td>\n",
       "      <td>...</td>\n",
       "      <td>...</td>\n",
       "      <td>...</td>\n",
       "      <td>...</td>\n",
       "      <td>...</td>\n",
       "      <td>...</td>\n",
       "    </tr>\n",
       "    <tr>\n",
       "      <th>671198</th>\n",
       "      <td>0.0</td>\n",
       "      <td>75.0</td>\n",
       "      <td>Agriculture</td>\n",
       "      <td>MX</td>\n",
       "      <td>Mexico</td>\n",
       "      <td>0</td>\n",
       "      <td>female</td>\n",
       "      <td>female_single</td>\n",
       "      <td>0.0</td>\n",
       "    </tr>\n",
       "    <tr>\n",
       "      <th>671199</th>\n",
       "      <td>0.0</td>\n",
       "      <td>25.0</td>\n",
       "      <td>Agriculture</td>\n",
       "      <td>PY</td>\n",
       "      <td>Paraguay</td>\n",
       "      <td>0</td>\n",
       "      <td>female</td>\n",
       "      <td>female_single</td>\n",
       "      <td>0.0</td>\n",
       "    </tr>\n",
       "    <tr>\n",
       "      <th>671200</th>\n",
       "      <td>0.0</td>\n",
       "      <td>25.0</td>\n",
       "      <td>Agriculture</td>\n",
       "      <td>PY</td>\n",
       "      <td>Paraguay</td>\n",
       "      <td>0</td>\n",
       "      <td>female</td>\n",
       "      <td>female_single</td>\n",
       "      <td>0.0</td>\n",
       "    </tr>\n",
       "    <tr>\n",
       "      <th>671203</th>\n",
       "      <td>0.0</td>\n",
       "      <td>25.0</td>\n",
       "      <td>Agriculture</td>\n",
       "      <td>KE</td>\n",
       "      <td>Kenya</td>\n",
       "      <td>0</td>\n",
       "      <td>female</td>\n",
       "      <td>female_single</td>\n",
       "      <td>0.0</td>\n",
       "    </tr>\n",
       "    <tr>\n",
       "      <th>671204</th>\n",
       "      <td>0.0</td>\n",
       "      <td>25.0</td>\n",
       "      <td>Agriculture</td>\n",
       "      <td>KE</td>\n",
       "      <td>Kenya</td>\n",
       "      <td>0</td>\n",
       "      <td>female</td>\n",
       "      <td>female_single</td>\n",
       "      <td>0.0</td>\n",
       "    </tr>\n",
       "  </tbody>\n",
       "</table>\n",
       "<p>3254 rows × 9 columns</p>\n",
       "</div>"
      ],
      "text/plain": [
       "        funded_amount  loan_amount       sector country_code        country  \\\n",
       "4814              0.0       5000.0         Food           US  United States   \n",
       "6784              0.0      10000.0       Retail           US  United States   \n",
       "10735             0.0       5000.0     Services           US  United States   \n",
       "12037             0.0       5000.0         Food           US  United States   \n",
       "13542             0.0       1500.0         Arts           US  United States   \n",
       "...               ...          ...          ...          ...            ...   \n",
       "671198            0.0         75.0  Agriculture           MX         Mexico   \n",
       "671199            0.0         25.0  Agriculture           PY       Paraguay   \n",
       "671200            0.0         25.0  Agriculture           PY       Paraguay   \n",
       "671203            0.0         25.0  Agriculture           KE          Kenya   \n",
       "671204            0.0         25.0  Agriculture           KE          Kenya   \n",
       "\n",
       "        lender_count borrower_genders         gender  KPI_funded_loan  \n",
       "4814               0           female  female_single              0.0  \n",
       "6784               0             male    male_single              0.0  \n",
       "10735              0             male    male_single              0.0  \n",
       "12037              0             male    male_single              0.0  \n",
       "13542              0             male    male_single              0.0  \n",
       "...              ...              ...            ...              ...  \n",
       "671198             0           female  female_single              0.0  \n",
       "671199             0           female  female_single              0.0  \n",
       "671200             0           female  female_single              0.0  \n",
       "671203             0           female  female_single              0.0  \n",
       "671204             0           female  female_single              0.0  \n",
       "\n",
       "[3254 rows x 9 columns]"
      ]
     },
     "execution_count": 223,
     "metadata": {},
     "output_type": "execute_result"
    }
   ],
   "source": [
    "# Anzeige aller Projekte ohne Auszahlungen\n",
    "\n",
    "df_0=df.loc[(df[\"funded_amount\"]==0)]\n",
    "df_0"
   ]
  },
  {
   "cell_type": "code",
   "execution_count": 224,
   "id": "75eb4a08",
   "metadata": {
    "ExecuteTime": {
     "end_time": "2024-02-16T10:28:44.140093Z",
     "start_time": "2024-02-16T10:28:43.734225Z"
    }
   },
   "outputs": [
    {
     "data": {
      "application/vnd.plotly.v1+json": {
       "config": {
        "plotlyServerURL": "https://plot.ly"
       },
       "data": [
        {
         "branchvalues": "total",
         "domain": {
          "x": [
           0,
           1
          ],
          "y": [
           0,
           1
          ]
         },
         "hovertemplate": "labels=%{label}<br>loan_amount=%{value}<br>parent=%{parent}<br>id=%{id}<extra></extra>",
         "ids": [
          "Kein Kredit/Bolivia/female_group/Agriculture",
          "Kein Kredit/Cambodia/female_group/Agriculture",
          "Kein Kredit/Ghana/female_group/Agriculture",
          "Kein Kredit/Kenya/female_group/Agriculture",
          "Kein Kredit/Mexico/female_group/Agriculture",
          "Kein Kredit/Vietnam/female_group/Agriculture",
          "Kein Kredit/Albania/female_single/Agriculture",
          "Kein Kredit/Armenia/female_single/Agriculture",
          "Kein Kredit/Bolivia/female_single/Agriculture",
          "Kein Kredit/Cambodia/female_single/Agriculture",
          "Kein Kredit/Colombia/female_single/Agriculture",
          "Kein Kredit/Costa Rica/female_single/Agriculture",
          "Kein Kredit/Ecuador/female_single/Agriculture",
          "Kein Kredit/Egypt/female_single/Agriculture",
          "Kein Kredit/El Salvador/female_single/Agriculture",
          "Kein Kredit/Ghana/female_single/Agriculture",
          "Kein Kredit/Guatemala/female_single/Agriculture",
          "Kein Kredit/Kenya/female_single/Agriculture",
          "Kein Kredit/Mexico/female_single/Agriculture",
          "Kein Kredit/Myanmar (Burma)/female_single/Agriculture",
          "Kein Kredit/Pakistan/female_single/Agriculture",
          "Kein Kredit/Paraguay/female_single/Agriculture",
          "Kein Kredit/Peru/female_single/Agriculture",
          "Kein Kredit/Philippines/female_single/Agriculture",
          "Kein Kredit/Senegal/female_single/Agriculture",
          "Kein Kredit/Tajikistan/female_single/Agriculture",
          "Kein Kredit/Uganda/female_single/Agriculture",
          "Kein Kredit/United States/female_single/Agriculture",
          "Kein Kredit/Vietnam/female_single/Agriculture",
          "Kein Kredit/Burkina Faso/male_group/Agriculture",
          "Kein Kredit/Cambodia/male_group/Agriculture",
          "Kein Kredit/Mali/male_group/Agriculture",
          "Kein Kredit/Myanmar (Burma)/male_group/Agriculture",
          "Kein Kredit/Armenia/male_single/Agriculture",
          "Kein Kredit/Burkina Faso/male_single/Agriculture",
          "Kein Kredit/Cambodia/male_single/Agriculture",
          "Kein Kredit/Cameroon/male_single/Agriculture",
          "Kein Kredit/Colombia/male_single/Agriculture",
          "Kein Kredit/Costa Rica/male_single/Agriculture",
          "Kein Kredit/Ecuador/male_single/Agriculture",
          "Kein Kredit/El Salvador/male_single/Agriculture",
          "Kein Kredit/Honduras/male_single/Agriculture",
          "Kein Kredit/Jordan/male_single/Agriculture",
          "Kein Kredit/Kenya/male_single/Agriculture",
          "Kein Kredit/Myanmar (Burma)/male_single/Agriculture",
          "Kein Kredit/Nicaragua/male_single/Agriculture",
          "Kein Kredit/Nigeria/male_single/Agriculture",
          "Kein Kredit/Peru/male_single/Agriculture",
          "Kein Kredit/Philippines/male_single/Agriculture",
          "Kein Kredit/Senegal/male_single/Agriculture",
          "Kein Kredit/Tajikistan/male_single/Agriculture",
          "Kein Kredit/Uganda/male_single/Agriculture",
          "Kein Kredit/United States/male_single/Agriculture",
          "Kein Kredit/Vietnam/male_single/Agriculture",
          "Kein Kredit/Cambodia/mixed_group/Agriculture",
          "Kein Kredit/The Democratic Republic of the Congo/mixed_group/Agriculture",
          "Kein Kredit/Egypt/female_single/Arts",
          "Kein Kredit/El Salvador/female_single/Arts",
          "Kein Kredit/Mexico/female_single/Arts",
          "Kein Kredit/Pakistan/female_single/Arts",
          "Kein Kredit/Puerto Rico/female_single/Arts",
          "Kein Kredit/Samoa/female_single/Arts",
          "Kein Kredit/United States/female_single/Arts",
          "Kein Kredit/United States/male_single/Arts",
          "Kein Kredit/Guatemala/female_group/Clothing",
          "Kein Kredit/Malawi/female_group/Clothing",
          "Kein Kredit/Zimbabwe/female_group/Clothing",
          "Kein Kredit/Albania/female_single/Clothing",
          "Kein Kredit/Colombia/female_single/Clothing",
          "Kein Kredit/Costa Rica/female_single/Clothing",
          "Kein Kredit/Egypt/female_single/Clothing",
          "Kein Kredit/El Salvador/female_single/Clothing",
          "Kein Kredit/Georgia/female_single/Clothing",
          "Kein Kredit/Guatemala/female_single/Clothing",
          "Kein Kredit/Haiti/female_single/Clothing",
          "Kein Kredit/Honduras/female_single/Clothing",
          "Kein Kredit/Kenya/female_single/Clothing",
          "Kein Kredit/Liberia/female_single/Clothing",
          "Kein Kredit/Madagascar/female_single/Clothing",
          "Kein Kredit/Nicaragua/female_single/Clothing",
          "Kein Kredit/Pakistan/female_single/Clothing",
          "Kein Kredit/Peru/female_single/Clothing",
          "Kein Kredit/Rwanda/female_single/Clothing",
          "Kein Kredit/Tajikistan/female_single/Clothing",
          "Kein Kredit/Togo/female_single/Clothing",
          "Kein Kredit/Uganda/female_single/Clothing",
          "Kein Kredit/Ukraine/female_single/Clothing",
          "Kein Kredit/United States/female_single/Clothing",
          "Kein Kredit/Vietnam/female_single/Clothing",
          "Kein Kredit/Zimbabwe/female_single/Clothing",
          "Kein Kredit/Tanzania/male_group/Clothing",
          "Kein Kredit/Armenia/male_single/Clothing",
          "Kein Kredit/Colombia/male_single/Clothing",
          "Kein Kredit/Egypt/male_single/Clothing",
          "Kein Kredit/El Salvador/male_single/Clothing",
          "Kein Kredit/Honduras/male_single/Clothing",
          "Kein Kredit/Kenya/male_single/Clothing",
          "Kein Kredit/Rwanda/male_single/Clothing",
          "Kein Kredit/Sierra Leone/male_single/Clothing",
          "Kein Kredit/Tajikistan/male_single/Clothing",
          "Kein Kredit/Uganda/male_single/Clothing",
          "Kein Kredit/United States/male_single/Clothing",
          "Kein Kredit/Vietnam/male_single/Clothing",
          "Kein Kredit/Cambodia/female_group/Construction",
          "Kein Kredit/Pakistan/female_single/Construction",
          "Kein Kredit/Philippines/female_single/Construction",
          "Kein Kredit/Uganda/female_single/Construction",
          "Kein Kredit/United States/female_single/Construction",
          "Kein Kredit/Colombia/male_single/Construction",
          "Kein Kredit/Kenya/male_single/Construction",
          "Kein Kredit/Peru/male_single/Construction",
          "Kein Kredit/Uganda/male_single/Construction",
          "Kein Kredit/United States/male_single/Construction",
          "Kein Kredit/Armenia/female_single/Education",
          "Kein Kredit/Jordan/female_single/Education",
          "Kein Kredit/Tajikistan/female_single/Education",
          "Kein Kredit/United States/female_single/Education",
          "Kein Kredit/Jordan/male_single/Education",
          "Kein Kredit/Kenya/male_single/Education",
          "Kein Kredit/Lebanon/male_single/Education",
          "Kein Kredit/Peru/male_single/Education",
          "Kein Kredit/Tajikistan/male_single/Education",
          "Kein Kredit/Uganda/male_single/Education",
          "Kein Kredit/United States/male_single/Education",
          "Kein Kredit/Yemen/male_single/Education",
          "Kein Kredit/Kenya/female_group/Entertainment",
          "Kein Kredit/United States/female_single/Entertainment",
          "Kein Kredit/Puerto Rico/male_single/Entertainment",
          "Kein Kredit/United States/male_single/Entertainment",
          "Kein Kredit/Burkina Faso/female_group/Food",
          "Kein Kredit/Cambodia/female_group/Food",
          "Kein Kredit/Ghana/female_group/Food",
          "Kein Kredit/Malawi/female_group/Food",
          "Kein Kredit/Myanmar (Burma)/female_group/Food",
          "Kein Kredit/Sierra Leone/female_group/Food",
          "Kein Kredit/Tanzania/female_group/Food",
          "Kein Kredit/Uganda/female_group/Food",
          "Kein Kredit/Vietnam/female_group/Food",
          "Kein Kredit/Burkina Faso/female_single/Food",
          "Kein Kredit/Cambodia/female_single/Food",
          "Kein Kredit/Cameroon/female_single/Food",
          "Kein Kredit/Colombia/female_single/Food",
          "Kein Kredit/Egypt/female_single/Food",
          "Kein Kredit/El Salvador/female_single/Food",
          "Kein Kredit/Honduras/female_single/Food",
          "Kein Kredit/India/female_single/Food",
          "Kein Kredit/Kenya/female_single/Food",
          "Kein Kredit/Lebanon/female_single/Food",
          "Kein Kredit/Liberia/female_single/Food",
          "Kein Kredit/Madagascar/female_single/Food",
          "Kein Kredit/Nigeria/female_single/Food",
          "Kein Kredit/Pakistan/female_single/Food",
          "Kein Kredit/Peru/female_single/Food",
          "Kein Kredit/Philippines/female_single/Food",
          "Kein Kredit/Rwanda/female_single/Food",
          "Kein Kredit/Samoa/female_single/Food",
          "Kein Kredit/Sierra Leone/female_single/Food",
          "Kein Kredit/Tajikistan/female_single/Food",
          "Kein Kredit/Tanzania/female_single/Food",
          "Kein Kredit/Togo/female_single/Food",
          "Kein Kredit/Uganda/female_single/Food",
          "Kein Kredit/United States/female_single/Food",
          "Kein Kredit/Vietnam/female_single/Food",
          "Kein Kredit/The Democratic Republic of the Congo/male_group/Food",
          "Kein Kredit/Cambodia/male_single/Food",
          "Kein Kredit/Cameroon/male_single/Food",
          "Kein Kredit/Colombia/male_single/Food",
          "Kein Kredit/Ecuador/male_single/Food",
          "Kein Kredit/Egypt/male_single/Food",
          "Kein Kredit/El Salvador/male_single/Food",
          "Kein Kredit/Georgia/male_single/Food",
          "Kein Kredit/Haiti/male_single/Food",
          "Kein Kredit/Honduras/male_single/Food",
          "Kein Kredit/Kenya/male_single/Food",
          "Kein Kredit/Lebanon/male_single/Food",
          "Kein Kredit/Madagascar/male_single/Food",
          "Kein Kredit/Mexico/male_single/Food",
          "Kein Kredit/Nicaragua/male_single/Food",
          "Kein Kredit/Philippines/male_single/Food",
          "Kein Kredit/Rwanda/male_single/Food",
          "Kein Kredit/Tajikistan/male_single/Food",
          "Kein Kredit/Togo/male_single/Food",
          "Kein Kredit/Uganda/male_single/Food",
          "Kein Kredit/United States/male_single/Food",
          "Kein Kredit/Vietnam/male_single/Food",
          "Kein Kredit/Cambodia/mixed_group/Food",
          "Kein Kredit/The Democratic Republic of the Congo/mixed_group/Food",
          "Kein Kredit/Albania/female_single/Health",
          "Kein Kredit/Armenia/female_single/Health",
          "Kein Kredit/Colombia/female_single/Health",
          "Kein Kredit/Lebanon/female_single/Health",
          "Kein Kredit/Mexico/female_single/Health",
          "Kein Kredit/Tajikistan/female_single/Health",
          "Kein Kredit/United States/female_single/Health",
          "Kein Kredit/Armenia/male_single/Health",
          "Kein Kredit/Bolivia/male_single/Health",
          "Kein Kredit/El Salvador/male_single/Health",
          "Kein Kredit/Mexico/male_single/Health",
          "Kein Kredit/Peru/male_single/Health",
          "Kein Kredit/Tajikistan/male_single/Health",
          "Kein Kredit/United States/male_single/Health",
          "Kein Kredit/Cambodia/female_group/Housing",
          "Kein Kredit/Bolivia/female_single/Housing",
          "Kein Kredit/Cambodia/female_single/Housing",
          "Kein Kredit/Costa Rica/female_single/Housing",
          "Kein Kredit/India/female_single/Housing",
          "Kein Kredit/Indonesia/female_single/Housing",
          "Kein Kredit/Lebanon/female_single/Housing",
          "Kein Kredit/Mozambique/female_single/Housing",
          "Kein Kredit/Philippines/female_single/Housing",
          "Kein Kredit/Tajikistan/female_single/Housing",
          "Kein Kredit/Uganda/female_single/Housing",
          "Kein Kredit/United States/female_single/Housing",
          "Kein Kredit/Vietnam/female_single/Housing",
          "Kein Kredit/Yemen/female_single/Housing",
          "Kein Kredit/Albania/male_single/Housing",
          "Kein Kredit/Cambodia/male_single/Housing",
          "Kein Kredit/Guatemala/male_single/Housing",
          "Kein Kredit/Mexico/male_single/Housing",
          "Kein Kredit/Mozambique/male_single/Housing",
          "Kein Kredit/Nicaragua/male_single/Housing",
          "Kein Kredit/Peru/male_single/Housing",
          "Kein Kredit/Philippines/male_single/Housing",
          "Kein Kredit/Tajikistan/male_single/Housing",
          "Kein Kredit/Uganda/male_single/Housing",
          "Kein Kredit/United States/male_single/Housing",
          "Kein Kredit/Vietnam/male_single/Housing",
          "Kein Kredit/Yemen/male_single/Housing",
          "Kein Kredit/Pakistan/female_single/Manufacturing",
          "Kein Kredit/Uganda/female_single/Manufacturing",
          "Kein Kredit/Colombia/male_single/Manufacturing",
          "Kein Kredit/Kenya/male_single/Manufacturing",
          "Kein Kredit/United States/male_single/Manufacturing",
          "Kein Kredit/Cambodia/female_group/Personal Use",
          "Kein Kredit/Myanmar (Burma)/female_group/Personal Use",
          "Kein Kredit/Cambodia/female_single/Personal Use",
          "Kein Kredit/Indonesia/female_single/Personal Use",
          "Kein Kredit/Kenya/female_single/Personal Use",
          "Kein Kredit/Lebanon/female_single/Personal Use",
          "Kein Kredit/Mozambique/female_single/Personal Use",
          "Kein Kredit/Myanmar (Burma)/female_single/Personal Use",
          "Kein Kredit/Peru/female_single/Personal Use",
          "Kein Kredit/Philippines/female_single/Personal Use",
          "Kein Kredit/Senegal/female_single/Personal Use",
          "Kein Kredit/Tajikistan/female_single/Personal Use",
          "Kein Kredit/Albania/male_single/Personal Use",
          "Kein Kredit/Cambodia/male_single/Personal Use",
          "Kein Kredit/Costa Rica/male_single/Personal Use",
          "Kein Kredit/Mozambique/male_single/Personal Use",
          "Kein Kredit/Myanmar (Burma)/male_single/Personal Use",
          "Kein Kredit/Nicaragua/male_single/Personal Use",
          "Kein Kredit/Nigeria/male_single/Personal Use",
          "Kein Kredit/Philippines/male_single/Personal Use",
          "Kein Kredit/Uganda/male_single/Personal Use",
          "Kein Kredit/Yemen/male_single/Personal Use",
          "Kein Kredit/Cambodia/mixed_group/Personal Use",
          "Kein Kredit/Myanmar (Burma)/mixed_group/Personal Use",
          "Kein Kredit/Cambodia/female_group/Retail",
          "Kein Kredit/Guatemala/female_group/Retail",
          "Kein Kredit/Honduras/female_group/Retail",
          "Kein Kredit/Myanmar (Burma)/female_group/Retail",
          "Kein Kredit/Senegal/female_group/Retail",
          "Kein Kredit/Sierra Leone/female_group/Retail",
          "Kein Kredit/Uganda/female_group/Retail",
          "Kein Kredit/Zimbabwe/female_group/Retail",
          "Kein Kredit/Burkina Faso/female_single/Retail",
          "Kein Kredit/Cambodia/female_single/Retail",
          "Kein Kredit/Cameroon/female_single/Retail",
          "Kein Kredit/Colombia/female_single/Retail",
          "Kein Kredit/El Salvador/female_single/Retail",
          "Kein Kredit/Georgia/female_single/Retail",
          "Kein Kredit/Guatemala/female_single/Retail",
          "Kein Kredit/Honduras/female_single/Retail",
          "Kein Kredit/India/female_single/Retail",
          "Kein Kredit/Kenya/female_single/Retail",
          "Kein Kredit/Liberia/female_single/Retail",
          "Kein Kredit/Madagascar/female_single/Retail",
          "Kein Kredit/Mozambique/female_single/Retail",
          "Kein Kredit/Nicaragua/female_single/Retail",
          "Kein Kredit/Pakistan/female_single/Retail",
          "Kein Kredit/Peru/female_single/Retail",
          "Kein Kredit/Philippines/female_single/Retail",
          "Kein Kredit/Rwanda/female_single/Retail",
          "Kein Kredit/Samoa/female_single/Retail",
          "Kein Kredit/Sierra Leone/female_single/Retail",
          "Kein Kredit/Solomon Islands/female_single/Retail",
          "Kein Kredit/Tajikistan/female_single/Retail",
          "Kein Kredit/Togo/female_single/Retail",
          "Kein Kredit/Uganda/female_single/Retail",
          "Kein Kredit/United States/female_single/Retail",
          "Kein Kredit/Vietnam/female_single/Retail",
          "Kein Kredit/Virgin Islands/female_single/Retail",
          "Kein Kredit/Albania/male_single/Retail",
          "Kein Kredit/Bolivia/male_single/Retail",
          "Kein Kredit/Burkina Faso/male_single/Retail",
          "Kein Kredit/Cambodia/male_single/Retail",
          "Kein Kredit/Colombia/male_single/Retail",
          "Kein Kredit/Egypt/male_single/Retail",
          "Kein Kredit/El Salvador/male_single/Retail",
          "Kein Kredit/Kenya/male_single/Retail",
          "Kein Kredit/Lebanon/male_single/Retail",
          "Kein Kredit/Madagascar/male_single/Retail",
          "Kein Kredit/Mexico/male_single/Retail",
          "Kein Kredit/Mozambique/male_single/Retail",
          "Kein Kredit/Myanmar (Burma)/male_single/Retail",
          "Kein Kredit/Nicaragua/male_single/Retail",
          "Kein Kredit/Paraguay/male_single/Retail",
          "Kein Kredit/Peru/male_single/Retail",
          "Kein Kredit/Philippines/male_single/Retail",
          "Kein Kredit/Sierra Leone/male_single/Retail",
          "Kein Kredit/Togo/male_single/Retail",
          "Kein Kredit/Uganda/male_single/Retail",
          "Kein Kredit/United States/male_single/Retail",
          "Kein Kredit/Vietnam/male_single/Retail",
          "Kein Kredit/Peru/mixed_group/Retail",
          "Kein Kredit/Uganda/mixed_group/Retail",
          "Kein Kredit/Cambodia/female_group/Services",
          "Kein Kredit/Zimbabwe/female_group/Services",
          "Kein Kredit/Cambodia/female_single/Services",
          "Kein Kredit/Cameroon/female_single/Services",
          "Kein Kredit/Colombia/female_single/Services",
          "Kein Kredit/Costa Rica/female_single/Services",
          "Kein Kredit/El Salvador/female_single/Services",
          "Kein Kredit/Kenya/female_single/Services",
          "Kein Kredit/Liberia/female_single/Services",
          "Kein Kredit/Malawi/female_single/Services",
          "Kein Kredit/Mozambique/female_single/Services",
          "Kein Kredit/Nicaragua/female_single/Services",
          "Kein Kredit/Pakistan/female_single/Services",
          "Kein Kredit/Peru/female_single/Services",
          "Kein Kredit/Philippines/female_single/Services",
          "Kein Kredit/Puerto Rico/female_single/Services",
          "Kein Kredit/Samoa/female_single/Services",
          "Kein Kredit/Tajikistan/female_single/Services",
          "Kein Kredit/Togo/female_single/Services",
          "Kein Kredit/Uganda/female_single/Services",
          "Kein Kredit/United States/female_single/Services",
          "Kein Kredit/Vietnam/female_single/Services",
          "Kein Kredit/Virgin Islands/female_single/Services",
          "Kein Kredit/Bolivia/male_single/Services",
          "Kein Kredit/Cambodia/male_single/Services",
          "Kein Kredit/Cameroon/male_single/Services",
          "Kein Kredit/Colombia/male_single/Services",
          "Kein Kredit/El Salvador/male_single/Services",
          "Kein Kredit/Georgia/male_single/Services",
          "Kein Kredit/Jordan/male_single/Services",
          "Kein Kredit/Kenya/male_single/Services",
          "Kein Kredit/Lebanon/male_single/Services",
          "Kein Kredit/Malawi/male_single/Services",
          "Kein Kredit/Mexico/male_single/Services",
          "Kein Kredit/Mozambique/male_single/Services",
          "Kein Kredit/Peru/male_single/Services",
          "Kein Kredit/Puerto Rico/male_single/Services",
          "Kein Kredit/Tajikistan/male_single/Services",
          "Kein Kredit/Togo/male_single/Services",
          "Kein Kredit/Uganda/male_single/Services",
          "Kein Kredit/United States/male_single/Services",
          "Kein Kredit/Bolivia/female_single/Transportation",
          "Kein Kredit/Pakistan/female_single/Transportation",
          "Kein Kredit/Peru/female_single/Transportation",
          "Kein Kredit/Philippines/female_single/Transportation",
          "Kein Kredit/Samoa/female_single/Transportation",
          "Kein Kredit/Tanzania/male_group/Transportation",
          "Kein Kredit/Bolivia/male_single/Transportation",
          "Kein Kredit/Cambodia/male_single/Transportation",
          "Kein Kredit/Colombia/male_single/Transportation",
          "Kein Kredit/El Salvador/male_single/Transportation",
          "Kein Kredit/Georgia/male_single/Transportation",
          "Kein Kredit/Kenya/male_single/Transportation",
          "Kein Kredit/Peru/male_single/Transportation",
          "Kein Kredit/Philippines/male_single/Transportation",
          "Kein Kredit/Tajikistan/male_single/Transportation",
          "Kein Kredit/Tanzania/male_single/Transportation",
          "Kein Kredit/Uganda/male_single/Transportation",
          "Kein Kredit/United States/male_single/Transportation",
          "Kein Kredit/Bolivia/female_group",
          "Kein Kredit/Burkina Faso/female_group",
          "Kein Kredit/Cambodia/female_group",
          "Kein Kredit/Ghana/female_group",
          "Kein Kredit/Guatemala/female_group",
          "Kein Kredit/Honduras/female_group",
          "Kein Kredit/Kenya/female_group",
          "Kein Kredit/Malawi/female_group",
          "Kein Kredit/Mexico/female_group",
          "Kein Kredit/Myanmar (Burma)/female_group",
          "Kein Kredit/Senegal/female_group",
          "Kein Kredit/Sierra Leone/female_group",
          "Kein Kredit/Tanzania/female_group",
          "Kein Kredit/Uganda/female_group",
          "Kein Kredit/Vietnam/female_group",
          "Kein Kredit/Zimbabwe/female_group",
          "Kein Kredit/Albania/female_single",
          "Kein Kredit/Armenia/female_single",
          "Kein Kredit/Bolivia/female_single",
          "Kein Kredit/Burkina Faso/female_single",
          "Kein Kredit/Cambodia/female_single",
          "Kein Kredit/Cameroon/female_single",
          "Kein Kredit/Colombia/female_single",
          "Kein Kredit/Costa Rica/female_single",
          "Kein Kredit/Ecuador/female_single",
          "Kein Kredit/Egypt/female_single",
          "Kein Kredit/El Salvador/female_single",
          "Kein Kredit/Georgia/female_single",
          "Kein Kredit/Ghana/female_single",
          "Kein Kredit/Guatemala/female_single",
          "Kein Kredit/Haiti/female_single",
          "Kein Kredit/Honduras/female_single",
          "Kein Kredit/India/female_single",
          "Kein Kredit/Indonesia/female_single",
          "Kein Kredit/Jordan/female_single",
          "Kein Kredit/Kenya/female_single",
          "Kein Kredit/Lebanon/female_single",
          "Kein Kredit/Liberia/female_single",
          "Kein Kredit/Madagascar/female_single",
          "Kein Kredit/Malawi/female_single",
          "Kein Kredit/Mexico/female_single",
          "Kein Kredit/Mozambique/female_single",
          "Kein Kredit/Myanmar (Burma)/female_single",
          "Kein Kredit/Nicaragua/female_single",
          "Kein Kredit/Nigeria/female_single",
          "Kein Kredit/Pakistan/female_single",
          "Kein Kredit/Paraguay/female_single",
          "Kein Kredit/Peru/female_single",
          "Kein Kredit/Philippines/female_single",
          "Kein Kredit/Puerto Rico/female_single",
          "Kein Kredit/Rwanda/female_single",
          "Kein Kredit/Samoa/female_single",
          "Kein Kredit/Senegal/female_single",
          "Kein Kredit/Sierra Leone/female_single",
          "Kein Kredit/Solomon Islands/female_single",
          "Kein Kredit/Tajikistan/female_single",
          "Kein Kredit/Tanzania/female_single",
          "Kein Kredit/Togo/female_single",
          "Kein Kredit/Uganda/female_single",
          "Kein Kredit/Ukraine/female_single",
          "Kein Kredit/United States/female_single",
          "Kein Kredit/Vietnam/female_single",
          "Kein Kredit/Virgin Islands/female_single",
          "Kein Kredit/Yemen/female_single",
          "Kein Kredit/Zimbabwe/female_single",
          "Kein Kredit/Burkina Faso/male_group",
          "Kein Kredit/Cambodia/male_group",
          "Kein Kredit/Mali/male_group",
          "Kein Kredit/Myanmar (Burma)/male_group",
          "Kein Kredit/Tanzania/male_group",
          "Kein Kredit/The Democratic Republic of the Congo/male_group",
          "Kein Kredit/Albania/male_single",
          "Kein Kredit/Armenia/male_single",
          "Kein Kredit/Bolivia/male_single",
          "Kein Kredit/Burkina Faso/male_single",
          "Kein Kredit/Cambodia/male_single",
          "Kein Kredit/Cameroon/male_single",
          "Kein Kredit/Colombia/male_single",
          "Kein Kredit/Costa Rica/male_single",
          "Kein Kredit/Ecuador/male_single",
          "Kein Kredit/Egypt/male_single",
          "Kein Kredit/El Salvador/male_single",
          "Kein Kredit/Georgia/male_single",
          "Kein Kredit/Guatemala/male_single",
          "Kein Kredit/Haiti/male_single",
          "Kein Kredit/Honduras/male_single",
          "Kein Kredit/Jordan/male_single",
          "Kein Kredit/Kenya/male_single",
          "Kein Kredit/Lebanon/male_single",
          "Kein Kredit/Madagascar/male_single",
          "Kein Kredit/Malawi/male_single",
          "Kein Kredit/Mexico/male_single",
          "Kein Kredit/Mozambique/male_single",
          "Kein Kredit/Myanmar (Burma)/male_single",
          "Kein Kredit/Nicaragua/male_single",
          "Kein Kredit/Nigeria/male_single",
          "Kein Kredit/Paraguay/male_single",
          "Kein Kredit/Peru/male_single",
          "Kein Kredit/Philippines/male_single",
          "Kein Kredit/Puerto Rico/male_single",
          "Kein Kredit/Rwanda/male_single",
          "Kein Kredit/Senegal/male_single",
          "Kein Kredit/Sierra Leone/male_single",
          "Kein Kredit/Tajikistan/male_single",
          "Kein Kredit/Tanzania/male_single",
          "Kein Kredit/Togo/male_single",
          "Kein Kredit/Uganda/male_single",
          "Kein Kredit/United States/male_single",
          "Kein Kredit/Vietnam/male_single",
          "Kein Kredit/Yemen/male_single",
          "Kein Kredit/Cambodia/mixed_group",
          "Kein Kredit/Myanmar (Burma)/mixed_group",
          "Kein Kredit/Peru/mixed_group",
          "Kein Kredit/The Democratic Republic of the Congo/mixed_group",
          "Kein Kredit/Uganda/mixed_group",
          "Kein Kredit/Albania",
          "Kein Kredit/Armenia",
          "Kein Kredit/Bolivia",
          "Kein Kredit/Burkina Faso",
          "Kein Kredit/Cambodia",
          "Kein Kredit/Cameroon",
          "Kein Kredit/Colombia",
          "Kein Kredit/Costa Rica",
          "Kein Kredit/Ecuador",
          "Kein Kredit/Egypt",
          "Kein Kredit/El Salvador",
          "Kein Kredit/Georgia",
          "Kein Kredit/Ghana",
          "Kein Kredit/Guatemala",
          "Kein Kredit/Haiti",
          "Kein Kredit/Honduras",
          "Kein Kredit/India",
          "Kein Kredit/Indonesia",
          "Kein Kredit/Jordan",
          "Kein Kredit/Kenya",
          "Kein Kredit/Lebanon",
          "Kein Kredit/Liberia",
          "Kein Kredit/Madagascar",
          "Kein Kredit/Malawi",
          "Kein Kredit/Mali",
          "Kein Kredit/Mexico",
          "Kein Kredit/Mozambique",
          "Kein Kredit/Myanmar (Burma)",
          "Kein Kredit/Nicaragua",
          "Kein Kredit/Nigeria",
          "Kein Kredit/Pakistan",
          "Kein Kredit/Paraguay",
          "Kein Kredit/Peru",
          "Kein Kredit/Philippines",
          "Kein Kredit/Puerto Rico",
          "Kein Kredit/Rwanda",
          "Kein Kredit/Samoa",
          "Kein Kredit/Senegal",
          "Kein Kredit/Sierra Leone",
          "Kein Kredit/Solomon Islands",
          "Kein Kredit/Tajikistan",
          "Kein Kredit/Tanzania",
          "Kein Kredit/The Democratic Republic of the Congo",
          "Kein Kredit/Togo",
          "Kein Kredit/Uganda",
          "Kein Kredit/Ukraine",
          "Kein Kredit/United States",
          "Kein Kredit/Vietnam",
          "Kein Kredit/Virgin Islands",
          "Kein Kredit/Yemen",
          "Kein Kredit/Zimbabwe",
          "Kein Kredit"
         ],
         "labels": [
          "Agriculture",
          "Agriculture",
          "Agriculture",
          "Agriculture",
          "Agriculture",
          "Agriculture",
          "Agriculture",
          "Agriculture",
          "Agriculture",
          "Agriculture",
          "Agriculture",
          "Agriculture",
          "Agriculture",
          "Agriculture",
          "Agriculture",
          "Agriculture",
          "Agriculture",
          "Agriculture",
          "Agriculture",
          "Agriculture",
          "Agriculture",
          "Agriculture",
          "Agriculture",
          "Agriculture",
          "Agriculture",
          "Agriculture",
          "Agriculture",
          "Agriculture",
          "Agriculture",
          "Agriculture",
          "Agriculture",
          "Agriculture",
          "Agriculture",
          "Agriculture",
          "Agriculture",
          "Agriculture",
          "Agriculture",
          "Agriculture",
          "Agriculture",
          "Agriculture",
          "Agriculture",
          "Agriculture",
          "Agriculture",
          "Agriculture",
          "Agriculture",
          "Agriculture",
          "Agriculture",
          "Agriculture",
          "Agriculture",
          "Agriculture",
          "Agriculture",
          "Agriculture",
          "Agriculture",
          "Agriculture",
          "Agriculture",
          "Agriculture",
          "Arts",
          "Arts",
          "Arts",
          "Arts",
          "Arts",
          "Arts",
          "Arts",
          "Arts",
          "Clothing",
          "Clothing",
          "Clothing",
          "Clothing",
          "Clothing",
          "Clothing",
          "Clothing",
          "Clothing",
          "Clothing",
          "Clothing",
          "Clothing",
          "Clothing",
          "Clothing",
          "Clothing",
          "Clothing",
          "Clothing",
          "Clothing",
          "Clothing",
          "Clothing",
          "Clothing",
          "Clothing",
          "Clothing",
          "Clothing",
          "Clothing",
          "Clothing",
          "Clothing",
          "Clothing",
          "Clothing",
          "Clothing",
          "Clothing",
          "Clothing",
          "Clothing",
          "Clothing",
          "Clothing",
          "Clothing",
          "Clothing",
          "Clothing",
          "Clothing",
          "Clothing",
          "Construction",
          "Construction",
          "Construction",
          "Construction",
          "Construction",
          "Construction",
          "Construction",
          "Construction",
          "Construction",
          "Construction",
          "Education",
          "Education",
          "Education",
          "Education",
          "Education",
          "Education",
          "Education",
          "Education",
          "Education",
          "Education",
          "Education",
          "Education",
          "Entertainment",
          "Entertainment",
          "Entertainment",
          "Entertainment",
          "Food",
          "Food",
          "Food",
          "Food",
          "Food",
          "Food",
          "Food",
          "Food",
          "Food",
          "Food",
          "Food",
          "Food",
          "Food",
          "Food",
          "Food",
          "Food",
          "Food",
          "Food",
          "Food",
          "Food",
          "Food",
          "Food",
          "Food",
          "Food",
          "Food",
          "Food",
          "Food",
          "Food",
          "Food",
          "Food",
          "Food",
          "Food",
          "Food",
          "Food",
          "Food",
          "Food",
          "Food",
          "Food",
          "Food",
          "Food",
          "Food",
          "Food",
          "Food",
          "Food",
          "Food",
          "Food",
          "Food",
          "Food",
          "Food",
          "Food",
          "Food",
          "Food",
          "Food",
          "Food",
          "Food",
          "Food",
          "Food",
          "Food",
          "Health",
          "Health",
          "Health",
          "Health",
          "Health",
          "Health",
          "Health",
          "Health",
          "Health",
          "Health",
          "Health",
          "Health",
          "Health",
          "Health",
          "Housing",
          "Housing",
          "Housing",
          "Housing",
          "Housing",
          "Housing",
          "Housing",
          "Housing",
          "Housing",
          "Housing",
          "Housing",
          "Housing",
          "Housing",
          "Housing",
          "Housing",
          "Housing",
          "Housing",
          "Housing",
          "Housing",
          "Housing",
          "Housing",
          "Housing",
          "Housing",
          "Housing",
          "Housing",
          "Housing",
          "Housing",
          "Manufacturing",
          "Manufacturing",
          "Manufacturing",
          "Manufacturing",
          "Manufacturing",
          "Personal Use",
          "Personal Use",
          "Personal Use",
          "Personal Use",
          "Personal Use",
          "Personal Use",
          "Personal Use",
          "Personal Use",
          "Personal Use",
          "Personal Use",
          "Personal Use",
          "Personal Use",
          "Personal Use",
          "Personal Use",
          "Personal Use",
          "Personal Use",
          "Personal Use",
          "Personal Use",
          "Personal Use",
          "Personal Use",
          "Personal Use",
          "Personal Use",
          "Personal Use",
          "Personal Use",
          "Retail",
          "Retail",
          "Retail",
          "Retail",
          "Retail",
          "Retail",
          "Retail",
          "Retail",
          "Retail",
          "Retail",
          "Retail",
          "Retail",
          "Retail",
          "Retail",
          "Retail",
          "Retail",
          "Retail",
          "Retail",
          "Retail",
          "Retail",
          "Retail",
          "Retail",
          "Retail",
          "Retail",
          "Retail",
          "Retail",
          "Retail",
          "Retail",
          "Retail",
          "Retail",
          "Retail",
          "Retail",
          "Retail",
          "Retail",
          "Retail",
          "Retail",
          "Retail",
          "Retail",
          "Retail",
          "Retail",
          "Retail",
          "Retail",
          "Retail",
          "Retail",
          "Retail",
          "Retail",
          "Retail",
          "Retail",
          "Retail",
          "Retail",
          "Retail",
          "Retail",
          "Retail",
          "Retail",
          "Retail",
          "Retail",
          "Retail",
          "Retail",
          "Retail",
          "Services",
          "Services",
          "Services",
          "Services",
          "Services",
          "Services",
          "Services",
          "Services",
          "Services",
          "Services",
          "Services",
          "Services",
          "Services",
          "Services",
          "Services",
          "Services",
          "Services",
          "Services",
          "Services",
          "Services",
          "Services",
          "Services",
          "Services",
          "Services",
          "Services",
          "Services",
          "Services",
          "Services",
          "Services",
          "Services",
          "Services",
          "Services",
          "Services",
          "Services",
          "Services",
          "Services",
          "Services",
          "Services",
          "Services",
          "Services",
          "Services",
          "Transportation",
          "Transportation",
          "Transportation",
          "Transportation",
          "Transportation",
          "Transportation",
          "Transportation",
          "Transportation",
          "Transportation",
          "Transportation",
          "Transportation",
          "Transportation",
          "Transportation",
          "Transportation",
          "Transportation",
          "Transportation",
          "Transportation",
          "Transportation",
          "female_group",
          "female_group",
          "female_group",
          "female_group",
          "female_group",
          "female_group",
          "female_group",
          "female_group",
          "female_group",
          "female_group",
          "female_group",
          "female_group",
          "female_group",
          "female_group",
          "female_group",
          "female_group",
          "female_single",
          "female_single",
          "female_single",
          "female_single",
          "female_single",
          "female_single",
          "female_single",
          "female_single",
          "female_single",
          "female_single",
          "female_single",
          "female_single",
          "female_single",
          "female_single",
          "female_single",
          "female_single",
          "female_single",
          "female_single",
          "female_single",
          "female_single",
          "female_single",
          "female_single",
          "female_single",
          "female_single",
          "female_single",
          "female_single",
          "female_single",
          "female_single",
          "female_single",
          "female_single",
          "female_single",
          "female_single",
          "female_single",
          "female_single",
          "female_single",
          "female_single",
          "female_single",
          "female_single",
          "female_single",
          "female_single",
          "female_single",
          "female_single",
          "female_single",
          "female_single",
          "female_single",
          "female_single",
          "female_single",
          "female_single",
          "female_single",
          "male_group",
          "male_group",
          "male_group",
          "male_group",
          "male_group",
          "male_group",
          "male_single",
          "male_single",
          "male_single",
          "male_single",
          "male_single",
          "male_single",
          "male_single",
          "male_single",
          "male_single",
          "male_single",
          "male_single",
          "male_single",
          "male_single",
          "male_single",
          "male_single",
          "male_single",
          "male_single",
          "male_single",
          "male_single",
          "male_single",
          "male_single",
          "male_single",
          "male_single",
          "male_single",
          "male_single",
          "male_single",
          "male_single",
          "male_single",
          "male_single",
          "male_single",
          "male_single",
          "male_single",
          "male_single",
          "male_single",
          "male_single",
          "male_single",
          "male_single",
          "male_single",
          "male_single",
          "mixed_group",
          "mixed_group",
          "mixed_group",
          "mixed_group",
          "mixed_group",
          "Albania",
          "Armenia",
          "Bolivia",
          "Burkina Faso",
          "Cambodia",
          "Cameroon",
          "Colombia",
          "Costa Rica",
          "Ecuador",
          "Egypt",
          "El Salvador",
          "Georgia",
          "Ghana",
          "Guatemala",
          "Haiti",
          "Honduras",
          "India",
          "Indonesia",
          "Jordan",
          "Kenya",
          "Lebanon",
          "Liberia",
          "Madagascar",
          "Malawi",
          "Mali",
          "Mexico",
          "Mozambique",
          "Myanmar (Burma)",
          "Nicaragua",
          "Nigeria",
          "Pakistan",
          "Paraguay",
          "Peru",
          "Philippines",
          "Puerto Rico",
          "Rwanda",
          "Samoa",
          "Senegal",
          "Sierra Leone",
          "Solomon Islands",
          "Tajikistan",
          "Tanzania",
          "The Democratic Republic of the Congo",
          "Togo",
          "Uganda",
          "Ukraine",
          "United States",
          "Vietnam",
          "Virgin Islands",
          "Yemen",
          "Zimbabwe",
          "Kein Kredit"
         ],
         "name": "",
         "parents": [
          "Kein Kredit/Bolivia/female_group",
          "Kein Kredit/Cambodia/female_group",
          "Kein Kredit/Ghana/female_group",
          "Kein Kredit/Kenya/female_group",
          "Kein Kredit/Mexico/female_group",
          "Kein Kredit/Vietnam/female_group",
          "Kein Kredit/Albania/female_single",
          "Kein Kredit/Armenia/female_single",
          "Kein Kredit/Bolivia/female_single",
          "Kein Kredit/Cambodia/female_single",
          "Kein Kredit/Colombia/female_single",
          "Kein Kredit/Costa Rica/female_single",
          "Kein Kredit/Ecuador/female_single",
          "Kein Kredit/Egypt/female_single",
          "Kein Kredit/El Salvador/female_single",
          "Kein Kredit/Ghana/female_single",
          "Kein Kredit/Guatemala/female_single",
          "Kein Kredit/Kenya/female_single",
          "Kein Kredit/Mexico/female_single",
          "Kein Kredit/Myanmar (Burma)/female_single",
          "Kein Kredit/Pakistan/female_single",
          "Kein Kredit/Paraguay/female_single",
          "Kein Kredit/Peru/female_single",
          "Kein Kredit/Philippines/female_single",
          "Kein Kredit/Senegal/female_single",
          "Kein Kredit/Tajikistan/female_single",
          "Kein Kredit/Uganda/female_single",
          "Kein Kredit/United States/female_single",
          "Kein Kredit/Vietnam/female_single",
          "Kein Kredit/Burkina Faso/male_group",
          "Kein Kredit/Cambodia/male_group",
          "Kein Kredit/Mali/male_group",
          "Kein Kredit/Myanmar (Burma)/male_group",
          "Kein Kredit/Armenia/male_single",
          "Kein Kredit/Burkina Faso/male_single",
          "Kein Kredit/Cambodia/male_single",
          "Kein Kredit/Cameroon/male_single",
          "Kein Kredit/Colombia/male_single",
          "Kein Kredit/Costa Rica/male_single",
          "Kein Kredit/Ecuador/male_single",
          "Kein Kredit/El Salvador/male_single",
          "Kein Kredit/Honduras/male_single",
          "Kein Kredit/Jordan/male_single",
          "Kein Kredit/Kenya/male_single",
          "Kein Kredit/Myanmar (Burma)/male_single",
          "Kein Kredit/Nicaragua/male_single",
          "Kein Kredit/Nigeria/male_single",
          "Kein Kredit/Peru/male_single",
          "Kein Kredit/Philippines/male_single",
          "Kein Kredit/Senegal/male_single",
          "Kein Kredit/Tajikistan/male_single",
          "Kein Kredit/Uganda/male_single",
          "Kein Kredit/United States/male_single",
          "Kein Kredit/Vietnam/male_single",
          "Kein Kredit/Cambodia/mixed_group",
          "Kein Kredit/The Democratic Republic of the Congo/mixed_group",
          "Kein Kredit/Egypt/female_single",
          "Kein Kredit/El Salvador/female_single",
          "Kein Kredit/Mexico/female_single",
          "Kein Kredit/Pakistan/female_single",
          "Kein Kredit/Puerto Rico/female_single",
          "Kein Kredit/Samoa/female_single",
          "Kein Kredit/United States/female_single",
          "Kein Kredit/United States/male_single",
          "Kein Kredit/Guatemala/female_group",
          "Kein Kredit/Malawi/female_group",
          "Kein Kredit/Zimbabwe/female_group",
          "Kein Kredit/Albania/female_single",
          "Kein Kredit/Colombia/female_single",
          "Kein Kredit/Costa Rica/female_single",
          "Kein Kredit/Egypt/female_single",
          "Kein Kredit/El Salvador/female_single",
          "Kein Kredit/Georgia/female_single",
          "Kein Kredit/Guatemala/female_single",
          "Kein Kredit/Haiti/female_single",
          "Kein Kredit/Honduras/female_single",
          "Kein Kredit/Kenya/female_single",
          "Kein Kredit/Liberia/female_single",
          "Kein Kredit/Madagascar/female_single",
          "Kein Kredit/Nicaragua/female_single",
          "Kein Kredit/Pakistan/female_single",
          "Kein Kredit/Peru/female_single",
          "Kein Kredit/Rwanda/female_single",
          "Kein Kredit/Tajikistan/female_single",
          "Kein Kredit/Togo/female_single",
          "Kein Kredit/Uganda/female_single",
          "Kein Kredit/Ukraine/female_single",
          "Kein Kredit/United States/female_single",
          "Kein Kredit/Vietnam/female_single",
          "Kein Kredit/Zimbabwe/female_single",
          "Kein Kredit/Tanzania/male_group",
          "Kein Kredit/Armenia/male_single",
          "Kein Kredit/Colombia/male_single",
          "Kein Kredit/Egypt/male_single",
          "Kein Kredit/El Salvador/male_single",
          "Kein Kredit/Honduras/male_single",
          "Kein Kredit/Kenya/male_single",
          "Kein Kredit/Rwanda/male_single",
          "Kein Kredit/Sierra Leone/male_single",
          "Kein Kredit/Tajikistan/male_single",
          "Kein Kredit/Uganda/male_single",
          "Kein Kredit/United States/male_single",
          "Kein Kredit/Vietnam/male_single",
          "Kein Kredit/Cambodia/female_group",
          "Kein Kredit/Pakistan/female_single",
          "Kein Kredit/Philippines/female_single",
          "Kein Kredit/Uganda/female_single",
          "Kein Kredit/United States/female_single",
          "Kein Kredit/Colombia/male_single",
          "Kein Kredit/Kenya/male_single",
          "Kein Kredit/Peru/male_single",
          "Kein Kredit/Uganda/male_single",
          "Kein Kredit/United States/male_single",
          "Kein Kredit/Armenia/female_single",
          "Kein Kredit/Jordan/female_single",
          "Kein Kredit/Tajikistan/female_single",
          "Kein Kredit/United States/female_single",
          "Kein Kredit/Jordan/male_single",
          "Kein Kredit/Kenya/male_single",
          "Kein Kredit/Lebanon/male_single",
          "Kein Kredit/Peru/male_single",
          "Kein Kredit/Tajikistan/male_single",
          "Kein Kredit/Uganda/male_single",
          "Kein Kredit/United States/male_single",
          "Kein Kredit/Yemen/male_single",
          "Kein Kredit/Kenya/female_group",
          "Kein Kredit/United States/female_single",
          "Kein Kredit/Puerto Rico/male_single",
          "Kein Kredit/United States/male_single",
          "Kein Kredit/Burkina Faso/female_group",
          "Kein Kredit/Cambodia/female_group",
          "Kein Kredit/Ghana/female_group",
          "Kein Kredit/Malawi/female_group",
          "Kein Kredit/Myanmar (Burma)/female_group",
          "Kein Kredit/Sierra Leone/female_group",
          "Kein Kredit/Tanzania/female_group",
          "Kein Kredit/Uganda/female_group",
          "Kein Kredit/Vietnam/female_group",
          "Kein Kredit/Burkina Faso/female_single",
          "Kein Kredit/Cambodia/female_single",
          "Kein Kredit/Cameroon/female_single",
          "Kein Kredit/Colombia/female_single",
          "Kein Kredit/Egypt/female_single",
          "Kein Kredit/El Salvador/female_single",
          "Kein Kredit/Honduras/female_single",
          "Kein Kredit/India/female_single",
          "Kein Kredit/Kenya/female_single",
          "Kein Kredit/Lebanon/female_single",
          "Kein Kredit/Liberia/female_single",
          "Kein Kredit/Madagascar/female_single",
          "Kein Kredit/Nigeria/female_single",
          "Kein Kredit/Pakistan/female_single",
          "Kein Kredit/Peru/female_single",
          "Kein Kredit/Philippines/female_single",
          "Kein Kredit/Rwanda/female_single",
          "Kein Kredit/Samoa/female_single",
          "Kein Kredit/Sierra Leone/female_single",
          "Kein Kredit/Tajikistan/female_single",
          "Kein Kredit/Tanzania/female_single",
          "Kein Kredit/Togo/female_single",
          "Kein Kredit/Uganda/female_single",
          "Kein Kredit/United States/female_single",
          "Kein Kredit/Vietnam/female_single",
          "Kein Kredit/The Democratic Republic of the Congo/male_group",
          "Kein Kredit/Cambodia/male_single",
          "Kein Kredit/Cameroon/male_single",
          "Kein Kredit/Colombia/male_single",
          "Kein Kredit/Ecuador/male_single",
          "Kein Kredit/Egypt/male_single",
          "Kein Kredit/El Salvador/male_single",
          "Kein Kredit/Georgia/male_single",
          "Kein Kredit/Haiti/male_single",
          "Kein Kredit/Honduras/male_single",
          "Kein Kredit/Kenya/male_single",
          "Kein Kredit/Lebanon/male_single",
          "Kein Kredit/Madagascar/male_single",
          "Kein Kredit/Mexico/male_single",
          "Kein Kredit/Nicaragua/male_single",
          "Kein Kredit/Philippines/male_single",
          "Kein Kredit/Rwanda/male_single",
          "Kein Kredit/Tajikistan/male_single",
          "Kein Kredit/Togo/male_single",
          "Kein Kredit/Uganda/male_single",
          "Kein Kredit/United States/male_single",
          "Kein Kredit/Vietnam/male_single",
          "Kein Kredit/Cambodia/mixed_group",
          "Kein Kredit/The Democratic Republic of the Congo/mixed_group",
          "Kein Kredit/Albania/female_single",
          "Kein Kredit/Armenia/female_single",
          "Kein Kredit/Colombia/female_single",
          "Kein Kredit/Lebanon/female_single",
          "Kein Kredit/Mexico/female_single",
          "Kein Kredit/Tajikistan/female_single",
          "Kein Kredit/United States/female_single",
          "Kein Kredit/Armenia/male_single",
          "Kein Kredit/Bolivia/male_single",
          "Kein Kredit/El Salvador/male_single",
          "Kein Kredit/Mexico/male_single",
          "Kein Kredit/Peru/male_single",
          "Kein Kredit/Tajikistan/male_single",
          "Kein Kredit/United States/male_single",
          "Kein Kredit/Cambodia/female_group",
          "Kein Kredit/Bolivia/female_single",
          "Kein Kredit/Cambodia/female_single",
          "Kein Kredit/Costa Rica/female_single",
          "Kein Kredit/India/female_single",
          "Kein Kredit/Indonesia/female_single",
          "Kein Kredit/Lebanon/female_single",
          "Kein Kredit/Mozambique/female_single",
          "Kein Kredit/Philippines/female_single",
          "Kein Kredit/Tajikistan/female_single",
          "Kein Kredit/Uganda/female_single",
          "Kein Kredit/United States/female_single",
          "Kein Kredit/Vietnam/female_single",
          "Kein Kredit/Yemen/female_single",
          "Kein Kredit/Albania/male_single",
          "Kein Kredit/Cambodia/male_single",
          "Kein Kredit/Guatemala/male_single",
          "Kein Kredit/Mexico/male_single",
          "Kein Kredit/Mozambique/male_single",
          "Kein Kredit/Nicaragua/male_single",
          "Kein Kredit/Peru/male_single",
          "Kein Kredit/Philippines/male_single",
          "Kein Kredit/Tajikistan/male_single",
          "Kein Kredit/Uganda/male_single",
          "Kein Kredit/United States/male_single",
          "Kein Kredit/Vietnam/male_single",
          "Kein Kredit/Yemen/male_single",
          "Kein Kredit/Pakistan/female_single",
          "Kein Kredit/Uganda/female_single",
          "Kein Kredit/Colombia/male_single",
          "Kein Kredit/Kenya/male_single",
          "Kein Kredit/United States/male_single",
          "Kein Kredit/Cambodia/female_group",
          "Kein Kredit/Myanmar (Burma)/female_group",
          "Kein Kredit/Cambodia/female_single",
          "Kein Kredit/Indonesia/female_single",
          "Kein Kredit/Kenya/female_single",
          "Kein Kredit/Lebanon/female_single",
          "Kein Kredit/Mozambique/female_single",
          "Kein Kredit/Myanmar (Burma)/female_single",
          "Kein Kredit/Peru/female_single",
          "Kein Kredit/Philippines/female_single",
          "Kein Kredit/Senegal/female_single",
          "Kein Kredit/Tajikistan/female_single",
          "Kein Kredit/Albania/male_single",
          "Kein Kredit/Cambodia/male_single",
          "Kein Kredit/Costa Rica/male_single",
          "Kein Kredit/Mozambique/male_single",
          "Kein Kredit/Myanmar (Burma)/male_single",
          "Kein Kredit/Nicaragua/male_single",
          "Kein Kredit/Nigeria/male_single",
          "Kein Kredit/Philippines/male_single",
          "Kein Kredit/Uganda/male_single",
          "Kein Kredit/Yemen/male_single",
          "Kein Kredit/Cambodia/mixed_group",
          "Kein Kredit/Myanmar (Burma)/mixed_group",
          "Kein Kredit/Cambodia/female_group",
          "Kein Kredit/Guatemala/female_group",
          "Kein Kredit/Honduras/female_group",
          "Kein Kredit/Myanmar (Burma)/female_group",
          "Kein Kredit/Senegal/female_group",
          "Kein Kredit/Sierra Leone/female_group",
          "Kein Kredit/Uganda/female_group",
          "Kein Kredit/Zimbabwe/female_group",
          "Kein Kredit/Burkina Faso/female_single",
          "Kein Kredit/Cambodia/female_single",
          "Kein Kredit/Cameroon/female_single",
          "Kein Kredit/Colombia/female_single",
          "Kein Kredit/El Salvador/female_single",
          "Kein Kredit/Georgia/female_single",
          "Kein Kredit/Guatemala/female_single",
          "Kein Kredit/Honduras/female_single",
          "Kein Kredit/India/female_single",
          "Kein Kredit/Kenya/female_single",
          "Kein Kredit/Liberia/female_single",
          "Kein Kredit/Madagascar/female_single",
          "Kein Kredit/Mozambique/female_single",
          "Kein Kredit/Nicaragua/female_single",
          "Kein Kredit/Pakistan/female_single",
          "Kein Kredit/Peru/female_single",
          "Kein Kredit/Philippines/female_single",
          "Kein Kredit/Rwanda/female_single",
          "Kein Kredit/Samoa/female_single",
          "Kein Kredit/Sierra Leone/female_single",
          "Kein Kredit/Solomon Islands/female_single",
          "Kein Kredit/Tajikistan/female_single",
          "Kein Kredit/Togo/female_single",
          "Kein Kredit/Uganda/female_single",
          "Kein Kredit/United States/female_single",
          "Kein Kredit/Vietnam/female_single",
          "Kein Kredit/Virgin Islands/female_single",
          "Kein Kredit/Albania/male_single",
          "Kein Kredit/Bolivia/male_single",
          "Kein Kredit/Burkina Faso/male_single",
          "Kein Kredit/Cambodia/male_single",
          "Kein Kredit/Colombia/male_single",
          "Kein Kredit/Egypt/male_single",
          "Kein Kredit/El Salvador/male_single",
          "Kein Kredit/Kenya/male_single",
          "Kein Kredit/Lebanon/male_single",
          "Kein Kredit/Madagascar/male_single",
          "Kein Kredit/Mexico/male_single",
          "Kein Kredit/Mozambique/male_single",
          "Kein Kredit/Myanmar (Burma)/male_single",
          "Kein Kredit/Nicaragua/male_single",
          "Kein Kredit/Paraguay/male_single",
          "Kein Kredit/Peru/male_single",
          "Kein Kredit/Philippines/male_single",
          "Kein Kredit/Sierra Leone/male_single",
          "Kein Kredit/Togo/male_single",
          "Kein Kredit/Uganda/male_single",
          "Kein Kredit/United States/male_single",
          "Kein Kredit/Vietnam/male_single",
          "Kein Kredit/Peru/mixed_group",
          "Kein Kredit/Uganda/mixed_group",
          "Kein Kredit/Cambodia/female_group",
          "Kein Kredit/Zimbabwe/female_group",
          "Kein Kredit/Cambodia/female_single",
          "Kein Kredit/Cameroon/female_single",
          "Kein Kredit/Colombia/female_single",
          "Kein Kredit/Costa Rica/female_single",
          "Kein Kredit/El Salvador/female_single",
          "Kein Kredit/Kenya/female_single",
          "Kein Kredit/Liberia/female_single",
          "Kein Kredit/Malawi/female_single",
          "Kein Kredit/Mozambique/female_single",
          "Kein Kredit/Nicaragua/female_single",
          "Kein Kredit/Pakistan/female_single",
          "Kein Kredit/Peru/female_single",
          "Kein Kredit/Philippines/female_single",
          "Kein Kredit/Puerto Rico/female_single",
          "Kein Kredit/Samoa/female_single",
          "Kein Kredit/Tajikistan/female_single",
          "Kein Kredit/Togo/female_single",
          "Kein Kredit/Uganda/female_single",
          "Kein Kredit/United States/female_single",
          "Kein Kredit/Vietnam/female_single",
          "Kein Kredit/Virgin Islands/female_single",
          "Kein Kredit/Bolivia/male_single",
          "Kein Kredit/Cambodia/male_single",
          "Kein Kredit/Cameroon/male_single",
          "Kein Kredit/Colombia/male_single",
          "Kein Kredit/El Salvador/male_single",
          "Kein Kredit/Georgia/male_single",
          "Kein Kredit/Jordan/male_single",
          "Kein Kredit/Kenya/male_single",
          "Kein Kredit/Lebanon/male_single",
          "Kein Kredit/Malawi/male_single",
          "Kein Kredit/Mexico/male_single",
          "Kein Kredit/Mozambique/male_single",
          "Kein Kredit/Peru/male_single",
          "Kein Kredit/Puerto Rico/male_single",
          "Kein Kredit/Tajikistan/male_single",
          "Kein Kredit/Togo/male_single",
          "Kein Kredit/Uganda/male_single",
          "Kein Kredit/United States/male_single",
          "Kein Kredit/Bolivia/female_single",
          "Kein Kredit/Pakistan/female_single",
          "Kein Kredit/Peru/female_single",
          "Kein Kredit/Philippines/female_single",
          "Kein Kredit/Samoa/female_single",
          "Kein Kredit/Tanzania/male_group",
          "Kein Kredit/Bolivia/male_single",
          "Kein Kredit/Cambodia/male_single",
          "Kein Kredit/Colombia/male_single",
          "Kein Kredit/El Salvador/male_single",
          "Kein Kredit/Georgia/male_single",
          "Kein Kredit/Kenya/male_single",
          "Kein Kredit/Peru/male_single",
          "Kein Kredit/Philippines/male_single",
          "Kein Kredit/Tajikistan/male_single",
          "Kein Kredit/Tanzania/male_single",
          "Kein Kredit/Uganda/male_single",
          "Kein Kredit/United States/male_single",
          "Kein Kredit/Bolivia",
          "Kein Kredit/Burkina Faso",
          "Kein Kredit/Cambodia",
          "Kein Kredit/Ghana",
          "Kein Kredit/Guatemala",
          "Kein Kredit/Honduras",
          "Kein Kredit/Kenya",
          "Kein Kredit/Malawi",
          "Kein Kredit/Mexico",
          "Kein Kredit/Myanmar (Burma)",
          "Kein Kredit/Senegal",
          "Kein Kredit/Sierra Leone",
          "Kein Kredit/Tanzania",
          "Kein Kredit/Uganda",
          "Kein Kredit/Vietnam",
          "Kein Kredit/Zimbabwe",
          "Kein Kredit/Albania",
          "Kein Kredit/Armenia",
          "Kein Kredit/Bolivia",
          "Kein Kredit/Burkina Faso",
          "Kein Kredit/Cambodia",
          "Kein Kredit/Cameroon",
          "Kein Kredit/Colombia",
          "Kein Kredit/Costa Rica",
          "Kein Kredit/Ecuador",
          "Kein Kredit/Egypt",
          "Kein Kredit/El Salvador",
          "Kein Kredit/Georgia",
          "Kein Kredit/Ghana",
          "Kein Kredit/Guatemala",
          "Kein Kredit/Haiti",
          "Kein Kredit/Honduras",
          "Kein Kredit/India",
          "Kein Kredit/Indonesia",
          "Kein Kredit/Jordan",
          "Kein Kredit/Kenya",
          "Kein Kredit/Lebanon",
          "Kein Kredit/Liberia",
          "Kein Kredit/Madagascar",
          "Kein Kredit/Malawi",
          "Kein Kredit/Mexico",
          "Kein Kredit/Mozambique",
          "Kein Kredit/Myanmar (Burma)",
          "Kein Kredit/Nicaragua",
          "Kein Kredit/Nigeria",
          "Kein Kredit/Pakistan",
          "Kein Kredit/Paraguay",
          "Kein Kredit/Peru",
          "Kein Kredit/Philippines",
          "Kein Kredit/Puerto Rico",
          "Kein Kredit/Rwanda",
          "Kein Kredit/Samoa",
          "Kein Kredit/Senegal",
          "Kein Kredit/Sierra Leone",
          "Kein Kredit/Solomon Islands",
          "Kein Kredit/Tajikistan",
          "Kein Kredit/Tanzania",
          "Kein Kredit/Togo",
          "Kein Kredit/Uganda",
          "Kein Kredit/Ukraine",
          "Kein Kredit/United States",
          "Kein Kredit/Vietnam",
          "Kein Kredit/Virgin Islands",
          "Kein Kredit/Yemen",
          "Kein Kredit/Zimbabwe",
          "Kein Kredit/Burkina Faso",
          "Kein Kredit/Cambodia",
          "Kein Kredit/Mali",
          "Kein Kredit/Myanmar (Burma)",
          "Kein Kredit/Tanzania",
          "Kein Kredit/The Democratic Republic of the Congo",
          "Kein Kredit/Albania",
          "Kein Kredit/Armenia",
          "Kein Kredit/Bolivia",
          "Kein Kredit/Burkina Faso",
          "Kein Kredit/Cambodia",
          "Kein Kredit/Cameroon",
          "Kein Kredit/Colombia",
          "Kein Kredit/Costa Rica",
          "Kein Kredit/Ecuador",
          "Kein Kredit/Egypt",
          "Kein Kredit/El Salvador",
          "Kein Kredit/Georgia",
          "Kein Kredit/Guatemala",
          "Kein Kredit/Haiti",
          "Kein Kredit/Honduras",
          "Kein Kredit/Jordan",
          "Kein Kredit/Kenya",
          "Kein Kredit/Lebanon",
          "Kein Kredit/Madagascar",
          "Kein Kredit/Malawi",
          "Kein Kredit/Mexico",
          "Kein Kredit/Mozambique",
          "Kein Kredit/Myanmar (Burma)",
          "Kein Kredit/Nicaragua",
          "Kein Kredit/Nigeria",
          "Kein Kredit/Paraguay",
          "Kein Kredit/Peru",
          "Kein Kredit/Philippines",
          "Kein Kredit/Puerto Rico",
          "Kein Kredit/Rwanda",
          "Kein Kredit/Senegal",
          "Kein Kredit/Sierra Leone",
          "Kein Kredit/Tajikistan",
          "Kein Kredit/Tanzania",
          "Kein Kredit/Togo",
          "Kein Kredit/Uganda",
          "Kein Kredit/United States",
          "Kein Kredit/Vietnam",
          "Kein Kredit/Yemen",
          "Kein Kredit/Cambodia",
          "Kein Kredit/Myanmar (Burma)",
          "Kein Kredit/Peru",
          "Kein Kredit/The Democratic Republic of the Congo",
          "Kein Kredit/Uganda",
          "Kein Kredit",
          "Kein Kredit",
          "Kein Kredit",
          "Kein Kredit",
          "Kein Kredit",
          "Kein Kredit",
          "Kein Kredit",
          "Kein Kredit",
          "Kein Kredit",
          "Kein Kredit",
          "Kein Kredit",
          "Kein Kredit",
          "Kein Kredit",
          "Kein Kredit",
          "Kein Kredit",
          "Kein Kredit",
          "Kein Kredit",
          "Kein Kredit",
          "Kein Kredit",
          "Kein Kredit",
          "Kein Kredit",
          "Kein Kredit",
          "Kein Kredit",
          "Kein Kredit",
          "Kein Kredit",
          "Kein Kredit",
          "Kein Kredit",
          "Kein Kredit",
          "Kein Kredit",
          "Kein Kredit",
          "Kein Kredit",
          "Kein Kredit",
          "Kein Kredit",
          "Kein Kredit",
          "Kein Kredit",
          "Kein Kredit",
          "Kein Kredit",
          "Kein Kredit",
          "Kein Kredit",
          "Kein Kredit",
          "Kein Kredit",
          "Kein Kredit",
          "Kein Kredit",
          "Kein Kredit",
          "Kein Kredit",
          "Kein Kredit",
          "Kein Kredit",
          "Kein Kredit",
          "Kein Kredit",
          "Kein Kredit",
          "Kein Kredit",
          ""
         ],
         "root": {
          "color": "lightgrey"
         },
         "type": "treemap",
         "values": [
          1750,
          52175,
          100,
          975,
          250,
          15100,
          1300,
          7075,
          4375,
          21775,
          2400,
          1750,
          5300,
          575,
          13525,
          500,
          775,
          53625,
          300,
          10300,
          1225,
          75,
          1250,
          7775,
          500,
          7500,
          3225,
          68000,
          11625,
          525,
          1850,
          3475,
          1325,
          5475,
          625,
          1850,
          2350,
          14450,
          3900,
          2400,
          25450,
          2950,
          1300,
          10075,
          4425,
          375,
          43050,
          1250,
          2200,
          2525,
          1375,
          9850,
          107725,
          1325,
          4000,
          800,
          150,
          1000,
          400,
          10700,
          500,
          600,
          28550,
          51500,
          8475,
          2800,
          2050,
          2175,
          2925,
          1750,
          2300,
          8500,
          1775,
          1250,
          500,
          875,
          10750,
          3750,
          2250,
          4050,
          7900,
          775,
          13450,
          4100,
          725,
          1850,
          1725,
          129900,
          2725,
          1100,
          425,
          2100,
          500,
          575,
          1300,
          1650,
          2450,
          4350,
          1075,
          575,
          2550,
          86475,
          675,
          1975,
          300,
          275,
          575,
          18375,
          675,
          975,
          325,
          1575,
          50500,
          12850,
          1425,
          575,
          58000,
          7575,
          725,
          3500,
          4375,
          350,
          6375,
          43500,
          1050,
          25,
          40000,
          5000,
          114100,
          625,
          5525,
          7825,
          3725,
          1500,
          5450,
          650,
          1675,
          2475,
          1325,
          9225,
          1675,
          7275,
          575,
          37875,
          3200,
          2075,
          57275,
          2500,
          8700,
          600,
          1225,
          10600,
          9050,
          7875,
          29350,
          14200,
          6200,
          6450,
          425,
          12350,
          8300,
          271575,
          17400,
          700,
          3125,
          900,
          15400,
          2100,
          3050,
          8625,
          2925,
          1625,
          900,
          9425,
          1500,
          475,
          550,
          500,
          200,
          11475,
          3300,
          875,
          6775,
          255000,
          1325,
          1475,
          1000,
          3325,
          1700,
          325,
          2000,
          450,
          6075,
          1000,
          1050,
          11900,
          400,
          7725,
          1550,
          5875,
          25000,
          2600,
          1000,
          3200,
          3500,
          975,
          3075,
          2000,
          3550,
          7475,
          800,
          1125,
          8000,
          9550,
          725,
          4775,
          1000,
          1800,
          550,
          13150,
          775,
          475,
          2400,
          725,
          4450,
          12500,
          675,
          800,
          500,
          3900,
          675,
          1900,
          5000,
          6550,
          8250,
          6150,
          525,
          500,
          1300,
          675,
          3150,
          1075,
          200,
          600,
          4125,
          2175,
          3150,
          875,
          2525,
          6550,
          1400,
          600,
          125,
          2075,
          1675,
          925,
          1200,
          7400,
          9100,
          1475,
          2250,
          1050,
          550,
          3375,
          4800,
          1325,
          4000,
          625,
          15950,
          26850,
          850,
          700,
          1075,
          400,
          35975,
          6550,
          275,
          4150,
          8000,
          16125,
          3425,
          12525,
          31700,
          11775,
          9375,
          3000,
          1450,
          12400,
          8200,
          271625,
          5325,
          5000,
          2600,
          1025,
          875,
          1250,
          12950,
          575,
          12750,
          25475,
          3700,
          175,
          825,
          3200,
          750,
          2025,
          2225,
          2975,
          1600,
          1775,
          1250,
          14625,
          257475,
          450,
          5525,
          1125,
          10075,
          1400,
          1250,
          1325,
          4275,
          1750,
          4150,
          16700,
          325,
          850,
          425,
          1500,
          33350,
          6425,
          2300,
          3000,
          1100,
          16050,
          1050,
          350,
          474375,
          4875,
          5000,
          1025,
          625,
          700,
          8175,
          4775,
          2100,
          750,
          9425,
          1500,
          1700,
          825,
          350,
          2150,
          8000,
          1150,
          425,
          1625,
          593900,
          4950,
          14975,
          1700,
          300,
          600,
          675,
          5200,
          2100,
          2650,
          2500,
          3950,
          10025,
          1550,
          1825,
          700,
          275,
          6100,
          84150,
          1750,
          625,
          86300,
          7925,
          17575,
          1475,
          1000,
          6525,
          250,
          12000,
          1050,
          6000,
          650,
          5050,
          17575,
          8250,
          6800,
          21625,
          10325,
          2650,
          45600,
          3625,
          33150,
          8750,
          5300,
          3600,
          91900,
          2625,
          500,
          2725,
          500,
          5150,
          3450,
          3600,
          1425,
          174825,
          7800,
          19325,
          3125,
          850,
          1150,
          8800,
          13450,
          13550,
          1225,
          95675,
          75,
          23700,
          38725,
          3500,
          74500,
          28275,
          1100,
          15575,
          3000,
          47125,
          425,
          26525,
          27525,
          1725,
          1369400,
          51500,
          10000,
          725,
          1100,
          525,
          1850,
          3475,
          1325,
          1100,
          700,
          9550,
          8625,
          19150,
          1500,
          13100,
          3950,
          55475,
          4775,
          4500,
          4200,
          55800,
          8975,
          1800,
          1625,
          5500,
          9625,
          70475,
          10200,
          650,
          1700,
          10475,
          19225,
          11725,
          5075,
          43650,
          2225,
          14650,
          8350,
          13000,
          15825,
          2525,
          2850,
          14050,
          275,
          2550,
          56000,
          1686825,
          4450,
          3525,
          6400,
          1200,
          5525,
          1800,
          1125,
          16350,
          30250,
          31225,
          5300,
          153250,
          7575,
          88625,
          13525,
          9800,
          7800,
          147700,
          11600,
          8425,
          22100,
          2125,
          12125,
          3450,
          3600,
          11050,
          246300,
          18000,
          19325,
          3775,
          9075,
          3475,
          11875,
          28025,
          39700,
          18625,
          44875,
          95675,
          2300,
          43875,
          47075,
          16500,
          90325,
          28275,
          4675,
          24425,
          3000,
          61175,
          2450,
          2500,
          29075,
          89700,
          1725,
          3056225,
          73525,
          10000,
          4250,
          9350,
          4725025
         ]
        }
       ],
       "layout": {
        "legend": {
         "tracegroupgap": 0
        },
        "margin": {
         "b": 25,
         "l": 25,
         "r": 25,
         "t": 50
        },
        "template": {
         "data": {
          "bar": [
           {
            "error_x": {
             "color": "#2a3f5f"
            },
            "error_y": {
             "color": "#2a3f5f"
            },
            "marker": {
             "line": {
              "color": "#E5ECF6",
              "width": 0.5
             },
             "pattern": {
              "fillmode": "overlay",
              "size": 10,
              "solidity": 0.2
             }
            },
            "type": "bar"
           }
          ],
          "barpolar": [
           {
            "marker": {
             "line": {
              "color": "#E5ECF6",
              "width": 0.5
             },
             "pattern": {
              "fillmode": "overlay",
              "size": 10,
              "solidity": 0.2
             }
            },
            "type": "barpolar"
           }
          ],
          "carpet": [
           {
            "aaxis": {
             "endlinecolor": "#2a3f5f",
             "gridcolor": "white",
             "linecolor": "white",
             "minorgridcolor": "white",
             "startlinecolor": "#2a3f5f"
            },
            "baxis": {
             "endlinecolor": "#2a3f5f",
             "gridcolor": "white",
             "linecolor": "white",
             "minorgridcolor": "white",
             "startlinecolor": "#2a3f5f"
            },
            "type": "carpet"
           }
          ],
          "choropleth": [
           {
            "colorbar": {
             "outlinewidth": 0,
             "ticks": ""
            },
            "type": "choropleth"
           }
          ],
          "contour": [
           {
            "colorbar": {
             "outlinewidth": 0,
             "ticks": ""
            },
            "colorscale": [
             [
              0,
              "#0d0887"
             ],
             [
              0.1111111111111111,
              "#46039f"
             ],
             [
              0.2222222222222222,
              "#7201a8"
             ],
             [
              0.3333333333333333,
              "#9c179e"
             ],
             [
              0.4444444444444444,
              "#bd3786"
             ],
             [
              0.5555555555555556,
              "#d8576b"
             ],
             [
              0.6666666666666666,
              "#ed7953"
             ],
             [
              0.7777777777777778,
              "#fb9f3a"
             ],
             [
              0.8888888888888888,
              "#fdca26"
             ],
             [
              1,
              "#f0f921"
             ]
            ],
            "type": "contour"
           }
          ],
          "contourcarpet": [
           {
            "colorbar": {
             "outlinewidth": 0,
             "ticks": ""
            },
            "type": "contourcarpet"
           }
          ],
          "heatmap": [
           {
            "colorbar": {
             "outlinewidth": 0,
             "ticks": ""
            },
            "colorscale": [
             [
              0,
              "#0d0887"
             ],
             [
              0.1111111111111111,
              "#46039f"
             ],
             [
              0.2222222222222222,
              "#7201a8"
             ],
             [
              0.3333333333333333,
              "#9c179e"
             ],
             [
              0.4444444444444444,
              "#bd3786"
             ],
             [
              0.5555555555555556,
              "#d8576b"
             ],
             [
              0.6666666666666666,
              "#ed7953"
             ],
             [
              0.7777777777777778,
              "#fb9f3a"
             ],
             [
              0.8888888888888888,
              "#fdca26"
             ],
             [
              1,
              "#f0f921"
             ]
            ],
            "type": "heatmap"
           }
          ],
          "heatmapgl": [
           {
            "colorbar": {
             "outlinewidth": 0,
             "ticks": ""
            },
            "colorscale": [
             [
              0,
              "#0d0887"
             ],
             [
              0.1111111111111111,
              "#46039f"
             ],
             [
              0.2222222222222222,
              "#7201a8"
             ],
             [
              0.3333333333333333,
              "#9c179e"
             ],
             [
              0.4444444444444444,
              "#bd3786"
             ],
             [
              0.5555555555555556,
              "#d8576b"
             ],
             [
              0.6666666666666666,
              "#ed7953"
             ],
             [
              0.7777777777777778,
              "#fb9f3a"
             ],
             [
              0.8888888888888888,
              "#fdca26"
             ],
             [
              1,
              "#f0f921"
             ]
            ],
            "type": "heatmapgl"
           }
          ],
          "histogram": [
           {
            "marker": {
             "pattern": {
              "fillmode": "overlay",
              "size": 10,
              "solidity": 0.2
             }
            },
            "type": "histogram"
           }
          ],
          "histogram2d": [
           {
            "colorbar": {
             "outlinewidth": 0,
             "ticks": ""
            },
            "colorscale": [
             [
              0,
              "#0d0887"
             ],
             [
              0.1111111111111111,
              "#46039f"
             ],
             [
              0.2222222222222222,
              "#7201a8"
             ],
             [
              0.3333333333333333,
              "#9c179e"
             ],
             [
              0.4444444444444444,
              "#bd3786"
             ],
             [
              0.5555555555555556,
              "#d8576b"
             ],
             [
              0.6666666666666666,
              "#ed7953"
             ],
             [
              0.7777777777777778,
              "#fb9f3a"
             ],
             [
              0.8888888888888888,
              "#fdca26"
             ],
             [
              1,
              "#f0f921"
             ]
            ],
            "type": "histogram2d"
           }
          ],
          "histogram2dcontour": [
           {
            "colorbar": {
             "outlinewidth": 0,
             "ticks": ""
            },
            "colorscale": [
             [
              0,
              "#0d0887"
             ],
             [
              0.1111111111111111,
              "#46039f"
             ],
             [
              0.2222222222222222,
              "#7201a8"
             ],
             [
              0.3333333333333333,
              "#9c179e"
             ],
             [
              0.4444444444444444,
              "#bd3786"
             ],
             [
              0.5555555555555556,
              "#d8576b"
             ],
             [
              0.6666666666666666,
              "#ed7953"
             ],
             [
              0.7777777777777778,
              "#fb9f3a"
             ],
             [
              0.8888888888888888,
              "#fdca26"
             ],
             [
              1,
              "#f0f921"
             ]
            ],
            "type": "histogram2dcontour"
           }
          ],
          "mesh3d": [
           {
            "colorbar": {
             "outlinewidth": 0,
             "ticks": ""
            },
            "type": "mesh3d"
           }
          ],
          "parcoords": [
           {
            "line": {
             "colorbar": {
              "outlinewidth": 0,
              "ticks": ""
             }
            },
            "type": "parcoords"
           }
          ],
          "pie": [
           {
            "automargin": true,
            "type": "pie"
           }
          ],
          "scatter": [
           {
            "fillpattern": {
             "fillmode": "overlay",
             "size": 10,
             "solidity": 0.2
            },
            "type": "scatter"
           }
          ],
          "scatter3d": [
           {
            "line": {
             "colorbar": {
              "outlinewidth": 0,
              "ticks": ""
             }
            },
            "marker": {
             "colorbar": {
              "outlinewidth": 0,
              "ticks": ""
             }
            },
            "type": "scatter3d"
           }
          ],
          "scattercarpet": [
           {
            "marker": {
             "colorbar": {
              "outlinewidth": 0,
              "ticks": ""
             }
            },
            "type": "scattercarpet"
           }
          ],
          "scattergeo": [
           {
            "marker": {
             "colorbar": {
              "outlinewidth": 0,
              "ticks": ""
             }
            },
            "type": "scattergeo"
           }
          ],
          "scattergl": [
           {
            "marker": {
             "colorbar": {
              "outlinewidth": 0,
              "ticks": ""
             }
            },
            "type": "scattergl"
           }
          ],
          "scattermapbox": [
           {
            "marker": {
             "colorbar": {
              "outlinewidth": 0,
              "ticks": ""
             }
            },
            "type": "scattermapbox"
           }
          ],
          "scatterpolar": [
           {
            "marker": {
             "colorbar": {
              "outlinewidth": 0,
              "ticks": ""
             }
            },
            "type": "scatterpolar"
           }
          ],
          "scatterpolargl": [
           {
            "marker": {
             "colorbar": {
              "outlinewidth": 0,
              "ticks": ""
             }
            },
            "type": "scatterpolargl"
           }
          ],
          "scatterternary": [
           {
            "marker": {
             "colorbar": {
              "outlinewidth": 0,
              "ticks": ""
             }
            },
            "type": "scatterternary"
           }
          ],
          "surface": [
           {
            "colorbar": {
             "outlinewidth": 0,
             "ticks": ""
            },
            "colorscale": [
             [
              0,
              "#0d0887"
             ],
             [
              0.1111111111111111,
              "#46039f"
             ],
             [
              0.2222222222222222,
              "#7201a8"
             ],
             [
              0.3333333333333333,
              "#9c179e"
             ],
             [
              0.4444444444444444,
              "#bd3786"
             ],
             [
              0.5555555555555556,
              "#d8576b"
             ],
             [
              0.6666666666666666,
              "#ed7953"
             ],
             [
              0.7777777777777778,
              "#fb9f3a"
             ],
             [
              0.8888888888888888,
              "#fdca26"
             ],
             [
              1,
              "#f0f921"
             ]
            ],
            "type": "surface"
           }
          ],
          "table": [
           {
            "cells": {
             "fill": {
              "color": "#EBF0F8"
             },
             "line": {
              "color": "white"
             }
            },
            "header": {
             "fill": {
              "color": "#C8D4E3"
             },
             "line": {
              "color": "white"
             }
            },
            "type": "table"
           }
          ]
         },
         "layout": {
          "annotationdefaults": {
           "arrowcolor": "#2a3f5f",
           "arrowhead": 0,
           "arrowwidth": 1
          },
          "autotypenumbers": "strict",
          "coloraxis": {
           "colorbar": {
            "outlinewidth": 0,
            "ticks": ""
           }
          },
          "colorscale": {
           "diverging": [
            [
             0,
             "#8e0152"
            ],
            [
             0.1,
             "#c51b7d"
            ],
            [
             0.2,
             "#de77ae"
            ],
            [
             0.3,
             "#f1b6da"
            ],
            [
             0.4,
             "#fde0ef"
            ],
            [
             0.5,
             "#f7f7f7"
            ],
            [
             0.6,
             "#e6f5d0"
            ],
            [
             0.7,
             "#b8e186"
            ],
            [
             0.8,
             "#7fbc41"
            ],
            [
             0.9,
             "#4d9221"
            ],
            [
             1,
             "#276419"
            ]
           ],
           "sequential": [
            [
             0,
             "#0d0887"
            ],
            [
             0.1111111111111111,
             "#46039f"
            ],
            [
             0.2222222222222222,
             "#7201a8"
            ],
            [
             0.3333333333333333,
             "#9c179e"
            ],
            [
             0.4444444444444444,
             "#bd3786"
            ],
            [
             0.5555555555555556,
             "#d8576b"
            ],
            [
             0.6666666666666666,
             "#ed7953"
            ],
            [
             0.7777777777777778,
             "#fb9f3a"
            ],
            [
             0.8888888888888888,
             "#fdca26"
            ],
            [
             1,
             "#f0f921"
            ]
           ],
           "sequentialminus": [
            [
             0,
             "#0d0887"
            ],
            [
             0.1111111111111111,
             "#46039f"
            ],
            [
             0.2222222222222222,
             "#7201a8"
            ],
            [
             0.3333333333333333,
             "#9c179e"
            ],
            [
             0.4444444444444444,
             "#bd3786"
            ],
            [
             0.5555555555555556,
             "#d8576b"
            ],
            [
             0.6666666666666666,
             "#ed7953"
            ],
            [
             0.7777777777777778,
             "#fb9f3a"
            ],
            [
             0.8888888888888888,
             "#fdca26"
            ],
            [
             1,
             "#f0f921"
            ]
           ]
          },
          "colorway": [
           "#636efa",
           "#EF553B",
           "#00cc96",
           "#ab63fa",
           "#FFA15A",
           "#19d3f3",
           "#FF6692",
           "#B6E880",
           "#FF97FF",
           "#FECB52"
          ],
          "font": {
           "color": "#2a3f5f"
          },
          "geo": {
           "bgcolor": "white",
           "lakecolor": "white",
           "landcolor": "#E5ECF6",
           "showlakes": true,
           "showland": true,
           "subunitcolor": "white"
          },
          "hoverlabel": {
           "align": "left"
          },
          "hovermode": "closest",
          "mapbox": {
           "style": "light"
          },
          "paper_bgcolor": "white",
          "plot_bgcolor": "#E5ECF6",
          "polar": {
           "angularaxis": {
            "gridcolor": "white",
            "linecolor": "white",
            "ticks": ""
           },
           "bgcolor": "#E5ECF6",
           "radialaxis": {
            "gridcolor": "white",
            "linecolor": "white",
            "ticks": ""
           }
          },
          "scene": {
           "xaxis": {
            "backgroundcolor": "#E5ECF6",
            "gridcolor": "white",
            "gridwidth": 2,
            "linecolor": "white",
            "showbackground": true,
            "ticks": "",
            "zerolinecolor": "white"
           },
           "yaxis": {
            "backgroundcolor": "#E5ECF6",
            "gridcolor": "white",
            "gridwidth": 2,
            "linecolor": "white",
            "showbackground": true,
            "ticks": "",
            "zerolinecolor": "white"
           },
           "zaxis": {
            "backgroundcolor": "#E5ECF6",
            "gridcolor": "white",
            "gridwidth": 2,
            "linecolor": "white",
            "showbackground": true,
            "ticks": "",
            "zerolinecolor": "white"
           }
          },
          "shapedefaults": {
           "line": {
            "color": "#2a3f5f"
           }
          },
          "ternary": {
           "aaxis": {
            "gridcolor": "white",
            "linecolor": "white",
            "ticks": ""
           },
           "baxis": {
            "gridcolor": "white",
            "linecolor": "white",
            "ticks": ""
           },
           "bgcolor": "#E5ECF6",
           "caxis": {
            "gridcolor": "white",
            "linecolor": "white",
            "ticks": ""
           }
          },
          "title": {
           "x": 0.05
          },
          "xaxis": {
           "automargin": true,
           "gridcolor": "white",
           "linecolor": "white",
           "ticks": "",
           "title": {
            "standoff": 15
           },
           "zerolinecolor": "white",
           "zerolinewidth": 2
          },
          "yaxis": {
           "automargin": true,
           "gridcolor": "white",
           "linecolor": "white",
           "ticks": "",
           "title": {
            "standoff": 15
           },
           "zerolinecolor": "white",
           "zerolinewidth": 2
          }
         }
        },
        "title": {
         "text": "Übersicht beantragte Kredithöhe (Dollar)"
        }
       }
      }
     },
     "metadata": {},
     "output_type": "display_data"
    }
   ],
   "source": [
    "# Treemap für alle Projekte \n",
    "\n",
    "fig = px.treemap(df_0, path=[px.Constant(\"Kein Kredit\"), 'country', 'gender', 'sector'], values='loan_amount', \n",
    "                 title= 'Übersicht beantragte Kredithöhe (Dollar)')\n",
    "fig.update_traces(root_color=\"lightgrey\")\n",
    "fig.update_layout(margin = dict(t=50, l=25, r=25, b=25))\n",
    "fig.show()"
   ]
  },
  {
   "cell_type": "markdown",
   "id": "a1b67f0e",
   "metadata": {
    "ExecuteTime": {
     "end_time": "2024-02-16T10:29:00.531216Z",
     "start_time": "2024-02-16T10:29:00.517201Z"
    }
   },
   "source": [
    "**Im Folgenden soll der Blick ausschließlich auf die USA gerichtet werden:**"
   ]
  },
  {
   "cell_type": "code",
   "execution_count": 225,
   "id": "7a8a9efc",
   "metadata": {
    "ExecuteTime": {
     "end_time": "2024-02-16T10:29:26.409882Z",
     "start_time": "2024-02-16T10:29:26.209243Z"
    }
   },
   "outputs": [
    {
     "data": {
      "text/html": [
       "<div>\n",
       "<style scoped>\n",
       "    .dataframe tbody tr th:only-of-type {\n",
       "        vertical-align: middle;\n",
       "    }\n",
       "\n",
       "    .dataframe tbody tr th {\n",
       "        vertical-align: top;\n",
       "    }\n",
       "\n",
       "    .dataframe thead th {\n",
       "        text-align: right;\n",
       "    }\n",
       "</style>\n",
       "<table border=\"1\" class=\"dataframe\">\n",
       "  <thead>\n",
       "    <tr style=\"text-align: right;\">\n",
       "      <th></th>\n",
       "      <th>funded_amount</th>\n",
       "      <th>loan_amount</th>\n",
       "      <th>sector</th>\n",
       "      <th>country_code</th>\n",
       "      <th>country</th>\n",
       "      <th>lender_count</th>\n",
       "      <th>borrower_genders</th>\n",
       "      <th>gender</th>\n",
       "      <th>KPI_funded_loan</th>\n",
       "    </tr>\n",
       "  </thead>\n",
       "  <tbody>\n",
       "    <tr>\n",
       "      <th>455</th>\n",
       "      <td>5000.0</td>\n",
       "      <td>5000.0</td>\n",
       "      <td>Agriculture</td>\n",
       "      <td>US</td>\n",
       "      <td>United States</td>\n",
       "      <td>158</td>\n",
       "      <td>male</td>\n",
       "      <td>male_single</td>\n",
       "      <td>1.0</td>\n",
       "    </tr>\n",
       "    <tr>\n",
       "      <th>504</th>\n",
       "      <td>5000.0</td>\n",
       "      <td>5000.0</td>\n",
       "      <td>Services</td>\n",
       "      <td>US</td>\n",
       "      <td>United States</td>\n",
       "      <td>273</td>\n",
       "      <td>male</td>\n",
       "      <td>male_single</td>\n",
       "      <td>1.0</td>\n",
       "    </tr>\n",
       "    <tr>\n",
       "      <th>2436</th>\n",
       "      <td>4075.0</td>\n",
       "      <td>10000.0</td>\n",
       "      <td>Services</td>\n",
       "      <td>US</td>\n",
       "      <td>United States</td>\n",
       "      <td>106</td>\n",
       "      <td>male</td>\n",
       "      <td>male_single</td>\n",
       "      <td>0.0</td>\n",
       "    </tr>\n",
       "    <tr>\n",
       "      <th>2514</th>\n",
       "      <td>50.0</td>\n",
       "      <td>2500.0</td>\n",
       "      <td>Arts</td>\n",
       "      <td>US</td>\n",
       "      <td>United States</td>\n",
       "      <td>2</td>\n",
       "      <td>male</td>\n",
       "      <td>male_single</td>\n",
       "      <td>0.0</td>\n",
       "    </tr>\n",
       "    <tr>\n",
       "      <th>2902</th>\n",
       "      <td>5000.0</td>\n",
       "      <td>5000.0</td>\n",
       "      <td>Arts</td>\n",
       "      <td>US</td>\n",
       "      <td>United States</td>\n",
       "      <td>185</td>\n",
       "      <td>male</td>\n",
       "      <td>male_single</td>\n",
       "      <td>1.0</td>\n",
       "    </tr>\n",
       "    <tr>\n",
       "      <th>...</th>\n",
       "      <td>...</td>\n",
       "      <td>...</td>\n",
       "      <td>...</td>\n",
       "      <td>...</td>\n",
       "      <td>...</td>\n",
       "      <td>...</td>\n",
       "      <td>...</td>\n",
       "      <td>...</td>\n",
       "      <td>...</td>\n",
       "    </tr>\n",
       "    <tr>\n",
       "      <th>668156</th>\n",
       "      <td>750.0</td>\n",
       "      <td>2000.0</td>\n",
       "      <td>Services</td>\n",
       "      <td>US</td>\n",
       "      <td>United States</td>\n",
       "      <td>16</td>\n",
       "      <td>male</td>\n",
       "      <td>male_single</td>\n",
       "      <td>0.0</td>\n",
       "    </tr>\n",
       "    <tr>\n",
       "      <th>668891</th>\n",
       "      <td>650.0</td>\n",
       "      <td>10000.0</td>\n",
       "      <td>Food</td>\n",
       "      <td>US</td>\n",
       "      <td>United States</td>\n",
       "      <td>20</td>\n",
       "      <td>male</td>\n",
       "      <td>male_single</td>\n",
       "      <td>0.0</td>\n",
       "    </tr>\n",
       "    <tr>\n",
       "      <th>669457</th>\n",
       "      <td>525.0</td>\n",
       "      <td>10000.0</td>\n",
       "      <td>Food</td>\n",
       "      <td>US</td>\n",
       "      <td>United States</td>\n",
       "      <td>11</td>\n",
       "      <td>male</td>\n",
       "      <td>male_single</td>\n",
       "      <td>0.0</td>\n",
       "    </tr>\n",
       "    <tr>\n",
       "      <th>670323</th>\n",
       "      <td>50.0</td>\n",
       "      <td>7000.0</td>\n",
       "      <td>Manufacturing</td>\n",
       "      <td>US</td>\n",
       "      <td>United States</td>\n",
       "      <td>2</td>\n",
       "      <td>male</td>\n",
       "      <td>male_single</td>\n",
       "      <td>0.0</td>\n",
       "    </tr>\n",
       "    <tr>\n",
       "      <th>670883</th>\n",
       "      <td>1350.0</td>\n",
       "      <td>2000.0</td>\n",
       "      <td>Food</td>\n",
       "      <td>US</td>\n",
       "      <td>United States</td>\n",
       "      <td>21</td>\n",
       "      <td>male</td>\n",
       "      <td>male_single</td>\n",
       "      <td>1.0</td>\n",
       "    </tr>\n",
       "  </tbody>\n",
       "</table>\n",
       "<p>2578 rows × 9 columns</p>\n",
       "</div>"
      ],
      "text/plain": [
       "        funded_amount  loan_amount         sector country_code        country  \\\n",
       "455            5000.0       5000.0    Agriculture           US  United States   \n",
       "504            5000.0       5000.0       Services           US  United States   \n",
       "2436           4075.0      10000.0       Services           US  United States   \n",
       "2514             50.0       2500.0           Arts           US  United States   \n",
       "2902           5000.0       5000.0           Arts           US  United States   \n",
       "...               ...          ...            ...          ...            ...   \n",
       "668156          750.0       2000.0       Services           US  United States   \n",
       "668891          650.0      10000.0           Food           US  United States   \n",
       "669457          525.0      10000.0           Food           US  United States   \n",
       "670323           50.0       7000.0  Manufacturing           US  United States   \n",
       "670883         1350.0       2000.0           Food           US  United States   \n",
       "\n",
       "        lender_count borrower_genders       gender  KPI_funded_loan  \n",
       "455              158             male  male_single              1.0  \n",
       "504              273             male  male_single              1.0  \n",
       "2436             106             male  male_single              0.0  \n",
       "2514               2             male  male_single              0.0  \n",
       "2902             185             male  male_single              1.0  \n",
       "...              ...              ...          ...              ...  \n",
       "668156            16             male  male_single              0.0  \n",
       "668891            20             male  male_single              0.0  \n",
       "669457            11             male  male_single              0.0  \n",
       "670323             2             male  male_single              0.0  \n",
       "670883            21             male  male_single              1.0  \n",
       "\n",
       "[2578 rows x 9 columns]"
      ]
     },
     "execution_count": 225,
     "metadata": {},
     "output_type": "execute_result"
    }
   ],
   "source": [
    "# Anzeige aller Projekte in den USA von Männern oder Männergruppen\n",
    "\n",
    "df_USA = df.loc[(df['country'] == 'United States') & ((df['gender'] == 'male_single') | (df['gender'] == 'male_group'))]\n",
    "df_USA"
   ]
  },
  {
   "cell_type": "markdown",
   "id": "0906e562",
   "metadata": {},
   "source": [
    "Folgender Plot verdeutlicht nochmal die unterschiedliche Verteilung innerhalb aller Männer in den USA (Rohdaten!) bezogen auf den beantragten und ausgezahlten Kreditbetrag. Während über alle Daten und Länder hinweg ein klarer, linearer Zusammenhang zwischen den beiden metrischen Werten liegen, weichen hier die Werte stark und unkoordiniert ab. Die Anzahl der beteiligten Investoren ist in der Bubble-Größe mit wiedergegeben. Interessant ist, dass der Bereich Servives ausschließlich durch die Gruppe bedient wird und nicht durch Singles, während alle anderenen Bereiche nur von Singles bedient werden."
   ]
  },
  {
   "cell_type": "code",
   "execution_count": 226,
   "id": "21eb76d4",
   "metadata": {
    "ExecuteTime": {
     "end_time": "2024-02-16T10:31:28.621346Z",
     "start_time": "2024-02-16T10:31:28.405738Z"
    }
   },
   "outputs": [
    {
     "data": {
      "application/vnd.plotly.v1+json": {
       "config": {
        "plotlyServerURL": "https://plot.ly"
       },
       "data": [
        {
         "hovertemplate": "<b>%{hovertext}</b><br><br>Sektor=Agriculture<br>Geschlecht=male_single<br>beantragte Kredithöhe (Dollar)=%{x}<br>ausgezahlt (Dollar)=%{y}<br>lender_count=%{marker.size}<extra></extra>",
         "hovertext": [
          "Agriculture",
          "Agriculture",
          "Agriculture",
          "Agriculture",
          "Agriculture",
          "Agriculture",
          "Agriculture",
          "Agriculture",
          "Agriculture",
          "Agriculture",
          "Agriculture",
          "Agriculture",
          "Agriculture",
          "Agriculture",
          "Agriculture",
          "Agriculture",
          "Agriculture",
          "Agriculture",
          "Agriculture",
          "Agriculture",
          "Agriculture",
          "Agriculture",
          "Agriculture",
          "Agriculture",
          "Agriculture",
          "Agriculture",
          "Agriculture",
          "Agriculture",
          "Agriculture",
          "Agriculture",
          "Agriculture",
          "Agriculture",
          "Agriculture",
          "Agriculture",
          "Agriculture",
          "Agriculture",
          "Agriculture",
          "Agriculture",
          "Agriculture",
          "Agriculture",
          "Agriculture",
          "Agriculture",
          "Agriculture",
          "Agriculture",
          "Agriculture",
          "Agriculture",
          "Agriculture",
          "Agriculture",
          "Agriculture",
          "Agriculture",
          "Agriculture",
          "Agriculture",
          "Agriculture",
          "Agriculture",
          "Agriculture",
          "Agriculture",
          "Agriculture",
          "Agriculture",
          "Agriculture",
          "Agriculture",
          "Agriculture",
          "Agriculture",
          "Agriculture",
          "Agriculture",
          "Agriculture",
          "Agriculture",
          "Agriculture",
          "Agriculture",
          "Agriculture",
          "Agriculture",
          "Agriculture",
          "Agriculture",
          "Agriculture",
          "Agriculture",
          "Agriculture",
          "Agriculture",
          "Agriculture",
          "Agriculture",
          "Agriculture",
          "Agriculture",
          "Agriculture",
          "Agriculture",
          "Agriculture",
          "Agriculture",
          "Agriculture",
          "Agriculture",
          "Agriculture",
          "Agriculture",
          "Agriculture",
          "Agriculture",
          "Agriculture",
          "Agriculture",
          "Agriculture",
          "Agriculture",
          "Agriculture",
          "Agriculture",
          "Agriculture",
          "Agriculture",
          "Agriculture",
          "Agriculture",
          "Agriculture",
          "Agriculture",
          "Agriculture",
          "Agriculture",
          "Agriculture",
          "Agriculture",
          "Agriculture",
          "Agriculture",
          "Agriculture",
          "Agriculture",
          "Agriculture",
          "Agriculture",
          "Agriculture",
          "Agriculture",
          "Agriculture",
          "Agriculture",
          "Agriculture",
          "Agriculture",
          "Agriculture",
          "Agriculture",
          "Agriculture",
          "Agriculture",
          "Agriculture",
          "Agriculture",
          "Agriculture",
          "Agriculture",
          "Agriculture",
          "Agriculture",
          "Agriculture",
          "Agriculture",
          "Agriculture",
          "Agriculture",
          "Agriculture",
          "Agriculture",
          "Agriculture",
          "Agriculture",
          "Agriculture",
          "Agriculture",
          "Agriculture",
          "Agriculture",
          "Agriculture",
          "Agriculture",
          "Agriculture",
          "Agriculture",
          "Agriculture",
          "Agriculture",
          "Agriculture",
          "Agriculture",
          "Agriculture",
          "Agriculture",
          "Agriculture",
          "Agriculture",
          "Agriculture",
          "Agriculture",
          "Agriculture",
          "Agriculture",
          "Agriculture",
          "Agriculture",
          "Agriculture",
          "Agriculture",
          "Agriculture",
          "Agriculture",
          "Agriculture",
          "Agriculture",
          "Agriculture",
          "Agriculture",
          "Agriculture",
          "Agriculture",
          "Agriculture",
          "Agriculture",
          "Agriculture",
          "Agriculture",
          "Agriculture",
          "Agriculture",
          "Agriculture",
          "Agriculture",
          "Agriculture",
          "Agriculture",
          "Agriculture",
          "Agriculture",
          "Agriculture",
          "Agriculture",
          "Agriculture",
          "Agriculture",
          "Agriculture",
          "Agriculture",
          "Agriculture",
          "Agriculture",
          "Agriculture",
          "Agriculture",
          "Agriculture",
          "Agriculture",
          "Agriculture",
          "Agriculture",
          "Agriculture",
          "Agriculture",
          "Agriculture",
          "Agriculture",
          "Agriculture",
          "Agriculture",
          "Agriculture",
          "Agriculture",
          "Agriculture",
          "Agriculture",
          "Agriculture",
          "Agriculture",
          "Agriculture",
          "Agriculture",
          "Agriculture",
          "Agriculture",
          "Agriculture",
          "Agriculture",
          "Agriculture",
          "Agriculture",
          "Agriculture",
          "Agriculture",
          "Agriculture",
          "Agriculture",
          "Agriculture",
          "Agriculture",
          "Agriculture",
          "Agriculture",
          "Agriculture",
          "Agriculture",
          "Agriculture",
          "Agriculture",
          "Agriculture",
          "Agriculture",
          "Agriculture",
          "Agriculture",
          "Agriculture",
          "Agriculture",
          "Agriculture",
          "Agriculture",
          "Agriculture",
          "Agriculture",
          "Agriculture",
          "Agriculture",
          "Agriculture",
          "Agriculture",
          "Agriculture",
          "Agriculture",
          "Agriculture"
         ],
         "legendgroup": "Agriculture, male_single",
         "marker": {
          "color": "#636efa",
          "size": [
           158,
           244,
           67,
           8,
           133,
           156,
           186,
           90,
           42,
           86,
           184,
           177,
           146,
           277,
           130,
           176,
           160,
           507,
           35,
           133,
           87,
           303,
           233,
           255,
           339,
           157,
           276,
           246,
           2,
           135,
           267,
           197,
           16,
           1,
           142,
           169,
           315,
           375,
           206,
           16,
           270,
           209,
           52,
           390,
           86,
           322,
           261,
           170,
           85,
           18,
           174,
           139,
           123,
           193,
           0,
           38,
           100,
           2,
           270,
           180,
           24,
           144,
           3,
           322,
           0,
           297,
           0,
           211,
           214,
           7,
           193,
           158,
           298,
           23,
           149,
           220,
           194,
           275,
           73,
           41,
           249,
           311,
           139,
           224,
           393,
           191,
           12,
           249,
           77,
           11,
           178,
           274,
           25,
           310,
           25,
           128,
           210,
           367,
           183,
           217,
           17,
           108,
           157,
           0,
           93,
           224,
           83,
           119,
           39,
           225,
           220,
           83,
           0,
           5,
           330,
           185,
           149,
           14,
           2,
           111,
           76,
           12,
           10,
           124,
           110,
           106,
           102,
           99,
           0,
           86,
           74,
           74,
           109,
           149,
           145,
           99,
           146,
           70,
           106,
           132,
           63,
           6,
           80,
           47,
           118,
           213,
           0,
           133,
           134,
           130,
           0,
           85,
           63,
           153,
           70,
           121,
           125,
           62,
           53,
           17,
           77,
           78,
           70,
           14,
           69,
           117,
           0,
           32,
           130,
           4,
           87,
           109,
           106,
           75,
           1,
           149,
           90,
           0,
           227,
           0,
           127,
           0,
           128,
           28,
           180,
           56,
           157,
           45,
           206,
           155,
           116,
           162,
           147,
           73,
           141,
           159,
           82,
           90,
           7,
           91,
           12,
           142,
           164,
           202,
           13,
           88,
           80,
           169,
           202,
           1,
           132,
           242,
           194,
           76,
           273,
           118,
           262,
           201,
           9,
           129,
           0,
           170,
           37,
           68,
           120,
           118,
           139,
           167,
           3,
           201,
           159,
           220,
           88,
           0,
           212,
           230,
           0,
           69,
           118,
           251,
           56,
           266,
           57
          ],
          "sizemode": "area",
          "sizeref": 0.14083333333333334,
          "symbol": "circle"
         },
         "mode": "markers",
         "name": "Agriculture, male_single",
         "showlegend": true,
         "type": "scattergl",
         "x": [
          5000,
          5000,
          5000,
          500,
          5000,
          5000,
          4800,
          4400,
          5000,
          3500,
          5000,
          7625,
          5000,
          5000,
          8000,
          5000,
          10000,
          10000,
          3000,
          5000,
          3000,
          5000,
          10000,
          4500,
          10000,
          5100,
          10000,
          10000,
          4500,
          5000,
          7675,
          5000,
          1000,
          10000,
          5000,
          5000,
          8000,
          10000,
          10000,
          500,
          10000,
          10000,
          5000,
          10000,
          5000,
          10000,
          10000,
          10000,
          9000,
          650,
          5000,
          5000,
          3500,
          5000,
          10000,
          2000,
          2500,
          10000,
          10000,
          5000,
          1000,
          10000,
          5500,
          10000,
          10000,
          10000,
          10000,
          5000,
          5000,
          5000,
          5000,
          10000,
          10000,
          2400,
          4500,
          8000,
          10000,
          10000,
          10000,
          3000,
          10000,
          10000,
          4800,
          10000,
          10000,
          10000,
          4500,
          10000,
          10000,
          10000,
          5000,
          10000,
          5000,
          10000,
          5000,
          10000,
          10000,
          10000,
          10000,
          7500,
          2500,
          5000,
          9000,
          3000,
          5100,
          10000,
          10000,
          5000,
          450,
          10000,
          10000,
          2000,
          5000,
          5000,
          10000,
          10000,
          5000,
          200,
          2850,
          5000,
          5000,
          10000,
          10000,
          10000,
          10000,
          10000,
          10000,
          5000,
          10000,
          5000,
          5000,
          5000,
          10000,
          10000,
          10000,
          4800,
          10000,
          5000,
          10000,
          10000,
          4000,
          10000,
          10000,
          2000,
          10000,
          10000,
          10000,
          10000,
          10000,
          8450,
          10000,
          10000,
          10000,
          10000,
          6000,
          10000,
          10000,
          5000,
          4000,
          500,
          6000,
          10000,
          4800,
          10000,
          9000,
          10000,
          6500,
          10000,
          10000,
          10000,
          10000,
          10000,
          10000,
          10000,
          10000,
          10000,
          5000,
          10000,
          10000,
          9225,
          10000,
          5000,
          10000,
          2000,
          10000,
          5000,
          10000,
          10000,
          10000,
          10000,
          10000,
          10000,
          10000,
          5000,
          8000,
          10000,
          7000,
          9000,
          3000,
          10000,
          1000,
          5000,
          8000,
          10000,
          5000,
          10000,
          4000,
          10000,
          10000,
          5000,
          10000,
          10000,
          10000,
          3000,
          10000,
          7200,
          10000,
          10000,
          1000,
          5050,
          1000,
          6000,
          1450,
          10000,
          7000,
          6000,
          10000,
          10000,
          1000,
          10000,
          8000,
          10000,
          5000,
          1000,
          10000,
          10000,
          7000,
          5000,
          7000,
          10000,
          3000,
          10000,
          8000
         ],
         "xaxis": "x",
         "y": [
          5000,
          5000,
          5000,
          500,
          5000,
          5000,
          4800,
          4400,
          5000,
          3500,
          5000,
          7625,
          5000,
          5000,
          8000,
          5000,
          10000,
          10000,
          3000,
          5000,
          3000,
          5000,
          10000,
          4500,
          10000,
          5100,
          10000,
          10000,
          30,
          5000,
          7675,
          5000,
          1000,
          25,
          5000,
          5000,
          8000,
          10000,
          5810,
          500,
          10000,
          10000,
          5000,
          10000,
          5000,
          10000,
          10000,
          10000,
          9000,
          650,
          5000,
          5000,
          3500,
          5000,
          0,
          2000,
          2500,
          30,
          10000,
          5000,
          1000,
          6010,
          60,
          10000,
          0,
          10000,
          0,
          5000,
          5000,
          150,
          5000,
          10000,
          10000,
          2400,
          4500,
          8000,
          10000,
          10000,
          10000,
          3000,
          10000,
          10000,
          4800,
          10000,
          10000,
          10000,
          4500,
          10000,
          10000,
          10000,
          5000,
          10000,
          5000,
          10000,
          5000,
          10000,
          10000,
          10000,
          10000,
          7500,
          2500,
          5000,
          9000,
          0,
          5100,
          6170,
          10000,
          5000,
          450,
          10000,
          10000,
          2000,
          0,
          115,
          10000,
          10000,
          5000,
          200,
          25,
          5000,
          5000,
          2400,
          385,
          10000,
          10000,
          10000,
          10000,
          5000,
          0,
          5000,
          5000,
          5000,
          10000,
          10000,
          10000,
          4800,
          10000,
          5000,
          10000,
          10000,
          4000,
          150,
          10000,
          2000,
          10000,
          10000,
          0,
          10000,
          10000,
          8450,
          0,
          10000,
          10000,
          10000,
          6000,
          10000,
          10000,
          5000,
          4000,
          500,
          6000,
          10000,
          4800,
          10000,
          9000,
          10000,
          0,
          10000,
          10000,
          125,
          10000,
          10000,
          10000,
          10000,
          25,
          10000,
          5000,
          0,
          10000,
          0,
          10000,
          0,
          10000,
          2000,
          10000,
          5000,
          10000,
          7100,
          10000,
          10000,
          10000,
          10000,
          10000,
          5000,
          8000,
          10000,
          7000,
          9000,
          650,
          10000,
          1000,
          5000,
          6150,
          10000,
          5000,
          10000,
          4000,
          10000,
          10000,
          100,
          10000,
          10000,
          10000,
          3000,
          10000,
          7200,
          10000,
          10000,
          1000,
          5050,
          0,
          6000,
          1450,
          2575,
          7000,
          6000,
          10000,
          10000,
          75,
          10000,
          8000,
          10000,
          5000,
          0,
          10000,
          10000,
          0,
          5000,
          7000,
          10000,
          3000,
          10000,
          2200
         ],
         "yaxis": "y"
        },
        {
         "hovertemplate": "<b>%{hovertext}</b><br><br>Sektor=Services<br>Geschlecht=male_single<br>beantragte Kredithöhe (Dollar)=%{x}<br>ausgezahlt (Dollar)=%{y}<br>lender_count=%{marker.size}<extra></extra>",
         "hovertext": [
          "Services",
          "Services",
          "Services",
          "Services",
          "Services",
          "Services",
          "Services",
          "Services",
          "Services",
          "Services",
          "Services",
          "Services",
          "Services",
          "Services",
          "Services",
          "Services",
          "Services",
          "Services",
          "Services",
          "Services",
          "Services",
          "Services",
          "Services",
          "Services",
          "Services",
          "Services",
          "Services",
          "Services",
          "Services",
          "Services",
          "Services",
          "Services",
          "Services",
          "Services",
          "Services",
          "Services",
          "Services",
          "Services",
          "Services",
          "Services",
          "Services",
          "Services",
          "Services",
          "Services",
          "Services",
          "Services",
          "Services",
          "Services",
          "Services",
          "Services",
          "Services",
          "Services",
          "Services",
          "Services",
          "Services",
          "Services",
          "Services",
          "Services",
          "Services",
          "Services",
          "Services",
          "Services",
          "Services",
          "Services",
          "Services",
          "Services",
          "Services",
          "Services",
          "Services",
          "Services",
          "Services",
          "Services",
          "Services",
          "Services",
          "Services",
          "Services",
          "Services",
          "Services",
          "Services",
          "Services",
          "Services",
          "Services",
          "Services",
          "Services",
          "Services",
          "Services",
          "Services",
          "Services",
          "Services",
          "Services",
          "Services",
          "Services",
          "Services",
          "Services",
          "Services",
          "Services",
          "Services",
          "Services",
          "Services",
          "Services",
          "Services",
          "Services",
          "Services",
          "Services",
          "Services",
          "Services",
          "Services",
          "Services",
          "Services",
          "Services",
          "Services",
          "Services",
          "Services",
          "Services",
          "Services",
          "Services",
          "Services",
          "Services",
          "Services",
          "Services",
          "Services",
          "Services",
          "Services",
          "Services",
          "Services",
          "Services",
          "Services",
          "Services",
          "Services",
          "Services",
          "Services",
          "Services",
          "Services",
          "Services",
          "Services",
          "Services",
          "Services",
          "Services",
          "Services",
          "Services",
          "Services",
          "Services",
          "Services",
          "Services",
          "Services",
          "Services",
          "Services",
          "Services",
          "Services",
          "Services",
          "Services",
          "Services",
          "Services",
          "Services",
          "Services",
          "Services",
          "Services",
          "Services",
          "Services",
          "Services",
          "Services",
          "Services",
          "Services",
          "Services",
          "Services",
          "Services",
          "Services",
          "Services",
          "Services",
          "Services",
          "Services",
          "Services",
          "Services",
          "Services",
          "Services",
          "Services",
          "Services",
          "Services",
          "Services",
          "Services",
          "Services",
          "Services",
          "Services",
          "Services",
          "Services",
          "Services",
          "Services",
          "Services",
          "Services",
          "Services",
          "Services",
          "Services",
          "Services",
          "Services",
          "Services",
          "Services",
          "Services",
          "Services",
          "Services",
          "Services",
          "Services",
          "Services",
          "Services",
          "Services",
          "Services",
          "Services",
          "Services",
          "Services",
          "Services",
          "Services",
          "Services",
          "Services",
          "Services",
          "Services",
          "Services",
          "Services",
          "Services",
          "Services",
          "Services",
          "Services",
          "Services",
          "Services",
          "Services",
          "Services",
          "Services",
          "Services",
          "Services",
          "Services",
          "Services",
          "Services",
          "Services",
          "Services",
          "Services",
          "Services",
          "Services",
          "Services",
          "Services",
          "Services",
          "Services",
          "Services",
          "Services",
          "Services",
          "Services",
          "Services",
          "Services",
          "Services",
          "Services",
          "Services",
          "Services",
          "Services",
          "Services",
          "Services",
          "Services",
          "Services",
          "Services",
          "Services",
          "Services",
          "Services",
          "Services",
          "Services",
          "Services",
          "Services",
          "Services",
          "Services",
          "Services",
          "Services",
          "Services",
          "Services",
          "Services",
          "Services",
          "Services",
          "Services",
          "Services",
          "Services",
          "Services",
          "Services",
          "Services",
          "Services",
          "Services",
          "Services",
          "Services",
          "Services",
          "Services",
          "Services",
          "Services",
          "Services",
          "Services",
          "Services",
          "Services",
          "Services",
          "Services",
          "Services",
          "Services",
          "Services",
          "Services",
          "Services",
          "Services",
          "Services",
          "Services",
          "Services",
          "Services",
          "Services",
          "Services",
          "Services",
          "Services",
          "Services",
          "Services",
          "Services",
          "Services",
          "Services",
          "Services",
          "Services",
          "Services",
          "Services",
          "Services",
          "Services",
          "Services",
          "Services",
          "Services",
          "Services",
          "Services",
          "Services",
          "Services",
          "Services",
          "Services",
          "Services",
          "Services",
          "Services",
          "Services",
          "Services",
          "Services",
          "Services",
          "Services",
          "Services",
          "Services",
          "Services",
          "Services",
          "Services",
          "Services",
          "Services",
          "Services",
          "Services",
          "Services",
          "Services",
          "Services",
          "Services",
          "Services",
          "Services",
          "Services",
          "Services",
          "Services",
          "Services",
          "Services",
          "Services",
          "Services",
          "Services",
          "Services",
          "Services",
          "Services",
          "Services",
          "Services",
          "Services",
          "Services",
          "Services",
          "Services",
          "Services",
          "Services",
          "Services",
          "Services",
          "Services",
          "Services",
          "Services",
          "Services",
          "Services",
          "Services",
          "Services",
          "Services",
          "Services",
          "Services",
          "Services",
          "Services",
          "Services",
          "Services",
          "Services",
          "Services",
          "Services",
          "Services",
          "Services",
          "Services",
          "Services",
          "Services",
          "Services",
          "Services",
          "Services",
          "Services",
          "Services",
          "Services",
          "Services",
          "Services",
          "Services",
          "Services",
          "Services",
          "Services",
          "Services",
          "Services",
          "Services",
          "Services",
          "Services",
          "Services",
          "Services",
          "Services",
          "Services",
          "Services",
          "Services",
          "Services",
          "Services",
          "Services",
          "Services",
          "Services",
          "Services",
          "Services",
          "Services",
          "Services",
          "Services",
          "Services",
          "Services",
          "Services",
          "Services",
          "Services",
          "Services",
          "Services",
          "Services",
          "Services",
          "Services",
          "Services",
          "Services",
          "Services",
          "Services",
          "Services",
          "Services",
          "Services",
          "Services",
          "Services",
          "Services",
          "Services",
          "Services",
          "Services",
          "Services",
          "Services",
          "Services",
          "Services",
          "Services",
          "Services",
          "Services",
          "Services",
          "Services",
          "Services",
          "Services",
          "Services",
          "Services",
          "Services",
          "Services",
          "Services",
          "Services",
          "Services",
          "Services",
          "Services",
          "Services",
          "Services",
          "Services",
          "Services",
          "Services",
          "Services",
          "Services",
          "Services",
          "Services",
          "Services",
          "Services",
          "Services",
          "Services",
          "Services",
          "Services",
          "Services",
          "Services",
          "Services",
          "Services",
          "Services",
          "Services",
          "Services",
          "Services",
          "Services",
          "Services",
          "Services",
          "Services",
          "Services",
          "Services",
          "Services",
          "Services",
          "Services",
          "Services",
          "Services",
          "Services",
          "Services",
          "Services",
          "Services",
          "Services",
          "Services",
          "Services",
          "Services",
          "Services",
          "Services",
          "Services",
          "Services",
          "Services",
          "Services",
          "Services",
          "Services",
          "Services",
          "Services",
          "Services",
          "Services",
          "Services",
          "Services",
          "Services",
          "Services",
          "Services",
          "Services",
          "Services",
          "Services",
          "Services",
          "Services",
          "Services",
          "Services",
          "Services",
          "Services",
          "Services",
          "Services",
          "Services",
          "Services",
          "Services",
          "Services",
          "Services",
          "Services",
          "Services",
          "Services",
          "Services",
          "Services",
          "Services",
          "Services",
          "Services",
          "Services",
          "Services",
          "Services",
          "Services",
          "Services",
          "Services",
          "Services",
          "Services",
          "Services",
          "Services",
          "Services",
          "Services",
          "Services",
          "Services",
          "Services",
          "Services",
          "Services",
          "Services",
          "Services",
          "Services",
          "Services",
          "Services",
          "Services",
          "Services",
          "Services",
          "Services",
          "Services",
          "Services",
          "Services",
          "Services",
          "Services",
          "Services",
          "Services",
          "Services",
          "Services",
          "Services",
          "Services",
          "Services",
          "Services",
          "Services",
          "Services",
          "Services",
          "Services",
          "Services",
          "Services",
          "Services",
          "Services",
          "Services",
          "Services",
          "Services",
          "Services",
          "Services",
          "Services",
          "Services",
          "Services",
          "Services",
          "Services",
          "Services",
          "Services",
          "Services",
          "Services",
          "Services",
          "Services",
          "Services",
          "Services",
          "Services",
          "Services",
          "Services",
          "Services",
          "Services",
          "Services",
          "Services",
          "Services",
          "Services",
          "Services",
          "Services",
          "Services",
          "Services",
          "Services",
          "Services",
          "Services",
          "Services",
          "Services",
          "Services",
          "Services",
          "Services",
          "Services",
          "Services",
          "Services",
          "Services",
          "Services",
          "Services",
          "Services",
          "Services",
          "Services",
          "Services",
          "Services",
          "Services",
          "Services",
          "Services",
          "Services",
          "Services",
          "Services",
          "Services",
          "Services",
          "Services",
          "Services",
          "Services",
          "Services",
          "Services",
          "Services",
          "Services",
          "Services",
          "Services",
          "Services",
          "Services",
          "Services",
          "Services",
          "Services",
          "Services",
          "Services",
          "Services",
          "Services",
          "Services",
          "Services",
          "Services",
          "Services",
          "Services",
          "Services",
          "Services",
          "Services",
          "Services",
          "Services",
          "Services",
          "Services",
          "Services",
          "Services",
          "Services",
          "Services",
          "Services",
          "Services",
          "Services",
          "Services",
          "Services",
          "Services",
          "Services",
          "Services",
          "Services",
          "Services",
          "Services",
          "Services",
          "Services",
          "Services",
          "Services",
          "Services",
          "Services",
          "Services",
          "Services",
          "Services",
          "Services",
          "Services",
          "Services",
          "Services",
          "Services",
          "Services",
          "Services",
          "Services",
          "Services",
          "Services",
          "Services",
          "Services",
          "Services",
          "Services",
          "Services",
          "Services",
          "Services",
          "Services",
          "Services",
          "Services",
          "Services",
          "Services",
          "Services",
          "Services",
          "Services",
          "Services",
          "Services",
          "Services",
          "Services",
          "Services",
          "Services",
          "Services",
          "Services",
          "Services",
          "Services",
          "Services",
          "Services",
          "Services",
          "Services",
          "Services",
          "Services",
          "Services",
          "Services",
          "Services",
          "Services",
          "Services",
          "Services",
          "Services",
          "Services",
          "Services",
          "Services",
          "Services",
          "Services",
          "Services",
          "Services",
          "Services",
          "Services",
          "Services",
          "Services",
          "Services",
          "Services",
          "Services",
          "Services",
          "Services",
          "Services",
          "Services",
          "Services",
          "Services",
          "Services",
          "Services",
          "Services",
          "Services",
          "Services",
          "Services",
          "Services",
          "Services",
          "Services",
          "Services",
          "Services",
          "Services",
          "Services",
          "Services",
          "Services",
          "Services",
          "Services",
          "Services",
          "Services",
          "Services",
          "Services",
          "Services",
          "Services",
          "Services",
          "Services",
          "Services",
          "Services",
          "Services",
          "Services",
          "Services",
          "Services",
          "Services",
          "Services",
          "Services",
          "Services",
          "Services",
          "Services",
          "Services",
          "Services",
          "Services",
          "Services",
          "Services",
          "Services",
          "Services",
          "Services",
          "Services",
          "Services",
          "Services",
          "Services",
          "Services",
          "Services",
          "Services",
          "Services",
          "Services",
          "Services",
          "Services",
          "Services",
          "Services",
          "Services",
          "Services",
          "Services",
          "Services",
          "Services",
          "Services",
          "Services",
          "Services",
          "Services",
          "Services",
          "Services",
          "Services",
          "Services",
          "Services",
          "Services",
          "Services",
          "Services",
          "Services",
          "Services",
          "Services",
          "Services",
          "Services",
          "Services",
          "Services",
          "Services",
          "Services",
          "Services",
          "Services",
          "Services",
          "Services",
          "Services",
          "Services",
          "Services",
          "Services",
          "Services",
          "Services",
          "Services",
          "Services",
          "Services",
          "Services",
          "Services",
          "Services",
          "Services",
          "Services",
          "Services",
          "Services",
          "Services",
          "Services",
          "Services",
          "Services",
          "Services",
          "Services",
          "Services",
          "Services",
          "Services",
          "Services",
          "Services",
          "Services",
          "Services",
          "Services",
          "Services",
          "Services",
          "Services",
          "Services",
          "Services"
         ],
         "legendgroup": "Services, male_single",
         "marker": {
          "color": "#EF553B",
          "size": [
           273,
           106,
           96,
           162,
           137,
           147,
           94,
           88,
           77,
           80,
           71,
           85,
           8,
           0,
           259,
           38,
           170,
           87,
           189,
           94,
           209,
           228,
           199,
           58,
           119,
           94,
           267,
           164,
           38,
           172,
           179,
           229,
           199,
           0,
           197,
           56,
           34,
           49,
           124,
           94,
           55,
           204,
           3,
           69,
           54,
           262,
           95,
           4,
           39,
           91,
           273,
           7,
           153,
           265,
           52,
           53,
           181,
           78,
           379,
           158,
           70,
           48,
           49,
           122,
           249,
           170,
           140,
           74,
           67,
           267,
           153,
           94,
           2,
           66,
           114,
           74,
           97,
           136,
           64,
           2,
           13,
           63,
           75,
           67,
           105,
           33,
           99,
           47,
           60,
           192,
           141,
           118,
           107,
           147,
           106,
           138,
           69,
           88,
           9,
           107,
           5,
           92,
           79,
           39,
           22,
           29,
           57,
           1,
           51,
           130,
           23,
           99,
           90,
           105,
           6,
           73,
           59,
           25,
           90,
           102,
           18,
           33,
           93,
           94,
           85,
           74,
           20,
           179,
           25,
           54,
           50,
           27,
           48,
           203,
           48,
           87,
           192,
           39,
           76,
           86,
           179,
           112,
           160,
           11,
           28,
           24,
           8,
           15,
           28,
           65,
           62,
           167,
           44,
           57,
           36,
           41,
           0,
           27,
           29,
           75,
           20,
           45,
           39,
           201,
           60,
           117,
           5,
           116,
           161,
           100,
           21,
           45,
           217,
           16,
           37,
           137,
           159,
           239,
           14,
           59,
           64,
           165,
           0,
           91,
           90,
           90,
           97,
           61,
           107,
           117,
           275,
           50,
           70,
           120,
           112,
           41,
           46,
           65,
           58,
           38,
           133,
           70,
           66,
           213,
           2,
           85,
           149,
           69,
           0,
           110,
           90,
           132,
           76,
           99,
           72,
           78,
           213,
           60,
           58,
           64,
           109,
           8,
           38,
           91,
           9,
           7,
           0,
           87,
           101,
           104,
           45,
           34,
           98,
           50,
           61,
           71,
           48,
           124,
           111,
           38,
           87,
           4,
           115,
           168,
           189,
           11,
           0,
           4,
           6,
           58,
           10,
           47,
           75,
           48,
           75,
           148,
           121,
           0,
           1,
           0,
           57,
           0,
           184,
           0,
           47,
           92,
           40,
           52,
           72,
           176,
           134,
           58,
           62,
           38,
           56,
           10,
           0,
           93,
           130,
           6,
           1,
           153,
           0,
           1,
           0,
           58,
           83,
           97,
           53,
           130,
           37,
           38,
           2,
           120,
           10,
           145,
           83,
           48,
           0,
           3,
           146,
           87,
           91,
           3,
           62,
           95,
           68,
           64,
           58,
           120,
           32,
           24,
           0,
           37,
           13,
           0,
           43,
           14,
           31,
           46,
           133,
           52,
           2,
           118,
           83,
           0,
           214,
           70,
           0,
           64,
           25,
           83,
           3,
           124,
           135,
           7,
           11,
           0,
           126,
           114,
           57,
           128,
           0,
           0,
           17,
           30,
           0,
           0,
           43,
           40,
           29,
           89,
           116,
           173,
           43,
           97,
           1,
           0,
           54,
           103,
           72,
           129,
           43,
           123,
           60,
           44,
           22,
           74,
           51,
           36,
           52,
           1,
           4,
           5,
           46,
           32,
           48,
           31,
           0,
           12,
           0,
           0,
           0,
           18,
           0,
           46,
           38,
           138,
           0,
           112,
           80,
           0,
           30,
           64,
           1,
           33,
           77,
           10,
           5,
           0,
           27,
           2,
           58,
           42,
           8,
           24,
           8,
           81,
           77,
           4,
           1,
           5,
           117,
           0,
           96,
           56,
           60,
           80,
           85,
           73,
           75,
           167,
           33,
           0,
           40,
           11,
           63,
           2,
           79,
           81,
           21,
           59,
           68,
           1,
           65,
           0,
           0,
           2,
           8,
           46,
           10,
           109,
           72,
           74,
           153,
           0,
           3,
           2,
           3,
           55,
           51,
           71,
           14,
           0,
           121,
           41,
           76,
           60,
           105,
           9,
           80,
           6,
           2,
           11,
           2,
           98,
           0,
           70,
           27,
           0,
           2,
           69,
           161,
           0,
           0,
           0,
           2,
           192,
           2,
           3,
           22,
           149,
           3,
           0,
           39,
           8,
           4,
           0,
           171,
           5,
           34,
           48,
           0,
           0,
           42,
           1,
           2,
           49,
           56,
           62,
           123,
           0,
           71,
           56,
           33,
           22,
           2,
           0,
           95,
           54,
           2,
           142,
           37,
           2,
           42,
           155,
           111,
           60,
           0,
           55,
           82,
           147,
           10,
           94,
           2,
           52,
           0,
           1,
           3,
           36,
           1,
           67,
           11,
           0,
           85,
           144,
           93,
           6,
           66,
           56,
           0,
           29,
           2,
           35,
           0,
           2,
           0,
           1,
           166,
           39,
           0,
           109,
           71,
           52,
           0,
           259,
           4,
           10,
           106,
           62,
           15,
           62,
           34,
           0,
           5,
           87,
           3,
           27,
           0,
           33,
           72,
           1,
           132,
           16,
           47,
           1,
           70,
           48,
           31,
           60,
           46,
           0,
           54,
           0,
           0,
           45,
           1,
           0,
           0,
           27,
           100,
           0,
           23,
           66,
           72,
           38,
           9,
           158,
           28,
           58,
           0,
           45,
           28,
           64,
           106,
           25,
           144,
           0,
           121,
           0,
           10,
           37,
           72,
           0,
           19,
           62,
           36,
           95,
           40,
           0,
           40,
           0,
           53,
           0,
           0,
           0,
           1,
           2,
           0,
           0,
           66,
           0,
           2,
           0,
           3,
           2,
           54,
           7,
           65,
           2,
           166,
           47,
           0,
           0,
           0,
           138,
           78,
           112,
           0,
           199,
           0,
           102,
           76,
           121,
           0,
           131,
           2,
           73,
           0,
           72,
           104,
           0,
           41,
           0,
           0,
           0,
           84,
           0,
           2,
           10,
           0,
           6,
           0,
           0,
           3,
           119,
           99,
           0,
           0,
           0,
           0,
           0,
           35,
           0,
           0,
           0,
           30,
           135,
           2,
           60,
           86,
           35,
           0,
           7,
           149,
           127,
           107,
           200,
           2,
           0,
           173,
           97,
           134,
           71,
           64,
           2,
           0,
           114,
           0,
           9,
           15,
           0,
           74,
           0,
           0,
           35,
           0,
           0,
           166,
           48,
           52,
           103,
           35,
           0,
           59,
           0,
           3,
           51,
           99,
           26,
           0,
           1,
           0,
           21,
           11,
           55,
           0,
           5,
           28,
           15,
           67,
           74,
           0,
           67,
           0,
           0,
           0,
           1,
           0,
           107,
           11,
           202,
           35,
           95,
           0,
           0,
           0,
           48,
           0,
           193,
           156,
           0,
           131,
           109,
           0,
           99,
           0,
           96,
           0,
           14,
           0,
           97,
           0,
           0,
           3,
           1,
           0,
           120,
           36,
           0,
           26,
           0,
           10,
           270,
           107,
           0,
           72,
           0,
           194,
           43,
           0,
           35,
           136,
           103,
           45,
           0,
           148,
           2,
           54,
           132,
           0,
           0,
           175,
           140,
           0,
           33,
           0,
           28,
           221,
           146,
           0,
           0,
           33,
           35,
           141,
           47,
           2,
           13,
           71,
           64,
           84,
           0,
           0,
           6,
           2,
           0,
           176,
           110,
           30,
           0,
           113,
           0,
           38,
           182,
           0,
           1,
           0,
           1,
           0,
           0,
           32,
           0,
           0,
           87,
           0,
           1,
           119,
           4,
           107,
           4,
           139,
           4,
           0,
           0,
           56,
           33,
           40,
           68,
           4,
           42,
           8,
           36,
           34,
           0,
           0,
           44,
           33,
           43,
           6,
           2,
           78,
           38,
           32,
           92,
           0,
           6,
           16,
           35,
           0,
           9,
           0,
           1,
           1,
           33,
           0,
           25,
           32,
           0,
           22,
           37,
           65,
           23,
           2,
           17,
           0,
           7,
           9,
           0,
           4,
           16
          ],
          "sizemode": "area",
          "sizeref": 0.14083333333333334,
          "symbol": "circle"
         },
         "mode": "markers",
         "name": "Services, male_single",
         "showlegend": true,
         "type": "scattergl",
         "x": [
          5000,
          10000,
          2600,
          5000,
          2000,
          3500,
          2000,
          3150,
          2500,
          4250,
          7525,
          3950,
          5000,
          5000,
          5000,
          2500,
          4825,
          2700,
          5350,
          2700,
          5000,
          5000,
          5800,
          2000,
          5000,
          9700,
          9525,
          5000,
          2750,
          5525,
          5000,
          5000,
          5000,
          5000,
          7300,
          2750,
          1200,
          9675,
          5000,
          5000,
          1000,
          5000,
          5000,
          8500,
          2775,
          5000,
          4000,
          10000,
          9750,
          5000,
          9700,
          5000,
          8500,
          5000,
          2625,
          2775,
          5000,
          9575,
          10000,
          3550,
          2000,
          3300,
          3825,
          5000,
          8000,
          5000,
          5000,
          5000,
          9275,
          10000,
          5000,
          2650,
          5000,
          2750,
          5000,
          5000,
          5000,
          3000,
          5000,
          1000,
          5000,
          2750,
          5000,
          5000,
          5000,
          500,
          2500,
          5000,
          2750,
          9750,
          7500,
          5000,
          5000,
          5000,
          5000,
          8000,
          5000,
          5475,
          5000,
          5450,
          5000,
          2750,
          2250,
          2750,
          3750,
          1000,
          2000,
          5000,
          2750,
          3600,
          5475,
          4900,
          5000,
          10000,
          1500,
          5000,
          2500,
          5000,
          5000,
          5000,
          2775,
          5000,
          2400,
          5000,
          4000,
          5925,
          5375,
          5200,
          2750,
          9700,
          8850,
          2775,
          2500,
          5000,
          6000,
          3000,
          10000,
          10000,
          2500,
          10000,
          5000,
          5000,
          5000,
          2750,
          2750,
          5425,
          2750,
          2750,
          4375,
          3825,
          5000,
          5000,
          1500,
          1000,
          1500,
          1000,
          2500,
          5575,
          2775,
          5450,
          2750,
          1000,
          2000,
          7500,
          5000,
          3000,
          5000,
          5000,
          5000,
          5000,
          5450,
          2725,
          5000,
          2225,
          5225,
          5000,
          5000,
          5000,
          3275,
          2000,
          2750,
          5000,
          5000,
          5000,
          2500,
          4375,
          5450,
          2750,
          3000,
          5000,
          5000,
          2775,
          5000,
          5400,
          3500,
          1275,
          5000,
          5000,
          2150,
          2350,
          9875,
          2775,
          5450,
          10000,
          4100,
          3000,
          3000,
          3000,
          5000,
          3500,
          3000,
          5000,
          5000,
          3000,
          2650,
          2800,
          8000,
          2800,
          1700,
          5000,
          5000,
          3000,
          1275,
          9850,
          5000,
          5000,
          5000,
          2500,
          5000,
          2500,
          2750,
          4525,
          5000,
          3000,
          1825,
          5375,
          8000,
          10000,
          5000,
          5000,
          5000,
          3000,
          5425,
          5000,
          5500,
          10000,
          3000,
          5000,
          5000,
          10000,
          5000,
          3825,
          5750,
          5000,
          5000,
          10000,
          4000,
          5000,
          5000,
          2400,
          10000,
          1500,
          4000,
          4975,
          5000,
          5425,
          5450,
          5000,
          4500,
          5425,
          5000,
          1000,
          5000,
          5425,
          5375,
          500,
          10000,
          5000,
          5000,
          5000,
          4500,
          4850,
          5000,
          5000,
          3000,
          2750,
          2500,
          5425,
          2750,
          9425,
          5425,
          5450,
          500,
          10000,
          5000,
          9975,
          5325,
          5425,
          5000,
          5000,
          4000,
          3000,
          5000,
          5000,
          5000,
          3000,
          5425,
          2750,
          5000,
          5425,
          5000,
          1200,
          5000,
          2000,
          5000,
          5000,
          6200,
          5000,
          5350,
          5000,
          5350,
          2500,
          5000,
          5000,
          5000,
          5000,
          10000,
          5000,
          3000,
          5475,
          2300,
          2500,
          5000,
          10000,
          5350,
          4000,
          5000,
          5000,
          5000,
          5425,
          2800,
          10000,
          3000,
          2500,
          2400,
          2500,
          3000,
          3325,
          5000,
          3375,
          1250,
          10000,
          10000,
          5000,
          2000,
          10000,
          500,
          1500,
          5000,
          10000,
          5000,
          5525,
          5000,
          10000,
          4200,
          5000,
          2500,
          4375,
          5000,
          5425,
          2000,
          5000,
          8000,
          5000,
          5000,
          10000,
          3000,
          3000,
          3000,
          5425,
          2000,
          5000,
          5000,
          3500,
          5000,
          5000,
          5000,
          10000,
          10000,
          10000,
          10000,
          5000,
          2800,
          5000,
          500,
          5425,
          10000,
          5425,
          5425,
          5000,
          5000,
          10000,
          5000,
          10000,
          3850,
          8000,
          5425,
          10000,
          10000,
          4850,
          5075,
          3400,
          5250,
          5000,
          10000,
          5000,
          5000,
          5000,
          2250,
          8000,
          2500,
          5250,
          5000,
          10000,
          5000,
          5625,
          5000,
          5000,
          2500,
          5000,
          2400,
          5000,
          2150,
          5000,
          3775,
          2500,
          5000,
          3000,
          5000,
          3000,
          9000,
          5000,
          5000,
          5000,
          5325,
          5000,
          10000,
          5000,
          5000,
          5000,
          3500,
          10000,
          5450,
          10000,
          5000,
          5425,
          5000,
          5000,
          10000,
          5000,
          10000,
          4850,
          5000,
          3300,
          5000,
          5000,
          500,
          5000,
          3500,
          5000,
          4800,
          2000,
          5500,
          5000,
          5000,
          5600,
          5000,
          5475,
          5000,
          4800,
          2925,
          5000,
          5000,
          5000,
          8000,
          10000,
          5000,
          5000,
          10000,
          5000,
          5000,
          5000,
          2500,
          5000,
          3000,
          5000,
          3000,
          5000,
          5000,
          5000,
          10000,
          2500,
          5000,
          5000,
          2400,
          1200,
          2500,
          500,
          4000,
          5000,
          5000,
          9950,
          3000,
          7500,
          5000,
          9975,
          10000,
          5000,
          500,
          6300,
          5000,
          5425,
          500,
          7000,
          4950,
          5000,
          7500,
          5000,
          9000,
          2500,
          5000,
          10000,
          5000,
          500,
          10000,
          10000,
          10000,
          500,
          5000,
          5000,
          6000,
          2500,
          5000,
          4000,
          5250,
          5000,
          2500,
          7000,
          10000,
          10000,
          5500,
          5425,
          10000,
          5000,
          6675,
          10000,
          500,
          10000,
          10000,
          4075,
          10000,
          10000,
          2500,
          500,
          500,
          5000,
          2000,
          2000,
          5000,
          7500,
          5000,
          500,
          10000,
          9775,
          5550,
          2500,
          5000,
          2500,
          2000,
          10000,
          9775,
          5000,
          10000,
          500,
          5000,
          10000,
          500,
          5000,
          10000,
          5000,
          10000,
          500,
          5000,
          10000,
          5000,
          9975,
          500,
          10000,
          2500,
          7500,
          5000,
          5000,
          5000,
          10000,
          6000,
          10000,
          9000,
          5000,
          10000,
          10000,
          5000,
          10000,
          5000,
          10000,
          5000,
          10000,
          10000,
          10000,
          2500,
          10000,
          9000,
          1500,
          10000,
          10000,
          2500,
          8000,
          5400,
          2500,
          500,
          2500,
          10000,
          2500,
          500,
          500,
          3950,
          5000,
          10000,
          5025,
          7500,
          2500,
          5000,
          3000,
          2575,
          9000,
          2500,
          10000,
          5000,
          10000,
          500,
          10000,
          10000,
          9300,
          5050,
          10000,
          2500,
          8000,
          1000,
          5000,
          5000,
          5000,
          8000,
          10000,
          4000,
          3000,
          1000,
          1000,
          5000,
          1000,
          6000,
          1000,
          5000,
          1000,
          2000,
          1000,
          1000,
          7000,
          8000,
          4000,
          1000,
          1000,
          1000,
          2000,
          2000,
          2000,
          1000,
          2000,
          2000,
          8000,
          6000,
          2000,
          10000,
          2000,
          1000,
          1000,
          10000,
          6500,
          6000,
          8000,
          2000,
          1000,
          7500,
          5000,
          10000,
          3650,
          4000,
          1000,
          2000,
          10000,
          2000,
          5000,
          1000,
          1000,
          5025,
          1500,
          1000,
          3000,
          1000,
          5000,
          10000,
          10000,
          2500,
          4000,
          1500,
          2000,
          2250,
          1200,
          1000,
          10000,
          4000,
          1000,
          1000,
          10000,
          2000,
          1000,
          10000,
          2000,
          2000,
          1000,
          1000,
          1000,
          5000,
          5000,
          1000,
          5000,
          3000,
          1000,
          1500,
          1000,
          1500,
          5000,
          1000,
          10000,
          2000,
          6000,
          1000,
          10000,
          7000,
          2000,
          1000,
          7500,
          10000,
          2400,
          5000,
          4000,
          1000,
          3000,
          1000,
          3000,
          1000,
          1000,
          4000,
          5000,
          3000,
          1000,
          10000,
          1000,
          1000,
          7000,
          2000,
          1000,
          1000,
          1000,
          1000,
          10000,
          6000,
          1000,
          6000,
          5000,
          7000,
          4000,
          1000,
          3000,
          10000,
          5000,
          6000,
          1000,
          6000,
          10000,
          3000,
          10000,
          5000,
          8000,
          10000,
          10000,
          2000,
          6000,
          3000,
          1000,
          9000,
          10000,
          1000,
          2000,
          1000,
          1000,
          10000,
          10000,
          3000,
          1000,
          9000,
          5000,
          5000,
          4000,
          1000,
          1000,
          7000,
          5000,
          10000,
          10000,
          2000,
          5000,
          8000,
          1000,
          2000,
          10000,
          1000,
          10000,
          1000,
          1000,
          1000,
          1000,
          2000,
          3000,
          6000,
          9000,
          3000,
          1000,
          10000,
          3000,
          5000,
          1000,
          5000,
          8000,
          5000,
          5000,
          10000,
          2000,
          3000,
          8000,
          3000,
          2000,
          5000,
          2000,
          5000,
          1000,
          1000,
          10000,
          2000,
          5000,
          1000,
          1000,
          5000,
          2000,
          2000,
          5000,
          7000,
          1000,
          3000,
          4000,
          1000,
          6000,
          1000,
          1000,
          1000,
          5000,
          2000,
          10000,
          3000,
          10000,
          6000,
          2000,
          10000,
          5000,
          3000,
          10000,
          1000,
          3000,
          4000,
          5000,
          2000,
          2000
         ],
         "xaxis": "x",
         "y": [
          5000,
          4075,
          2600,
          5000,
          2000,
          3500,
          2000,
          3075,
          2500,
          4250,
          3400,
          3950,
          5000,
          0,
          5000,
          2500,
          4825,
          2700,
          5350,
          2700,
          5000,
          5000,
          5800,
          2000,
          5000,
          7575,
          9525,
          5000,
          1250,
          5525,
          5000,
          5000,
          5000,
          0,
          7300,
          2750,
          1200,
          6550,
          5000,
          5000,
          1000,
          5000,
          20,
          7125,
          2775,
          5000,
          4000,
          405,
          4300,
          5000,
          9700,
          210,
          8500,
          5000,
          2625,
          2775,
          5000,
          4600,
          10000,
          3550,
          2000,
          1550,
          1650,
          5000,
          8000,
          5000,
          5000,
          2050,
          2875,
          10000,
          2540,
          2650,
          10,
          2750,
          5000,
          5000,
          4565,
          3000,
          1970,
          50,
          95,
          2750,
          5000,
          2525,
          5000,
          500,
          2500,
          510,
          2750,
          9750,
          7500,
          5000,
          5000,
          2200,
          5000,
          8000,
          5000,
          5475,
          695,
          5450,
          40,
          2750,
          2250,
          2750,
          3550,
          1000,
          2000,
          25,
          2750,
          3600,
          2075,
          4900,
          5000,
          2675,
          45,
          4900,
          2500,
          1400,
          5000,
          2610,
          1275,
          310,
          2400,
          1505,
          4000,
          3450,
          4450,
          5200,
          2200,
          8925,
          8850,
          950,
          2500,
          5000,
          4150,
          3000,
          10000,
          4050,
          2500,
          7675,
          5000,
          5000,
          5000,
          1825,
          1650,
          4425,
          725,
          1550,
          1200,
          3125,
          1285,
          5000,
          1500,
          1000,
          1500,
          1000,
          0,
          3875,
          1275,
          3075,
          2050,
          1000,
          2000,
          7500,
          905,
          3000,
          95,
          5000,
          5000,
          5000,
          3650,
          2725,
          5000,
          575,
          2825,
          5000,
          5000,
          5000,
          1500,
          2000,
          2750,
          5000,
          0,
          5000,
          2500,
          4375,
          5450,
          2750,
          3000,
          5000,
          5000,
          2775,
          5000,
          5400,
          3500,
          1275,
          5000,
          5000,
          2150,
          2350,
          9875,
          2775,
          5450,
          10000,
          30,
          3000,
          3000,
          1245,
          0,
          3500,
          3000,
          5000,
          5000,
          3000,
          2650,
          2800,
          8000,
          1975,
          1700,
          5000,
          5000,
          210,
          1275,
          3325,
          185,
          165,
          0,
          2500,
          5000,
          2500,
          1900,
          2025,
          5000,
          3000,
          1825,
          4325,
          1895,
          10000,
          3950,
          820,
          5000,
          340,
          5425,
          5000,
          5500,
          10000,
          0,
          140,
          55,
          1865,
          665,
          2950,
          4925,
          3825,
          1345,
          10000,
          4000,
          0,
          25,
          0,
          10000,
          0,
          4000,
          0,
          5000,
          4950,
          4650,
          2915,
          3700,
          5425,
          5000,
          1000,
          735,
          1650,
          3375,
          500,
          0,
          1285,
          5000,
          310,
          10,
          4850,
          0,
          20,
          0,
          2750,
          2500,
          5425,
          2750,
          6400,
          2475,
          2675,
          20,
          10000,
          480,
          9975,
          2950,
          3275,
          0,
          25,
          4000,
          3000,
          5000,
          30,
          5000,
          3000,
          5425,
          2750,
          3925,
          5425,
          2300,
          1200,
          0,
          2000,
          355,
          0,
          2400,
          90,
          1650,
          825,
          5350,
          2500,
          35,
          5000,
          5000,
          0,
          10000,
          5000,
          0,
          3625,
          1525,
          2500,
          25,
          10000,
          5350,
          200,
          700,
          0,
          5000,
          5425,
          2800,
          5400,
          0,
          0,
          2400,
          2500,
          0,
          0,
          5000,
          3375,
          1250,
          10000,
          10000,
          5000,
          2000,
          10000,
          500,
          0,
          5000,
          10000,
          5000,
          3700,
          5000,
          10000,
          4200,
          5000,
          1050,
          4375,
          1925,
          2200,
          2000,
          25,
          100,
          350,
          2825,
          1925,
          3000,
          3000,
          0,
          5425,
          0,
          0,
          0,
          3500,
          0,
          5000,
          3150,
          10000,
          0,
          10000,
          10000,
          0,
          2800,
          5000,
          25,
          5425,
          10000,
          5425,
          5425,
          0,
          1175,
          50,
          5000,
          1550,
          3850,
          2125,
          5425,
          10000,
          10000,
          350,
          5075,
          3400,
          5250,
          0,
          10000,
          5000,
          5000,
          5000,
          2250,
          8000,
          2500,
          5250,
          1925,
          0,
          1750,
          5625,
          5000,
          50,
          2500,
          5000,
          2400,
          5000,
          2150,
          100,
          3375,
          0,
          0,
          100,
          200,
          3000,
          550,
          5000,
          5000,
          5000,
          5325,
          0,
          375,
          50,
          100,
          5000,
          3500,
          10000,
          5450,
          0,
          3325,
          5425,
          5000,
          5000,
          10000,
          225,
          10000,
          1050,
          125,
          3300,
          50,
          5000,
          0,
          5000,
          3500,
          0,
          50,
          2000,
          5500,
          0,
          0,
          0,
          200,
          5475,
          50,
          75,
          2925,
          4125,
          100,
          0,
          8000,
          200,
          100,
          0,
          10000,
          125,
          1550,
          5000,
          0,
          0,
          3000,
          50,
          50,
          5000,
          5000,
          5000,
          10000,
          0,
          5000,
          2100,
          2400,
          1200,
          125,
          0,
          4000,
          5000,
          75,
          9950,
          3000,
          75,
          1775,
          9975,
          10000,
          3475,
          0,
          6300,
          5000,
          5425,
          500,
          7000,
          75,
          5000,
          0,
          100,
          100,
          2075,
          25,
          10000,
          1175,
          0,
          10000,
          10000,
          10000,
          500,
          5000,
          5000,
          0,
          2500,
          50,
          4000,
          0,
          50,
          0,
          25,
          10000,
          1425,
          0,
          5425,
          10000,
          5000,
          0,
          10000,
          500,
          375,
          10000,
          4075,
          500,
          10000,
          2500,
          0,
          500,
          5000,
          100,
          2000,
          0,
          7500,
          5000,
          25,
          10000,
          1500,
          5550,
          75,
          5000,
          2500,
          2000,
          3100,
          9775,
          0,
          2225,
          0,
          0,
          10000,
          25,
          0,
          0,
          1900,
          10000,
          0,
          5000,
          10000,
          5000,
          2550,
          500,
          10000,
          2500,
          6900,
          0,
          1900,
          3175,
          10000,
          4825,
          10000,
          9000,
          0,
          10000,
          0,
          500,
          1550,
          5000,
          0,
          5000,
          3725,
          1525,
          10000,
          2500,
          0,
          3000,
          0,
          2600,
          0,
          0,
          0,
          25,
          50,
          0,
          0,
          10000,
          0,
          75,
          0,
          100,
          50,
          2325,
          175,
          7500,
          50,
          5000,
          3000,
          0,
          0,
          0,
          10000,
          5000,
          10000,
          0,
          10000,
          0,
          3525,
          5050,
          7175,
          0,
          8000,
          50,
          5000,
          0,
          5000,
          8000,
          0,
          2025,
          0,
          0,
          0,
          5000,
          0,
          75,
          1000,
          0,
          175,
          0,
          0,
          75,
          7000,
          8000,
          0,
          0,
          0,
          0,
          0,
          2000,
          0,
          0,
          0,
          2000,
          8000,
          200,
          2000,
          2875,
          2000,
          0,
          175,
          10000,
          6500,
          6000,
          8000,
          300,
          0,
          7500,
          5000,
          10000,
          3650,
          2800,
          125,
          0,
          10000,
          0,
          250,
          1000,
          0,
          5025,
          0,
          0,
          3000,
          0,
          0,
          10000,
          7325,
          2500,
          4000,
          1500,
          0,
          2250,
          0,
          75,
          1500,
          4000,
          1000,
          0,
          25,
          0,
          1000,
          475,
          2000,
          0,
          125,
          1000,
          1000,
          5000,
          5000,
          0,
          5000,
          0,
          0,
          0,
          25,
          0,
          5000,
          825,
          10000,
          2000,
          6000,
          0,
          0,
          0,
          1675,
          0,
          7500,
          10000,
          0,
          5000,
          4000,
          0,
          3000,
          0,
          3000,
          0,
          1000,
          0,
          5000,
          0,
          0,
          75,
          100,
          0,
          7000,
          2000,
          0,
          1000,
          0,
          475,
          10000,
          6000,
          0,
          6000,
          0,
          7000,
          4000,
          0,
          3000,
          10000,
          5000,
          6000,
          0,
          6000,
          75,
          3000,
          10000,
          0,
          0,
          10000,
          10000,
          0,
          2125,
          0,
          1000,
          9000,
          10000,
          0,
          0,
          1000,
          1000,
          10000,
          3200,
          50,
          400,
          2375,
          5000,
          5000,
          0,
          0,
          1000,
          50,
          0,
          7050,
          10000,
          2000,
          0,
          8000,
          0,
          2000,
          5575,
          0,
          50,
          0,
          75,
          0,
          0,
          2000,
          0,
          0,
          9000,
          0,
          25,
          10000,
          150,
          5000,
          100,
          5000,
          100,
          0,
          0,
          10000,
          2000,
          3000,
          3100,
          150,
          2000,
          5000,
          2000,
          1800,
          0,
          0,
          10000,
          2000,
          3050,
          600,
          50,
          5000,
          2000,
          2000,
          5000,
          0,
          1000,
          400,
          1125,
          0,
          225,
          0,
          50,
          25,
          925,
          0,
          1450,
          2250,
          0,
          1100,
          2000,
          3775,
          775,
          50,
          1875,
          0,
          300,
          350,
          0,
          150,
          750
         ],
         "yaxis": "y"
        },
        {
         "hovertemplate": "<b>%{hovertext}</b><br><br>Sektor=Services<br>Geschlecht=male_group<br>beantragte Kredithöhe (Dollar)=%{x}<br>ausgezahlt (Dollar)=%{y}<br>lender_count=%{marker.size}<extra></extra>",
         "hovertext": [
          "Services"
         ],
         "legendgroup": "Services, male_group",
         "marker": {
          "color": "#EF553B",
          "size": [
           219
          ],
          "sizemode": "area",
          "sizeref": 0.14083333333333334,
          "symbol": "cross"
         },
         "mode": "markers",
         "name": "Services, male_group",
         "showlegend": true,
         "type": "scattergl",
         "x": [
          10000
         ],
         "xaxis": "x",
         "y": [
          10000
         ],
         "yaxis": "y"
        },
        {
         "hovertemplate": "<b>%{hovertext}</b><br><br>Sektor=Arts<br>Geschlecht=male_single<br>beantragte Kredithöhe (Dollar)=%{x}<br>ausgezahlt (Dollar)=%{y}<br>lender_count=%{marker.size}<extra></extra>",
         "hovertext": [
          "Arts",
          "Arts",
          "Arts",
          "Arts",
          "Arts",
          "Arts",
          "Arts",
          "Arts",
          "Arts",
          "Arts",
          "Arts",
          "Arts",
          "Arts",
          "Arts",
          "Arts",
          "Arts",
          "Arts",
          "Arts",
          "Arts",
          "Arts",
          "Arts",
          "Arts",
          "Arts",
          "Arts",
          "Arts",
          "Arts",
          "Arts",
          "Arts",
          "Arts",
          "Arts",
          "Arts",
          "Arts",
          "Arts",
          "Arts",
          "Arts",
          "Arts",
          "Arts",
          "Arts",
          "Arts",
          "Arts",
          "Arts",
          "Arts",
          "Arts",
          "Arts",
          "Arts",
          "Arts",
          "Arts",
          "Arts",
          "Arts",
          "Arts",
          "Arts",
          "Arts",
          "Arts",
          "Arts",
          "Arts",
          "Arts",
          "Arts",
          "Arts",
          "Arts",
          "Arts",
          "Arts",
          "Arts",
          "Arts",
          "Arts",
          "Arts",
          "Arts",
          "Arts",
          "Arts",
          "Arts",
          "Arts",
          "Arts",
          "Arts",
          "Arts",
          "Arts",
          "Arts",
          "Arts",
          "Arts",
          "Arts",
          "Arts",
          "Arts",
          "Arts",
          "Arts",
          "Arts",
          "Arts",
          "Arts",
          "Arts",
          "Arts",
          "Arts",
          "Arts",
          "Arts",
          "Arts",
          "Arts",
          "Arts"
         ],
         "legendgroup": "Arts, male_single",
         "marker": {
          "color": "#00cc96",
          "size": [
           2,
           185,
           60,
           114,
           226,
           0,
           0,
           158,
           134,
           98,
           4,
           31,
           0,
           85,
           216,
           97,
           114,
           11,
           5,
           26,
           296,
           228,
           2,
           142,
           29,
           14,
           8,
           153,
           94,
           0,
           2,
           116,
           0,
           6,
           37,
           45,
           70,
           32,
           38,
           83,
           45,
           31,
           8,
           81,
           48,
           117,
           4,
           32,
           6,
           116,
           63,
           136,
           98,
           4,
           0,
           161,
           79,
           48,
           72,
           48,
           80,
           49,
           148,
           0,
           0,
           6,
           177,
           0,
           123,
           94,
           19,
           7,
           73,
           0,
           16,
           73,
           45,
           80,
           78,
           0,
           0,
           0,
           60,
           0,
           0,
           45,
           4,
           144,
           134,
           35,
           0,
           60,
           18
          ],
          "sizemode": "area",
          "sizeref": 0.14083333333333334,
          "symbol": "circle"
         },
         "mode": "markers",
         "name": "Arts, male_single",
         "showlegend": true,
         "type": "scattergl",
         "x": [
          2500,
          5000,
          2000,
          5000,
          5000,
          1500,
          5000,
          4500,
          5000,
          3500,
          5000,
          2000,
          3000,
          2775,
          5450,
          2775,
          5000,
          5000,
          1500,
          5000,
          10000,
          10000,
          5000,
          4500,
          3000,
          500,
          1100,
          5000,
          10000,
          1000,
          2500,
          4000,
          5000,
          10000,
          5000,
          5000,
          2000,
          5000,
          4000,
          5000,
          2000,
          2500,
          3000,
          5000,
          5000,
          10000,
          500,
          3000,
          5000,
          10000,
          5000,
          10000,
          5000,
          5000,
          5000,
          10000,
          10000,
          10000,
          10000,
          5000,
          5000,
          3000,
          10000,
          10000,
          4000,
          10000,
          10000,
          500,
          10000,
          5600,
          500,
          2150,
          2150,
          2000,
          1000,
          9000,
          5000,
          8000,
          5000,
          1000,
          2000,
          1000,
          5000,
          500,
          5000,
          3000,
          10000,
          10000,
          8000,
          5000,
          5000,
          2000,
          5000
         ],
         "xaxis": "x",
         "y": [
          50,
          5000,
          2000,
          2530,
          5000,
          0,
          0,
          4500,
          5000,
          3500,
          60,
          2000,
          0,
          2775,
          5450,
          2775,
          5000,
          5000,
          385,
          5000,
          10000,
          10000,
          200,
          4075,
          3000,
          500,
          290,
          5000,
          10000,
          0,
          50,
          4000,
          0,
          10000,
          2900,
          5000,
          2000,
          4775,
          4000,
          5000,
          2000,
          2500,
          500,
          5000,
          2550,
          10000,
          500,
          3000,
          200,
          10000,
          5000,
          10000,
          5000,
          125,
          0,
          10000,
          10000,
          5200,
          10000,
          5000,
          5000,
          3000,
          10000,
          0,
          0,
          250,
          10000,
          0,
          4200,
          5600,
          500,
          250,
          2150,
          0,
          1000,
          9000,
          5000,
          8000,
          5000,
          0,
          0,
          0,
          5000,
          0,
          0,
          3000,
          100,
          10000,
          8000,
          2100,
          0,
          2000,
          1800
         ],
         "yaxis": "y"
        },
        {
         "hovertemplate": "<b>%{hovertext}</b><br><br>Sektor=Manufacturing<br>Geschlecht=male_single<br>beantragte Kredithöhe (Dollar)=%{x}<br>ausgezahlt (Dollar)=%{y}<br>lender_count=%{marker.size}<extra></extra>",
         "hovertext": [
          "Manufacturing",
          "Manufacturing",
          "Manufacturing",
          "Manufacturing",
          "Manufacturing",
          "Manufacturing",
          "Manufacturing",
          "Manufacturing",
          "Manufacturing",
          "Manufacturing",
          "Manufacturing",
          "Manufacturing",
          "Manufacturing",
          "Manufacturing",
          "Manufacturing",
          "Manufacturing",
          "Manufacturing",
          "Manufacturing",
          "Manufacturing",
          "Manufacturing",
          "Manufacturing",
          "Manufacturing",
          "Manufacturing",
          "Manufacturing"
         ],
         "legendgroup": "Manufacturing, male_single",
         "marker": {
          "color": "#ab63fa",
          "size": [
           98,
           154,
           101,
           89,
           167,
           101,
           85,
           47,
           58,
           118,
           36,
           30,
           196,
           135,
           176,
           52,
           3,
           0,
           2,
           115,
           49,
           53,
           36,
           2
          ],
          "sizemode": "area",
          "sizeref": 0.14083333333333334,
          "symbol": "circle"
         },
         "mode": "markers",
         "name": "Manufacturing, male_single",
         "showlegend": true,
         "type": "scattergl",
         "x": [
          5000,
          4375,
          5475,
          5475,
          5000,
          4000,
          5000,
          5375,
          2000,
          5450,
          5450,
          3825,
          5475,
          10000,
          5000,
          5000,
          5000,
          5000,
          9000,
          9000,
          2500,
          3000,
          2000,
          7000
         ],
         "xaxis": "x",
         "y": [
          5000,
          4375,
          5475,
          5475,
          5000,
          4000,
          5000,
          3950,
          2000,
          5450,
          3900,
          3825,
          5475,
          10000,
          5000,
          5000,
          125,
          0,
          150,
          9000,
          2500,
          3000,
          2000,
          50
         ],
         "yaxis": "y"
        },
        {
         "hovertemplate": "<b>%{hovertext}</b><br><br>Sektor=Wholesale<br>Geschlecht=male_single<br>beantragte Kredithöhe (Dollar)=%{x}<br>ausgezahlt (Dollar)=%{y}<br>lender_count=%{marker.size}<extra></extra>",
         "hovertext": [
          "Wholesale",
          "Wholesale",
          "Wholesale",
          "Wholesale",
          "Wholesale",
          "Wholesale",
          "Wholesale",
          "Wholesale",
          "Wholesale",
          "Wholesale",
          "Wholesale",
          "Wholesale"
         ],
         "legendgroup": "Wholesale, male_single",
         "marker": {
          "color": "#FFA15A",
          "size": [
           123,
           96,
           62,
           59,
           86,
           116,
           113,
           48,
           10,
           88,
           224,
           98
          ],
          "sizemode": "area",
          "sizeref": 0.14083333333333334,
          "symbol": "circle"
         },
         "mode": "markers",
         "name": "Wholesale, male_single",
         "showlegend": true,
         "type": "scattergl",
         "x": [
          4500,
          3650,
          1700,
          2725,
          5000,
          5350,
          5450,
          5425,
          5450,
          2650,
          10000,
          7000
         ],
         "xaxis": "x",
         "y": [
          4175,
          3650,
          1700,
          2725,
          5000,
          5350,
          5450,
          1950,
          5450,
          2650,
          10000,
          3425
         ],
         "yaxis": "y"
        },
        {
         "hovertemplate": "<b>%{hovertext}</b><br><br>Sektor=Food<br>Geschlecht=male_single<br>beantragte Kredithöhe (Dollar)=%{x}<br>ausgezahlt (Dollar)=%{y}<br>lender_count=%{marker.size}<extra></extra>",
         "hovertext": [
          "Food",
          "Food",
          "Food",
          "Food",
          "Food",
          "Food",
          "Food",
          "Food",
          "Food",
          "Food",
          "Food",
          "Food",
          "Food",
          "Food",
          "Food",
          "Food",
          "Food",
          "Food",
          "Food",
          "Food",
          "Food",
          "Food",
          "Food",
          "Food",
          "Food",
          "Food",
          "Food",
          "Food",
          "Food",
          "Food",
          "Food",
          "Food",
          "Food",
          "Food",
          "Food",
          "Food",
          "Food",
          "Food",
          "Food",
          "Food",
          "Food",
          "Food",
          "Food",
          "Food",
          "Food",
          "Food",
          "Food",
          "Food",
          "Food",
          "Food",
          "Food",
          "Food",
          "Food",
          "Food",
          "Food",
          "Food",
          "Food",
          "Food",
          "Food",
          "Food",
          "Food",
          "Food",
          "Food",
          "Food",
          "Food",
          "Food",
          "Food",
          "Food",
          "Food",
          "Food",
          "Food",
          "Food",
          "Food",
          "Food",
          "Food",
          "Food",
          "Food",
          "Food",
          "Food",
          "Food",
          "Food",
          "Food",
          "Food",
          "Food",
          "Food",
          "Food",
          "Food",
          "Food",
          "Food",
          "Food",
          "Food",
          "Food",
          "Food",
          "Food",
          "Food",
          "Food",
          "Food",
          "Food",
          "Food",
          "Food",
          "Food",
          "Food",
          "Food",
          "Food",
          "Food",
          "Food",
          "Food",
          "Food",
          "Food",
          "Food",
          "Food",
          "Food",
          "Food",
          "Food",
          "Food",
          "Food",
          "Food",
          "Food",
          "Food",
          "Food",
          "Food",
          "Food",
          "Food",
          "Food",
          "Food",
          "Food",
          "Food",
          "Food",
          "Food",
          "Food",
          "Food",
          "Food",
          "Food",
          "Food",
          "Food",
          "Food",
          "Food",
          "Food",
          "Food",
          "Food",
          "Food",
          "Food",
          "Food",
          "Food",
          "Food",
          "Food",
          "Food",
          "Food",
          "Food",
          "Food",
          "Food",
          "Food",
          "Food",
          "Food",
          "Food",
          "Food",
          "Food",
          "Food",
          "Food",
          "Food",
          "Food",
          "Food",
          "Food",
          "Food",
          "Food",
          "Food",
          "Food",
          "Food",
          "Food",
          "Food",
          "Food",
          "Food",
          "Food",
          "Food",
          "Food",
          "Food",
          "Food",
          "Food",
          "Food",
          "Food",
          "Food",
          "Food",
          "Food",
          "Food",
          "Food",
          "Food",
          "Food",
          "Food",
          "Food",
          "Food",
          "Food",
          "Food",
          "Food",
          "Food",
          "Food",
          "Food",
          "Food",
          "Food",
          "Food",
          "Food",
          "Food",
          "Food",
          "Food",
          "Food",
          "Food",
          "Food",
          "Food",
          "Food",
          "Food",
          "Food",
          "Food",
          "Food",
          "Food",
          "Food",
          "Food",
          "Food",
          "Food",
          "Food",
          "Food",
          "Food",
          "Food",
          "Food",
          "Food",
          "Food",
          "Food",
          "Food",
          "Food",
          "Food",
          "Food",
          "Food",
          "Food",
          "Food",
          "Food",
          "Food",
          "Food",
          "Food",
          "Food",
          "Food",
          "Food",
          "Food",
          "Food",
          "Food",
          "Food",
          "Food",
          "Food",
          "Food",
          "Food",
          "Food",
          "Food",
          "Food",
          "Food",
          "Food",
          "Food",
          "Food",
          "Food",
          "Food",
          "Food",
          "Food",
          "Food",
          "Food",
          "Food",
          "Food",
          "Food",
          "Food",
          "Food",
          "Food",
          "Food",
          "Food",
          "Food",
          "Food",
          "Food",
          "Food",
          "Food",
          "Food",
          "Food",
          "Food",
          "Food",
          "Food",
          "Food",
          "Food",
          "Food",
          "Food",
          "Food",
          "Food",
          "Food",
          "Food",
          "Food",
          "Food",
          "Food",
          "Food",
          "Food",
          "Food",
          "Food",
          "Food",
          "Food",
          "Food",
          "Food",
          "Food",
          "Food",
          "Food",
          "Food",
          "Food",
          "Food",
          "Food",
          "Food",
          "Food",
          "Food",
          "Food",
          "Food",
          "Food",
          "Food",
          "Food",
          "Food",
          "Food",
          "Food",
          "Food",
          "Food",
          "Food",
          "Food",
          "Food",
          "Food",
          "Food",
          "Food",
          "Food",
          "Food",
          "Food",
          "Food",
          "Food",
          "Food",
          "Food",
          "Food",
          "Food",
          "Food",
          "Food",
          "Food",
          "Food",
          "Food",
          "Food",
          "Food",
          "Food",
          "Food",
          "Food",
          "Food",
          "Food",
          "Food",
          "Food",
          "Food",
          "Food",
          "Food",
          "Food",
          "Food",
          "Food",
          "Food",
          "Food",
          "Food",
          "Food",
          "Food",
          "Food",
          "Food",
          "Food",
          "Food",
          "Food",
          "Food",
          "Food",
          "Food",
          "Food",
          "Food",
          "Food",
          "Food",
          "Food",
          "Food",
          "Food",
          "Food",
          "Food",
          "Food",
          "Food",
          "Food",
          "Food",
          "Food",
          "Food",
          "Food",
          "Food",
          "Food",
          "Food",
          "Food",
          "Food",
          "Food",
          "Food",
          "Food",
          "Food",
          "Food",
          "Food",
          "Food",
          "Food",
          "Food",
          "Food",
          "Food",
          "Food",
          "Food",
          "Food",
          "Food",
          "Food",
          "Food",
          "Food",
          "Food",
          "Food",
          "Food",
          "Food",
          "Food",
          "Food",
          "Food",
          "Food",
          "Food",
          "Food",
          "Food",
          "Food",
          "Food",
          "Food",
          "Food",
          "Food",
          "Food",
          "Food",
          "Food",
          "Food",
          "Food",
          "Food",
          "Food",
          "Food",
          "Food",
          "Food",
          "Food",
          "Food",
          "Food",
          "Food",
          "Food",
          "Food",
          "Food",
          "Food",
          "Food",
          "Food",
          "Food",
          "Food",
          "Food",
          "Food",
          "Food",
          "Food",
          "Food",
          "Food",
          "Food",
          "Food",
          "Food",
          "Food",
          "Food",
          "Food",
          "Food",
          "Food",
          "Food",
          "Food",
          "Food",
          "Food",
          "Food",
          "Food",
          "Food",
          "Food",
          "Food",
          "Food",
          "Food",
          "Food",
          "Food",
          "Food",
          "Food",
          "Food",
          "Food",
          "Food",
          "Food",
          "Food",
          "Food",
          "Food",
          "Food",
          "Food",
          "Food",
          "Food",
          "Food",
          "Food",
          "Food",
          "Food",
          "Food",
          "Food",
          "Food",
          "Food",
          "Food",
          "Food",
          "Food",
          "Food",
          "Food",
          "Food",
          "Food",
          "Food",
          "Food",
          "Food",
          "Food",
          "Food",
          "Food"
         ],
         "legendgroup": "Food, male_single",
         "marker": {
          "color": "#19d3f3",
          "size": [
           140,
           199,
           139,
           221,
           135,
           108,
           0,
           173,
           276,
           118,
           176,
           135,
           206,
           144,
           272,
           133,
           0,
           43,
           178,
           305,
           292,
           81,
           167,
           154,
           98,
           97,
           85,
           109,
           39,
           217,
           251,
           260,
           137,
           227,
           229,
           168,
           161,
           9,
           190,
           27,
           8,
           97,
           243,
           210,
           41,
           86,
           134,
           81,
           178,
           200,
           80,
           45,
           427,
           136,
           210,
           138,
           92,
           89,
           192,
           77,
           201,
           70,
           40,
           80,
           186,
           110,
           109,
           119,
           294,
           77,
           49,
           108,
           133,
           171,
           127,
           69,
           141,
           34,
           22,
           73,
           203,
           177,
           105,
           31,
           81,
           133,
           179,
           118,
           1,
           139,
           100,
           87,
           31,
           181,
           167,
           199,
           36,
           110,
           222,
           41,
           117,
           156,
           101,
           57,
           15,
           133,
           265,
           125,
           178,
           125,
           3,
           127,
           41,
           125,
           108,
           148,
           105,
           93,
           19,
           51,
           137,
           22,
           90,
           123,
           158,
           103,
           2,
           73,
           197,
           162,
           111,
           125,
           69,
           56,
           164,
           112,
           70,
           82,
           10,
           118,
           23,
           103,
           17,
           101,
           146,
           41,
           83,
           21,
           154,
           108,
           117,
           94,
           170,
           140,
           0,
           55,
           116,
           110,
           0,
           64,
           195,
           0,
           68,
           112,
           51,
           0,
           118,
           233,
           122,
           90,
           0,
           72,
           0,
           1,
           310,
           5,
           42,
           27,
           127,
           199,
           0,
           56,
           29,
           0,
           56,
           101,
           68,
           124,
           9,
           1,
           46,
           84,
           1,
           61,
           147,
           40,
           107,
           48,
           0,
           20,
           65,
           54,
           121,
           76,
           69,
           117,
           105,
           57,
           52,
           58,
           110,
           103,
           89,
           23,
           68,
           35,
           1,
           7,
           3,
           8,
           41,
           83,
           5,
           42,
           82,
           56,
           6,
           62,
           1,
           0,
           129,
           0,
           111,
           107,
           38,
           6,
           114,
           103,
           59,
           76,
           38,
           0,
           84,
           65,
           83,
           129,
           19,
           73,
           45,
           35,
           60,
           141,
           73,
           0,
           11,
           181,
           3,
           117,
           69,
           63,
           95,
           0,
           142,
           117,
           56,
           11,
           140,
           58,
           55,
           0,
           91,
           120,
           72,
           53,
           3,
           153,
           0,
           92,
           3,
           80,
           58,
           55,
           104,
           60,
           98,
           165,
           9,
           108,
           113,
           76,
           105,
           104,
           79,
           0,
           74,
           20,
           10,
           53,
           0,
           0,
           136,
           52,
           150,
           135,
           14,
           60,
           160,
           0,
           16,
           0,
           122,
           76,
           0,
           0,
           133,
           171,
           158,
           0,
           83,
           0,
           176,
           84,
           4,
           59,
           46,
           2,
           0,
           3,
           122,
           90,
           29,
           59,
           144,
           55,
           33,
           5,
           61,
           0,
           21,
           96,
           74,
           0,
           140,
           0,
           70,
           1,
           96,
           74,
           115,
           45,
           56,
           84,
           125,
           0,
           2,
           189,
           0,
           103,
           3,
           9,
           82,
           139,
           55,
           2,
           40,
           188,
           132,
           94,
           99,
           16,
           29,
           77,
           10,
           93,
           72,
           107,
           70,
           115,
           53,
           19,
           33,
           144,
           116,
           46,
           3,
           160,
           172,
           115,
           2,
           0,
           0,
           109,
           0,
           79,
           123,
           0,
           0,
           80,
           109,
           280,
           177,
           159,
           192,
           10,
           146,
           56,
           157,
           0,
           177,
           79,
           163,
           88,
           0,
           0,
           30,
           101,
           32,
           133,
           86,
           79,
           0,
           3,
           0,
           88,
           1,
           51,
           111,
           91,
           92,
           0,
           103,
           24,
           3,
           0,
           42,
           122,
           5,
           108,
           135,
           71,
           112,
           0,
           87,
           75,
           30,
           34,
           12,
           0,
           67,
           77,
           156,
           3,
           80,
           7,
           0,
           39,
           23,
           5,
           105,
           50,
           159,
           0,
           182,
           130,
           68,
           70,
           79,
           0,
           18,
           151,
           6,
           5,
           0,
           162,
           56,
           141,
           147,
           66,
           68,
           0,
           197,
           84,
           25,
           97,
           24,
           34,
           0,
           7,
           82,
           13,
           9,
           76,
           0,
           16,
           83,
           29,
           38,
           2,
           0,
           18,
           20,
           11,
           21
          ],
          "sizemode": "area",
          "sizeref": 0.14083333333333334,
          "symbol": "circle"
         },
         "mode": "markers",
         "name": "Food, male_single",
         "showlegend": true,
         "type": "scattergl",
         "x": [
          5000,
          5000,
          5000,
          5000,
          5000,
          5425,
          5000,
          3000,
          5000,
          5000,
          8675,
          5000,
          5475,
          5000,
          10000,
          9575,
          3500,
          5000,
          3500,
          5000,
          5000,
          5000,
          5000,
          5000,
          5000,
          5000,
          1900,
          5000,
          1000,
          5000,
          5000,
          5000,
          9750,
          4000,
          5000,
          5000,
          5000,
          5000,
          5000,
          2750,
          500,
          5000,
          5000,
          5000,
          700,
          5000,
          5000,
          4000,
          3000,
          5000,
          5000,
          5000,
          10000,
          5000,
          5000,
          5000,
          5000,
          4550,
          5000,
          5000,
          10000,
          4000,
          5000,
          5000,
          5000,
          5000,
          5000,
          5000,
          10000,
          5475,
          5000,
          6425,
          5000,
          10000,
          5000,
          3000,
          5000,
          5450,
          5000,
          10000,
          5000,
          5475,
          5000,
          2700,
          2700,
          5000,
          5000,
          5000,
          5000,
          5000,
          5000,
          5450,
          5450,
          5000,
          5000,
          5000,
          1000,
          3000,
          5000,
          3000,
          10000,
          5000,
          2750,
          2500,
          5000,
          5000,
          10000,
          5000,
          6000,
          5000,
          1000,
          3000,
          2000,
          5000,
          7800,
          5000,
          3000,
          5450,
          5000,
          3000,
          5000,
          5000,
          5000,
          5000,
          10000,
          5000,
          5000,
          5000,
          10000,
          10000,
          5000,
          5000,
          3500,
          5000,
          5000,
          5000,
          5000,
          5000,
          10000,
          10000,
          5000,
          5000,
          4800,
          5000,
          10000,
          1500,
          2800,
          10000,
          5000,
          5000,
          5000,
          5425,
          5000,
          5000,
          5000,
          5000,
          5000,
          5000,
          5000,
          2400,
          10000,
          5000,
          5325,
          5425,
          2500,
          4725,
          5000,
          10000,
          5000,
          5000,
          5000,
          5000,
          5000,
          3000,
          9975,
          4300,
          10000,
          5350,
          4825,
          9975,
          500,
          3400,
          10000,
          3000,
          10000,
          10000,
          10000,
          10000,
          10000,
          5000,
          5000,
          2750,
          4950,
          5000,
          5250,
          5000,
          8250,
          10000,
          5000,
          5000,
          4200,
          10000,
          10000,
          10000,
          10000,
          10000,
          10000,
          5000,
          4000,
          10000,
          10000,
          10000,
          10000,
          5000,
          4800,
          5000,
          8000,
          5000,
          5000,
          5000,
          5000,
          10000,
          5000,
          5000,
          10000,
          5000,
          5450,
          5000,
          5000,
          3000,
          10000,
          5000,
          10000,
          10000,
          10000,
          2500,
          10000,
          10000,
          5000,
          10000,
          5500,
          5000,
          10000,
          5000,
          7500,
          10000,
          5000,
          10000,
          5000,
          10000,
          5000,
          10000,
          5000,
          5000,
          5475,
          5450,
          10000,
          10000,
          5000,
          5000,
          4950,
          5000,
          10000,
          8000,
          5000,
          2500,
          10000,
          5000,
          5000,
          5000,
          10000,
          10000,
          5000,
          5000,
          10000,
          10000,
          5000,
          10000,
          5000,
          10000,
          4500,
          10000,
          10000,
          10000,
          10000,
          10000,
          10000,
          10000,
          10000,
          10000,
          10000,
          10000,
          5000,
          5000,
          5000,
          5000,
          10000,
          10000,
          5000,
          6000,
          10000,
          5000,
          9975,
          10000,
          9900,
          2500,
          10000,
          10000,
          2500,
          5000,
          6000,
          5000,
          6000,
          10000,
          10000,
          9975,
          10000,
          2950,
          5200,
          10000,
          10000,
          8500,
          9750,
          10000,
          10000,
          500,
          9925,
          5000,
          10000,
          10000,
          5200,
          10000,
          10000,
          10000,
          5000,
          5000,
          5000,
          500,
          1000,
          5500,
          10000,
          9900,
          10000,
          5000,
          5000,
          3000,
          10000,
          5000,
          10000,
          10000,
          10000,
          5000,
          10000,
          500,
          10000,
          10000,
          500,
          10000,
          500,
          500,
          2500,
          10000,
          2000,
          8750,
          5000,
          9975,
          10000,
          9500,
          5000,
          1000,
          1000,
          5000,
          1000,
          5200,
          5000,
          10000,
          3700,
          6000,
          5000,
          3000,
          1000,
          10000,
          10000,
          2500,
          10000,
          10000,
          10000,
          10000,
          7000,
          1000,
          5000,
          6000,
          1000,
          8500,
          10000,
          1000,
          2000,
          3500,
          7000,
          9925,
          7200,
          10000,
          9000,
          1000,
          6000,
          6000,
          6000,
          4000,
          7000,
          3000,
          10000,
          10000,
          1000,
          1000,
          1500,
          4000,
          1000,
          5000,
          4000,
          4000,
          9000,
          1000,
          4000,
          3000,
          9000,
          6000,
          10000,
          10000,
          10000,
          8000,
          7000,
          1000,
          1000,
          2000,
          5000,
          10000,
          10000,
          8000,
          6000,
          10000,
          10000,
          3000,
          6000,
          10000,
          10000,
          2000,
          5000,
          4000,
          5000,
          10000,
          10000,
          5000,
          6000,
          1000,
          3000,
          2000,
          1000,
          3000,
          10000,
          4000,
          10000,
          5000,
          10000,
          10000,
          4000,
          10000,
          10000,
          5000,
          2000,
          8000,
          3000,
          5000,
          2000,
          10000,
          3000,
          10000,
          10000,
          3000,
          9000,
          10000,
          10000,
          10000,
          5000,
          10000,
          10000,
          2000,
          6000,
          10000,
          10000,
          7000,
          3000,
          10000,
          2000,
          2000,
          10000,
          2000,
          5000,
          3000,
          10000,
          10000,
          10000,
          10000,
          2000
         ],
         "xaxis": "x",
         "y": [
          5000,
          5000,
          5000,
          5000,
          5000,
          5425,
          0,
          3000,
          5000,
          5000,
          8675,
          5000,
          5475,
          5000,
          10000,
          5025,
          0,
          5000,
          3500,
          5000,
          5000,
          5000,
          5000,
          5000,
          5000,
          5000,
          1900,
          5000,
          1000,
          5000,
          5000,
          5000,
          7725,
          4000,
          5000,
          5000,
          5000,
          80,
          5000,
          2750,
          500,
          5000,
          5000,
          5000,
          700,
          5000,
          5000,
          4000,
          1845,
          5000,
          5000,
          5000,
          10000,
          5000,
          5000,
          5000,
          4825,
          4550,
          5000,
          5000,
          10000,
          4000,
          5000,
          5000,
          5000,
          2855,
          5000,
          5000,
          10000,
          4575,
          5000,
          6000,
          5000,
          10000,
          5000,
          3000,
          5000,
          2150,
          1000,
          2725,
          5000,
          5475,
          5000,
          2100,
          2700,
          5000,
          5000,
          5000,
          15,
          5000,
          5000,
          4700,
          1650,
          5000,
          5000,
          5000,
          1000,
          3000,
          5000,
          3000,
          10000,
          5000,
          2750,
          2500,
          5000,
          5000,
          10000,
          5000,
          6000,
          5000,
          45,
          3000,
          2000,
          5000,
          7800,
          5000,
          3000,
          5450,
          5000,
          3000,
          5000,
          595,
          5000,
          5000,
          10000,
          5000,
          10,
          1840,
          10000,
          10000,
          5000,
          5000,
          3500,
          5000,
          5000,
          5000,
          5000,
          5000,
          10000,
          10000,
          5000,
          5000,
          1505,
          5000,
          10000,
          1500,
          2800,
          10000,
          5000,
          5000,
          5000,
          5425,
          5000,
          5000,
          0,
          5000,
          5000,
          5000,
          0,
          2400,
          10000,
          0,
          5325,
          5425,
          2500,
          0,
          5000,
          10000,
          5000,
          5000,
          0,
          5000,
          0,
          20,
          9475,
          195,
          10000,
          1325,
          4825,
          7550,
          0,
          3400,
          1475,
          0,
          10000,
          10000,
          4950,
          10000,
          1200,
          250,
          5000,
          2750,
          25,
          5000,
          5250,
          5000,
          8250,
          10000,
          0,
          2575,
          4200,
          10000,
          10000,
          10000,
          10000,
          10000,
          10000,
          5000,
          4000,
          5275,
          10000,
          10000,
          10000,
          5000,
          4800,
          1200,
          25,
          300,
          350,
          700,
          5000,
          10000,
          700,
          5000,
          10000,
          5000,
          5450,
          2900,
          50,
          0,
          10000,
          0,
          10000,
          10000,
          10000,
          225,
          10000,
          10000,
          5000,
          10000,
          5500,
          0,
          10000,
          5000,
          7500,
          10000,
          5000,
          10000,
          5000,
          10000,
          5000,
          10000,
          5000,
          0,
          5475,
          5450,
          575,
          10000,
          5000,
          5000,
          4950,
          0,
          10000,
          8000,
          5000,
          1025,
          10000,
          5000,
          5000,
          0,
          10000,
          10000,
          5000,
          5000,
          100,
          10000,
          0,
          10000,
          75,
          10000,
          4500,
          7650,
          10000,
          10000,
          8500,
          10000,
          700,
          10000,
          10000,
          10000,
          5950,
          10000,
          5000,
          0,
          5000,
          1700,
          250,
          10000,
          0,
          0,
          10000,
          5000,
          9975,
          10000,
          900,
          2500,
          10000,
          0,
          2500,
          0,
          6000,
          5000,
          0,
          0,
          10000,
          9975,
          10000,
          0,
          5200,
          0,
          10000,
          8500,
          175,
          10000,
          10000,
          50,
          0,
          75,
          10000,
          10000,
          5200,
          3175,
          10000,
          10000,
          5000,
          500,
          5000,
          0,
          1000,
          5500,
          10000,
          0,
          10000,
          0,
          5000,
          25,
          7350,
          5000,
          10000,
          1650,
          1700,
          5000,
          10000,
          0,
          50,
          10000,
          0,
          10000,
          500,
          500,
          2500,
          10000,
          2000,
          50,
          5000,
          9975,
          10000,
          9500,
          5000,
          1000,
          1000,
          5000,
          1000,
          5200,
          5000,
          4175,
          3700,
          6000,
          5000,
          3000,
          1000,
          10000,
          10000,
          2500,
          100,
          10000,
          10000,
          10000,
          75,
          0,
          0,
          6000,
          0,
          8500,
          10000,
          0,
          0,
          3500,
          7000,
          9925,
          7200,
          10000,
          9000,
          1000,
          6000,
          6000,
          6000,
          0,
          7000,
          3000,
          10000,
          10000,
          0,
          0,
          1500,
          4000,
          1000,
          5000,
          4000,
          4000,
          0,
          1000,
          0,
          3000,
          25,
          6000,
          10000,
          10000,
          5325,
          0,
          7000,
          1000,
          100,
          0,
          5000,
          10000,
          225,
          8000,
          6000,
          10000,
          10000,
          0,
          6000,
          10000,
          10000,
          2000,
          575,
          0,
          5000,
          6000,
          10000,
          75,
          2900,
          1000,
          0,
          2000,
          1000,
          250,
          10000,
          4000,
          10000,
          0,
          10000,
          10000,
          2500,
          2350,
          10000,
          0,
          2000,
          8000,
          650,
          175,
          0,
          10000,
          3000,
          10000,
          10000,
          3000,
          9000,
          0,
          10000,
          5625,
          5000,
          10000,
          1250,
          2000,
          0,
          275,
          6250,
          500,
          3000,
          4900,
          0,
          1000,
          6300,
          2000,
          1275,
          50,
          0,
          2400,
          650,
          525,
          1350
         ],
         "yaxis": "y"
        },
        {
         "hovertemplate": "<b>%{hovertext}</b><br><br>Sektor=Retail<br>Geschlecht=male_single<br>beantragte Kredithöhe (Dollar)=%{x}<br>ausgezahlt (Dollar)=%{y}<br>lender_count=%{marker.size}<extra></extra>",
         "hovertext": [
          "Retail",
          "Retail",
          "Retail",
          "Retail",
          "Retail",
          "Retail",
          "Retail",
          "Retail",
          "Retail",
          "Retail",
          "Retail",
          "Retail",
          "Retail",
          "Retail",
          "Retail",
          "Retail",
          "Retail",
          "Retail",
          "Retail",
          "Retail",
          "Retail",
          "Retail",
          "Retail",
          "Retail",
          "Retail",
          "Retail",
          "Retail",
          "Retail",
          "Retail",
          "Retail",
          "Retail",
          "Retail",
          "Retail",
          "Retail",
          "Retail",
          "Retail",
          "Retail",
          "Retail",
          "Retail",
          "Retail",
          "Retail",
          "Retail",
          "Retail",
          "Retail",
          "Retail",
          "Retail",
          "Retail",
          "Retail",
          "Retail",
          "Retail",
          "Retail",
          "Retail",
          "Retail",
          "Retail",
          "Retail",
          "Retail",
          "Retail",
          "Retail",
          "Retail",
          "Retail",
          "Retail",
          "Retail",
          "Retail",
          "Retail",
          "Retail",
          "Retail",
          "Retail",
          "Retail",
          "Retail",
          "Retail",
          "Retail",
          "Retail",
          "Retail",
          "Retail",
          "Retail",
          "Retail",
          "Retail",
          "Retail",
          "Retail",
          "Retail",
          "Retail",
          "Retail",
          "Retail",
          "Retail",
          "Retail",
          "Retail",
          "Retail",
          "Retail",
          "Retail",
          "Retail",
          "Retail",
          "Retail",
          "Retail",
          "Retail",
          "Retail",
          "Retail",
          "Retail",
          "Retail",
          "Retail",
          "Retail",
          "Retail",
          "Retail",
          "Retail",
          "Retail",
          "Retail",
          "Retail",
          "Retail",
          "Retail",
          "Retail",
          "Retail",
          "Retail",
          "Retail",
          "Retail",
          "Retail",
          "Retail",
          "Retail",
          "Retail",
          "Retail",
          "Retail",
          "Retail",
          "Retail",
          "Retail",
          "Retail",
          "Retail",
          "Retail",
          "Retail",
          "Retail",
          "Retail",
          "Retail",
          "Retail",
          "Retail",
          "Retail",
          "Retail",
          "Retail",
          "Retail",
          "Retail",
          "Retail",
          "Retail",
          "Retail",
          "Retail",
          "Retail",
          "Retail",
          "Retail",
          "Retail",
          "Retail",
          "Retail",
          "Retail",
          "Retail",
          "Retail",
          "Retail",
          "Retail",
          "Retail",
          "Retail",
          "Retail",
          "Retail",
          "Retail",
          "Retail",
          "Retail",
          "Retail",
          "Retail",
          "Retail",
          "Retail",
          "Retail",
          "Retail",
          "Retail",
          "Retail",
          "Retail",
          "Retail",
          "Retail",
          "Retail",
          "Retail",
          "Retail",
          "Retail",
          "Retail",
          "Retail",
          "Retail",
          "Retail",
          "Retail",
          "Retail",
          "Retail",
          "Retail",
          "Retail",
          "Retail",
          "Retail",
          "Retail",
          "Retail",
          "Retail",
          "Retail",
          "Retail",
          "Retail",
          "Retail",
          "Retail",
          "Retail",
          "Retail",
          "Retail",
          "Retail",
          "Retail",
          "Retail",
          "Retail",
          "Retail",
          "Retail",
          "Retail",
          "Retail",
          "Retail",
          "Retail",
          "Retail",
          "Retail",
          "Retail",
          "Retail",
          "Retail",
          "Retail",
          "Retail",
          "Retail",
          "Retail",
          "Retail",
          "Retail",
          "Retail",
          "Retail",
          "Retail",
          "Retail",
          "Retail",
          "Retail",
          "Retail",
          "Retail",
          "Retail",
          "Retail",
          "Retail",
          "Retail",
          "Retail",
          "Retail",
          "Retail",
          "Retail",
          "Retail",
          "Retail",
          "Retail",
          "Retail",
          "Retail",
          "Retail",
          "Retail",
          "Retail",
          "Retail",
          "Retail",
          "Retail",
          "Retail",
          "Retail",
          "Retail",
          "Retail",
          "Retail",
          "Retail",
          "Retail",
          "Retail",
          "Retail",
          "Retail",
          "Retail",
          "Retail",
          "Retail",
          "Retail",
          "Retail",
          "Retail",
          "Retail",
          "Retail",
          "Retail",
          "Retail",
          "Retail",
          "Retail",
          "Retail",
          "Retail",
          "Retail",
          "Retail",
          "Retail",
          "Retail",
          "Retail",
          "Retail",
          "Retail",
          "Retail"
         ],
         "legendgroup": "Retail, male_single",
         "marker": {
          "color": "#FF6692",
          "size": [
           0,
           89,
           10,
           69,
           46,
           38,
           153,
           8,
           110,
           95,
           192,
           4,
           80,
           381,
           107,
           132,
           66,
           235,
           117,
           96,
           0,
           149,
           71,
           11,
           43,
           31,
           39,
           43,
           19,
           32,
           28,
           28,
           24,
           26,
           39,
           33,
           18,
           168,
           21,
           47,
           45,
           29,
           44,
           12,
           78,
           0,
           47,
           52,
           16,
           146,
           0,
           40,
           149,
           169,
           23,
           215,
           29,
           171,
           0,
           8,
           56,
           10,
           50,
           146,
           128,
           127,
           109,
           26,
           124,
           76,
           87,
           49,
           22,
           61,
           67,
           123,
           162,
           0,
           47,
           0,
           0,
           53,
           252,
           0,
           147,
           96,
           78,
           58,
           124,
           46,
           2,
           5,
           89,
           0,
           40,
           108,
           76,
           114,
           116,
           45,
           28,
           29,
           0,
           2,
           29,
           28,
           19,
           66,
           0,
           31,
           38,
           18,
           1,
           0,
           37,
           37,
           52,
           2,
           0,
           17,
           67,
           0,
           65,
           36,
           46,
           0,
           4,
           34,
           0,
           0,
           0,
           1,
           0,
           58,
           86,
           50,
           50,
           0,
           33,
           0,
           2,
           0,
           62,
           0,
           19,
           172,
           0,
           1,
           7,
           0,
           2,
           64,
           2,
           0,
           51,
           58,
           162,
           92,
           105,
           53,
           0,
           3,
           1,
           40,
           60,
           31,
           32,
           49,
           62,
           22,
           59,
           1,
           3,
           98,
           0,
           0,
           155,
           18,
           32,
           0,
           0,
           36,
           0,
           9,
           42,
           3,
           75,
           13,
           0,
           2,
           110,
           99,
           145,
           50,
           3,
           113,
           74,
           15,
           68,
           0,
           0,
           1,
           0,
           160,
           0,
           90,
           0,
           0,
           60,
           0,
           3,
           0,
           43,
           36,
           61,
           112,
           4,
           38,
           87,
           83,
           0,
           0,
           0,
           0,
           98,
           0,
           0,
           25,
           63,
           21,
           23,
           78,
           0,
           7,
           0,
           0,
           36,
           6,
           54,
           91,
           0,
           31,
           43,
           54,
           28,
           55,
           67,
           172,
           52,
           0,
           12,
           2,
           5,
           31,
           2,
           79,
           0,
           24,
           26,
           10,
           4,
           37,
           0,
           42,
           54,
           41,
           0,
           0,
           16,
           0,
           1,
           7,
           24,
           10,
           0
          ],
          "sizemode": "area",
          "sizeref": 0.14083333333333334,
          "symbol": "circle"
         },
         "mode": "markers",
         "name": "Retail, male_single",
         "showlegend": true,
         "type": "scattergl",
         "x": [
          10000,
          5000,
          5000,
          9175,
          5925,
          7575,
          5000,
          3000,
          2500,
          5450,
          3500,
          500,
          2775,
          10000,
          2500,
          7600,
          2750,
          5000,
          3000,
          5000,
          3500,
          5000,
          5000,
          5000,
          5000,
          5000,
          5000,
          5425,
          6000,
          500,
          3575,
          10000,
          3000,
          1000,
          10000,
          2700,
          2750,
          5000,
          5000,
          5450,
          1500,
          4375,
          2000,
          2750,
          3000,
          2500,
          5450,
          2750,
          2750,
          6000,
          3000,
          5000,
          5000,
          5000,
          5200,
          10000,
          5425,
          5050,
          5000,
          5000,
          2400,
          3000,
          2000,
          10000,
          5000,
          5000,
          5000,
          5425,
          10000,
          2000,
          2750,
          5000,
          5000,
          7500,
          5425,
          5000,
          5000,
          5000,
          2750,
          4700,
          4950,
          5450,
          10000,
          5000,
          5000,
          5450,
          2500,
          10000,
          10000,
          5000,
          2500,
          2500,
          5000,
          2500,
          2000,
          5000,
          5000,
          4750,
          5000,
          2000,
          5000,
          5500,
          5000,
          5000,
          4700,
          5000,
          5000,
          5000,
          500,
          4375,
          5000,
          5250,
          2500,
          3000,
          2800,
          5000,
          5000,
          5000,
          5000,
          800,
          5000,
          5000,
          10000,
          10000,
          5000,
          5000,
          5225,
          5000,
          5000,
          5000,
          5000,
          10000,
          3000,
          3000,
          5000,
          5000,
          5000,
          5000,
          5000,
          5000,
          5000,
          1000,
          5000,
          5000,
          500,
          10000,
          5000,
          5000,
          4800,
          10000,
          3200,
          5000,
          5000,
          5000,
          5000,
          10000,
          5425,
          7500,
          5025,
          2500,
          5000,
          10000,
          3000,
          5000,
          6000,
          2500,
          1200,
          10000,
          10000,
          5000,
          4000,
          7500,
          2500,
          10000,
          10000,
          10000,
          10000,
          500,
          6000,
          500,
          5000,
          5000,
          500,
          500,
          2500,
          2500,
          10000,
          5000,
          500,
          5000,
          5000,
          10000,
          9875,
          2500,
          500,
          10000,
          10000,
          500,
          5000,
          700,
          2000,
          10000,
          500,
          10000,
          2000,
          10000,
          1000,
          9775,
          4000,
          1000,
          2000,
          8000,
          8000,
          9950,
          5000,
          9000,
          4000,
          8000,
          6000,
          8000,
          1000,
          10000,
          1000,
          1000,
          5000,
          1000,
          2400,
          1500,
          8000,
          1000,
          1500,
          7000,
          10000,
          1500,
          8000,
          950,
          10000,
          1000,
          10000,
          10000,
          1000,
          3000,
          3000,
          3000,
          1000,
          3000,
          4000,
          10000,
          10000,
          10000,
          5000,
          5000,
          2000,
          10000,
          1000,
          10000,
          5000,
          2000,
          2000,
          5000,
          5000,
          2000,
          2000,
          2000,
          6000,
          3000,
          5000,
          1000,
          5000,
          10000,
          1000,
          3000,
          5000,
          5000,
          8000
         ],
         "xaxis": "x",
         "y": [
          0,
          3225,
          430,
          6125,
          4625,
          2400,
          5000,
          3000,
          2500,
          4925,
          3500,
          500,
          2775,
          10000,
          2500,
          6525,
          2750,
          5000,
          3000,
          5000,
          0,
          5000,
          5000,
          155,
          2105,
          1650,
          365,
          1650,
          4775,
          500,
          2750,
          2300,
          850,
          1000,
          2875,
          1700,
          1200,
          5000,
          2875,
          2575,
          1500,
          2375,
          2000,
          1800,
          3000,
          0,
          4075,
          2025,
          2300,
          6000,
          0,
          1125,
          5000,
          5000,
          1850,
          10000,
          2075,
          5050,
          0,
          190,
          2400,
          1180,
          2000,
          10000,
          5000,
          5000,
          5000,
          1800,
          10000,
          2000,
          2750,
          580,
          5000,
          7500,
          4450,
          5000,
          5000,
          0,
          2075,
          0,
          0,
          5450,
          10000,
          0,
          5000,
          4650,
          2500,
          2700,
          5475,
          785,
          20,
          75,
          5000,
          0,
          2000,
          5000,
          5000,
          4750,
          5000,
          2000,
          5000,
          5500,
          0,
          30,
          4700,
          5000,
          575,
          3975,
          0,
          4375,
          5000,
          3475,
          25,
          0,
          2800,
          1150,
          5000,
          50,
          0,
          800,
          5000,
          0,
          10000,
          10000,
          5000,
          0,
          5225,
          5000,
          0,
          0,
          0,
          250,
          0,
          3000,
          5000,
          5000,
          5000,
          0,
          5000,
          0,
          125,
          0,
          5000,
          0,
          500,
          10000,
          0,
          25,
          400,
          0,
          50,
          5000,
          50,
          0,
          5000,
          3050,
          5425,
          7500,
          5025,
          2500,
          0,
          100,
          25,
          1375,
          6000,
          2500,
          1200,
          3100,
          4650,
          5000,
          4000,
          25,
          125,
          10000,
          0,
          0,
          10000,
          500,
          6000,
          0,
          0,
          5000,
          0,
          500,
          2500,
          75,
          7625,
          500,
          0,
          175,
          3875,
          10000,
          9875,
          2500,
          100,
          10000,
          10000,
          500,
          5000,
          0,
          0,
          100,
          0,
          10000,
          0,
          10000,
          0,
          0,
          2125,
          0,
          75,
          0,
          8000,
          9950,
          2900,
          9000,
          200,
          3100,
          6000,
          8000,
          0,
          0,
          0,
          0,
          5000,
          0,
          0,
          1500,
          2700,
          1000,
          1500,
          7000,
          0,
          1500,
          0,
          0,
          6950,
          175,
          4175,
          5550,
          0,
          1225,
          3000,
          3000,
          1000,
          3000,
          4000,
          10000,
          10000,
          0,
          5000,
          125,
          125,
          1225,
          175,
          3575,
          0,
          2000,
          2000,
          300,
          100,
          2000,
          0,
          2000,
          2400,
          3000,
          0,
          0,
          850,
          0,
          25,
          300,
          875,
          450,
          0
         ],
         "yaxis": "y"
        },
        {
         "hovertemplate": "<b>%{hovertext}</b><br><br>Sektor=Clothing<br>Geschlecht=male_single<br>beantragte Kredithöhe (Dollar)=%{x}<br>ausgezahlt (Dollar)=%{y}<br>lender_count=%{marker.size}<extra></extra>",
         "hovertext": [
          "Clothing",
          "Clothing",
          "Clothing",
          "Clothing",
          "Clothing",
          "Clothing",
          "Clothing",
          "Clothing",
          "Clothing",
          "Clothing",
          "Clothing",
          "Clothing",
          "Clothing",
          "Clothing",
          "Clothing",
          "Clothing",
          "Clothing",
          "Clothing",
          "Clothing",
          "Clothing",
          "Clothing",
          "Clothing",
          "Clothing",
          "Clothing",
          "Clothing",
          "Clothing",
          "Clothing",
          "Clothing",
          "Clothing",
          "Clothing",
          "Clothing",
          "Clothing",
          "Clothing",
          "Clothing",
          "Clothing",
          "Clothing",
          "Clothing",
          "Clothing",
          "Clothing",
          "Clothing",
          "Clothing",
          "Clothing",
          "Clothing",
          "Clothing",
          "Clothing",
          "Clothing",
          "Clothing",
          "Clothing",
          "Clothing",
          "Clothing",
          "Clothing",
          "Clothing",
          "Clothing",
          "Clothing",
          "Clothing",
          "Clothing",
          "Clothing",
          "Clothing",
          "Clothing",
          "Clothing",
          "Clothing",
          "Clothing",
          "Clothing",
          "Clothing",
          "Clothing",
          "Clothing",
          "Clothing",
          "Clothing",
          "Clothing",
          "Clothing",
          "Clothing",
          "Clothing",
          "Clothing",
          "Clothing",
          "Clothing",
          "Clothing",
          "Clothing",
          "Clothing",
          "Clothing",
          "Clothing",
          "Clothing",
          "Clothing",
          "Clothing",
          "Clothing",
          "Clothing",
          "Clothing",
          "Clothing",
          "Clothing",
          "Clothing",
          "Clothing",
          "Clothing",
          "Clothing",
          "Clothing",
          "Clothing",
          "Clothing",
          "Clothing",
          "Clothing",
          "Clothing",
          "Clothing",
          "Clothing",
          "Clothing",
          "Clothing",
          "Clothing",
          "Clothing",
          "Clothing",
          "Clothing",
          "Clothing",
          "Clothing",
          "Clothing",
          "Clothing",
          "Clothing",
          "Clothing",
          "Clothing",
          "Clothing",
          "Clothing",
          "Clothing",
          "Clothing",
          "Clothing",
          "Clothing",
          "Clothing",
          "Clothing",
          "Clothing",
          "Clothing",
          "Clothing",
          "Clothing"
         ],
         "legendgroup": "Clothing, male_single",
         "marker": {
          "color": "#B6E880",
          "size": [
           88,
           115,
           6,
           56,
           158,
           207,
           44,
           108,
           26,
           1,
           122,
           0,
           22,
           76,
           166,
           0,
           16,
           86,
           127,
           6,
           52,
           21,
           86,
           13,
           75,
           118,
           89,
           13,
           5,
           146,
           29,
           135,
           44,
           2,
           22,
           84,
           0,
           0,
           250,
           46,
           4,
           152,
           4,
           57,
           50,
           12,
           29,
           40,
           45,
           2,
           106,
           53,
           92,
           0,
           35,
           131,
           166,
           0,
           69,
           0,
           1,
           53,
           49,
           145,
           47,
           80,
           35,
           0,
           53,
           39,
           0,
           65,
           77,
           65,
           26,
           89,
           90,
           33,
           0,
           0,
           33,
           121,
           40,
           64,
           0,
           0,
           0,
           2,
           17,
           19,
           0,
           0,
           0,
           63,
           73,
           0,
           0,
           93,
           0,
           83,
           40,
           37,
           5,
           64,
           11,
           86,
           38,
           31,
           101,
           149,
           0,
           7,
           33,
           106,
           0,
           8,
           95,
           38,
           113,
           0,
           98,
           0,
           175,
           25,
           8
          ],
          "sizemode": "area",
          "sizeref": 0.14083333333333334,
          "symbol": "circle"
         },
         "mode": "markers",
         "name": "Clothing, male_single",
         "showlegend": true,
         "type": "scattergl",
         "x": [
          5100,
          2500,
          1000,
          1000,
          5000,
          10000,
          1000,
          5000,
          2500,
          5000,
          5450,
          5000,
          5450,
          2700,
          5000,
          1000,
          2750,
          3000,
          5000,
          5000,
          5000,
          4400,
          5000,
          2750,
          5000,
          5000,
          4375,
          4500,
          5000,
          10000,
          2725,
          3875,
          2500,
          5000,
          3000,
          5000,
          4975,
          1500,
          10000,
          5000,
          10000,
          5425,
          2500,
          7000,
          5000,
          5425,
          3000,
          5000,
          10000,
          5000,
          10000,
          5000,
          10000,
          5000,
          2400,
          10000,
          5000,
          5000,
          5000,
          5000,
          10000,
          2000,
          5000,
          10000,
          5000,
          10000,
          4000,
          2500,
          5425,
          5000,
          5000,
          5000,
          6500,
          10000,
          5000,
          5075,
          8000,
          4000,
          4000,
          10000,
          5000,
          10000,
          10000,
          5050,
          8000,
          2500,
          2500,
          1000,
          500,
          500,
          2800,
          500,
          2000,
          4850,
          3000,
          3000,
          4000,
          10000,
          5000,
          3500,
          2000,
          1000,
          8000,
          2000,
          8000,
          5000,
          3000,
          1500,
          8000,
          10000,
          4200,
          1000,
          1000,
          6000,
          1000,
          7000,
          6000,
          8000,
          10000,
          1000,
          10000,
          1000,
          10000,
          10000,
          2000
         ],
         "xaxis": "x",
         "y": [
          3325,
          2500,
          75,
          1000,
          5000,
          10000,
          1000,
          5000,
          1350,
          25,
          4725,
          0,
          2425,
          2650,
          5000,
          0,
          900,
          3000,
          5000,
          305,
          5000,
          4125,
          5000,
          500,
          5000,
          5000,
          4375,
          185,
          130,
          10000,
          1650,
          3875,
          1750,
          100,
          1325,
          5000,
          0,
          0,
          10000,
          1200,
          200,
          5425,
          200,
          7000,
          5000,
          5425,
          850,
          5000,
          10000,
          50,
          10000,
          5000,
          10000,
          0,
          2400,
          10000,
          5000,
          0,
          5000,
          0,
          25,
          2000,
          5000,
          10000,
          3900,
          10000,
          4000,
          0,
          5425,
          5000,
          0,
          5000,
          6500,
          3525,
          5000,
          5075,
          6000,
          4000,
          0,
          0,
          5000,
          10000,
          4450,
          5050,
          0,
          0,
          0,
          50,
          500,
          500,
          0,
          0,
          0,
          4850,
          3000,
          0,
          0,
          7625,
          0,
          3500,
          2000,
          1000,
          200,
          2000,
          800,
          5000,
          3000,
          1500,
          8000,
          10000,
          0,
          250,
          1000,
          6000,
          0,
          700,
          6000,
          8000,
          10000,
          0,
          10000,
          0,
          10000,
          1600,
          350
         ],
         "yaxis": "y"
        },
        {
         "hovertemplate": "<b>%{hovertext}</b><br><br>Sektor=Health<br>Geschlecht=male_single<br>beantragte Kredithöhe (Dollar)=%{x}<br>ausgezahlt (Dollar)=%{y}<br>lender_count=%{marker.size}<extra></extra>",
         "hovertext": [
          "Health",
          "Health",
          "Health",
          "Health",
          "Health",
          "Health",
          "Health",
          "Health",
          "Health",
          "Health",
          "Health",
          "Health",
          "Health",
          "Health",
          "Health",
          "Health",
          "Health",
          "Health",
          "Health",
          "Health",
          "Health",
          "Health",
          "Health",
          "Health"
         ],
         "legendgroup": "Health, male_single",
         "marker": {
          "color": "#FF97FF",
          "size": [
           222,
           238,
           261,
           92,
           101,
           96,
           103,
           161,
           65,
           88,
           84,
           168,
           90,
           98,
           0,
           18,
           0,
           0,
           7,
           26,
           0,
           0,
           0,
           21
          ],
          "sizemode": "area",
          "sizeref": 0.14083333333333334,
          "symbol": "circle"
         },
         "mode": "markers",
         "name": "Health, male_single",
         "showlegend": true,
         "type": "scattergl",
         "x": [
          7425,
          7650,
          10000,
          5475,
          5475,
          5925,
          3000,
          8000,
          2775,
          5475,
          3250,
          8000,
          5000,
          4000,
          2000,
          10000,
          10000,
          9000,
          1000,
          1000,
          1000,
          1000,
          2000,
          9000
         ],
         "xaxis": "x",
         "y": [
          7425,
          7650,
          10000,
          5475,
          5475,
          5925,
          3000,
          8000,
          2775,
          5475,
          3250,
          8000,
          5000,
          4000,
          0,
          875,
          0,
          0,
          650,
          1000,
          0,
          0,
          0,
          1050
         ],
         "yaxis": "y"
        },
        {
         "hovertemplate": "<b>%{hovertext}</b><br><br>Sektor=Entertainment<br>Geschlecht=male_single<br>beantragte Kredithöhe (Dollar)=%{x}<br>ausgezahlt (Dollar)=%{y}<br>lender_count=%{marker.size}<extra></extra>",
         "hovertext": [
          "Entertainment",
          "Entertainment",
          "Entertainment",
          "Entertainment",
          "Entertainment",
          "Entertainment",
          "Entertainment",
          "Entertainment",
          "Entertainment",
          "Entertainment",
          "Entertainment",
          "Entertainment",
          "Entertainment",
          "Entertainment",
          "Entertainment",
          "Entertainment",
          "Entertainment",
          "Entertainment",
          "Entertainment",
          "Entertainment",
          "Entertainment",
          "Entertainment",
          "Entertainment",
          "Entertainment",
          "Entertainment",
          "Entertainment",
          "Entertainment",
          "Entertainment",
          "Entertainment",
          "Entertainment",
          "Entertainment",
          "Entertainment",
          "Entertainment",
          "Entertainment",
          "Entertainment",
          "Entertainment",
          "Entertainment",
          "Entertainment",
          "Entertainment",
          "Entertainment",
          "Entertainment",
          "Entertainment",
          "Entertainment",
          "Entertainment",
          "Entertainment",
          "Entertainment",
          "Entertainment",
          "Entertainment",
          "Entertainment",
          "Entertainment",
          "Entertainment",
          "Entertainment",
          "Entertainment",
          "Entertainment",
          "Entertainment",
          "Entertainment",
          "Entertainment",
          "Entertainment",
          "Entertainment",
          "Entertainment",
          "Entertainment",
          "Entertainment",
          "Entertainment",
          "Entertainment",
          "Entertainment",
          "Entertainment",
          "Entertainment",
          "Entertainment",
          "Entertainment",
          "Entertainment",
          "Entertainment",
          "Entertainment",
          "Entertainment",
          "Entertainment",
          "Entertainment",
          "Entertainment",
          "Entertainment",
          "Entertainment",
          "Entertainment",
          "Entertainment",
          "Entertainment",
          "Entertainment",
          "Entertainment",
          "Entertainment",
          "Entertainment",
          "Entertainment",
          "Entertainment",
          "Entertainment",
          "Entertainment",
          "Entertainment",
          "Entertainment",
          "Entertainment",
          "Entertainment",
          "Entertainment",
          "Entertainment",
          "Entertainment",
          "Entertainment",
          "Entertainment",
          "Entertainment",
          "Entertainment",
          "Entertainment",
          "Entertainment",
          "Entertainment",
          "Entertainment",
          "Entertainment",
          "Entertainment",
          "Entertainment",
          "Entertainment",
          "Entertainment",
          "Entertainment",
          "Entertainment",
          "Entertainment",
          "Entertainment",
          "Entertainment",
          "Entertainment",
          "Entertainment"
         ],
         "legendgroup": "Entertainment, male_single",
         "marker": {
          "color": "#FECB52",
          "size": [
           85,
           144,
           9,
           13,
           110,
           0,
           88,
           159,
           93,
           4,
           80,
           66,
           84,
           54,
           34,
           0,
           5,
           76,
           102,
           61,
           0,
           21,
           0,
           41,
           54,
           0,
           0,
           0,
           11,
           71,
           0,
           1,
           153,
           52,
           38,
           52,
           0,
           41,
           70,
           1,
           38,
           7,
           16,
           43,
           0,
           13,
           3,
           4,
           0,
           2,
           0,
           61,
           61,
           0,
           33,
           52,
           78,
           2,
           161,
           9,
           0,
           24,
           0,
           19,
           0,
           5,
           92,
           0,
           72,
           0,
           0,
           6,
           71,
           4,
           0,
           0,
           0,
           0,
           2,
           0,
           13,
           1,
           8,
           0,
           0,
           112,
           1,
           2,
           2,
           39,
           53,
           0,
           1,
           40,
           2,
           99,
           2,
           0,
           17,
           0,
           0,
           4,
           68,
           55,
           53,
           45,
           13,
           46,
           15,
           4,
           30,
           1,
           39,
           4,
           0,
           0
          ],
          "sizemode": "area",
          "sizeref": 0.14083333333333334,
          "symbol": "circle"
         },
         "mode": "markers",
         "name": "Entertainment, male_single",
         "showlegend": true,
         "type": "scattergl",
         "x": [
          2675,
          5000,
          3000,
          5000,
          5000,
          500,
          2775,
          7500,
          3300,
          5000,
          2800,
          6000,
          2500,
          2800,
          5000,
          5000,
          5000,
          2275,
          2800,
          10000,
          5000,
          5000,
          5000,
          3000,
          5000,
          3000,
          1100,
          5000,
          5000,
          5000,
          5000,
          2950,
          5500,
          5000,
          4975,
          2000,
          2500,
          5000,
          5000,
          5000,
          3000,
          10000,
          4350,
          5000,
          5000,
          5450,
          5000,
          2000,
          3500,
          2500,
          5000,
          6000,
          5000,
          10000,
          5000,
          5000,
          5450,
          2000,
          5000,
          10000,
          5000,
          2500,
          5000,
          2000,
          5000,
          9975,
          10000,
          500,
          5025,
          500,
          10000,
          2850,
          10000,
          5000,
          2500,
          2500,
          3000,
          5000,
          3000,
          500,
          1500,
          1000,
          9000,
          4000,
          2000,
          6000,
          2000,
          4000,
          5000,
          3000,
          3000,
          1000,
          1000,
          7200,
          3000,
          7000,
          4000,
          2000,
          1000,
          3000,
          1000,
          4000,
          5000,
          4000,
          5000,
          3000,
          1000,
          2000,
          1000,
          2000,
          2000,
          1000,
          2000,
          2000,
          1000,
          5000
         ],
         "xaxis": "x",
         "y": [
          2675,
          5000,
          355,
          5000,
          4350,
          0,
          2775,
          7300,
          3300,
          120,
          2800,
          1540,
          2500,
          2800,
          5000,
          0,
          120,
          2275,
          2800,
          10000,
          0,
          5000,
          0,
          3000,
          2185,
          0,
          0,
          0,
          425,
          5000,
          0,
          5,
          5500,
          5000,
          4975,
          2000,
          0,
          5000,
          4075,
          50,
          1400,
          300,
          4350,
          5000,
          0,
          5450,
          250,
          100,
          0,
          50,
          0,
          6000,
          5000,
          0,
          5000,
          5000,
          5450,
          50,
          5000,
          1250,
          0,
          2500,
          0,
          1075,
          0,
          300,
          10000,
          0,
          5025,
          0,
          0,
          250,
          10000,
          125,
          0,
          0,
          0,
          0,
          50,
          0,
          1500,
          25,
          500,
          0,
          0,
          6000,
          25,
          50,
          200,
          3000,
          3000,
          0,
          25,
          1225,
          50,
          7000,
          75,
          0,
          1000,
          0,
          0,
          100,
          5000,
          4000,
          1525,
          3000,
          1000,
          2000,
          1000,
          200,
          2000,
          1000,
          2000,
          150,
          0,
          0
         ],
         "yaxis": "y"
        },
        {
         "hovertemplate": "<b>%{hovertext}</b><br><br>Sektor=Education<br>Geschlecht=male_single<br>beantragte Kredithöhe (Dollar)=%{x}<br>ausgezahlt (Dollar)=%{y}<br>lender_count=%{marker.size}<extra></extra>",
         "hovertext": [
          "Education",
          "Education",
          "Education",
          "Education",
          "Education",
          "Education",
          "Education",
          "Education",
          "Education",
          "Education",
          "Education",
          "Education",
          "Education",
          "Education",
          "Education",
          "Education",
          "Education",
          "Education",
          "Education",
          "Education",
          "Education",
          "Education",
          "Education",
          "Education",
          "Education",
          "Education",
          "Education",
          "Education",
          "Education",
          "Education",
          "Education",
          "Education",
          "Education",
          "Education",
          "Education",
          "Education",
          "Education",
          "Education",
          "Education",
          "Education",
          "Education",
          "Education",
          "Education",
          "Education",
          "Education",
          "Education",
          "Education",
          "Education",
          "Education",
          "Education",
          "Education",
          "Education",
          "Education",
          "Education",
          "Education",
          "Education",
          "Education",
          "Education",
          "Education",
          "Education",
          "Education",
          "Education",
          "Education",
          "Education",
          "Education",
          "Education",
          "Education",
          "Education",
          "Education"
         ],
         "legendgroup": "Education, male_single",
         "marker": {
          "color": "#636efa",
          "size": [
           63,
           295,
           136,
           12,
           42,
           32,
           83,
           115,
           51,
           78,
           73,
           2,
           10,
           131,
           69,
           60,
           73,
           3,
           86,
           12,
           55,
           17,
           6,
           5,
           72,
           0,
           0,
           100,
           84,
           44,
           0,
           2,
           44,
           57,
           140,
           0,
           1,
           124,
           0,
           61,
           94,
           3,
           2,
           2,
           4,
           162,
           0,
           0,
           4,
           7,
           33,
           87,
           38,
           0,
           119,
           0,
           0,
           65,
           0,
           204,
           2,
           64,
           143,
           141,
           75,
           0,
           3,
           34,
           3
          ],
          "sizemode": "area",
          "sizeref": 0.14083333333333334,
          "symbol": "circle"
         },
         "mode": "markers",
         "name": "Education, male_single",
         "showlegend": true,
         "type": "scattergl",
         "x": [
          2700,
          9575,
          5000,
          5000,
          1000,
          5000,
          3500,
          6500,
          5000,
          2750,
          4000,
          3500,
          5000,
          5000,
          5000,
          3325,
          5000,
          4800,
          3000,
          300,
          5000,
          5200,
          10000,
          1000,
          7000,
          5000,
          5000,
          5000,
          5000,
          3000,
          2500,
          4975,
          5000,
          2000,
          5000,
          2500,
          2500,
          10000,
          2500,
          10000,
          10000,
          3000,
          500,
          5000,
          3000,
          5000,
          1000,
          6000,
          2000,
          1000,
          1200,
          5400,
          3000,
          2000,
          10000,
          10000,
          1000,
          6000,
          1000,
          10000,
          5000,
          4000,
          10000,
          8000,
          3000,
          5000,
          1000,
          6000,
          3000
         ],
         "xaxis": "x",
         "y": [
          2700,
          9575,
          2925,
          110,
          1000,
          1240,
          3500,
          6500,
          805,
          2750,
          4000,
          10,
          5000,
          5000,
          5000,
          3325,
          5000,
          650,
          3000,
          300,
          5000,
          5200,
          550,
          1000,
          7000,
          0,
          0,
          5000,
          5000,
          3000,
          0,
          50,
          5000,
          2000,
          5000,
          0,
          25,
          10000,
          0,
          10000,
          3650,
          100,
          50,
          125,
          100,
          5000,
          0,
          0,
          100,
          175,
          1200,
          5400,
          1400,
          0,
          10000,
          0,
          0,
          6000,
          0,
          10000,
          50,
          4000,
          10000,
          8000,
          3000,
          0,
          75,
          2150,
          75
         ],
         "yaxis": "y"
        },
        {
         "hovertemplate": "<b>%{hovertext}</b><br><br>Sektor=Housing<br>Geschlecht=male_single<br>beantragte Kredithöhe (Dollar)=%{x}<br>ausgezahlt (Dollar)=%{y}<br>lender_count=%{marker.size}<extra></extra>",
         "hovertext": [
          "Housing",
          "Housing",
          "Housing",
          "Housing",
          "Housing",
          "Housing",
          "Housing",
          "Housing",
          "Housing",
          "Housing",
          "Housing",
          "Housing",
          "Housing",
          "Housing",
          "Housing",
          "Housing",
          "Housing",
          "Housing",
          "Housing",
          "Housing",
          "Housing",
          "Housing"
         ],
         "legendgroup": "Housing, male_single",
         "marker": {
          "color": "#EF553B",
          "size": [
           118,
           10,
           126,
           158,
           63,
           37,
           6,
           0,
           178,
           111,
           10,
           140,
           0,
           81,
           16,
           0,
           214,
           60,
           54,
           81,
           0,
           0
          ],
          "sizemode": "area",
          "sizeref": 0.14083333333333334,
          "symbol": "circle"
         },
         "mode": "markers",
         "name": "Housing, male_single",
         "showlegend": true,
         "type": "scattergl",
         "x": [
          5000,
          5000,
          5000,
          7300,
          5000,
          5000,
          5450,
          5000,
          5550,
          10000,
          500,
          7000,
          500,
          3000,
          2625,
          5000,
          8875,
          5000,
          10000,
          5000,
          1000,
          1000
         ],
         "xaxis": "x",
         "y": [
          5000,
          185,
          5000,
          7300,
          5000,
          2525,
          5450,
          0,
          5550,
          10000,
          500,
          7000,
          0,
          3000,
          2625,
          0,
          8875,
          5000,
          3500,
          5000,
          0,
          0
         ],
         "yaxis": "y"
        },
        {
         "hovertemplate": "<b>%{hovertext}</b><br><br>Sektor=Transportation<br>Geschlecht=male_single<br>beantragte Kredithöhe (Dollar)=%{x}<br>ausgezahlt (Dollar)=%{y}<br>lender_count=%{marker.size}<extra></extra>",
         "hovertext": [
          "Transportation",
          "Transportation",
          "Transportation",
          "Transportation",
          "Transportation",
          "Transportation",
          "Transportation",
          "Transportation",
          "Transportation",
          "Transportation",
          "Transportation",
          "Transportation",
          "Transportation",
          "Transportation",
          "Transportation",
          "Transportation",
          "Transportation",
          "Transportation",
          "Transportation",
          "Transportation",
          "Transportation",
          "Transportation",
          "Transportation",
          "Transportation",
          "Transportation",
          "Transportation",
          "Transportation",
          "Transportation",
          "Transportation",
          "Transportation",
          "Transportation",
          "Transportation",
          "Transportation",
          "Transportation",
          "Transportation",
          "Transportation",
          "Transportation",
          "Transportation",
          "Transportation",
          "Transportation",
          "Transportation",
          "Transportation",
          "Transportation",
          "Transportation",
          "Transportation",
          "Transportation",
          "Transportation",
          "Transportation",
          "Transportation",
          "Transportation",
          "Transportation",
          "Transportation",
          "Transportation",
          "Transportation",
          "Transportation",
          "Transportation",
          "Transportation",
          "Transportation",
          "Transportation",
          "Transportation",
          "Transportation",
          "Transportation",
          "Transportation",
          "Transportation",
          "Transportation",
          "Transportation",
          "Transportation",
          "Transportation",
          "Transportation",
          "Transportation",
          "Transportation",
          "Transportation",
          "Transportation",
          "Transportation",
          "Transportation",
          "Transportation",
          "Transportation",
          "Transportation",
          "Transportation",
          "Transportation",
          "Transportation",
          "Transportation",
          "Transportation",
          "Transportation",
          "Transportation",
          "Transportation",
          "Transportation",
          "Transportation",
          "Transportation",
          "Transportation",
          "Transportation",
          "Transportation",
          "Transportation"
         ],
         "legendgroup": "Transportation, male_single",
         "marker": {
          "color": "#00cc96",
          "size": [
           77,
           69,
           180,
           145,
           111,
           153,
           92,
           34,
           113,
           237,
           180,
           1,
           151,
           46,
           28,
           64,
           135,
           37,
           125,
           76,
           58,
           0,
           0,
           2,
           0,
           32,
           58,
           0,
           77,
           60,
           0,
           132,
           172,
           0,
           32,
           98,
           144,
           59,
           39,
           40,
           52,
           0,
           40,
           0,
           5,
           155,
           23,
           36,
           55,
           0,
           0,
           66,
           100,
           74,
           75,
           147,
           79,
           162,
           116,
           26,
           0,
           6,
           0,
           0,
           44,
           0,
           3,
           78,
           0,
           0,
           2,
           0,
           0,
           37,
           0,
           0,
           5,
           125,
           86,
           0,
           21,
           0,
           116,
           0,
           76,
           0,
           2,
           0,
           31,
           54,
           0,
           15,
           0
          ],
          "sizemode": "area",
          "sizeref": 0.14083333333333334,
          "symbol": "circle"
         },
         "mode": "markers",
         "name": "Transportation, male_single",
         "showlegend": true,
         "type": "scattergl",
         "x": [
          2750,
          7350,
          5500,
          8000,
          5000,
          5525,
          3850,
          5425,
          5450,
          10000,
          9675,
          500,
          5425,
          1000,
          2750,
          2650,
          3000,
          1350,
          6500,
          4300,
          2750,
          5000,
          5000,
          5000,
          5000,
          2000,
          5000,
          5000,
          7450,
          10000,
          4925,
          5875,
          9975,
          125,
          5425,
          5000,
          5000,
          4000,
          5000,
          3000,
          5000,
          5000,
          5000,
          3000,
          5000,
          9550,
          7975,
          1250,
          4000,
          5000,
          5000,
          10000,
          3150,
          5000,
          5000,
          4500,
          5000,
          5000,
          10000,
          9700,
          3000,
          5000,
          10000,
          500,
          2500,
          5100,
          10000,
          5000,
          5000,
          5000,
          500,
          500,
          2500,
          3000,
          1000,
          500,
          500,
          8000,
          5000,
          1000,
          1000,
          1000,
          5000,
          1000,
          3000,
          1000,
          5000,
          1000,
          2000,
          2000,
          1000,
          10000,
          2000
         ],
         "xaxis": "x",
         "y": [
          2750,
          5450,
          5500,
          8000,
          5000,
          5525,
          3275,
          2550,
          5450,
          10000,
          9675,
          5,
          5425,
          1000,
          2025,
          2650,
          3000,
          1350,
          6500,
          4300,
          2750,
          0,
          0,
          10,
          0,
          2000,
          1325,
          0,
          7350,
          2075,
          0,
          5875,
          9975,
          0,
          1800,
          5000,
          5000,
          2100,
          1975,
          3000,
          2700,
          0,
          4300,
          0,
          200,
          8750,
          2025,
          1250,
          4000,
          0,
          0,
          10000,
          3150,
          5000,
          5000,
          4500,
          4025,
          5000,
          10000,
          9700,
          0,
          500,
          0,
          0,
          2500,
          0,
          75,
          5000,
          0,
          0,
          50,
          0,
          0,
          3000,
          0,
          0,
          225,
          8000,
          5000,
          0,
          1000,
          0,
          5000,
          0,
          3000,
          0,
          50,
          0,
          2000,
          2000,
          0,
          1150,
          0
         ],
         "yaxis": "y"
        },
        {
         "hovertemplate": "<b>%{hovertext}</b><br><br>Sektor=Construction<br>Geschlecht=male_single<br>beantragte Kredithöhe (Dollar)=%{x}<br>ausgezahlt (Dollar)=%{y}<br>lender_count=%{marker.size}<extra></extra>",
         "hovertext": [
          "Construction",
          "Construction",
          "Construction",
          "Construction",
          "Construction",
          "Construction",
          "Construction",
          "Construction",
          "Construction",
          "Construction",
          "Construction",
          "Construction",
          "Construction",
          "Construction",
          "Construction",
          "Construction",
          "Construction",
          "Construction",
          "Construction",
          "Construction",
          "Construction",
          "Construction",
          "Construction",
          "Construction",
          "Construction",
          "Construction",
          "Construction",
          "Construction",
          "Construction",
          "Construction",
          "Construction",
          "Construction",
          "Construction",
          "Construction",
          "Construction",
          "Construction",
          "Construction",
          "Construction",
          "Construction",
          "Construction",
          "Construction",
          "Construction",
          "Construction",
          "Construction",
          "Construction",
          "Construction",
          "Construction",
          "Construction",
          "Construction",
          "Construction",
          "Construction",
          "Construction",
          "Construction",
          "Construction",
          "Construction",
          "Construction",
          "Construction",
          "Construction",
          "Construction",
          "Construction",
          "Construction",
          "Construction",
          "Construction",
          "Construction",
          "Construction"
         ],
         "legendgroup": "Construction, male_single",
         "marker": {
          "color": "#ab63fa",
          "size": [
           38,
           11,
           154,
           0,
           142,
           205,
           36,
           141,
           65,
           120,
           98,
           122,
           91,
           86,
           0,
           50,
           80,
           3,
           0,
           0,
           1,
           152,
           58,
           33,
           27,
           67,
           5,
           161,
           43,
           0,
           77,
           60,
           23,
           44,
           78,
           93,
           2,
           0,
           150,
           34,
           46,
           0,
           99,
           157,
           10,
           0,
           122,
           0,
           1,
           2,
           53,
           173,
           94,
           0,
           124,
           0,
           50,
           20,
           2,
           0,
           0,
           5,
           52,
           0,
           17
          ],
          "sizemode": "area",
          "sizeref": 0.14083333333333334,
          "symbol": "circle"
         },
         "mode": "markers",
         "name": "Construction, male_single",
         "showlegend": true,
         "type": "scattergl",
         "x": [
          2750,
          5000,
          5000,
          3000,
          5000,
          5000,
          2750,
          5000,
          3250,
          5450,
          5000,
          4375,
          2750,
          2750,
          5000,
          2500,
          5000,
          5000,
          3000,
          5000,
          5000,
          10000,
          2650,
          5425,
          5425,
          5000,
          3775,
          7975,
          5000,
          2500,
          5000,
          5425,
          10000,
          5425,
          5000,
          10000,
          5000,
          500,
          10000,
          1000,
          3000,
          500,
          5000,
          5000,
          1500,
          1000,
          10000,
          1000,
          1000,
          1500,
          2000,
          8000,
          4000,
          2000,
          7000,
          4000,
          3000,
          2000,
          1000,
          7000,
          7000,
          3000,
          3000,
          9000,
          2000
         ],
         "xaxis": "x",
         "y": [
          2750,
          220,
          5000,
          0,
          5000,
          5000,
          1650,
          5000,
          3250,
          5450,
          2250,
          3600,
          2750,
          2750,
          0,
          2500,
          5000,
          60,
          0,
          0,
          5,
          10000,
          2650,
          1750,
          5425,
          5000,
          325,
          7975,
          2050,
          0,
          5000,
          5425,
          1250,
          5425,
          5000,
          10000,
          50,
          0,
          10000,
          1000,
          3000,
          0,
          5000,
          5000,
          1500,
          0,
          10000,
          0,
          25,
          50,
          2000,
          8000,
          4000,
          0,
          7000,
          0,
          3000,
          2000,
          125,
          0,
          0,
          350,
          3000,
          0,
          2000
         ],
         "yaxis": "y"
        },
        {
         "hovertemplate": "<b>%{hovertext}</b><br><br>Sektor=Personal Use<br>Geschlecht=male_single<br>beantragte Kredithöhe (Dollar)=%{x}<br>ausgezahlt (Dollar)=%{y}<br>lender_count=%{marker.size}<extra></extra>",
         "hovertext": [
          "Personal Use",
          "Personal Use",
          "Personal Use",
          "Personal Use",
          "Personal Use",
          "Personal Use",
          "Personal Use",
          "Personal Use",
          "Personal Use",
          "Personal Use",
          "Personal Use",
          "Personal Use",
          "Personal Use"
         ],
         "legendgroup": "Personal Use, male_single",
         "marker": {
          "color": "#FFA15A",
          "size": [
           118,
           84,
           112,
           144,
           78,
           111,
           143,
           141,
           130,
           14,
           17,
           29,
           60
          ],
          "sizemode": "area",
          "sizeref": 0.14083333333333334,
          "symbol": "circle"
         },
         "mode": "markers",
         "name": "Personal Use, male_single",
         "showlegend": true,
         "type": "scattergl",
         "x": [
          3475,
          4775,
          4175,
          7250,
          3475,
          5575,
          5250,
          4725,
          3675,
          6175,
          10000,
          2500,
          3575
         ],
         "xaxis": "x",
         "y": [
          3475,
          4775,
          4175,
          7250,
          3475,
          5575,
          5250,
          4725,
          3675,
          3600,
          9775,
          2500,
          3575
         ],
         "yaxis": "y"
        }
       ],
       "layout": {
        "legend": {
         "itemsizing": "constant",
         "title": {
          "text": "Sektor, Geschlecht"
         },
         "tracegroupgap": 0
        },
        "template": {
         "data": {
          "bar": [
           {
            "error_x": {
             "color": "#2a3f5f"
            },
            "error_y": {
             "color": "#2a3f5f"
            },
            "marker": {
             "line": {
              "color": "#E5ECF6",
              "width": 0.5
             },
             "pattern": {
              "fillmode": "overlay",
              "size": 10,
              "solidity": 0.2
             }
            },
            "type": "bar"
           }
          ],
          "barpolar": [
           {
            "marker": {
             "line": {
              "color": "#E5ECF6",
              "width": 0.5
             },
             "pattern": {
              "fillmode": "overlay",
              "size": 10,
              "solidity": 0.2
             }
            },
            "type": "barpolar"
           }
          ],
          "carpet": [
           {
            "aaxis": {
             "endlinecolor": "#2a3f5f",
             "gridcolor": "white",
             "linecolor": "white",
             "minorgridcolor": "white",
             "startlinecolor": "#2a3f5f"
            },
            "baxis": {
             "endlinecolor": "#2a3f5f",
             "gridcolor": "white",
             "linecolor": "white",
             "minorgridcolor": "white",
             "startlinecolor": "#2a3f5f"
            },
            "type": "carpet"
           }
          ],
          "choropleth": [
           {
            "colorbar": {
             "outlinewidth": 0,
             "ticks": ""
            },
            "type": "choropleth"
           }
          ],
          "contour": [
           {
            "colorbar": {
             "outlinewidth": 0,
             "ticks": ""
            },
            "colorscale": [
             [
              0,
              "#0d0887"
             ],
             [
              0.1111111111111111,
              "#46039f"
             ],
             [
              0.2222222222222222,
              "#7201a8"
             ],
             [
              0.3333333333333333,
              "#9c179e"
             ],
             [
              0.4444444444444444,
              "#bd3786"
             ],
             [
              0.5555555555555556,
              "#d8576b"
             ],
             [
              0.6666666666666666,
              "#ed7953"
             ],
             [
              0.7777777777777778,
              "#fb9f3a"
             ],
             [
              0.8888888888888888,
              "#fdca26"
             ],
             [
              1,
              "#f0f921"
             ]
            ],
            "type": "contour"
           }
          ],
          "contourcarpet": [
           {
            "colorbar": {
             "outlinewidth": 0,
             "ticks": ""
            },
            "type": "contourcarpet"
           }
          ],
          "heatmap": [
           {
            "colorbar": {
             "outlinewidth": 0,
             "ticks": ""
            },
            "colorscale": [
             [
              0,
              "#0d0887"
             ],
             [
              0.1111111111111111,
              "#46039f"
             ],
             [
              0.2222222222222222,
              "#7201a8"
             ],
             [
              0.3333333333333333,
              "#9c179e"
             ],
             [
              0.4444444444444444,
              "#bd3786"
             ],
             [
              0.5555555555555556,
              "#d8576b"
             ],
             [
              0.6666666666666666,
              "#ed7953"
             ],
             [
              0.7777777777777778,
              "#fb9f3a"
             ],
             [
              0.8888888888888888,
              "#fdca26"
             ],
             [
              1,
              "#f0f921"
             ]
            ],
            "type": "heatmap"
           }
          ],
          "heatmapgl": [
           {
            "colorbar": {
             "outlinewidth": 0,
             "ticks": ""
            },
            "colorscale": [
             [
              0,
              "#0d0887"
             ],
             [
              0.1111111111111111,
              "#46039f"
             ],
             [
              0.2222222222222222,
              "#7201a8"
             ],
             [
              0.3333333333333333,
              "#9c179e"
             ],
             [
              0.4444444444444444,
              "#bd3786"
             ],
             [
              0.5555555555555556,
              "#d8576b"
             ],
             [
              0.6666666666666666,
              "#ed7953"
             ],
             [
              0.7777777777777778,
              "#fb9f3a"
             ],
             [
              0.8888888888888888,
              "#fdca26"
             ],
             [
              1,
              "#f0f921"
             ]
            ],
            "type": "heatmapgl"
           }
          ],
          "histogram": [
           {
            "marker": {
             "pattern": {
              "fillmode": "overlay",
              "size": 10,
              "solidity": 0.2
             }
            },
            "type": "histogram"
           }
          ],
          "histogram2d": [
           {
            "colorbar": {
             "outlinewidth": 0,
             "ticks": ""
            },
            "colorscale": [
             [
              0,
              "#0d0887"
             ],
             [
              0.1111111111111111,
              "#46039f"
             ],
             [
              0.2222222222222222,
              "#7201a8"
             ],
             [
              0.3333333333333333,
              "#9c179e"
             ],
             [
              0.4444444444444444,
              "#bd3786"
             ],
             [
              0.5555555555555556,
              "#d8576b"
             ],
             [
              0.6666666666666666,
              "#ed7953"
             ],
             [
              0.7777777777777778,
              "#fb9f3a"
             ],
             [
              0.8888888888888888,
              "#fdca26"
             ],
             [
              1,
              "#f0f921"
             ]
            ],
            "type": "histogram2d"
           }
          ],
          "histogram2dcontour": [
           {
            "colorbar": {
             "outlinewidth": 0,
             "ticks": ""
            },
            "colorscale": [
             [
              0,
              "#0d0887"
             ],
             [
              0.1111111111111111,
              "#46039f"
             ],
             [
              0.2222222222222222,
              "#7201a8"
             ],
             [
              0.3333333333333333,
              "#9c179e"
             ],
             [
              0.4444444444444444,
              "#bd3786"
             ],
             [
              0.5555555555555556,
              "#d8576b"
             ],
             [
              0.6666666666666666,
              "#ed7953"
             ],
             [
              0.7777777777777778,
              "#fb9f3a"
             ],
             [
              0.8888888888888888,
              "#fdca26"
             ],
             [
              1,
              "#f0f921"
             ]
            ],
            "type": "histogram2dcontour"
           }
          ],
          "mesh3d": [
           {
            "colorbar": {
             "outlinewidth": 0,
             "ticks": ""
            },
            "type": "mesh3d"
           }
          ],
          "parcoords": [
           {
            "line": {
             "colorbar": {
              "outlinewidth": 0,
              "ticks": ""
             }
            },
            "type": "parcoords"
           }
          ],
          "pie": [
           {
            "automargin": true,
            "type": "pie"
           }
          ],
          "scatter": [
           {
            "fillpattern": {
             "fillmode": "overlay",
             "size": 10,
             "solidity": 0.2
            },
            "type": "scatter"
           }
          ],
          "scatter3d": [
           {
            "line": {
             "colorbar": {
              "outlinewidth": 0,
              "ticks": ""
             }
            },
            "marker": {
             "colorbar": {
              "outlinewidth": 0,
              "ticks": ""
             }
            },
            "type": "scatter3d"
           }
          ],
          "scattercarpet": [
           {
            "marker": {
             "colorbar": {
              "outlinewidth": 0,
              "ticks": ""
             }
            },
            "type": "scattercarpet"
           }
          ],
          "scattergeo": [
           {
            "marker": {
             "colorbar": {
              "outlinewidth": 0,
              "ticks": ""
             }
            },
            "type": "scattergeo"
           }
          ],
          "scattergl": [
           {
            "marker": {
             "colorbar": {
              "outlinewidth": 0,
              "ticks": ""
             }
            },
            "type": "scattergl"
           }
          ],
          "scattermapbox": [
           {
            "marker": {
             "colorbar": {
              "outlinewidth": 0,
              "ticks": ""
             }
            },
            "type": "scattermapbox"
           }
          ],
          "scatterpolar": [
           {
            "marker": {
             "colorbar": {
              "outlinewidth": 0,
              "ticks": ""
             }
            },
            "type": "scatterpolar"
           }
          ],
          "scatterpolargl": [
           {
            "marker": {
             "colorbar": {
              "outlinewidth": 0,
              "ticks": ""
             }
            },
            "type": "scatterpolargl"
           }
          ],
          "scatterternary": [
           {
            "marker": {
             "colorbar": {
              "outlinewidth": 0,
              "ticks": ""
             }
            },
            "type": "scatterternary"
           }
          ],
          "surface": [
           {
            "colorbar": {
             "outlinewidth": 0,
             "ticks": ""
            },
            "colorscale": [
             [
              0,
              "#0d0887"
             ],
             [
              0.1111111111111111,
              "#46039f"
             ],
             [
              0.2222222222222222,
              "#7201a8"
             ],
             [
              0.3333333333333333,
              "#9c179e"
             ],
             [
              0.4444444444444444,
              "#bd3786"
             ],
             [
              0.5555555555555556,
              "#d8576b"
             ],
             [
              0.6666666666666666,
              "#ed7953"
             ],
             [
              0.7777777777777778,
              "#fb9f3a"
             ],
             [
              0.8888888888888888,
              "#fdca26"
             ],
             [
              1,
              "#f0f921"
             ]
            ],
            "type": "surface"
           }
          ],
          "table": [
           {
            "cells": {
             "fill": {
              "color": "#EBF0F8"
             },
             "line": {
              "color": "white"
             }
            },
            "header": {
             "fill": {
              "color": "#C8D4E3"
             },
             "line": {
              "color": "white"
             }
            },
            "type": "table"
           }
          ]
         },
         "layout": {
          "annotationdefaults": {
           "arrowcolor": "#2a3f5f",
           "arrowhead": 0,
           "arrowwidth": 1
          },
          "autotypenumbers": "strict",
          "coloraxis": {
           "colorbar": {
            "outlinewidth": 0,
            "ticks": ""
           }
          },
          "colorscale": {
           "diverging": [
            [
             0,
             "#8e0152"
            ],
            [
             0.1,
             "#c51b7d"
            ],
            [
             0.2,
             "#de77ae"
            ],
            [
             0.3,
             "#f1b6da"
            ],
            [
             0.4,
             "#fde0ef"
            ],
            [
             0.5,
             "#f7f7f7"
            ],
            [
             0.6,
             "#e6f5d0"
            ],
            [
             0.7,
             "#b8e186"
            ],
            [
             0.8,
             "#7fbc41"
            ],
            [
             0.9,
             "#4d9221"
            ],
            [
             1,
             "#276419"
            ]
           ],
           "sequential": [
            [
             0,
             "#0d0887"
            ],
            [
             0.1111111111111111,
             "#46039f"
            ],
            [
             0.2222222222222222,
             "#7201a8"
            ],
            [
             0.3333333333333333,
             "#9c179e"
            ],
            [
             0.4444444444444444,
             "#bd3786"
            ],
            [
             0.5555555555555556,
             "#d8576b"
            ],
            [
             0.6666666666666666,
             "#ed7953"
            ],
            [
             0.7777777777777778,
             "#fb9f3a"
            ],
            [
             0.8888888888888888,
             "#fdca26"
            ],
            [
             1,
             "#f0f921"
            ]
           ],
           "sequentialminus": [
            [
             0,
             "#0d0887"
            ],
            [
             0.1111111111111111,
             "#46039f"
            ],
            [
             0.2222222222222222,
             "#7201a8"
            ],
            [
             0.3333333333333333,
             "#9c179e"
            ],
            [
             0.4444444444444444,
             "#bd3786"
            ],
            [
             0.5555555555555556,
             "#d8576b"
            ],
            [
             0.6666666666666666,
             "#ed7953"
            ],
            [
             0.7777777777777778,
             "#fb9f3a"
            ],
            [
             0.8888888888888888,
             "#fdca26"
            ],
            [
             1,
             "#f0f921"
            ]
           ]
          },
          "colorway": [
           "#636efa",
           "#EF553B",
           "#00cc96",
           "#ab63fa",
           "#FFA15A",
           "#19d3f3",
           "#FF6692",
           "#B6E880",
           "#FF97FF",
           "#FECB52"
          ],
          "font": {
           "color": "#2a3f5f"
          },
          "geo": {
           "bgcolor": "white",
           "lakecolor": "white",
           "landcolor": "#E5ECF6",
           "showlakes": true,
           "showland": true,
           "subunitcolor": "white"
          },
          "hoverlabel": {
           "align": "left"
          },
          "hovermode": "closest",
          "mapbox": {
           "style": "light"
          },
          "paper_bgcolor": "white",
          "plot_bgcolor": "#E5ECF6",
          "polar": {
           "angularaxis": {
            "gridcolor": "white",
            "linecolor": "white",
            "ticks": ""
           },
           "bgcolor": "#E5ECF6",
           "radialaxis": {
            "gridcolor": "white",
            "linecolor": "white",
            "ticks": ""
           }
          },
          "scene": {
           "xaxis": {
            "backgroundcolor": "#E5ECF6",
            "gridcolor": "white",
            "gridwidth": 2,
            "linecolor": "white",
            "showbackground": true,
            "ticks": "",
            "zerolinecolor": "white"
           },
           "yaxis": {
            "backgroundcolor": "#E5ECF6",
            "gridcolor": "white",
            "gridwidth": 2,
            "linecolor": "white",
            "showbackground": true,
            "ticks": "",
            "zerolinecolor": "white"
           },
           "zaxis": {
            "backgroundcolor": "#E5ECF6",
            "gridcolor": "white",
            "gridwidth": 2,
            "linecolor": "white",
            "showbackground": true,
            "ticks": "",
            "zerolinecolor": "white"
           }
          },
          "shapedefaults": {
           "line": {
            "color": "#2a3f5f"
           }
          },
          "ternary": {
           "aaxis": {
            "gridcolor": "white",
            "linecolor": "white",
            "ticks": ""
           },
           "baxis": {
            "gridcolor": "white",
            "linecolor": "white",
            "ticks": ""
           },
           "bgcolor": "#E5ECF6",
           "caxis": {
            "gridcolor": "white",
            "linecolor": "white",
            "ticks": ""
           }
          },
          "title": {
           "x": 0.05
          },
          "xaxis": {
           "automargin": true,
           "gridcolor": "white",
           "linecolor": "white",
           "ticks": "",
           "title": {
            "standoff": 15
           },
           "zerolinecolor": "white",
           "zerolinewidth": 2
          },
          "yaxis": {
           "automargin": true,
           "gridcolor": "white",
           "linecolor": "white",
           "ticks": "",
           "title": {
            "standoff": 15
           },
           "zerolinecolor": "white",
           "zerolinewidth": 2
          }
         }
        },
        "title": {
         "text": "**Verhältnis ausgezahle Kredite (Dollar) und beantragte Kredite in den USA bei Männern**"
        },
        "xaxis": {
         "anchor": "y",
         "domain": [
          0,
          1
         ],
         "title": {
          "text": "beantragte Kredithöhe (Dollar)"
         },
         "type": "log"
        },
        "yaxis": {
         "anchor": "x",
         "domain": [
          0,
          1
         ],
         "title": {
          "text": "ausgezahlt (Dollar)"
         }
        }
       }
      }
     },
     "metadata": {},
     "output_type": "display_data"
    }
   ],
   "source": [
    "# Darstellung von beantragtem und ausgezahltem Kredit (Rohdaten) bei Männern in den USA\n",
    "\n",
    "fig = px.scatter(df_USA, x=\"loan_amount\", y=\"funded_amount\", size=\"lender_count\", color=\"sector\",\n",
    "                 hover_name=\"sector\", log_x=True, size_max=60,\n",
    "                 symbol=\"gender\", symbol_map={\"male_single\": \"circle\", \"male_group\": \"cross\"},\n",
    "                 title= '**Verhältnis ausgezahle Kredite (Dollar) und beantragte Kredite in den USA bei Männern**',\n",
    "                labels={\"loan_amount\":\"beantragte Kredithöhe (Dollar)\", \n",
    "                        \"funded_amount\":\"ausgezahlt (Dollar)\",\n",
    "                        \"sector\":\"Sektor\",\n",
    "                        \"gender\": \"Geschlecht\"})\n",
    "fig.show()"
   ]
  },
  {
   "cell_type": "markdown",
   "id": "49d1046e",
   "metadata": {},
   "source": [
    "Nun sollen die nach Mittelwert aggregierten Daten zu den Männern in den USA betrachtet werden: Hier zeigt sich erneut ein ganz anderes Bild als in den Rohdaten. Der Zusammenhang zwischen den beantragten und ausgezahlten Kredithöhen ist annähernd linear, die größten Posten sind im Bereich Services, gefolgt von Agriculture und Food zu verzeichnen."
   ]
  },
  {
   "cell_type": "code",
   "execution_count": 227,
   "id": "241d054c",
   "metadata": {
    "ExecuteTime": {
     "end_time": "2024-02-16T10:31:42.015846Z",
     "start_time": "2024-02-16T10:31:41.988877Z"
    }
   },
   "outputs": [
    {
     "data": {
      "text/html": [
       "<div>\n",
       "<style scoped>\n",
       "    .dataframe tbody tr th:only-of-type {\n",
       "        vertical-align: middle;\n",
       "    }\n",
       "\n",
       "    .dataframe tbody tr th {\n",
       "        vertical-align: top;\n",
       "    }\n",
       "\n",
       "    .dataframe thead th {\n",
       "        text-align: right;\n",
       "    }\n",
       "</style>\n",
       "<table border=\"1\" class=\"dataframe\">\n",
       "  <thead>\n",
       "    <tr style=\"text-align: right;\">\n",
       "      <th></th>\n",
       "      <th>gender</th>\n",
       "      <th>sector</th>\n",
       "      <th>loan_amount</th>\n",
       "      <th>funded_amount</th>\n",
       "      <th>lender_count</th>\n",
       "    </tr>\n",
       "  </thead>\n",
       "  <tbody>\n",
       "    <tr>\n",
       "      <th>0</th>\n",
       "      <td>male_group</td>\n",
       "      <td>Services</td>\n",
       "      <td>10000.000000</td>\n",
       "      <td>10000.000000</td>\n",
       "      <td>219.000000</td>\n",
       "    </tr>\n",
       "    <tr>\n",
       "      <th>1</th>\n",
       "      <td>male_single</td>\n",
       "      <td>Agriculture</td>\n",
       "      <td>7304.629630</td>\n",
       "      <td>6336.666667</td>\n",
       "      <td>128.567901</td>\n",
       "    </tr>\n",
       "    <tr>\n",
       "      <th>7</th>\n",
       "      <td>male_single</td>\n",
       "      <td>Food</td>\n",
       "      <td>6183.300199</td>\n",
       "      <td>4798.767396</td>\n",
       "      <td>82.035785</td>\n",
       "    </tr>\n",
       "    <tr>\n",
       "      <th>8</th>\n",
       "      <td>male_single</td>\n",
       "      <td>Health</td>\n",
       "      <td>5310.416667</td>\n",
       "      <td>3542.708333</td>\n",
       "      <td>80.791667</td>\n",
       "    </tr>\n",
       "    <tr>\n",
       "      <th>10</th>\n",
       "      <td>male_single</td>\n",
       "      <td>Manufacturing</td>\n",
       "      <td>5183.333333</td>\n",
       "      <td>3989.583333</td>\n",
       "      <td>79.291667</td>\n",
       "    </tr>\n",
       "    <tr>\n",
       "      <th>3</th>\n",
       "      <td>male_single</td>\n",
       "      <td>Clothing</td>\n",
       "      <td>5005.600000</td>\n",
       "      <td>3331.360000</td>\n",
       "      <td>52.240000</td>\n",
       "    </tr>\n",
       "    <tr>\n",
       "      <th>11</th>\n",
       "      <td>male_single</td>\n",
       "      <td>Personal Use</td>\n",
       "      <td>4971.153846</td>\n",
       "      <td>4755.769231</td>\n",
       "      <td>90.846154</td>\n",
       "    </tr>\n",
       "    <tr>\n",
       "      <th>2</th>\n",
       "      <td>male_single</td>\n",
       "      <td>Arts</td>\n",
       "      <td>4951.612903</td>\n",
       "      <td>3595.053763</td>\n",
       "      <td>61.569892</td>\n",
       "    </tr>\n",
       "    <tr>\n",
       "      <th>12</th>\n",
       "      <td>male_single</td>\n",
       "      <td>Retail</td>\n",
       "      <td>4936.000000</td>\n",
       "      <td>2790.054545</td>\n",
       "      <td>45.956364</td>\n",
       "    </tr>\n",
       "    <tr>\n",
       "      <th>15</th>\n",
       "      <td>male_single</td>\n",
       "      <td>Wholesale</td>\n",
       "      <td>4908.333333</td>\n",
       "      <td>4293.750000</td>\n",
       "      <td>93.583333</td>\n",
       "    </tr>\n",
       "    <tr>\n",
       "      <th>9</th>\n",
       "      <td>male_single</td>\n",
       "      <td>Housing</td>\n",
       "      <td>4900.000000</td>\n",
       "      <td>3705.000000</td>\n",
       "      <td>66.500000</td>\n",
       "    </tr>\n",
       "    <tr>\n",
       "      <th>13</th>\n",
       "      <td>male_single</td>\n",
       "      <td>Services</td>\n",
       "      <td>4841.722222</td>\n",
       "      <td>3050.761111</td>\n",
       "      <td>56.673333</td>\n",
       "    </tr>\n",
       "    <tr>\n",
       "      <th>5</th>\n",
       "      <td>male_single</td>\n",
       "      <td>Education</td>\n",
       "      <td>4553.985507</td>\n",
       "      <td>2853.115942</td>\n",
       "      <td>51.115942</td>\n",
       "    </tr>\n",
       "    <tr>\n",
       "      <th>14</th>\n",
       "      <td>male_single</td>\n",
       "      <td>Transportation</td>\n",
       "      <td>4497.311828</td>\n",
       "      <td>2772.204301</td>\n",
       "      <td>53.430108</td>\n",
       "    </tr>\n",
       "    <tr>\n",
       "      <th>4</th>\n",
       "      <td>male_single</td>\n",
       "      <td>Construction</td>\n",
       "      <td>4402.692308</td>\n",
       "      <td>2870.923077</td>\n",
       "      <td>55.030769</td>\n",
       "    </tr>\n",
       "    <tr>\n",
       "      <th>6</th>\n",
       "      <td>male_single</td>\n",
       "      <td>Entertainment</td>\n",
       "      <td>4084.051724</td>\n",
       "      <td>1970.258621</td>\n",
       "      <td>30.344828</td>\n",
       "    </tr>\n",
       "  </tbody>\n",
       "</table>\n",
       "</div>"
      ],
      "text/plain": [
       "         gender          sector   loan_amount  funded_amount  lender_count\n",
       "0    male_group        Services  10000.000000   10000.000000    219.000000\n",
       "1   male_single     Agriculture   7304.629630    6336.666667    128.567901\n",
       "7   male_single            Food   6183.300199    4798.767396     82.035785\n",
       "8   male_single          Health   5310.416667    3542.708333     80.791667\n",
       "10  male_single   Manufacturing   5183.333333    3989.583333     79.291667\n",
       "3   male_single        Clothing   5005.600000    3331.360000     52.240000\n",
       "11  male_single    Personal Use   4971.153846    4755.769231     90.846154\n",
       "2   male_single            Arts   4951.612903    3595.053763     61.569892\n",
       "12  male_single          Retail   4936.000000    2790.054545     45.956364\n",
       "15  male_single       Wholesale   4908.333333    4293.750000     93.583333\n",
       "9   male_single         Housing   4900.000000    3705.000000     66.500000\n",
       "13  male_single        Services   4841.722222    3050.761111     56.673333\n",
       "5   male_single       Education   4553.985507    2853.115942     51.115942\n",
       "14  male_single  Transportation   4497.311828    2772.204301     53.430108\n",
       "4   male_single    Construction   4402.692308    2870.923077     55.030769\n",
       "6   male_single   Entertainment   4084.051724    1970.258621     30.344828"
      ]
     },
     "execution_count": 227,
     "metadata": {},
     "output_type": "execute_result"
    }
   ],
   "source": [
    "df_USA_group = df_USA.groupby(['gender', 'sector'], as_index = False).agg(func={\"loan_amount\":\"mean\", \n",
    "                                                                      'funded_amount':'mean',\n",
    "                                                                      \"lender_count\":'mean'})\n",
    "\n",
    "df_USA_group.sort_values(by=['loan_amount'], ascending=False, inplace=True)\n",
    "\n",
    "df_USA_group"
   ]
  },
  {
   "cell_type": "code",
   "execution_count": 228,
   "id": "88681361",
   "metadata": {
    "ExecuteTime": {
     "end_time": "2024-02-16T10:32:33.560966Z",
     "start_time": "2024-02-16T10:32:33.333611Z"
    }
   },
   "outputs": [
    {
     "data": {
      "application/vnd.plotly.v1+json": {
       "config": {
        "plotlyServerURL": "https://plot.ly"
       },
       "data": [
        {
         "hovertemplate": "<b>%{hovertext}</b><br><br>Sektor=Services<br>Geschlecht=male_group<br>beantragte Kredithöhe (Dollar)=%{x}<br>ausgezahlt (Dollar)=%{y}<br>lender_count=%{marker.size}<extra></extra>",
         "hovertext": [
          "Services"
         ],
         "legendgroup": "Services, male_group",
         "marker": {
          "color": "#636efa",
          "size": [
           219
          ],
          "sizemode": "area",
          "sizeref": 0.060833333333333336,
          "symbol": "cross"
         },
         "mode": "markers",
         "name": "Services, male_group",
         "orientation": "v",
         "showlegend": true,
         "type": "scatter",
         "x": [
          10000
         ],
         "xaxis": "x",
         "y": [
          10000
         ],
         "yaxis": "y"
        },
        {
         "hovertemplate": "<b>%{hovertext}</b><br><br>Sektor=Services<br>Geschlecht=male_single<br>beantragte Kredithöhe (Dollar)=%{x}<br>ausgezahlt (Dollar)=%{y}<br>lender_count=%{marker.size}<extra></extra>",
         "hovertext": [
          "Services"
         ],
         "legendgroup": "Services, male_single",
         "marker": {
          "color": "#636efa",
          "size": [
           56.67333333333333
          ],
          "sizemode": "area",
          "sizeref": 0.060833333333333336,
          "symbol": "circle"
         },
         "mode": "markers",
         "name": "Services, male_single",
         "orientation": "v",
         "showlegend": true,
         "type": "scatter",
         "x": [
          4841.722222222223
         ],
         "xaxis": "x",
         "y": [
          3050.761111111111
         ],
         "yaxis": "y"
        },
        {
         "hovertemplate": "<b>%{hovertext}</b><br><br>Sektor=Agriculture<br>Geschlecht=male_single<br>beantragte Kredithöhe (Dollar)=%{x}<br>ausgezahlt (Dollar)=%{y}<br>lender_count=%{marker.size}<extra></extra>",
         "hovertext": [
          "Agriculture"
         ],
         "legendgroup": "Agriculture, male_single",
         "marker": {
          "color": "#EF553B",
          "size": [
           128.5679012345679
          ],
          "sizemode": "area",
          "sizeref": 0.060833333333333336,
          "symbol": "circle"
         },
         "mode": "markers",
         "name": "Agriculture, male_single",
         "orientation": "v",
         "showlegend": true,
         "type": "scatter",
         "x": [
          7304.62962962963
         ],
         "xaxis": "x",
         "y": [
          6336.666666666667
         ],
         "yaxis": "y"
        },
        {
         "hovertemplate": "<b>%{hovertext}</b><br><br>Sektor=Food<br>Geschlecht=male_single<br>beantragte Kredithöhe (Dollar)=%{x}<br>ausgezahlt (Dollar)=%{y}<br>lender_count=%{marker.size}<extra></extra>",
         "hovertext": [
          "Food"
         ],
         "legendgroup": "Food, male_single",
         "marker": {
          "color": "#00cc96",
          "size": [
           82.03578528827038
          ],
          "sizemode": "area",
          "sizeref": 0.060833333333333336,
          "symbol": "circle"
         },
         "mode": "markers",
         "name": "Food, male_single",
         "orientation": "v",
         "showlegend": true,
         "type": "scatter",
         "x": [
          6183.300198807157
         ],
         "xaxis": "x",
         "y": [
          4798.767395626242
         ],
         "yaxis": "y"
        },
        {
         "hovertemplate": "<b>%{hovertext}</b><br><br>Sektor=Health<br>Geschlecht=male_single<br>beantragte Kredithöhe (Dollar)=%{x}<br>ausgezahlt (Dollar)=%{y}<br>lender_count=%{marker.size}<extra></extra>",
         "hovertext": [
          "Health"
         ],
         "legendgroup": "Health, male_single",
         "marker": {
          "color": "#ab63fa",
          "size": [
           80.79166666666667
          ],
          "sizemode": "area",
          "sizeref": 0.060833333333333336,
          "symbol": "circle"
         },
         "mode": "markers",
         "name": "Health, male_single",
         "orientation": "v",
         "showlegend": true,
         "type": "scatter",
         "x": [
          5310.416666666667
         ],
         "xaxis": "x",
         "y": [
          3542.7083333333335
         ],
         "yaxis": "y"
        },
        {
         "hovertemplate": "<b>%{hovertext}</b><br><br>Sektor=Manufacturing<br>Geschlecht=male_single<br>beantragte Kredithöhe (Dollar)=%{x}<br>ausgezahlt (Dollar)=%{y}<br>lender_count=%{marker.size}<extra></extra>",
         "hovertext": [
          "Manufacturing"
         ],
         "legendgroup": "Manufacturing, male_single",
         "marker": {
          "color": "#FFA15A",
          "size": [
           79.29166666666667
          ],
          "sizemode": "area",
          "sizeref": 0.060833333333333336,
          "symbol": "circle"
         },
         "mode": "markers",
         "name": "Manufacturing, male_single",
         "orientation": "v",
         "showlegend": true,
         "type": "scatter",
         "x": [
          5183.333333333333
         ],
         "xaxis": "x",
         "y": [
          3989.5833333333335
         ],
         "yaxis": "y"
        },
        {
         "hovertemplate": "<b>%{hovertext}</b><br><br>Sektor=Clothing<br>Geschlecht=male_single<br>beantragte Kredithöhe (Dollar)=%{x}<br>ausgezahlt (Dollar)=%{y}<br>lender_count=%{marker.size}<extra></extra>",
         "hovertext": [
          "Clothing"
         ],
         "legendgroup": "Clothing, male_single",
         "marker": {
          "color": "#19d3f3",
          "size": [
           52.24
          ],
          "sizemode": "area",
          "sizeref": 0.060833333333333336,
          "symbol": "circle"
         },
         "mode": "markers",
         "name": "Clothing, male_single",
         "orientation": "v",
         "showlegend": true,
         "type": "scatter",
         "x": [
          5005.6
         ],
         "xaxis": "x",
         "y": [
          3331.36
         ],
         "yaxis": "y"
        },
        {
         "hovertemplate": "<b>%{hovertext}</b><br><br>Sektor=Personal Use<br>Geschlecht=male_single<br>beantragte Kredithöhe (Dollar)=%{x}<br>ausgezahlt (Dollar)=%{y}<br>lender_count=%{marker.size}<extra></extra>",
         "hovertext": [
          "Personal Use"
         ],
         "legendgroup": "Personal Use, male_single",
         "marker": {
          "color": "#FF6692",
          "size": [
           90.84615384615384
          ],
          "sizemode": "area",
          "sizeref": 0.060833333333333336,
          "symbol": "circle"
         },
         "mode": "markers",
         "name": "Personal Use, male_single",
         "orientation": "v",
         "showlegend": true,
         "type": "scatter",
         "x": [
          4971.153846153846
         ],
         "xaxis": "x",
         "y": [
          4755.7692307692305
         ],
         "yaxis": "y"
        },
        {
         "hovertemplate": "<b>%{hovertext}</b><br><br>Sektor=Arts<br>Geschlecht=male_single<br>beantragte Kredithöhe (Dollar)=%{x}<br>ausgezahlt (Dollar)=%{y}<br>lender_count=%{marker.size}<extra></extra>",
         "hovertext": [
          "Arts"
         ],
         "legendgroup": "Arts, male_single",
         "marker": {
          "color": "#B6E880",
          "size": [
           61.56989247311828
          ],
          "sizemode": "area",
          "sizeref": 0.060833333333333336,
          "symbol": "circle"
         },
         "mode": "markers",
         "name": "Arts, male_single",
         "orientation": "v",
         "showlegend": true,
         "type": "scatter",
         "x": [
          4951.612903225807
         ],
         "xaxis": "x",
         "y": [
          3595.05376344086
         ],
         "yaxis": "y"
        },
        {
         "hovertemplate": "<b>%{hovertext}</b><br><br>Sektor=Retail<br>Geschlecht=male_single<br>beantragte Kredithöhe (Dollar)=%{x}<br>ausgezahlt (Dollar)=%{y}<br>lender_count=%{marker.size}<extra></extra>",
         "hovertext": [
          "Retail"
         ],
         "legendgroup": "Retail, male_single",
         "marker": {
          "color": "#FF97FF",
          "size": [
           45.95636363636363
          ],
          "sizemode": "area",
          "sizeref": 0.060833333333333336,
          "symbol": "circle"
         },
         "mode": "markers",
         "name": "Retail, male_single",
         "orientation": "v",
         "showlegend": true,
         "type": "scatter",
         "x": [
          4936
         ],
         "xaxis": "x",
         "y": [
          2790.0545454545454
         ],
         "yaxis": "y"
        },
        {
         "hovertemplate": "<b>%{hovertext}</b><br><br>Sektor=Wholesale<br>Geschlecht=male_single<br>beantragte Kredithöhe (Dollar)=%{x}<br>ausgezahlt (Dollar)=%{y}<br>lender_count=%{marker.size}<extra></extra>",
         "hovertext": [
          "Wholesale"
         ],
         "legendgroup": "Wholesale, male_single",
         "marker": {
          "color": "#FECB52",
          "size": [
           93.58333333333333
          ],
          "sizemode": "area",
          "sizeref": 0.060833333333333336,
          "symbol": "circle"
         },
         "mode": "markers",
         "name": "Wholesale, male_single",
         "orientation": "v",
         "showlegend": true,
         "type": "scatter",
         "x": [
          4908.333333333333
         ],
         "xaxis": "x",
         "y": [
          4293.75
         ],
         "yaxis": "y"
        },
        {
         "hovertemplate": "<b>%{hovertext}</b><br><br>Sektor=Housing<br>Geschlecht=male_single<br>beantragte Kredithöhe (Dollar)=%{x}<br>ausgezahlt (Dollar)=%{y}<br>lender_count=%{marker.size}<extra></extra>",
         "hovertext": [
          "Housing"
         ],
         "legendgroup": "Housing, male_single",
         "marker": {
          "color": "#636efa",
          "size": [
           66.5
          ],
          "sizemode": "area",
          "sizeref": 0.060833333333333336,
          "symbol": "circle"
         },
         "mode": "markers",
         "name": "Housing, male_single",
         "orientation": "v",
         "showlegend": true,
         "type": "scatter",
         "x": [
          4900
         ],
         "xaxis": "x",
         "y": [
          3705
         ],
         "yaxis": "y"
        },
        {
         "hovertemplate": "<b>%{hovertext}</b><br><br>Sektor=Education<br>Geschlecht=male_single<br>beantragte Kredithöhe (Dollar)=%{x}<br>ausgezahlt (Dollar)=%{y}<br>lender_count=%{marker.size}<extra></extra>",
         "hovertext": [
          "Education"
         ],
         "legendgroup": "Education, male_single",
         "marker": {
          "color": "#EF553B",
          "size": [
           51.11594202898551
          ],
          "sizemode": "area",
          "sizeref": 0.060833333333333336,
          "symbol": "circle"
         },
         "mode": "markers",
         "name": "Education, male_single",
         "orientation": "v",
         "showlegend": true,
         "type": "scatter",
         "x": [
          4553.985507246377
         ],
         "xaxis": "x",
         "y": [
          2853.1159420289855
         ],
         "yaxis": "y"
        },
        {
         "hovertemplate": "<b>%{hovertext}</b><br><br>Sektor=Transportation<br>Geschlecht=male_single<br>beantragte Kredithöhe (Dollar)=%{x}<br>ausgezahlt (Dollar)=%{y}<br>lender_count=%{marker.size}<extra></extra>",
         "hovertext": [
          "Transportation"
         ],
         "legendgroup": "Transportation, male_single",
         "marker": {
          "color": "#00cc96",
          "size": [
           53.43010752688172
          ],
          "sizemode": "area",
          "sizeref": 0.060833333333333336,
          "symbol": "circle"
         },
         "mode": "markers",
         "name": "Transportation, male_single",
         "orientation": "v",
         "showlegend": true,
         "type": "scatter",
         "x": [
          4497.311827956989
         ],
         "xaxis": "x",
         "y": [
          2772.2043010752686
         ],
         "yaxis": "y"
        },
        {
         "hovertemplate": "<b>%{hovertext}</b><br><br>Sektor=Construction<br>Geschlecht=male_single<br>beantragte Kredithöhe (Dollar)=%{x}<br>ausgezahlt (Dollar)=%{y}<br>lender_count=%{marker.size}<extra></extra>",
         "hovertext": [
          "Construction"
         ],
         "legendgroup": "Construction, male_single",
         "marker": {
          "color": "#ab63fa",
          "size": [
           55.03076923076923
          ],
          "sizemode": "area",
          "sizeref": 0.060833333333333336,
          "symbol": "circle"
         },
         "mode": "markers",
         "name": "Construction, male_single",
         "orientation": "v",
         "showlegend": true,
         "type": "scatter",
         "x": [
          4402.692307692308
         ],
         "xaxis": "x",
         "y": [
          2870.923076923077
         ],
         "yaxis": "y"
        },
        {
         "hovertemplate": "<b>%{hovertext}</b><br><br>Sektor=Entertainment<br>Geschlecht=male_single<br>beantragte Kredithöhe (Dollar)=%{x}<br>ausgezahlt (Dollar)=%{y}<br>lender_count=%{marker.size}<extra></extra>",
         "hovertext": [
          "Entertainment"
         ],
         "legendgroup": "Entertainment, male_single",
         "marker": {
          "color": "#FFA15A",
          "size": [
           30.344827586206897
          ],
          "sizemode": "area",
          "sizeref": 0.060833333333333336,
          "symbol": "circle"
         },
         "mode": "markers",
         "name": "Entertainment, male_single",
         "orientation": "v",
         "showlegend": true,
         "type": "scatter",
         "x": [
          4084.051724137931
         ],
         "xaxis": "x",
         "y": [
          1970.2586206896551
         ],
         "yaxis": "y"
        }
       ],
       "layout": {
        "legend": {
         "itemsizing": "constant",
         "title": {
          "text": "Sektor, Geschlecht"
         },
         "tracegroupgap": 0
        },
        "template": {
         "data": {
          "bar": [
           {
            "error_x": {
             "color": "#2a3f5f"
            },
            "error_y": {
             "color": "#2a3f5f"
            },
            "marker": {
             "line": {
              "color": "#E5ECF6",
              "width": 0.5
             },
             "pattern": {
              "fillmode": "overlay",
              "size": 10,
              "solidity": 0.2
             }
            },
            "type": "bar"
           }
          ],
          "barpolar": [
           {
            "marker": {
             "line": {
              "color": "#E5ECF6",
              "width": 0.5
             },
             "pattern": {
              "fillmode": "overlay",
              "size": 10,
              "solidity": 0.2
             }
            },
            "type": "barpolar"
           }
          ],
          "carpet": [
           {
            "aaxis": {
             "endlinecolor": "#2a3f5f",
             "gridcolor": "white",
             "linecolor": "white",
             "minorgridcolor": "white",
             "startlinecolor": "#2a3f5f"
            },
            "baxis": {
             "endlinecolor": "#2a3f5f",
             "gridcolor": "white",
             "linecolor": "white",
             "minorgridcolor": "white",
             "startlinecolor": "#2a3f5f"
            },
            "type": "carpet"
           }
          ],
          "choropleth": [
           {
            "colorbar": {
             "outlinewidth": 0,
             "ticks": ""
            },
            "type": "choropleth"
           }
          ],
          "contour": [
           {
            "colorbar": {
             "outlinewidth": 0,
             "ticks": ""
            },
            "colorscale": [
             [
              0,
              "#0d0887"
             ],
             [
              0.1111111111111111,
              "#46039f"
             ],
             [
              0.2222222222222222,
              "#7201a8"
             ],
             [
              0.3333333333333333,
              "#9c179e"
             ],
             [
              0.4444444444444444,
              "#bd3786"
             ],
             [
              0.5555555555555556,
              "#d8576b"
             ],
             [
              0.6666666666666666,
              "#ed7953"
             ],
             [
              0.7777777777777778,
              "#fb9f3a"
             ],
             [
              0.8888888888888888,
              "#fdca26"
             ],
             [
              1,
              "#f0f921"
             ]
            ],
            "type": "contour"
           }
          ],
          "contourcarpet": [
           {
            "colorbar": {
             "outlinewidth": 0,
             "ticks": ""
            },
            "type": "contourcarpet"
           }
          ],
          "heatmap": [
           {
            "colorbar": {
             "outlinewidth": 0,
             "ticks": ""
            },
            "colorscale": [
             [
              0,
              "#0d0887"
             ],
             [
              0.1111111111111111,
              "#46039f"
             ],
             [
              0.2222222222222222,
              "#7201a8"
             ],
             [
              0.3333333333333333,
              "#9c179e"
             ],
             [
              0.4444444444444444,
              "#bd3786"
             ],
             [
              0.5555555555555556,
              "#d8576b"
             ],
             [
              0.6666666666666666,
              "#ed7953"
             ],
             [
              0.7777777777777778,
              "#fb9f3a"
             ],
             [
              0.8888888888888888,
              "#fdca26"
             ],
             [
              1,
              "#f0f921"
             ]
            ],
            "type": "heatmap"
           }
          ],
          "heatmapgl": [
           {
            "colorbar": {
             "outlinewidth": 0,
             "ticks": ""
            },
            "colorscale": [
             [
              0,
              "#0d0887"
             ],
             [
              0.1111111111111111,
              "#46039f"
             ],
             [
              0.2222222222222222,
              "#7201a8"
             ],
             [
              0.3333333333333333,
              "#9c179e"
             ],
             [
              0.4444444444444444,
              "#bd3786"
             ],
             [
              0.5555555555555556,
              "#d8576b"
             ],
             [
              0.6666666666666666,
              "#ed7953"
             ],
             [
              0.7777777777777778,
              "#fb9f3a"
             ],
             [
              0.8888888888888888,
              "#fdca26"
             ],
             [
              1,
              "#f0f921"
             ]
            ],
            "type": "heatmapgl"
           }
          ],
          "histogram": [
           {
            "marker": {
             "pattern": {
              "fillmode": "overlay",
              "size": 10,
              "solidity": 0.2
             }
            },
            "type": "histogram"
           }
          ],
          "histogram2d": [
           {
            "colorbar": {
             "outlinewidth": 0,
             "ticks": ""
            },
            "colorscale": [
             [
              0,
              "#0d0887"
             ],
             [
              0.1111111111111111,
              "#46039f"
             ],
             [
              0.2222222222222222,
              "#7201a8"
             ],
             [
              0.3333333333333333,
              "#9c179e"
             ],
             [
              0.4444444444444444,
              "#bd3786"
             ],
             [
              0.5555555555555556,
              "#d8576b"
             ],
             [
              0.6666666666666666,
              "#ed7953"
             ],
             [
              0.7777777777777778,
              "#fb9f3a"
             ],
             [
              0.8888888888888888,
              "#fdca26"
             ],
             [
              1,
              "#f0f921"
             ]
            ],
            "type": "histogram2d"
           }
          ],
          "histogram2dcontour": [
           {
            "colorbar": {
             "outlinewidth": 0,
             "ticks": ""
            },
            "colorscale": [
             [
              0,
              "#0d0887"
             ],
             [
              0.1111111111111111,
              "#46039f"
             ],
             [
              0.2222222222222222,
              "#7201a8"
             ],
             [
              0.3333333333333333,
              "#9c179e"
             ],
             [
              0.4444444444444444,
              "#bd3786"
             ],
             [
              0.5555555555555556,
              "#d8576b"
             ],
             [
              0.6666666666666666,
              "#ed7953"
             ],
             [
              0.7777777777777778,
              "#fb9f3a"
             ],
             [
              0.8888888888888888,
              "#fdca26"
             ],
             [
              1,
              "#f0f921"
             ]
            ],
            "type": "histogram2dcontour"
           }
          ],
          "mesh3d": [
           {
            "colorbar": {
             "outlinewidth": 0,
             "ticks": ""
            },
            "type": "mesh3d"
           }
          ],
          "parcoords": [
           {
            "line": {
             "colorbar": {
              "outlinewidth": 0,
              "ticks": ""
             }
            },
            "type": "parcoords"
           }
          ],
          "pie": [
           {
            "automargin": true,
            "type": "pie"
           }
          ],
          "scatter": [
           {
            "fillpattern": {
             "fillmode": "overlay",
             "size": 10,
             "solidity": 0.2
            },
            "type": "scatter"
           }
          ],
          "scatter3d": [
           {
            "line": {
             "colorbar": {
              "outlinewidth": 0,
              "ticks": ""
             }
            },
            "marker": {
             "colorbar": {
              "outlinewidth": 0,
              "ticks": ""
             }
            },
            "type": "scatter3d"
           }
          ],
          "scattercarpet": [
           {
            "marker": {
             "colorbar": {
              "outlinewidth": 0,
              "ticks": ""
             }
            },
            "type": "scattercarpet"
           }
          ],
          "scattergeo": [
           {
            "marker": {
             "colorbar": {
              "outlinewidth": 0,
              "ticks": ""
             }
            },
            "type": "scattergeo"
           }
          ],
          "scattergl": [
           {
            "marker": {
             "colorbar": {
              "outlinewidth": 0,
              "ticks": ""
             }
            },
            "type": "scattergl"
           }
          ],
          "scattermapbox": [
           {
            "marker": {
             "colorbar": {
              "outlinewidth": 0,
              "ticks": ""
             }
            },
            "type": "scattermapbox"
           }
          ],
          "scatterpolar": [
           {
            "marker": {
             "colorbar": {
              "outlinewidth": 0,
              "ticks": ""
             }
            },
            "type": "scatterpolar"
           }
          ],
          "scatterpolargl": [
           {
            "marker": {
             "colorbar": {
              "outlinewidth": 0,
              "ticks": ""
             }
            },
            "type": "scatterpolargl"
           }
          ],
          "scatterternary": [
           {
            "marker": {
             "colorbar": {
              "outlinewidth": 0,
              "ticks": ""
             }
            },
            "type": "scatterternary"
           }
          ],
          "surface": [
           {
            "colorbar": {
             "outlinewidth": 0,
             "ticks": ""
            },
            "colorscale": [
             [
              0,
              "#0d0887"
             ],
             [
              0.1111111111111111,
              "#46039f"
             ],
             [
              0.2222222222222222,
              "#7201a8"
             ],
             [
              0.3333333333333333,
              "#9c179e"
             ],
             [
              0.4444444444444444,
              "#bd3786"
             ],
             [
              0.5555555555555556,
              "#d8576b"
             ],
             [
              0.6666666666666666,
              "#ed7953"
             ],
             [
              0.7777777777777778,
              "#fb9f3a"
             ],
             [
              0.8888888888888888,
              "#fdca26"
             ],
             [
              1,
              "#f0f921"
             ]
            ],
            "type": "surface"
           }
          ],
          "table": [
           {
            "cells": {
             "fill": {
              "color": "#EBF0F8"
             },
             "line": {
              "color": "white"
             }
            },
            "header": {
             "fill": {
              "color": "#C8D4E3"
             },
             "line": {
              "color": "white"
             }
            },
            "type": "table"
           }
          ]
         },
         "layout": {
          "annotationdefaults": {
           "arrowcolor": "#2a3f5f",
           "arrowhead": 0,
           "arrowwidth": 1
          },
          "autotypenumbers": "strict",
          "coloraxis": {
           "colorbar": {
            "outlinewidth": 0,
            "ticks": ""
           }
          },
          "colorscale": {
           "diverging": [
            [
             0,
             "#8e0152"
            ],
            [
             0.1,
             "#c51b7d"
            ],
            [
             0.2,
             "#de77ae"
            ],
            [
             0.3,
             "#f1b6da"
            ],
            [
             0.4,
             "#fde0ef"
            ],
            [
             0.5,
             "#f7f7f7"
            ],
            [
             0.6,
             "#e6f5d0"
            ],
            [
             0.7,
             "#b8e186"
            ],
            [
             0.8,
             "#7fbc41"
            ],
            [
             0.9,
             "#4d9221"
            ],
            [
             1,
             "#276419"
            ]
           ],
           "sequential": [
            [
             0,
             "#0d0887"
            ],
            [
             0.1111111111111111,
             "#46039f"
            ],
            [
             0.2222222222222222,
             "#7201a8"
            ],
            [
             0.3333333333333333,
             "#9c179e"
            ],
            [
             0.4444444444444444,
             "#bd3786"
            ],
            [
             0.5555555555555556,
             "#d8576b"
            ],
            [
             0.6666666666666666,
             "#ed7953"
            ],
            [
             0.7777777777777778,
             "#fb9f3a"
            ],
            [
             0.8888888888888888,
             "#fdca26"
            ],
            [
             1,
             "#f0f921"
            ]
           ],
           "sequentialminus": [
            [
             0,
             "#0d0887"
            ],
            [
             0.1111111111111111,
             "#46039f"
            ],
            [
             0.2222222222222222,
             "#7201a8"
            ],
            [
             0.3333333333333333,
             "#9c179e"
            ],
            [
             0.4444444444444444,
             "#bd3786"
            ],
            [
             0.5555555555555556,
             "#d8576b"
            ],
            [
             0.6666666666666666,
             "#ed7953"
            ],
            [
             0.7777777777777778,
             "#fb9f3a"
            ],
            [
             0.8888888888888888,
             "#fdca26"
            ],
            [
             1,
             "#f0f921"
            ]
           ]
          },
          "colorway": [
           "#636efa",
           "#EF553B",
           "#00cc96",
           "#ab63fa",
           "#FFA15A",
           "#19d3f3",
           "#FF6692",
           "#B6E880",
           "#FF97FF",
           "#FECB52"
          ],
          "font": {
           "color": "#2a3f5f"
          },
          "geo": {
           "bgcolor": "white",
           "lakecolor": "white",
           "landcolor": "#E5ECF6",
           "showlakes": true,
           "showland": true,
           "subunitcolor": "white"
          },
          "hoverlabel": {
           "align": "left"
          },
          "hovermode": "closest",
          "mapbox": {
           "style": "light"
          },
          "paper_bgcolor": "white",
          "plot_bgcolor": "#E5ECF6",
          "polar": {
           "angularaxis": {
            "gridcolor": "white",
            "linecolor": "white",
            "ticks": ""
           },
           "bgcolor": "#E5ECF6",
           "radialaxis": {
            "gridcolor": "white",
            "linecolor": "white",
            "ticks": ""
           }
          },
          "scene": {
           "xaxis": {
            "backgroundcolor": "#E5ECF6",
            "gridcolor": "white",
            "gridwidth": 2,
            "linecolor": "white",
            "showbackground": true,
            "ticks": "",
            "zerolinecolor": "white"
           },
           "yaxis": {
            "backgroundcolor": "#E5ECF6",
            "gridcolor": "white",
            "gridwidth": 2,
            "linecolor": "white",
            "showbackground": true,
            "ticks": "",
            "zerolinecolor": "white"
           },
           "zaxis": {
            "backgroundcolor": "#E5ECF6",
            "gridcolor": "white",
            "gridwidth": 2,
            "linecolor": "white",
            "showbackground": true,
            "ticks": "",
            "zerolinecolor": "white"
           }
          },
          "shapedefaults": {
           "line": {
            "color": "#2a3f5f"
           }
          },
          "ternary": {
           "aaxis": {
            "gridcolor": "white",
            "linecolor": "white",
            "ticks": ""
           },
           "baxis": {
            "gridcolor": "white",
            "linecolor": "white",
            "ticks": ""
           },
           "bgcolor": "#E5ECF6",
           "caxis": {
            "gridcolor": "white",
            "linecolor": "white",
            "ticks": ""
           }
          },
          "title": {
           "x": 0.05
          },
          "xaxis": {
           "automargin": true,
           "gridcolor": "white",
           "linecolor": "white",
           "ticks": "",
           "title": {
            "standoff": 15
           },
           "zerolinecolor": "white",
           "zerolinewidth": 2
          },
          "yaxis": {
           "automargin": true,
           "gridcolor": "white",
           "linecolor": "white",
           "ticks": "",
           "title": {
            "standoff": 15
           },
           "zerolinecolor": "white",
           "zerolinewidth": 2
          }
         }
        },
        "title": {
         "text": "Verhältnis ausgezahle Kredite und beantragte Kredite (Dollar) in den USA bei Männern, Mittelwerte"
        },
        "xaxis": {
         "anchor": "y",
         "domain": [
          0,
          1
         ],
         "title": {
          "text": "beantragte Kredithöhe (Dollar)"
         },
         "type": "log"
        },
        "yaxis": {
         "anchor": "x",
         "domain": [
          0,
          1
         ],
         "title": {
          "text": "ausgezahlt (Dollar)"
         }
        }
       }
      }
     },
     "metadata": {},
     "output_type": "display_data"
    }
   ],
   "source": [
    "# Scatterplot für die USA, aufgeteilt nach Single und Gruppe von Männern \n",
    "\n",
    "fig = px.scatter(df_USA_group, x=\"loan_amount\", y=\"funded_amount\", size=\"lender_count\", color=\"sector\",\n",
    "                 hover_name=\"sector\", log_x=True, size_max=60,\n",
    "                 symbol=\"gender\", symbol_map={\"male_single\": \"circle\", \"male_group\": \"cross\"},\n",
    "                 title= 'Verhältnis ausgezahle Kredite und beantragte Kredite (Dollar) in den USA bei Männern, Mittelwerte',\n",
    "                labels={\"loan_amount\":\"beantragte Kredithöhe (Dollar)\", \n",
    "                        \"funded_amount\":\"ausgezahlt (Dollar)\",\n",
    "                        \"sector\":\"Sektor\",\n",
    "                        \"gender\": \"Geschlecht\"})\n",
    "\n",
    "fig.show()"
   ]
  },
  {
   "cell_type": "markdown",
   "id": "2b917767",
   "metadata": {},
   "source": [
    "**Fazit zu den Männern in den USA**\n",
    "\n",
    "Während die Männer und die USA in den Rohdaten eher schlecht weg kommen, holen sie innerhalb der aggregierten Werte stark auf. Wie soll das Unternehmen nun damit umgehen und wie diese Informationen interpretieren? Die Männer, aber auch die USA an sich, sind in den Daten im Verhältnis zu den anderen Geschlechtskonstellationen sowie den anderen Ländern unterrepräsentatiert. Das mag unter anderem an den höheren Kreditwünschen liegen und an der Tatsache, dass die USA kein Entwicklungsland sind und entsprechend auch höhere Lebenshaltungskosten verzeichnen. Betrachtet man nun die gruppierten Mittelwerte, so holen die USA und die Männer dadurch deutlich auf, obwohl der Anteil ihrer nicht oder nicht volständig ausgezahlten Kredite (KPI) geringer ist. Wichtig ist es an dieser Stelle zu verstehen, dass die USA und auch Männer generell höhere Ansrüche an die Kreditsumme haben, daher ergeben sich entsprechend auch höhere Durchschnittswerte, die mit den Entwicklungsländern, wo vermehrt Frauen Kredite beantragen, rein sumarisch mithalten können. Dieser Vergleich ist aber schwierig und irreführend. In aggregierter Form erzählen die Daten, dass alles in Ordnung ist und die Werte gleichmäßig verteilt seien. In Wirklichkeit aber liegt hier eine starke Ungleichverteilung vor. Nun ist erneut die Frage nach dem Ziel des Unternehmens: Möchte das Unternehmen insofen expandieren, als dass es allen Menschen, also auch denen im Industriestaat USA, eine Chance geben, ihre Lebensumstände zu verbessern? Dann muss klar sein, dass hier andere Umstände als in einem Entwicklungsland vorliegen und entsprechend das Marketing in diese Richtung angepasst werden. Liegt hingegen der Fokus ganz klar auf der Unterstützung der Menschen in den Entwicklungsländern, insbesondere der Frauen, da diese oft von den Männern unterdrückt werden und weniger Chancen haben, dann sollte das Marketing entsprechend in diese Richtung weiter arbeiten. Als Data Scientist sind wir allerdings nicht befugt, konkrete Empfehlungen auszusprechen, wir präsentieren 'nur' die Daten. Für alles weitere ist die Geschäftsführung und die Marketing-Abteilung verantwortlich."
   ]
  }
 ],
 "metadata": {
  "kernelspec": {
   "display_name": "deep-learning-env",
   "language": "python",
   "name": "deep-learning-env"
  },
  "language_info": {
   "codemirror_mode": {
    "name": "ipython",
    "version": 3
   },
   "file_extension": ".py",
   "mimetype": "text/x-python",
   "name": "python",
   "nbconvert_exporter": "python",
   "pygments_lexer": "ipython3",
   "version": "3.10.12"
  },
  "toc": {
   "base_numbering": 1,
   "nav_menu": {},
   "number_sections": true,
   "sideBar": true,
   "skip_h1_title": false,
   "title_cell": "Table of Contents",
   "title_sidebar": "Contents",
   "toc_cell": false,
   "toc_position": {},
   "toc_section_display": true,
   "toc_window_display": false
  }
 },
 "nbformat": 4,
 "nbformat_minor": 5
}
